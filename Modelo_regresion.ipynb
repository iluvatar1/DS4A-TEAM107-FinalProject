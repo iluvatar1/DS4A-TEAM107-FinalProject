{
 "cells": [
  {
   "cell_type": "code",
   "metadata": {
    "cell_id": "6310488ca0b24626bf8686fdae76eac5",
    "tags": [],
    "deepnote_to_be_reexecuted": false,
    "source_hash": "66f7bafe",
    "execution_start": 1656647644583,
    "execution_millis": 464,
    "deepnote_cell_type": "code",
    "deepnote_cell_height": 152.96875
   },
   "source": "#load libraries\nimport numpy as np\nimport pandas as pd\nimport tensorflow as tf\nfrom sklearn.model_selection import train_test_split",
   "execution_count": 16,
   "outputs": []
  },
  {
   "cell_type": "code",
   "metadata": {
    "cell_id": "3ecd23f934224c9b80177d416432b05f",
    "tags": [],
    "deepnote_to_be_reexecuted": false,
    "source_hash": "4a29b935",
    "execution_start": 1656649409034,
    "execution_millis": 298,
    "deepnote_cell_type": "code",
    "deepnote_cell_height": 207.09375
   },
   "source": "import keras\nfrom keras import metrics.categorical_crossentropy as categorical_crossentropy",
   "execution_count": 51,
   "outputs": [
    {
     "output_type": "error",
     "ename": "SyntaxError",
     "evalue": "invalid syntax (<ipython-input-51-286a47e342a1>, line 2)",
     "traceback": [
      "\u001b[0;36m  File \u001b[0;32m\"<ipython-input-51-286a47e342a1>\"\u001b[0;36m, line \u001b[0;32m2\u001b[0m\n\u001b[0;31m    from keras import metrics.categorical_crossentropy as categorical_crossentropy\u001b[0m\n\u001b[0m                             ^\u001b[0m\n\u001b[0;31mSyntaxError\u001b[0m\u001b[0;31m:\u001b[0m invalid syntax\n"
     ]
    }
   ]
  },
  {
   "cell_type": "code",
   "metadata": {
    "cell_id": "47dc4328f3b9446d9ef3f712efafb455",
    "tags": [],
    "deepnote_to_be_reexecuted": false,
    "source_hash": "1c6adc5",
    "execution_start": 1656647426668,
    "execution_millis": 182,
    "deepnote_cell_type": "code",
    "deepnote_cell_height": 98.953125
   },
   "source": "dfcause = pd.read_csv(\"/work/INPUTDATA/NEWCSV/MERGED-2016-2022-Suicidios-Geo-Cause.csv\")\ndfpop = pd.read_csv(\"/work/INPUTDATA/NEWCSV/MERGED-2016-2022-Suicidios-Geo-Pop.csv\")",
   "execution_count": 2,
   "outputs": []
  },
  {
   "cell_type": "code",
   "metadata": {
    "cell_id": "11186de8c24246dc8541c676cff0bbf6",
    "tags": [],
    "deepnote_to_be_reexecuted": false,
    "source_hash": "32ae6b3b",
    "execution_start": 1656647426858,
    "execution_millis": 34,
    "deepnote_cell_type": "code",
    "deepnote_cell_height": 437.609375,
    "deepnote_output_heights": [
     21.1875
    ]
   },
   "source": "dfcause.info()",
   "execution_count": 3,
   "outputs": [
    {
     "name": "stdout",
     "text": "<class 'pandas.core.frame.DataFrame'>\nRangeIndex: 115988 entries, 0 to 115987\nData columns (total 11 columns):\n #   Column          Non-Null Count   Dtype  \n---  ------          --------------   -----  \n 0   Unnamed: 0      115988 non-null  int64  \n 1   YEAR            115988 non-null  int64  \n 2   CAUSE           115988 non-null  object \n 3   GENDER          115988 non-null  object \n 4   SUI_COUNTER     115988 non-null  int64  \n 5   DPTO            115988 non-null  object \n 6   MUNICIPIO       115988 non-null  object \n 7   CODE_DPTO       115988 non-null  int64  \n 8   CODE_MUNICIPIO  115988 non-null  int64  \n 9   LONGITUD        115988 non-null  float64\n 10  LATITUD         115988 non-null  float64\ndtypes: float64(2), int64(5), object(4)\nmemory usage: 9.7+ MB\n",
     "output_type": "stream"
    }
   ]
  },
  {
   "cell_type": "code",
   "metadata": {
    "cell_id": "34448ed347904edeb754e3f2d050f6dc",
    "tags": [],
    "deepnote_to_be_reexecuted": false,
    "source_hash": "5bf4676c",
    "execution_start": 1656647426895,
    "execution_millis": 371,
    "deepnote_cell_type": "code",
    "deepnote_cell_height": 98.953125
   },
   "source": "dftrain = dfcause.drop(columns=[\"CODE_DPTO\", \"CODE_MUNICIPIO\",\"LONGITUD\",\"LATITUD\",\"YEAR\"])\ndftrain = pd.get_dummies(data= dftrain,columns=[\"GENDER\",\"CAUSE\",\"DPTO\",\"MUNICIPIO\"],drop_first=True)",
   "execution_count": 4,
   "outputs": []
  },
  {
   "cell_type": "code",
   "metadata": {
    "cell_id": "8590019677b84a73830c11be07e7ed51",
    "tags": [],
    "deepnote_to_be_reexecuted": false,
    "source_hash": "5596b0c6",
    "execution_start": 1656647427268,
    "execution_millis": 170,
    "deepnote_cell_type": "code",
    "deepnote_cell_height": 80.953125
   },
   "source": "dftrain.drop(columns = [\"Unnamed: 0\"], inplace= True)",
   "execution_count": 5,
   "outputs": []
  },
  {
   "cell_type": "code",
   "metadata": {
    "cell_id": "92e378d8c2f4487997fb806c5caa0930",
    "tags": [],
    "deepnote_to_be_reexecuted": false,
    "source_hash": "42614db1",
    "execution_start": 1656647427444,
    "execution_millis": 102,
    "deepnote_cell_type": "code",
    "deepnote_cell_height": 98.953125
   },
   "source": "dfx = dftrain.drop(columns = [\"SUI_COUNTER\"])\ndfy = dftrain[\"SUI_COUNTER\"]",
   "execution_count": 6,
   "outputs": []
  },
  {
   "cell_type": "code",
   "metadata": {
    "cell_id": "b162c06b030440998a41fa53d9ed72d1",
    "tags": [],
    "deepnote_to_be_reexecuted": false,
    "source_hash": "d20af988",
    "execution_start": 1656647712337,
    "execution_millis": 592,
    "deepnote_cell_type": "code",
    "deepnote_cell_height": 80.953125,
    "deepnote_output_heights": [
     232.4375
    ]
   },
   "source": "X_train, X_test, y_train, y_test = train_test_split(dfx, dfy, test_size=0.2, random_state=42)",
   "execution_count": 17,
   "outputs": []
  },
  {
   "cell_type": "code",
   "metadata": {
    "cell_id": "7b00fe3bc7e6432281ec127f54118961",
    "tags": [],
    "deepnote_to_be_reexecuted": false,
    "source_hash": "ea3cda32",
    "execution_start": 1656648676487,
    "execution_millis": 87,
    "deepnote_cell_type": "code",
    "deepnote_cell_height": 134.953125,
    "deepnote_output_heights": [
     606.453125
    ]
   },
   "source": "model = tf.keras.Sequential()\nmodel.add(tf.keras.layers.Dense(100, activation = 'relu', input_shape = [len(X_train.keys())]))\nmodel.add(tf.keras.layers.Dense(32, activation='relu'))\nmodel.add(tf.keras.layers.Dense(1))",
   "execution_count": 38,
   "outputs": []
  },
  {
   "cell_type": "code",
   "metadata": {
    "cell_id": "24c142788d634d4c806f9ba20b9484b4",
    "tags": [],
    "deepnote_to_be_reexecuted": false,
    "source_hash": "d1940a99",
    "execution_start": 1656649100471,
    "execution_millis": 0,
    "deepnote_cell_type": "code",
    "deepnote_cell_height": 116.953125
   },
   "source": "model.compile(optimizer='adam',\n              loss='crossentropy',\n              metrics=['accuracy'])",
   "execution_count": 45,
   "outputs": []
  },
  {
   "cell_type": "code",
   "metadata": {
    "cell_id": "c811bcaed28f4a4eba52fce351be6c18",
    "tags": [],
    "deepnote_to_be_reexecuted": false,
    "source_hash": "4e6a3b95",
    "execution_start": 1656648840359,
    "execution_millis": 17,
    "deepnote_cell_type": "code",
    "deepnote_cell_height": 380
   },
   "source": "model.summary()",
   "execution_count": 40,
   "outputs": [
    {
     "name": "stdout",
     "text": "Model: \"sequential_7\"\n_________________________________________________________________\n Layer (type)                Output Shape              Param #   \n=================================================================\n dense_10 (Dense)            (None, 100)               90100     \n                                                                 \n dense_11 (Dense)            (None, 32)                3232      \n                                                                 \n dense_12 (Dense)            (None, 1)                 33        \n                                                                 \n=================================================================\nTotal params: 93,365\nTrainable params: 93,365\nNon-trainable params: 0\n_________________________________________________________________\n",
     "output_type": "stream"
    }
   ]
  },
  {
   "cell_type": "code",
   "metadata": {
    "cell_id": "5b28db9a59bd46c7ae3bc7af8a8ba823",
    "tags": [],
    "deepnote_to_be_reexecuted": false,
    "source_hash": "7443e094",
    "execution_start": 1656649104850,
    "execution_millis": 261,
    "owner_user_id": "0e7f4f38-bf24-44f0-9fc0-9cb103029e0f",
    "deepnote_cell_type": "code",
    "deepnote_cell_height": 1694.5625,
    "deepnote_output_heights": [
     606.453125
    ]
   },
   "source": "class PrintDot(keras.callbacks.Callback):\n  def on_epoch_end(self, epoch, logs):\n    if epoch % 100 == 0: print('')\n    print('.', end='')\n\nEPOCHS = 1000\n\nhistory = model.fit(\n  X_train, y_train,\n  epochs=EPOCHS, validation_split = 0.2, verbose=0,\n  callbacks=[PrintDot()])",
   "execution_count": 46,
   "outputs": [
    {
     "output_type": "error",
     "ename": "ValueError",
     "evalue": "in user code:\n\n    File \"/shared-libs/python3.7/py/lib/python3.7/site-packages/keras/engine/training.py\", line 1051, in train_function  *\n        return step_function(self, iterator)\n    File \"/shared-libs/python3.7/py/lib/python3.7/site-packages/keras/engine/training.py\", line 1040, in step_function  **\n        outputs = model.distribute_strategy.run(run_step, args=(data,))\n    File \"/shared-libs/python3.7/py/lib/python3.7/site-packages/keras/engine/training.py\", line 1030, in run_step  **\n        outputs = model.train_step(data)\n    File \"/shared-libs/python3.7/py/lib/python3.7/site-packages/keras/engine/training.py\", line 890, in train_step\n        loss = self.compute_loss(x, y, y_pred, sample_weight)\n    File \"/shared-libs/python3.7/py/lib/python3.7/site-packages/keras/engine/training.py\", line 949, in compute_loss\n        y, y_pred, sample_weight, regularization_losses=self.losses)\n    File \"/shared-libs/python3.7/py/lib/python3.7/site-packages/keras/engine/compile_utils.py\", line 184, in __call__\n        self.build(y_pred)\n    File \"/shared-libs/python3.7/py/lib/python3.7/site-packages/keras/engine/compile_utils.py\", line 133, in build\n        self._losses = tf.nest.map_structure(self._get_loss_object, self._losses)\n    File \"/shared-libs/python3.7/py/lib/python3.7/site-packages/keras/engine/compile_utils.py\", line 272, in _get_loss_object\n        loss = losses_mod.get(loss)\n    File \"/shared-libs/python3.7/py/lib/python3.7/site-packages/keras/losses.py\", line 2367, in get\n        return deserialize(identifier)\n    File \"/shared-libs/python3.7/py/lib/python3.7/site-packages/keras/losses.py\", line 2326, in deserialize\n        printable_module_name='loss function')\n    File \"/shared-libs/python3.7/py/lib/python3.7/site-packages/keras/utils/generic_utils.py\", line 710, in deserialize_keras_object\n        f'Unknown {printable_module_name}: {object_name}. Please ensure '\n\n    ValueError: Unknown loss function: crossentropy. Please ensure this object is passed to the `custom_objects` argument. See https://www.tensorflow.org/guide/keras/save_and_serialize#registering_the_custom_object for details.\n",
     "traceback": [
      "\u001b[0;31m---------------------------------------------------------------------------\u001b[0m",
      "\u001b[0;31mValueError\u001b[0m                                Traceback (most recent call last)",
      "\u001b[0;32m<ipython-input-46-feac5ab1c20c>\u001b[0m in \u001b[0;36m<module>\u001b[0;34m\u001b[0m\n\u001b[1;32m      9\u001b[0m   \u001b[0mX_train\u001b[0m\u001b[0;34m,\u001b[0m \u001b[0my_train\u001b[0m\u001b[0;34m,\u001b[0m\u001b[0;34m\u001b[0m\u001b[0;34m\u001b[0m\u001b[0m\n\u001b[1;32m     10\u001b[0m   \u001b[0mepochs\u001b[0m\u001b[0;34m=\u001b[0m\u001b[0mEPOCHS\u001b[0m\u001b[0;34m,\u001b[0m \u001b[0mvalidation_split\u001b[0m \u001b[0;34m=\u001b[0m \u001b[0;36m0.2\u001b[0m\u001b[0;34m,\u001b[0m \u001b[0mverbose\u001b[0m\u001b[0;34m=\u001b[0m\u001b[0;36m0\u001b[0m\u001b[0;34m,\u001b[0m\u001b[0;34m\u001b[0m\u001b[0;34m\u001b[0m\u001b[0m\n\u001b[0;32m---> 11\u001b[0;31m   callbacks=[PrintDot()])\n\u001b[0m",
      "\u001b[0;32m/shared-libs/python3.7/py/lib/python3.7/site-packages/keras/utils/traceback_utils.py\u001b[0m in \u001b[0;36merror_handler\u001b[0;34m(*args, **kwargs)\u001b[0m\n\u001b[1;32m     65\u001b[0m     \u001b[0;32mexcept\u001b[0m \u001b[0mException\u001b[0m \u001b[0;32mas\u001b[0m \u001b[0me\u001b[0m\u001b[0;34m:\u001b[0m  \u001b[0;31m# pylint: disable=broad-except\u001b[0m\u001b[0;34m\u001b[0m\u001b[0;34m\u001b[0m\u001b[0m\n\u001b[1;32m     66\u001b[0m       \u001b[0mfiltered_tb\u001b[0m \u001b[0;34m=\u001b[0m \u001b[0m_process_traceback_frames\u001b[0m\u001b[0;34m(\u001b[0m\u001b[0me\u001b[0m\u001b[0;34m.\u001b[0m\u001b[0m__traceback__\u001b[0m\u001b[0;34m)\u001b[0m\u001b[0;34m\u001b[0m\u001b[0;34m\u001b[0m\u001b[0m\n\u001b[0;32m---> 67\u001b[0;31m       \u001b[0;32mraise\u001b[0m \u001b[0me\u001b[0m\u001b[0;34m.\u001b[0m\u001b[0mwith_traceback\u001b[0m\u001b[0;34m(\u001b[0m\u001b[0mfiltered_tb\u001b[0m\u001b[0;34m)\u001b[0m \u001b[0;32mfrom\u001b[0m \u001b[0;32mNone\u001b[0m\u001b[0;34m\u001b[0m\u001b[0;34m\u001b[0m\u001b[0m\n\u001b[0m\u001b[1;32m     68\u001b[0m     \u001b[0;32mfinally\u001b[0m\u001b[0;34m:\u001b[0m\u001b[0;34m\u001b[0m\u001b[0;34m\u001b[0m\u001b[0m\n\u001b[1;32m     69\u001b[0m       \u001b[0;32mdel\u001b[0m \u001b[0mfiltered_tb\u001b[0m\u001b[0;34m\u001b[0m\u001b[0;34m\u001b[0m\u001b[0m\n",
      "\u001b[0;32m/shared-libs/python3.7/py/lib/python3.7/site-packages/keras/engine/training.py\u001b[0m in \u001b[0;36mtf__train_function\u001b[0;34m(iterator)\u001b[0m\n\u001b[1;32m     13\u001b[0m                 \u001b[0;32mtry\u001b[0m\u001b[0;34m:\u001b[0m\u001b[0;34m\u001b[0m\u001b[0;34m\u001b[0m\u001b[0m\n\u001b[1;32m     14\u001b[0m                     \u001b[0mdo_return\u001b[0m \u001b[0;34m=\u001b[0m \u001b[0;32mTrue\u001b[0m\u001b[0;34m\u001b[0m\u001b[0;34m\u001b[0m\u001b[0m\n\u001b[0;32m---> 15\u001b[0;31m                     \u001b[0mretval_\u001b[0m \u001b[0;34m=\u001b[0m \u001b[0mag__\u001b[0m\u001b[0;34m.\u001b[0m\u001b[0mconverted_call\u001b[0m\u001b[0;34m(\u001b[0m\u001b[0mag__\u001b[0m\u001b[0;34m.\u001b[0m\u001b[0mld\u001b[0m\u001b[0;34m(\u001b[0m\u001b[0mstep_function\u001b[0m\u001b[0;34m)\u001b[0m\u001b[0;34m,\u001b[0m \u001b[0;34m(\u001b[0m\u001b[0mag__\u001b[0m\u001b[0;34m.\u001b[0m\u001b[0mld\u001b[0m\u001b[0;34m(\u001b[0m\u001b[0mself\u001b[0m\u001b[0;34m)\u001b[0m\u001b[0;34m,\u001b[0m \u001b[0mag__\u001b[0m\u001b[0;34m.\u001b[0m\u001b[0mld\u001b[0m\u001b[0;34m(\u001b[0m\u001b[0miterator\u001b[0m\u001b[0;34m)\u001b[0m\u001b[0;34m)\u001b[0m\u001b[0;34m,\u001b[0m \u001b[0;32mNone\u001b[0m\u001b[0;34m,\u001b[0m \u001b[0mfscope\u001b[0m\u001b[0;34m)\u001b[0m\u001b[0;34m\u001b[0m\u001b[0;34m\u001b[0m\u001b[0m\n\u001b[0m\u001b[1;32m     16\u001b[0m                 \u001b[0;32mexcept\u001b[0m\u001b[0;34m:\u001b[0m\u001b[0;34m\u001b[0m\u001b[0;34m\u001b[0m\u001b[0m\n\u001b[1;32m     17\u001b[0m                     \u001b[0mdo_return\u001b[0m \u001b[0;34m=\u001b[0m \u001b[0;32mFalse\u001b[0m\u001b[0;34m\u001b[0m\u001b[0;34m\u001b[0m\u001b[0m\n",
      "\u001b[0;31mValueError\u001b[0m: in user code:\n\n    File \"/shared-libs/python3.7/py/lib/python3.7/site-packages/keras/engine/training.py\", line 1051, in train_function  *\n        return step_function(self, iterator)\n    File \"/shared-libs/python3.7/py/lib/python3.7/site-packages/keras/engine/training.py\", line 1040, in step_function  **\n        outputs = model.distribute_strategy.run(run_step, args=(data,))\n    File \"/shared-libs/python3.7/py/lib/python3.7/site-packages/keras/engine/training.py\", line 1030, in run_step  **\n        outputs = model.train_step(data)\n    File \"/shared-libs/python3.7/py/lib/python3.7/site-packages/keras/engine/training.py\", line 890, in train_step\n        loss = self.compute_loss(x, y, y_pred, sample_weight)\n    File \"/shared-libs/python3.7/py/lib/python3.7/site-packages/keras/engine/training.py\", line 949, in compute_loss\n        y, y_pred, sample_weight, regularization_losses=self.losses)\n    File \"/shared-libs/python3.7/py/lib/python3.7/site-packages/keras/engine/compile_utils.py\", line 184, in __call__\n        self.build(y_pred)\n    File \"/shared-libs/python3.7/py/lib/python3.7/site-packages/keras/engine/compile_utils.py\", line 133, in build\n        self._losses = tf.nest.map_structure(self._get_loss_object, self._losses)\n    File \"/shared-libs/python3.7/py/lib/python3.7/site-packages/keras/engine/compile_utils.py\", line 272, in _get_loss_object\n        loss = losses_mod.get(loss)\n    File \"/shared-libs/python3.7/py/lib/python3.7/site-packages/keras/losses.py\", line 2367, in get\n        return deserialize(identifier)\n    File \"/shared-libs/python3.7/py/lib/python3.7/site-packages/keras/losses.py\", line 2326, in deserialize\n        printable_module_name='loss function')\n    File \"/shared-libs/python3.7/py/lib/python3.7/site-packages/keras/utils/generic_utils.py\", line 710, in deserialize_keras_object\n        f'Unknown {printable_module_name}: {object_name}. Please ensure '\n\n    ValueError: Unknown loss function: crossentropy. Please ensure this object is passed to the `custom_objects` argument. See https://www.tensorflow.org/guide/keras/save_and_serialize#registering_the_custom_object for details.\n"
     ]
    }
   ]
  },
  {
   "cell_type": "code",
   "metadata": {
    "cell_id": "f873a671f69f4ce8b8eaa579966683c0",
    "tags": [],
    "deepnote_to_be_reexecuted": false,
    "source_hash": "3d5669c1",
    "execution_start": 1656648506544,
    "execution_millis": 5,
    "deepnote_cell_type": "code",
    "deepnote_cell_height": 118.125,
    "deepnote_output_heights": [
     21.1875
    ]
   },
   "source": "len(X_train.keys())",
   "execution_count": 31,
   "outputs": [
    {
     "output_type": "execute_result",
     "execution_count": 31,
     "data": {
      "text/plain": "900"
     },
     "metadata": {}
    }
   ]
  },
  {
   "cell_type": "markdown",
   "source": "<a style='text-decoration:none;line-height:16px;display:flex;color:#5B5B62;padding:10px;justify-content:end;' href='https://deepnote.com?utm_source=created-in-deepnote-cell&projectId=70a6331b-3e37-4c4d-8041-2d29d0ba96c1' target=\"_blank\">\n<img alt='Created in deepnote.com' style='display:inline;max-height:16px;margin:0px;margin-right:7.5px;' src='data:image/svg+xml;base64,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' > </img>\nCreated in <span style='font-weight:600;margin-left:4px;'>Deepnote</span></a>",
   "metadata": {
    "tags": [],
    "created_in_deepnote_cell": true,
    "deepnote_cell_type": "markdown"
   }
  }
 ],
 "nbformat": 4,
 "nbformat_minor": 2,
 "metadata": {
  "orig_nbformat": 2,
  "deepnote": {},
  "deepnote_notebook_id": "cd854287-e08b-4670-8e06-ffca990100b8",
  "deepnote_execution_queue": []
 }
}