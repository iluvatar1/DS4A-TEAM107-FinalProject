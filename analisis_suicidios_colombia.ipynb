{
 "cells": [
  {
   "cell_type": "markdown",
   "source": "Import",
   "metadata": {
    "cell_id": "a3192ba5-63bf-42de-88bc-f3d9dd899c4a",
    "deepnote_cell_type": "markdown",
    "deepnote_cell_height": 52.359375
   }
  },
  {
   "cell_type": "code",
   "metadata": {
    "cell_id": "00001-86497c80-899b-45b1-b459-aea72044a009",
    "deepnote_to_be_reexecuted": false,
    "source_hash": "8ca6a091",
    "execution_start": 1653623485450,
    "execution_millis": 1579,
    "deepnote_cell_type": "code",
    "deepnote_cell_height": 116.953125
   },
   "source": "import pandas as pd\nimport numpy as np\nimport matplotlib.pyplot as plt",
   "execution_count": null,
   "outputs": []
  },
  {
   "cell_type": "code",
   "metadata": {
    "cell_id": "00002-dc8e0382-dbae-43b7-964d-23e11e5aab37",
    "deepnote_to_be_reexecuted": false,
    "source_hash": "c9d2f67b",
    "execution_start": 1653623487037,
    "execution_millis": 939,
    "deepnote_cell_type": "code",
    "deepnote_cell_height": 80.953125
   },
   "source": "import seaborn as sns",
   "execution_count": null,
   "outputs": []
  },
  {
   "cell_type": "markdown",
   "source": "Load databases\n",
   "metadata": {
    "cell_id": "00003-17fc7380-74ce-4ac5-8ef5-57240d808a4d",
    "deepnote_cell_type": "markdown",
    "deepnote_cell_height": 52.359375
   }
  },
  {
   "cell_type": "code",
   "metadata": {
    "cell_id": "00004-28e196e1-644c-4f94-892f-ef54e96832d9",
    "deepnote_to_be_reexecuted": false,
    "source_hash": "87562c94",
    "execution_start": 1653623487979,
    "execution_millis": 40,
    "deepnote_cell_type": "code",
    "deepnote_cell_height": 98.953125
   },
   "source": "suicidio = pd.read_csv(\"./Suicidios._Colombia__a_os_2016_a_2019.csv\")\n#censo = pd.read_excel(\"./PO311_ok.xlsx\")",
   "execution_count": null,
   "outputs": []
  },
  {
   "cell_type": "code",
   "metadata": {
    "cell_id": "00005-eb176d15-48b0-4bd9-8610-e226c808821c",
    "deepnote_to_be_reexecuted": false,
    "source_hash": "d637c7ce",
    "execution_start": 1653623488026,
    "execution_millis": 32,
    "deepnote_cell_type": "code",
    "deepnote_cell_height": 418.40625
   },
   "source": "suicidio.info()",
   "execution_count": null,
   "outputs": [
    {
     "name": "stdout",
     "text": "<class 'pandas.core.frame.DataFrame'>\nRangeIndex: 10220 entries, 0 to 10219\nData columns (total 10 columns):\n #   Column                         Non-Null Count  Dtype \n---  ------                         --------------  ----- \n 0   ID                             10220 non-null  int64 \n 1   Año del hecho                  10220 non-null  int64 \n 2   Sexo de la victima             10220 non-null  object\n 3   Grupo de edad de la victima    10220 non-null  object\n 4   Mes del hecho                  10220 non-null  object\n 5   Dia del hecho                  10220 non-null  object\n 6   Departamento del hecho DANE    10220 non-null  object\n 7   Municipio del hecho DANE       10220 non-null  object\n 8   Lesion fatal de causa externa  10220 non-null  object\n 9   Estado                         10220 non-null  object\ndtypes: int64(2), object(8)\nmemory usage: 798.6+ KB\n",
     "output_type": "stream"
    }
   ]
  },
  {
   "cell_type": "code",
   "metadata": {
    "scrolled": false,
    "cell_id": "00006-128aaebf-9338-4e6c-8911-bbb794486c73",
    "deepnote_to_be_reexecuted": false,
    "source_hash": "c09a5914",
    "execution_start": 1653623488062,
    "execution_millis": 2,
    "deepnote_cell_type": "code",
    "deepnote_cell_height": 80.953125
   },
   "source": "#censo.head()",
   "execution_count": null,
   "outputs": []
  },
  {
   "cell_type": "code",
   "metadata": {
    "scrolled": true,
    "cell_id": "00007-f6ee1a9e-0049-472f-8e38-c6a1f9c8ef0e",
    "deepnote_to_be_reexecuted": false,
    "source_hash": "c5b8ea7c",
    "execution_start": 1653623488069,
    "execution_millis": 49,
    "deepnote_cell_type": "code",
    "deepnote_cell_height": 410.34375
   },
   "source": "suicidio.head(5)",
   "execution_count": null,
   "outputs": [
    {
     "output_type": "execute_result",
     "execution_count": 6,
     "data": {
      "application/vnd.deepnote.dataframe.v3+json": {
       "column_count": 10,
       "row_count": 5,
       "columns": [
        {
         "name": "ID",
         "dtype": "int64",
         "stats": {
          "unique_count": 5,
          "nan_count": 0,
          "min": "1",
          "max": "5",
          "histogram": [
           {
            "bin_start": 1,
            "bin_end": 1.4,
            "count": 1
           },
           {
            "bin_start": 1.4,
            "bin_end": 1.8,
            "count": 0
           },
           {
            "bin_start": 1.8,
            "bin_end": 2.2,
            "count": 1
           },
           {
            "bin_start": 2.2,
            "bin_end": 2.6,
            "count": 0
           },
           {
            "bin_start": 2.6,
            "bin_end": 3,
            "count": 0
           },
           {
            "bin_start": 3,
            "bin_end": 3.4000000000000004,
            "count": 1
           },
           {
            "bin_start": 3.4000000000000004,
            "bin_end": 3.8000000000000003,
            "count": 0
           },
           {
            "bin_start": 3.8000000000000003,
            "bin_end": 4.2,
            "count": 1
           },
           {
            "bin_start": 4.2,
            "bin_end": 4.6,
            "count": 0
           },
           {
            "bin_start": 4.6,
            "bin_end": 5,
            "count": 1
           }
          ]
         }
        },
        {
         "name": "Año del hecho",
         "dtype": "int64",
         "stats": {
          "unique_count": 1,
          "nan_count": 0,
          "min": "2016",
          "max": "2016",
          "histogram": [
           {
            "bin_start": 2015.5,
            "bin_end": 2015.6,
            "count": 0
           },
           {
            "bin_start": 2015.6,
            "bin_end": 2015.7,
            "count": 0
           },
           {
            "bin_start": 2015.7,
            "bin_end": 2015.8,
            "count": 0
           },
           {
            "bin_start": 2015.8,
            "bin_end": 2015.9,
            "count": 0
           },
           {
            "bin_start": 2015.9,
            "bin_end": 2016,
            "count": 0
           },
           {
            "bin_start": 2016,
            "bin_end": 2016.1,
            "count": 5
           },
           {
            "bin_start": 2016.1,
            "bin_end": 2016.2,
            "count": 0
           },
           {
            "bin_start": 2016.2,
            "bin_end": 2016.3,
            "count": 0
           },
           {
            "bin_start": 2016.3,
            "bin_end": 2016.4,
            "count": 0
           },
           {
            "bin_start": 2016.4,
            "bin_end": 2016.5,
            "count": 0
           }
          ]
         }
        },
        {
         "name": "Sexo de la victima",
         "dtype": "object",
         "stats": {
          "unique_count": 2,
          "nan_count": 0,
          "categories": [
           {
            "name": "Hombre",
            "count": 4
           },
           {
            "name": "Mujer",
            "count": 1
           }
          ]
         }
        },
        {
         "name": "Grupo de edad de la victima",
         "dtype": "object",
         "stats": {
          "unique_count": 5,
          "nan_count": 0,
          "categories": [
           {
            "name": "(20 a 24)",
            "count": 1
           },
           {
            "name": "(50 a 54)",
            "count": 1
           },
           {
            "name": "3 others",
            "count": 3
           }
          ]
         }
        },
        {
         "name": "Mes del hecho",
         "dtype": "object",
         "stats": {
          "unique_count": 1,
          "nan_count": 0,
          "categories": [
           {
            "name": "Enero",
            "count": 5
           }
          ]
         }
        },
        {
         "name": "Dia del hecho",
         "dtype": "object",
         "stats": {
          "unique_count": 4,
          "nan_count": 0,
          "categories": [
           {
            "name": "Sábado",
            "count": 2
           },
           {
            "name": "Jueves",
            "count": 1
           },
           {
            "name": "2 others",
            "count": 2
           }
          ]
         }
        },
        {
         "name": "Departamento del hecho DANE",
         "dtype": "object",
         "stats": {
          "unique_count": 3,
          "nan_count": 0,
          "categories": [
           {
            "name": "Quindío",
            "count": 2
           },
           {
            "name": "Santander",
            "count": 2
           },
           {
            "name": "Antioquia",
            "count": 1
           }
          ]
         }
        },
        {
         "name": "Municipio del hecho DANE",
         "dtype": "object",
         "stats": {
          "unique_count": 5,
          "nan_count": 0,
          "categories": [
           {
            "name": "Apartadó",
            "count": 1
           },
           {
            "name": "Armenia",
            "count": 1
           },
           {
            "name": "3 others",
            "count": 3
           }
          ]
         }
        },
        {
         "name": "Lesion fatal de causa externa",
         "dtype": "object",
         "stats": {
          "unique_count": 1,
          "nan_count": 0,
          "categories": [
           {
            "name": "Violenta - Suicidios",
            "count": 5
           }
          ]
         }
        },
        {
         "name": "Estado",
         "dtype": "object",
         "stats": {
          "unique_count": 1,
          "nan_count": 0,
          "categories": [
           {
            "name": "Datos definitivos",
            "count": 5
           }
          ]
         }
        },
        {
         "name": "_deepnote_index_column",
         "dtype": "int64"
        }
       ],
       "rows": [
        {
         "ID": 1,
         "Año del hecho": 2016,
         "Sexo de la victima": "Hombre",
         "Grupo de edad de la victima": "(20 a 24)",
         "Mes del hecho": "Enero",
         "Dia del hecho": "Sábado",
         "Departamento del hecho DANE": "Antioquia",
         "Municipio del hecho DANE": "Apartadó",
         "Lesion fatal de causa externa": "Violenta - Suicidios",
         "Estado": "Datos definitivos",
         "_deepnote_index_column": 0
        },
        {
         "ID": 2,
         "Año del hecho": 2016,
         "Sexo de la victima": "Hombre",
         "Grupo de edad de la victima": "(50 a 54)",
         "Mes del hecho": "Enero",
         "Dia del hecho": "Sábado",
         "Departamento del hecho DANE": "Quindío",
         "Municipio del hecho DANE": "Armenia",
         "Lesion fatal de causa externa": "Violenta - Suicidios",
         "Estado": "Datos definitivos",
         "_deepnote_index_column": 1
        },
        {
         "ID": 3,
         "Año del hecho": 2016,
         "Sexo de la victima": "Mujer",
         "Grupo de edad de la victima": "(10 a 14)",
         "Mes del hecho": "Enero",
         "Dia del hecho": "Jueves",
         "Departamento del hecho DANE": "Quindío",
         "Municipio del hecho DANE": "Quimbaya",
         "Lesion fatal de causa externa": "Violenta - Suicidios",
         "Estado": "Datos definitivos",
         "_deepnote_index_column": 2
        },
        {
         "ID": 4,
         "Año del hecho": 2016,
         "Sexo de la victima": "Hombre",
         "Grupo de edad de la victima": "(15 a 17)",
         "Mes del hecho": "Enero",
         "Dia del hecho": "Domingo",
         "Departamento del hecho DANE": "Santander",
         "Municipio del hecho DANE": "Bolívar",
         "Lesion fatal de causa externa": "Violenta - Suicidios",
         "Estado": "Datos definitivos",
         "_deepnote_index_column": 3
        },
        {
         "ID": 5,
         "Año del hecho": 2016,
         "Sexo de la victima": "Hombre",
         "Grupo de edad de la victima": "(80 y más)",
         "Mes del hecho": "Enero",
         "Dia del hecho": "Miércoles",
         "Departamento del hecho DANE": "Santander",
         "Municipio del hecho DANE": "Barbosa",
         "Lesion fatal de causa externa": "Violenta - Suicidios",
         "Estado": "Datos definitivos",
         "_deepnote_index_column": 4
        }
       ]
      },
      "text/plain": "   ID  Año del hecho Sexo de la victima Grupo de edad de la victima  \\\n0   1           2016             Hombre                   (20 a 24)   \n1   2           2016             Hombre                   (50 a 54)   \n2   3           2016              Mujer                   (10 a 14)   \n3   4           2016             Hombre                   (15 a 17)   \n4   5           2016             Hombre                  (80 y más)   \n\n  Mes del hecho Dia del hecho Departamento del hecho DANE  \\\n0         Enero        Sábado                   Antioquia   \n1         Enero        Sábado                     Quindío   \n2         Enero        Jueves                     Quindío   \n3         Enero       Domingo                   Santander   \n4         Enero     Miércoles                   Santander   \n\n  Municipio del hecho DANE Lesion fatal de causa externa             Estado  \n0                 Apartadó          Violenta - Suicidios  Datos definitivos  \n1                  Armenia          Violenta - Suicidios  Datos definitivos  \n2                 Quimbaya          Violenta - Suicidios  Datos definitivos  \n3                  Bolívar          Violenta - Suicidios  Datos definitivos  \n4                  Barbosa          Violenta - Suicidios  Datos definitivos  ",
      "text/html": "<div>\n<style scoped>\n    .dataframe tbody tr th:only-of-type {\n        vertical-align: middle;\n    }\n\n    .dataframe tbody tr th {\n        vertical-align: top;\n    }\n\n    .dataframe thead th {\n        text-align: right;\n    }\n</style>\n<table border=\"1\" class=\"dataframe\">\n  <thead>\n    <tr style=\"text-align: right;\">\n      <th></th>\n      <th>ID</th>\n      <th>Año del hecho</th>\n      <th>Sexo de la victima</th>\n      <th>Grupo de edad de la victima</th>\n      <th>Mes del hecho</th>\n      <th>Dia del hecho</th>\n      <th>Departamento del hecho DANE</th>\n      <th>Municipio del hecho DANE</th>\n      <th>Lesion fatal de causa externa</th>\n      <th>Estado</th>\n    </tr>\n  </thead>\n  <tbody>\n    <tr>\n      <th>0</th>\n      <td>1</td>\n      <td>2016</td>\n      <td>Hombre</td>\n      <td>(20 a 24)</td>\n      <td>Enero</td>\n      <td>Sábado</td>\n      <td>Antioquia</td>\n      <td>Apartadó</td>\n      <td>Violenta - Suicidios</td>\n      <td>Datos definitivos</td>\n    </tr>\n    <tr>\n      <th>1</th>\n      <td>2</td>\n      <td>2016</td>\n      <td>Hombre</td>\n      <td>(50 a 54)</td>\n      <td>Enero</td>\n      <td>Sábado</td>\n      <td>Quindío</td>\n      <td>Armenia</td>\n      <td>Violenta - Suicidios</td>\n      <td>Datos definitivos</td>\n    </tr>\n    <tr>\n      <th>2</th>\n      <td>3</td>\n      <td>2016</td>\n      <td>Mujer</td>\n      <td>(10 a 14)</td>\n      <td>Enero</td>\n      <td>Jueves</td>\n      <td>Quindío</td>\n      <td>Quimbaya</td>\n      <td>Violenta - Suicidios</td>\n      <td>Datos definitivos</td>\n    </tr>\n    <tr>\n      <th>3</th>\n      <td>4</td>\n      <td>2016</td>\n      <td>Hombre</td>\n      <td>(15 a 17)</td>\n      <td>Enero</td>\n      <td>Domingo</td>\n      <td>Santander</td>\n      <td>Bolívar</td>\n      <td>Violenta - Suicidios</td>\n      <td>Datos definitivos</td>\n    </tr>\n    <tr>\n      <th>4</th>\n      <td>5</td>\n      <td>2016</td>\n      <td>Hombre</td>\n      <td>(80 y más)</td>\n      <td>Enero</td>\n      <td>Miércoles</td>\n      <td>Santander</td>\n      <td>Barbosa</td>\n      <td>Violenta - Suicidios</td>\n      <td>Datos definitivos</td>\n    </tr>\n  </tbody>\n</table>\n</div>"
     },
     "metadata": {}
    }
   ]
  },
  {
   "cell_type": "code",
   "metadata": {
    "cell_id": "00008-878fd6e1-27d5-4f46-be03-52ed65fe7665",
    "deepnote_to_be_reexecuted": false,
    "source_hash": "86d0a463",
    "execution_start": 1653623488122,
    "execution_millis": 3,
    "deepnote_cell_type": "code",
    "deepnote_cell_height": 116.953125
   },
   "source": "suicidio[\"Mes del hecho\"]=suicidio[\"Mes del hecho\"].str.lower()\nd = {'enero':\"01\", 'febrero':'02', 'marzo':'03', 'abril':'04', 'mayo':'05', 'junio':'06', 'julio':'07', 'agosto':'08', 'septiembre':'09', 'octubre':'10',\n    'noviembre':'11', 'diciembre':'12'}",
   "execution_count": null,
   "outputs": []
  },
  {
   "cell_type": "code",
   "metadata": {
    "cell_id": "00009-7882dd01-26e0-406c-8085-f5e65e59be58",
    "deepnote_to_be_reexecuted": false,
    "source_hash": "45bdb491",
    "execution_start": 1653623488137,
    "execution_millis": 8,
    "deepnote_cell_type": "code",
    "deepnote_cell_height": 347.375,
    "deepnote_output_heights": [
     232.4375
    ]
   },
   "source": "suicidio[\"Mes del hecho\"]=suicidio[\"Mes del hecho\"].map(d)\nsuicidio[\"Mes del hecho\"]",
   "execution_count": null,
   "outputs": [
    {
     "output_type": "execute_result",
     "execution_count": 8,
     "data": {
      "text/plain": "0        01\n1        01\n2        01\n3        01\n4        01\n         ..\n10215    10\n10216    10\n10217    10\n10218    12\n10219    12\nName: Mes del hecho, Length: 10220, dtype: object"
     },
     "metadata": {}
    }
   ]
  },
  {
   "cell_type": "code",
   "metadata": {
    "cell_id": "00010-9db9834f-a074-42ea-baa4-45f4465136d5",
    "deepnote_to_be_reexecuted": false,
    "source_hash": "8224a33a",
    "execution_start": 1653623488146,
    "execution_millis": 31,
    "deepnote_cell_type": "code",
    "deepnote_cell_height": 347.375,
    "deepnote_output_heights": [
     232.4375
    ]
   },
   "source": "suicidio[\"fecha\"] = suicidio[\"Año del hecho\"].astype(str)+\"-\"+suicidio[\"Mes del hecho\"]\nsuicidio[\"fecha\"]",
   "execution_count": null,
   "outputs": [
    {
     "output_type": "execute_result",
     "execution_count": 9,
     "data": {
      "text/plain": "0        2016-01\n1        2016-01\n2        2016-01\n3        2016-01\n4        2016-01\n          ...   \n10215    2019-10\n10216    2019-10\n10217    2019-10\n10218    2019-12\n10219    2019-12\nName: fecha, Length: 10220, dtype: object"
     },
     "metadata": {}
    }
   ]
  },
  {
   "cell_type": "code",
   "metadata": {
    "scrolled": true,
    "cell_id": "00011-603789d9-197b-4db4-b467-2884a86685d6",
    "deepnote_to_be_reexecuted": false,
    "source_hash": "3e4ac674",
    "execution_start": 1653623488226,
    "execution_millis": 3,
    "deepnote_cell_type": "code",
    "deepnote_cell_height": 347.375,
    "deepnote_output_heights": [
     232.4375
    ]
   },
   "source": "suicidio[\"fecha\"]=pd.to_datetime(suicidio[\"fecha\"],format='%Y-%m')\nsuicidio[\"fecha\"]",
   "execution_count": null,
   "outputs": [
    {
     "output_type": "execute_result",
     "execution_count": 10,
     "data": {
      "text/plain": "0       2016-01-01\n1       2016-01-01\n2       2016-01-01\n3       2016-01-01\n4       2016-01-01\n           ...    \n10215   2019-10-01\n10216   2019-10-01\n10217   2019-10-01\n10218   2019-12-01\n10219   2019-12-01\nName: fecha, Length: 10220, dtype: datetime64[ns]"
     },
     "metadata": {}
    }
   ]
  },
  {
   "cell_type": "code",
   "metadata": {
    "cell_id": "00012-2edb7333-e814-4caf-9e34-93b0e83639e0",
    "deepnote_to_be_reexecuted": false,
    "source_hash": "40e51489",
    "execution_start": 1653623488227,
    "execution_millis": 45,
    "deepnote_cell_type": "code",
    "deepnote_cell_height": 725.9375,
    "deepnote_output_heights": [
     611
    ]
   },
   "source": "suicidio_timeline = suicidio.groupby([\"fecha\"]).size()\nsuicidio_timeline",
   "execution_count": null,
   "outputs": [
    {
     "output_type": "execute_result",
     "execution_count": 11,
     "data": {
      "text/plain": "fecha\n2016-01-01    187\n2016-02-01    190\n2016-03-01    191\n2016-04-01    175\n2016-05-01    185\n2016-06-01    203\n2016-07-01    192\n2016-08-01    215\n2016-09-01    164\n2016-10-01    217\n2016-11-01    178\n2016-12-01    213\n2017-01-01    206\n2017-02-01    183\n2017-03-01    181\n2017-04-01    231\n2017-05-01    253\n2017-06-01    221\n2017-07-01    232\n2017-08-01    213\n2017-09-01    178\n2017-10-01    222\n2017-11-01    227\n2017-12-01    224\n2018-01-01    234\n2018-02-01    182\n2018-03-01    229\n2018-04-01    218\n2018-05-01    231\n2018-06-01    224\n2018-07-01    238\n2018-08-01    223\n2018-09-01    230\n2018-10-01    230\n2018-11-01    231\n2018-12-01    226\n2019-01-01    225\n2019-02-01    191\n2019-03-01    235\n2019-04-01    221\n2019-05-01    225\n2019-06-01    231\n2019-07-01    216\n2019-08-01    237\n2019-09-01    223\n2019-10-01    216\n2019-11-01    191\n2019-12-01    232\ndtype: int64"
     },
     "metadata": {}
    }
   ]
  },
  {
   "cell_type": "code",
   "metadata": {
    "scrolled": false,
    "cell_id": "00013-ef080002-92b6-4649-858d-2d0e1719abba",
    "deepnote_to_be_reexecuted": false,
    "source_hash": "5dcfc380",
    "execution_start": 1653623488271,
    "execution_millis": 530,
    "deepnote_cell_type": "code",
    "deepnote_cell_height": 321.6875,
    "deepnote_output_heights": [
     21.1875,
     136.5625
    ]
   },
   "source": "plt_1 = plt.figure(figsize=(18, 3))\nplt.plot(suicidio_timeline)\nplt.title(\"Número de defunciones por suicidio\")",
   "execution_count": null,
   "outputs": [
    {
     "output_type": "execute_result",
     "execution_count": 12,
     "data": {
      "text/plain": "Text(0.5, 1.0, 'Número de defunciones por suicidio')"
     },
     "metadata": {}
    },
    {
     "data": {
      "text/plain": "<Figure size 1296x216 with 1 Axes>",
      "image/png": "[encoded data removed]"
     },
     "metadata": {
      "needs_background": "light",
      "image/png": {
       "width": 1044,
       "height": 210
      }
     },
     "output_type": "display_data"
    }
   ]
  },
  {
   "cell_type": "code",
   "metadata": {
    "scrolled": true,
    "cell_id": "00014-ee8f31c8-e1a4-4bb3-8008-06a3f428bf31",
    "deepnote_to_be_reexecuted": false,
    "source_hash": "6e21b17f",
    "execution_start": 1653623488708,
    "execution_millis": 228,
    "deepnote_cell_type": "code",
    "deepnote_cell_height": 465.09375,
    "deepnote_output_heights": [
     21.1875,
     279.984375
    ]
   },
   "source": "totalyear= suicidio.groupby([\"Año del hecho\"]).size().reset_index(name = \"counts\")\nsns.barplot(data = totalyear, x = \"Año del hecho\", y = \"counts\")\nplt.title('Casos de suicidio totales por año')",
   "execution_count": null,
   "outputs": [
    {
     "output_type": "execute_result",
     "execution_count": 13,
     "data": {
      "text/plain": "Text(0.5, 1.0, 'Casos de suicidio totales por año')"
     },
     "metadata": {}
    },
    {
     "data": {
      "text/plain": "<Figure size 432x288 with 1 Axes>",
      "image/png": "[encoded data removed]"
     },
     "metadata": {
      "needs_background": "light",
      "image/png": {
       "width": 395,
       "height": 278
      }
     },
     "output_type": "display_data"
    }
   ]
  },
  {
   "cell_type": "code",
   "metadata": {
    "scrolled": true,
    "cell_id": "00015-bf91109e-8d5d-4d2e-80e9-e20584ac5bed",
    "deepnote_to_be_reexecuted": false,
    "source_hash": "bc1f1910",
    "execution_start": 1653623488937,
    "execution_millis": 729,
    "deepnote_cell_type": "code",
    "deepnote_cell_height": 480.375,
    "deepnote_output_heights": [
     21.1875,
     259.25
    ]
   },
   "source": "totalmonth= suicidio.groupby([\"Año del hecho\", \"Mes del hecho\"]).size().reset_index(name = \"counts\")\nplt.figure(figsize=(12,4))\n\nsns.barplot(data = totalmonth, x = \"Mes del hecho\", y = \"counts\", hue =\"Año del hecho\")\nplt.title('Casos de suicidio por mes de 2016-2019')",
   "execution_count": null,
   "outputs": [
    {
     "output_type": "execute_result",
     "execution_count": 14,
     "data": {
      "text/plain": "Text(0.5, 1.0, 'Casos de suicidio por mes de 2016-2019')"
     },
     "metadata": {}
    },
    {
     "data": {
      "text/plain": "<Figure size 864x288 with 1 Axes>",
      "image/png": "[encoded data removed]"
     },
     "metadata": {
      "needs_background": "light",
      "image/png": {
       "width": 723,
       "height": 278
      }
     },
     "output_type": "display_data"
    }
   ]
  },
  {
   "cell_type": "code",
   "metadata": {
    "scrolled": true,
    "cell_id": "00016-33bdbf1a-d045-4b3e-aa31-f9d68fde3fff",
    "deepnote_to_be_reexecuted": false,
    "source_hash": "450c9352",
    "execution_start": 1653623489729,
    "execution_millis": 5,
    "deepnote_cell_type": "code",
    "deepnote_cell_height": 407.890625
   },
   "source": "avgmonth = totalyear\navgmonth[\"counts\"] = avgmonth[\"counts\"]/12\navgmonth = avgmonth.rename(columns = { \"counts\":\"Promedio mensual casos\"})\navgmonth",
   "execution_count": null,
   "outputs": [
    {
     "output_type": "execute_result",
     "execution_count": 15,
     "data": {
      "application/vnd.deepnote.dataframe.v3+json": {
       "column_count": 2,
       "row_count": 4,
       "columns": [
        {
         "name": "Año del hecho",
         "dtype": "int64",
         "stats": {
          "unique_count": 4,
          "nan_count": 0,
          "min": "2016",
          "max": "2019",
          "histogram": [
           {
            "bin_start": 2016,
            "bin_end": 2016.3,
            "count": 1
           },
           {
            "bin_start": 2016.3,
            "bin_end": 2016.6,
            "count": 0
           },
           {
            "bin_start": 2016.6,
            "bin_end": 2016.9,
            "count": 0
           },
           {
            "bin_start": 2016.9,
            "bin_end": 2017.2,
            "count": 1
           },
           {
            "bin_start": 2017.2,
            "bin_end": 2017.5,
            "count": 0
           },
           {
            "bin_start": 2017.5,
            "bin_end": 2017.8,
            "count": 0
           },
           {
            "bin_start": 2017.8,
            "bin_end": 2018.1,
            "count": 1
           },
           {
            "bin_start": 2018.1,
            "bin_end": 2018.4,
            "count": 0
           },
           {
            "bin_start": 2018.4,
            "bin_end": 2018.7,
            "count": 0
           },
           {
            "bin_start": 2018.7,
            "bin_end": 2019,
            "count": 1
           }
          ]
         }
        },
        {
         "name": "Promedio mensual casos",
         "dtype": "float64",
         "stats": {
          "unique_count": 4,
          "nan_count": 0,
          "min": "192.5",
          "max": "224.66666666666666",
          "histogram": [
           {
            "bin_start": 192.5,
            "bin_end": 195.71666666666667,
            "count": 1
           },
           {
            "bin_start": 195.71666666666667,
            "bin_end": 198.93333333333334,
            "count": 0
           },
           {
            "bin_start": 198.93333333333334,
            "bin_end": 202.15,
            "count": 0
           },
           {
            "bin_start": 202.15,
            "bin_end": 205.36666666666667,
            "count": 0
           },
           {
            "bin_start": 205.36666666666667,
            "bin_end": 208.58333333333331,
            "count": 0
           },
           {
            "bin_start": 208.58333333333331,
            "bin_end": 211.8,
            "count": 0
           },
           {
            "bin_start": 211.8,
            "bin_end": 215.01666666666665,
            "count": 1
           },
           {
            "bin_start": 215.01666666666665,
            "bin_end": 218.23333333333332,
            "count": 0
           },
           {
            "bin_start": 218.23333333333332,
            "bin_end": 221.45,
            "count": 1
           },
           {
            "bin_start": 221.45,
            "bin_end": 224.66666666666666,
            "count": 1
           }
          ]
         }
        },
        {
         "name": "_deepnote_index_column",
         "dtype": "int64"
        }
       ],
       "rows": [
        {
         "Año del hecho": 2016,
         "Promedio mensual casos": 192.5,
         "_deepnote_index_column": 0
        },
        {
         "Año del hecho": 2017,
         "Promedio mensual casos": 214.25,
         "_deepnote_index_column": 1
        },
        {
         "Año del hecho": 2018,
         "Promedio mensual casos": 224.66666666666666,
         "_deepnote_index_column": 2
        },
        {
         "Año del hecho": 2019,
         "Promedio mensual casos": 220.25,
         "_deepnote_index_column": 3
        }
       ]
      },
      "text/plain": "   Año del hecho  Promedio mensual casos\n0           2016              192.500000\n1           2017              214.250000\n2           2018              224.666667\n3           2019              220.250000",
      "text/html": "<div>\n<style scoped>\n    .dataframe tbody tr th:only-of-type {\n        vertical-align: middle;\n    }\n\n    .dataframe tbody tr th {\n        vertical-align: top;\n    }\n\n    .dataframe thead th {\n        text-align: right;\n    }\n</style>\n<table border=\"1\" class=\"dataframe\">\n  <thead>\n    <tr style=\"text-align: right;\">\n      <th></th>\n      <th>Año del hecho</th>\n      <th>Promedio mensual casos</th>\n    </tr>\n  </thead>\n  <tbody>\n    <tr>\n      <th>0</th>\n      <td>2016</td>\n      <td>192.500000</td>\n    </tr>\n    <tr>\n      <th>1</th>\n      <td>2017</td>\n      <td>214.250000</td>\n    </tr>\n    <tr>\n      <th>2</th>\n      <td>2018</td>\n      <td>224.666667</td>\n    </tr>\n    <tr>\n      <th>3</th>\n      <td>2019</td>\n      <td>220.250000</td>\n    </tr>\n  </tbody>\n</table>\n</div>"
     },
     "metadata": {}
    }
   ]
  },
  {
   "cell_type": "code",
   "metadata": {
    "scrolled": true,
    "cell_id": "00017-9f765e6d-df3f-4a08-8669-938496bfa4b9",
    "deepnote_to_be_reexecuted": false,
    "source_hash": "7ed0bdd6",
    "execution_start": 1653623489730,
    "execution_millis": 43,
    "deepnote_cell_type": "code",
    "deepnote_cell_height": 430.890625
   },
   "source": "tasadpto = suicidio.groupby([\"Departamento del hecho DANE\",\"Año del hecho\"]).size().reset_index(name = \"cases\")\ntasamunicipio = suicidio.groupby([\"Municipio del hecho DANE\",\"Año del hecho\"]).size().reset_index(name = \"cases\")\ntasadpto.head(5)",
   "execution_count": null,
   "outputs": [
    {
     "output_type": "execute_result",
     "execution_count": 16,
     "data": {
      "application/vnd.deepnote.dataframe.v3+json": {
       "column_count": 3,
       "row_count": 5,
       "columns": [
        {
         "name": "Departamento del hecho DANE",
         "dtype": "object",
         "stats": {
          "unique_count": 2,
          "nan_count": 0,
          "categories": [
           {
            "name": "Amazonas",
            "count": 4
           },
           {
            "name": "Antioquia",
            "count": 1
           }
          ]
         }
        },
        {
         "name": "Año del hecho",
         "dtype": "int64",
         "stats": {
          "unique_count": 4,
          "nan_count": 0,
          "min": "2016",
          "max": "2019",
          "histogram": [
           {
            "bin_start": 2016,
            "bin_end": 2016.3,
            "count": 2
           },
           {
            "bin_start": 2016.3,
            "bin_end": 2016.6,
            "count": 0
           },
           {
            "bin_start": 2016.6,
            "bin_end": 2016.9,
            "count": 0
           },
           {
            "bin_start": 2016.9,
            "bin_end": 2017.2,
            "count": 1
           },
           {
            "bin_start": 2017.2,
            "bin_end": 2017.5,
            "count": 0
           },
           {
            "bin_start": 2017.5,
            "bin_end": 2017.8,
            "count": 0
           },
           {
            "bin_start": 2017.8,
            "bin_end": 2018.1,
            "count": 1
           },
           {
            "bin_start": 2018.1,
            "bin_end": 2018.4,
            "count": 0
           },
           {
            "bin_start": 2018.4,
            "bin_end": 2018.7,
            "count": 0
           },
           {
            "bin_start": 2018.7,
            "bin_end": 2019,
            "count": 1
           }
          ]
         }
        },
        {
         "name": "cases",
         "dtype": "int64",
         "stats": {
          "unique_count": 5,
          "nan_count": 0,
          "min": "2",
          "max": "388",
          "histogram": [
           {
            "bin_start": 2,
            "bin_end": 40.6,
            "count": 4
           },
           {
            "bin_start": 40.6,
            "bin_end": 79.2,
            "count": 0
           },
           {
            "bin_start": 79.2,
            "bin_end": 117.80000000000001,
            "count": 0
           },
           {
            "bin_start": 117.80000000000001,
            "bin_end": 156.4,
            "count": 0
           },
           {
            "bin_start": 156.4,
            "bin_end": 195,
            "count": 0
           },
           {
            "bin_start": 195,
            "bin_end": 233.60000000000002,
            "count": 0
           },
           {
            "bin_start": 233.60000000000002,
            "bin_end": 272.2,
            "count": 0
           },
           {
            "bin_start": 272.2,
            "bin_end": 310.8,
            "count": 0
           },
           {
            "bin_start": 310.8,
            "bin_end": 349.40000000000003,
            "count": 0
           },
           {
            "bin_start": 349.40000000000003,
            "bin_end": 388,
            "count": 1
           }
          ]
         }
        },
        {
         "name": "_deepnote_index_column",
         "dtype": "int64"
        }
       ],
       "rows": [
        {
         "Departamento del hecho DANE": "Amazonas",
         "Año del hecho": 2016,
         "cases": 3,
         "_deepnote_index_column": 0
        },
        {
         "Departamento del hecho DANE": "Amazonas",
         "Año del hecho": 2017,
         "cases": 2,
         "_deepnote_index_column": 1
        },
        {
         "Departamento del hecho DANE": "Amazonas",
         "Año del hecho": 2018,
         "cases": 4,
         "_deepnote_index_column": 2
        },
        {
         "Departamento del hecho DANE": "Amazonas",
         "Año del hecho": 2019,
         "cases": 5,
         "_deepnote_index_column": 3
        },
        {
         "Departamento del hecho DANE": "Antioquia",
         "Año del hecho": 2016,
         "cases": 388,
         "_deepnote_index_column": 4
        }
       ]
      },
      "text/plain": "  Departamento del hecho DANE  Año del hecho  cases\n0                    Amazonas           2016      3\n1                    Amazonas           2017      2\n2                    Amazonas           2018      4\n3                    Amazonas           2019      5\n4                   Antioquia           2016    388",
      "text/html": "<div>\n<style scoped>\n    .dataframe tbody tr th:only-of-type {\n        vertical-align: middle;\n    }\n\n    .dataframe tbody tr th {\n        vertical-align: top;\n    }\n\n    .dataframe thead th {\n        text-align: right;\n    }\n</style>\n<table border=\"1\" class=\"dataframe\">\n  <thead>\n    <tr style=\"text-align: right;\">\n      <th></th>\n      <th>Departamento del hecho DANE</th>\n      <th>Año del hecho</th>\n      <th>cases</th>\n    </tr>\n  </thead>\n  <tbody>\n    <tr>\n      <th>0</th>\n      <td>Amazonas</td>\n      <td>2016</td>\n      <td>3</td>\n    </tr>\n    <tr>\n      <th>1</th>\n      <td>Amazonas</td>\n      <td>2017</td>\n      <td>2</td>\n    </tr>\n    <tr>\n      <th>2</th>\n      <td>Amazonas</td>\n      <td>2018</td>\n      <td>4</td>\n    </tr>\n    <tr>\n      <th>3</th>\n      <td>Amazonas</td>\n      <td>2019</td>\n      <td>5</td>\n    </tr>\n    <tr>\n      <th>4</th>\n      <td>Antioquia</td>\n      <td>2016</td>\n      <td>388</td>\n    </tr>\n  </tbody>\n</table>\n</div>"
     },
     "metadata": {}
    }
   ]
  },
  {
   "cell_type": "code",
   "metadata": {
    "cell_id": "00018-cf9e4172-ee8e-4917-8079-73fd937bbf5c",
    "deepnote_to_be_reexecuted": false,
    "source_hash": "d7c6df16",
    "execution_start": 1653623489772,
    "execution_millis": 4,
    "deepnote_cell_type": "code",
    "deepnote_cell_height": 394.890625
   },
   "source": "tasamunicipio.head(5)",
   "execution_count": null,
   "outputs": [
    {
     "output_type": "execute_result",
     "execution_count": 17,
     "data": {
      "application/vnd.deepnote.dataframe.v3+json": {
       "column_count": 3,
       "row_count": 5,
       "columns": [
        {
         "name": "Municipio del hecho DANE",
         "dtype": "object",
         "stats": {
          "unique_count": 2,
          "nan_count": 0,
          "categories": [
           {
            "name": "Abejorral",
            "count": 3
           },
           {
            "name": "Acacías",
            "count": 2
           }
          ]
         }
        },
        {
         "name": "Año del hecho",
         "dtype": "int64",
         "stats": {
          "unique_count": 3,
          "nan_count": 0,
          "min": "2016",
          "max": "2018",
          "histogram": [
           {
            "bin_start": 2016,
            "bin_end": 2016.2,
            "count": 2
           },
           {
            "bin_start": 2016.2,
            "bin_end": 2016.4,
            "count": 0
           },
           {
            "bin_start": 2016.4,
            "bin_end": 2016.6,
            "count": 0
           },
           {
            "bin_start": 2016.6,
            "bin_end": 2016.8,
            "count": 0
           },
           {
            "bin_start": 2016.8,
            "bin_end": 2017,
            "count": 0
           },
           {
            "bin_start": 2017,
            "bin_end": 2017.2,
            "count": 2
           },
           {
            "bin_start": 2017.2,
            "bin_end": 2017.4,
            "count": 0
           },
           {
            "bin_start": 2017.4,
            "bin_end": 2017.6,
            "count": 0
           },
           {
            "bin_start": 2017.6,
            "bin_end": 2017.8,
            "count": 0
           },
           {
            "bin_start": 2017.8,
            "bin_end": 2018,
            "count": 1
           }
          ]
         }
        },
        {
         "name": "cases",
         "dtype": "int64",
         "stats": {
          "unique_count": 4,
          "nan_count": 0,
          "min": "1",
          "max": "8",
          "histogram": [
           {
            "bin_start": 1,
            "bin_end": 1.7,
            "count": 1
           },
           {
            "bin_start": 1.7,
            "bin_end": 2.4,
            "count": 1
           },
           {
            "bin_start": 2.4,
            "bin_end": 3.0999999999999996,
            "count": 0
           },
           {
            "bin_start": 3.0999999999999996,
            "bin_end": 3.8,
            "count": 0
           },
           {
            "bin_start": 3.8,
            "bin_end": 4.5,
            "count": 2
           },
           {
            "bin_start": 4.5,
            "bin_end": 5.199999999999999,
            "count": 0
           },
           {
            "bin_start": 5.199999999999999,
            "bin_end": 5.8999999999999995,
            "count": 0
           },
           {
            "bin_start": 5.8999999999999995,
            "bin_end": 6.6,
            "count": 0
           },
           {
            "bin_start": 6.6,
            "bin_end": 7.3,
            "count": 0
           },
           {
            "bin_start": 7.3,
            "bin_end": 8,
            "count": 1
           }
          ]
         }
        },
        {
         "name": "_deepnote_index_column",
         "dtype": "int64"
        }
       ],
       "rows": [
        {
         "Municipio del hecho DANE": "Abejorral",
         "Año del hecho": 2016,
         "cases": 2,
         "_deepnote_index_column": 0
        },
        {
         "Municipio del hecho DANE": "Abejorral",
         "Año del hecho": 2017,
         "cases": 1,
         "_deepnote_index_column": 1
        },
        {
         "Municipio del hecho DANE": "Abejorral",
         "Año del hecho": 2018,
         "cases": 4,
         "_deepnote_index_column": 2
        },
        {
         "Municipio del hecho DANE": "Acacías",
         "Año del hecho": 2016,
         "cases": 8,
         "_deepnote_index_column": 3
        },
        {
         "Municipio del hecho DANE": "Acacías",
         "Año del hecho": 2017,
         "cases": 4,
         "_deepnote_index_column": 4
        }
       ]
      },
      "text/plain": "  Municipio del hecho DANE  Año del hecho  cases\n0                Abejorral           2016      2\n1                Abejorral           2017      1\n2                Abejorral           2018      4\n3                  Acacías           2016      8\n4                  Acacías           2017      4",
      "text/html": "<div>\n<style scoped>\n    .dataframe tbody tr th:only-of-type {\n        vertical-align: middle;\n    }\n\n    .dataframe tbody tr th {\n        vertical-align: top;\n    }\n\n    .dataframe thead th {\n        text-align: right;\n    }\n</style>\n<table border=\"1\" class=\"dataframe\">\n  <thead>\n    <tr style=\"text-align: right;\">\n      <th></th>\n      <th>Municipio del hecho DANE</th>\n      <th>Año del hecho</th>\n      <th>cases</th>\n    </tr>\n  </thead>\n  <tbody>\n    <tr>\n      <th>0</th>\n      <td>Abejorral</td>\n      <td>2016</td>\n      <td>2</td>\n    </tr>\n    <tr>\n      <th>1</th>\n      <td>Abejorral</td>\n      <td>2017</td>\n      <td>1</td>\n    </tr>\n    <tr>\n      <th>2</th>\n      <td>Abejorral</td>\n      <td>2018</td>\n      <td>4</td>\n    </tr>\n    <tr>\n      <th>3</th>\n      <td>Acacías</td>\n      <td>2016</td>\n      <td>8</td>\n    </tr>\n    <tr>\n      <th>4</th>\n      <td>Acacías</td>\n      <td>2017</td>\n      <td>4</td>\n    </tr>\n  </tbody>\n</table>\n</div>"
     },
     "metadata": {}
    }
   ]
  },
  {
   "cell_type": "code",
   "metadata": {
    "scrolled": true,
    "cell_id": "00019-16e9f8a4-eeb9-4d71-8072-2626dbea4bc9",
    "deepnote_to_be_reexecuted": false,
    "source_hash": "5c0ade6a",
    "execution_start": 1653623489780,
    "execution_millis": 721,
    "deepnote_cell_type": "code",
    "deepnote_cell_height": 702.53125,
    "deepnote_output_heights": [
     515.59375
    ]
   },
   "source": "plt.figure(figsize=(12,4))\ng = sns.barplot(x=\"Departamento del hecho DANE\", y = \"cases\", data = tasadpto[tasadpto[\"Año del hecho\"]==2016])\nlabels = g.get_xticklabels()\ng.set_xticklabels(labels,rotation=90)\nplt.title('Año 2016')\nplt.show()",
   "execution_count": null,
   "outputs": [
    {
     "data": {
      "text/plain": "<Figure size 864x288 with 1 Axes>",
      "image/png": "[encoded data removed]"
     },
     "metadata": {
      "needs_background": "light",
      "image/png": {
       "width": 723,
       "height": 555
      }
     },
     "output_type": "display_data"
    }
   ]
  },
  {
   "cell_type": "code",
   "metadata": {
    "cell_id": "00020-7d16966d-3ea5-45cd-b4d0-0b9e79ce45a5",
    "deepnote_to_be_reexecuted": false,
    "source_hash": "4756116",
    "execution_start": 1653623490537,
    "execution_millis": 877,
    "deepnote_cell_type": "code",
    "deepnote_cell_height": 702.53125,
    "deepnote_output_heights": [
     515.59375
    ]
   },
   "source": "plt.figure(figsize=(12,4))\ng = sns.barplot(x=\"Departamento del hecho DANE\", y = \"cases\", data = tasadpto[tasadpto[\"Año del hecho\"]==2017])\nlabels = g.get_xticklabels()\ng.set_xticklabels(labels,rotation=90)\nplt.title('Año 2017')\nplt.show()",
   "execution_count": null,
   "outputs": [
    {
     "data": {
      "text/plain": "<Figure size 864x288 with 1 Axes>",
      "image/png": "[encoded data removed]"
     },
     "metadata": {
      "needs_background": "light",
      "image/png": {
       "width": 723,
       "height": 555
      }
     },
     "output_type": "display_data"
    }
   ]
  },
  {
   "cell_type": "code",
   "metadata": {
    "cell_id": "00021-6cb8dd5f-0147-4fff-ba24-dd0ca6caa98e",
    "deepnote_to_be_reexecuted": false,
    "source_hash": "dfb7c07c",
    "execution_start": 1653623491066,
    "execution_millis": 626,
    "deepnote_cell_type": "code",
    "deepnote_cell_height": 702.53125,
    "deepnote_output_heights": [
     515.59375
    ]
   },
   "source": "plt.figure(figsize=(12,4))\ng = sns.barplot(x=\"Departamento del hecho DANE\", y = \"cases\", data = tasadpto[tasadpto[\"Año del hecho\"]==2018])\nlabels = g.get_xticklabels()\ng.set_xticklabels(labels,rotation=90)\nplt.title('Año 2018')\nplt.show()",
   "execution_count": null,
   "outputs": [
    {
     "data": {
      "text/plain": "<Figure size 864x288 with 1 Axes>",
      "image/png": "[encoded data removed]"
     },
     "metadata": {
      "needs_background": "light",
      "image/png": {
       "width": 723,
       "height": 555
      }
     },
     "output_type": "display_data"
    }
   ]
  },
  {
   "cell_type": "code",
   "metadata": {
    "cell_id": "00022-6f21c246-d43d-467d-ab4b-875f098fafeb",
    "deepnote_to_be_reexecuted": false,
    "source_hash": "4ddf12d6",
    "execution_start": 1653623491701,
    "execution_millis": 439,
    "deepnote_cell_type": "code",
    "deepnote_cell_height": 527.640625,
    "deepnote_output_heights": [
     340.6875
    ]
   },
   "source": "plt.figure(figsize=(12,4))\ng = sns.barplot(x=\"Departamento del hecho DANE\", y = \"cases\", data = tasadpto[tasadpto[\"Año del hecho\"]==2019])\nlabels = g.get_xticklabels()\ng.set_xticklabels(labels,rotation=90)\nplt.title('Año 2019')\nplt.show()",
   "execution_count": null,
   "outputs": [
    {
     "data": {
      "text/plain": "<Figure size 864x288 with 1 Axes>",
      "image/png": "[encoded data removed]"
     },
     "metadata": {
      "needs_background": "light",
      "image/png": {
       "width": 723,
       "height": 366
      }
     },
     "output_type": "display_data"
    }
   ]
  },
  {
   "cell_type": "markdown",
   "source": "Los 5 departamentos con mayor número de suicidios por año (2016-2019)",
   "metadata": {
    "cell_id": "00023-335bb6aa-6702-4c29-b244-c42845b45bec",
    "deepnote_cell_type": "markdown",
    "deepnote_cell_height": 52.359375
   }
  },
  {
   "cell_type": "code",
   "metadata": {
    "scrolled": true,
    "cell_id": "00024-a6d34b29-ba8f-41cc-86b7-4fe0e45a8ddb",
    "deepnote_to_be_reexecuted": false,
    "source_hash": "aaf8d758",
    "execution_start": 1653623492155,
    "execution_millis": 7,
    "deepnote_cell_type": "code",
    "deepnote_cell_height": 394.890625
   },
   "source": "tasadpto[tasadpto[\"Año del hecho\"]== 2016].sort_values(by = \"cases\", ascending = False).head(5)",
   "execution_count": null,
   "outputs": [
    {
     "output_type": "execute_result",
     "execution_count": 22,
     "data": {
      "application/vnd.deepnote.dataframe.v3+json": {
       "column_count": 3,
       "row_count": 5,
       "columns": [
        {
         "name": "Departamento del hecho DANE",
         "dtype": "object",
         "stats": {
          "unique_count": 5,
          "nan_count": 0,
          "categories": [
           {
            "name": "Antioquia",
            "count": 1
           },
           {
            "name": "Bogotá, D.C.",
            "count": 1
           },
           {
            "name": "3 others",
            "count": 3
           }
          ]
         }
        },
        {
         "name": "Año del hecho",
         "dtype": "int64",
         "stats": {
          "unique_count": 1,
          "nan_count": 0,
          "min": "2016",
          "max": "2016",
          "histogram": [
           {
            "bin_start": 2015.5,
            "bin_end": 2015.6,
            "count": 0
           },
           {
            "bin_start": 2015.6,
            "bin_end": 2015.7,
            "count": 0
           },
           {
            "bin_start": 2015.7,
            "bin_end": 2015.8,
            "count": 0
           },
           {
            "bin_start": 2015.8,
            "bin_end": 2015.9,
            "count": 0
           },
           {
            "bin_start": 2015.9,
            "bin_end": 2016,
            "count": 0
           },
           {
            "bin_start": 2016,
            "bin_end": 2016.1,
            "count": 5
           },
           {
            "bin_start": 2016.1,
            "bin_end": 2016.2,
            "count": 0
           },
           {
            "bin_start": 2016.2,
            "bin_end": 2016.3,
            "count": 0
           },
           {
            "bin_start": 2016.3,
            "bin_end": 2016.4,
            "count": 0
           },
           {
            "bin_start": 2016.4,
            "bin_end": 2016.5,
            "count": 0
           }
          ]
         }
        },
        {
         "name": "cases",
         "dtype": "int64",
         "stats": {
          "unique_count": 5,
          "nan_count": 0,
          "min": "110",
          "max": "388",
          "histogram": [
           {
            "bin_start": 110,
            "bin_end": 137.8,
            "count": 1
           },
           {
            "bin_start": 137.8,
            "bin_end": 165.6,
            "count": 1
           },
           {
            "bin_start": 165.6,
            "bin_end": 193.4,
            "count": 0
           },
           {
            "bin_start": 193.4,
            "bin_end": 221.2,
            "count": 1
           },
           {
            "bin_start": 221.2,
            "bin_end": 249,
            "count": 0
           },
           {
            "bin_start": 249,
            "bin_end": 276.8,
            "count": 0
           },
           {
            "bin_start": 276.8,
            "bin_end": 304.6,
            "count": 0
           },
           {
            "bin_start": 304.6,
            "bin_end": 332.4,
            "count": 0
           },
           {
            "bin_start": 332.4,
            "bin_end": 360.20000000000005,
            "count": 1
           },
           {
            "bin_start": 360.20000000000005,
            "bin_end": 388,
            "count": 1
           }
          ]
         }
        },
        {
         "name": "_deepnote_index_column",
         "dtype": "int64"
        }
       ],
       "rows": [
        {
         "Departamento del hecho DANE": "Antioquia",
         "Año del hecho": 2016,
         "cases": 388,
         "_deepnote_index_column": 4
        },
        {
         "Departamento del hecho DANE": "Bogotá, D.C.",
         "Año del hecho": 2016,
         "cases": 356,
         "_deepnote_index_column": 19
        },
        {
         "Departamento del hecho DANE": "Valle del Cauca",
         "Año del hecho": 2016,
         "cases": 202,
         "_deepnote_index_column": 120
        },
        {
         "Departamento del hecho DANE": "Cundinamarca",
         "Año del hecho": 2016,
         "cases": 157,
         "_deepnote_index_column": 55
        },
        {
         "Departamento del hecho DANE": "Santander",
         "Año del hecho": 2016,
         "cases": 110,
         "_deepnote_index_column": 107
        }
       ]
      },
      "text/plain": "    Departamento del hecho DANE  Año del hecho  cases\n4                     Antioquia           2016    388\n19                 Bogotá, D.C.           2016    356\n120             Valle del Cauca           2016    202\n55                 Cundinamarca           2016    157\n107                   Santander           2016    110",
      "text/html": "<div>\n<style scoped>\n    .dataframe tbody tr th:only-of-type {\n        vertical-align: middle;\n    }\n\n    .dataframe tbody tr th {\n        vertical-align: top;\n    }\n\n    .dataframe thead th {\n        text-align: right;\n    }\n</style>\n<table border=\"1\" class=\"dataframe\">\n  <thead>\n    <tr style=\"text-align: right;\">\n      <th></th>\n      <th>Departamento del hecho DANE</th>\n      <th>Año del hecho</th>\n      <th>cases</th>\n    </tr>\n  </thead>\n  <tbody>\n    <tr>\n      <th>4</th>\n      <td>Antioquia</td>\n      <td>2016</td>\n      <td>388</td>\n    </tr>\n    <tr>\n      <th>19</th>\n      <td>Bogotá, D.C.</td>\n      <td>2016</td>\n      <td>356</td>\n    </tr>\n    <tr>\n      <th>120</th>\n      <td>Valle del Cauca</td>\n      <td>2016</td>\n      <td>202</td>\n    </tr>\n    <tr>\n      <th>55</th>\n      <td>Cundinamarca</td>\n      <td>2016</td>\n      <td>157</td>\n    </tr>\n    <tr>\n      <th>107</th>\n      <td>Santander</td>\n      <td>2016</td>\n      <td>110</td>\n    </tr>\n  </tbody>\n</table>\n</div>"
     },
     "metadata": {}
    }
   ]
  },
  {
   "cell_type": "code",
   "metadata": {
    "cell_id": "00025-0b3f7de0-72cd-4be2-8bf3-63080eb96704",
    "deepnote_to_be_reexecuted": false,
    "source_hash": "18099670",
    "execution_start": 1653623492180,
    "execution_millis": 6,
    "deepnote_cell_type": "code",
    "deepnote_cell_height": 394.890625
   },
   "source": "tasadpto[tasadpto[\"Año del hecho\"]== 2017].sort_values(by = \"cases\", ascending = False).head(5)",
   "execution_count": null,
   "outputs": [
    {
     "output_type": "execute_result",
     "execution_count": 23,
     "data": {
      "application/vnd.deepnote.dataframe.v3+json": {
       "column_count": 3,
       "row_count": 5,
       "columns": [
        {
         "name": "Departamento del hecho DANE",
         "dtype": "object",
         "stats": {
          "unique_count": 5,
          "nan_count": 0,
          "categories": [
           {
            "name": "Antioquia",
            "count": 1
           },
           {
            "name": "Bogotá, D.C.",
            "count": 1
           },
           {
            "name": "3 others",
            "count": 3
           }
          ]
         }
        },
        {
         "name": "Año del hecho",
         "dtype": "int64",
         "stats": {
          "unique_count": 1,
          "nan_count": 0,
          "min": "2017",
          "max": "2017",
          "histogram": [
           {
            "bin_start": 2016.5,
            "bin_end": 2016.6,
            "count": 0
           },
           {
            "bin_start": 2016.6,
            "bin_end": 2016.7,
            "count": 0
           },
           {
            "bin_start": 2016.7,
            "bin_end": 2016.8,
            "count": 0
           },
           {
            "bin_start": 2016.8,
            "bin_end": 2016.9,
            "count": 0
           },
           {
            "bin_start": 2016.9,
            "bin_end": 2017,
            "count": 0
           },
           {
            "bin_start": 2017,
            "bin_end": 2017.1,
            "count": 5
           },
           {
            "bin_start": 2017.1,
            "bin_end": 2017.2,
            "count": 0
           },
           {
            "bin_start": 2017.2,
            "bin_end": 2017.3,
            "count": 0
           },
           {
            "bin_start": 2017.3,
            "bin_end": 2017.4,
            "count": 0
           },
           {
            "bin_start": 2017.4,
            "bin_end": 2017.5,
            "count": 0
           }
          ]
         }
        },
        {
         "name": "cases",
         "dtype": "int64",
         "stats": {
          "unique_count": 5,
          "nan_count": 0,
          "min": "140",
          "max": "401",
          "histogram": [
           {
            "bin_start": 140,
            "bin_end": 166.1,
            "count": 2
           },
           {
            "bin_start": 166.1,
            "bin_end": 192.2,
            "count": 0
           },
           {
            "bin_start": 192.2,
            "bin_end": 218.3,
            "count": 0
           },
           {
            "bin_start": 218.3,
            "bin_end": 244.4,
            "count": 1
           },
           {
            "bin_start": 244.4,
            "bin_end": 270.5,
            "count": 0
           },
           {
            "bin_start": 270.5,
            "bin_end": 296.6,
            "count": 0
           },
           {
            "bin_start": 296.6,
            "bin_end": 322.70000000000005,
            "count": 0
           },
           {
            "bin_start": 322.70000000000005,
            "bin_end": 348.8,
            "count": 1
           },
           {
            "bin_start": 348.8,
            "bin_end": 374.9,
            "count": 0
           },
           {
            "bin_start": 374.9,
            "bin_end": 401,
            "count": 1
           }
          ]
         }
        },
        {
         "name": "_deepnote_index_column",
         "dtype": "int64"
        }
       ],
       "rows": [
        {
         "Departamento del hecho DANE": "Antioquia",
         "Año del hecho": 2017,
         "cases": 401,
         "_deepnote_index_column": 5
        },
        {
         "Departamento del hecho DANE": "Bogotá, D.C.",
         "Año del hecho": 2017,
         "cases": 347,
         "_deepnote_index_column": 20
        },
        {
         "Departamento del hecho DANE": "Valle del Cauca",
         "Año del hecho": 2017,
         "cases": 244,
         "_deepnote_index_column": 121
        },
        {
         "Departamento del hecho DANE": "Cundinamarca",
         "Año del hecho": 2017,
         "cases": 152,
         "_deepnote_index_column": 56
        },
        {
         "Departamento del hecho DANE": "Santander",
         "Año del hecho": 2017,
         "cases": 140,
         "_deepnote_index_column": 108
        }
       ]
      },
      "text/plain": "    Departamento del hecho DANE  Año del hecho  cases\n5                     Antioquia           2017    401\n20                 Bogotá, D.C.           2017    347\n121             Valle del Cauca           2017    244\n56                 Cundinamarca           2017    152\n108                   Santander           2017    140",
      "text/html": "<div>\n<style scoped>\n    .dataframe tbody tr th:only-of-type {\n        vertical-align: middle;\n    }\n\n    .dataframe tbody tr th {\n        vertical-align: top;\n    }\n\n    .dataframe thead th {\n        text-align: right;\n    }\n</style>\n<table border=\"1\" class=\"dataframe\">\n  <thead>\n    <tr style=\"text-align: right;\">\n      <th></th>\n      <th>Departamento del hecho DANE</th>\n      <th>Año del hecho</th>\n      <th>cases</th>\n    </tr>\n  </thead>\n  <tbody>\n    <tr>\n      <th>5</th>\n      <td>Antioquia</td>\n      <td>2017</td>\n      <td>401</td>\n    </tr>\n    <tr>\n      <th>20</th>\n      <td>Bogotá, D.C.</td>\n      <td>2017</td>\n      <td>347</td>\n    </tr>\n    <tr>\n      <th>121</th>\n      <td>Valle del Cauca</td>\n      <td>2017</td>\n      <td>244</td>\n    </tr>\n    <tr>\n      <th>56</th>\n      <td>Cundinamarca</td>\n      <td>2017</td>\n      <td>152</td>\n    </tr>\n    <tr>\n      <th>108</th>\n      <td>Santander</td>\n      <td>2017</td>\n      <td>140</td>\n    </tr>\n  </tbody>\n</table>\n</div>"
     },
     "metadata": {}
    }
   ]
  },
  {
   "cell_type": "code",
   "metadata": {
    "cell_id": "00026-f0cb5b47-ee51-4e50-9c7c-78001a186d55",
    "deepnote_to_be_reexecuted": false,
    "source_hash": "e76ade83",
    "execution_start": 1653623492196,
    "execution_millis": 54,
    "deepnote_cell_type": "code",
    "deepnote_cell_height": 394.890625
   },
   "source": "tasadpto[tasadpto[\"Año del hecho\"]== 2018].sort_values(by = \"cases\", ascending = False).head(5)",
   "execution_count": null,
   "outputs": [
    {
     "output_type": "execute_result",
     "execution_count": 24,
     "data": {
      "application/vnd.deepnote.dataframe.v3+json": {
       "column_count": 3,
       "row_count": 5,
       "columns": [
        {
         "name": "Departamento del hecho DANE",
         "dtype": "object",
         "stats": {
          "unique_count": 5,
          "nan_count": 0,
          "categories": [
           {
            "name": "Antioquia",
            "count": 1
           },
           {
            "name": "Bogotá, D.C.",
            "count": 1
           },
           {
            "name": "3 others",
            "count": 3
           }
          ]
         }
        },
        {
         "name": "Año del hecho",
         "dtype": "int64",
         "stats": {
          "unique_count": 1,
          "nan_count": 0,
          "min": "2018",
          "max": "2018",
          "histogram": [
           {
            "bin_start": 2017.5,
            "bin_end": 2017.6,
            "count": 0
           },
           {
            "bin_start": 2017.6,
            "bin_end": 2017.7,
            "count": 0
           },
           {
            "bin_start": 2017.7,
            "bin_end": 2017.8,
            "count": 0
           },
           {
            "bin_start": 2017.8,
            "bin_end": 2017.9,
            "count": 0
           },
           {
            "bin_start": 2017.9,
            "bin_end": 2018,
            "count": 0
           },
           {
            "bin_start": 2018,
            "bin_end": 2018.1,
            "count": 5
           },
           {
            "bin_start": 2018.1,
            "bin_end": 2018.2,
            "count": 0
           },
           {
            "bin_start": 2018.2,
            "bin_end": 2018.3,
            "count": 0
           },
           {
            "bin_start": 2018.3,
            "bin_end": 2018.4,
            "count": 0
           },
           {
            "bin_start": 2018.4,
            "bin_end": 2018.5,
            "count": 0
           }
          ]
         }
        },
        {
         "name": "cases",
         "dtype": "int64",
         "stats": {
          "unique_count": 5,
          "nan_count": 0,
          "min": "143",
          "max": "416",
          "histogram": [
           {
            "bin_start": 143,
            "bin_end": 170.3,
            "count": 2
           },
           {
            "bin_start": 170.3,
            "bin_end": 197.6,
            "count": 0
           },
           {
            "bin_start": 197.6,
            "bin_end": 224.9,
            "count": 0
           },
           {
            "bin_start": 224.9,
            "bin_end": 252.2,
            "count": 0
           },
           {
            "bin_start": 252.2,
            "bin_end": 279.5,
            "count": 1
           },
           {
            "bin_start": 279.5,
            "bin_end": 306.8,
            "count": 0
           },
           {
            "bin_start": 306.8,
            "bin_end": 334.1,
            "count": 0
           },
           {
            "bin_start": 334.1,
            "bin_end": 361.4,
            "count": 0
           },
           {
            "bin_start": 361.4,
            "bin_end": 388.70000000000005,
            "count": 1
           },
           {
            "bin_start": 388.70000000000005,
            "bin_end": 416,
            "count": 1
           }
          ]
         }
        },
        {
         "name": "_deepnote_index_column",
         "dtype": "int64"
        }
       ],
       "rows": [
        {
         "Departamento del hecho DANE": "Antioquia",
         "Año del hecho": 2018,
         "cases": 416,
         "_deepnote_index_column": 6
        },
        {
         "Departamento del hecho DANE": "Bogotá, D.C.",
         "Año del hecho": 2018,
         "cases": 387,
         "_deepnote_index_column": 21
        },
        {
         "Departamento del hecho DANE": "Valle del Cauca",
         "Año del hecho": 2018,
         "cases": 278,
         "_deepnote_index_column": 122
        },
        {
         "Departamento del hecho DANE": "Cundinamarca",
         "Año del hecho": 2018,
         "cases": 170,
         "_deepnote_index_column": 57
        },
        {
         "Departamento del hecho DANE": "Santander",
         "Año del hecho": 2018,
         "cases": 143,
         "_deepnote_index_column": 109
        }
       ]
      },
      "text/plain": "    Departamento del hecho DANE  Año del hecho  cases\n6                     Antioquia           2018    416\n21                 Bogotá, D.C.           2018    387\n122             Valle del Cauca           2018    278\n57                 Cundinamarca           2018    170\n109                   Santander           2018    143",
      "text/html": "<div>\n<style scoped>\n    .dataframe tbody tr th:only-of-type {\n        vertical-align: middle;\n    }\n\n    .dataframe tbody tr th {\n        vertical-align: top;\n    }\n\n    .dataframe thead th {\n        text-align: right;\n    }\n</style>\n<table border=\"1\" class=\"dataframe\">\n  <thead>\n    <tr style=\"text-align: right;\">\n      <th></th>\n      <th>Departamento del hecho DANE</th>\n      <th>Año del hecho</th>\n      <th>cases</th>\n    </tr>\n  </thead>\n  <tbody>\n    <tr>\n      <th>6</th>\n      <td>Antioquia</td>\n      <td>2018</td>\n      <td>416</td>\n    </tr>\n    <tr>\n      <th>21</th>\n      <td>Bogotá, D.C.</td>\n      <td>2018</td>\n      <td>387</td>\n    </tr>\n    <tr>\n      <th>122</th>\n      <td>Valle del Cauca</td>\n      <td>2018</td>\n      <td>278</td>\n    </tr>\n    <tr>\n      <th>57</th>\n      <td>Cundinamarca</td>\n      <td>2018</td>\n      <td>170</td>\n    </tr>\n    <tr>\n      <th>109</th>\n      <td>Santander</td>\n      <td>2018</td>\n      <td>143</td>\n    </tr>\n  </tbody>\n</table>\n</div>"
     },
     "metadata": {}
    }
   ]
  },
  {
   "cell_type": "code",
   "metadata": {
    "scrolled": false,
    "cell_id": "00027-04c72e2f-f689-4381-953d-539dd631d2a5",
    "deepnote_to_be_reexecuted": false,
    "source_hash": "fe6a178",
    "execution_start": 1653623492382,
    "deepnote_cell_type": "code",
    "deepnote_cell_height": 394.890625
   },
   "source": "tasadpto[tasadpto[\"Año del hecho\"]== 2019].sort_values(by = \"cases\", ascending = False).head(5)",
   "execution_count": null,
   "outputs": [
    {
     "output_type": "execute_result",
     "execution_count": 25,
     "data": {
      "application/vnd.deepnote.dataframe.v3+json": {
       "column_count": 3,
       "row_count": 5,
       "columns": [
        {
         "name": "Departamento del hecho DANE",
         "dtype": "object",
         "stats": {
          "unique_count": 5,
          "nan_count": 0,
          "categories": [
           {
            "name": "Antioquia",
            "count": 1
           },
           {
            "name": "Bogotá, D.C.",
            "count": 1
           },
           {
            "name": "3 others",
            "count": 3
           }
          ]
         }
        },
        {
         "name": "Año del hecho",
         "dtype": "int64",
         "stats": {
          "unique_count": 1,
          "nan_count": 0,
          "min": "2019",
          "max": "2019",
          "histogram": [
           {
            "bin_start": 2018.5,
            "bin_end": 2018.6,
            "count": 0
           },
           {
            "bin_start": 2018.6,
            "bin_end": 2018.7,
            "count": 0
           },
           {
            "bin_start": 2018.7,
            "bin_end": 2018.8,
            "count": 0
           },
           {
            "bin_start": 2018.8,
            "bin_end": 2018.9,
            "count": 0
           },
           {
            "bin_start": 2018.9,
            "bin_end": 2019,
            "count": 0
           },
           {
            "bin_start": 2019,
            "bin_end": 2019.1,
            "count": 5
           },
           {
            "bin_start": 2019.1,
            "bin_end": 2019.2,
            "count": 0
           },
           {
            "bin_start": 2019.2,
            "bin_end": 2019.3,
            "count": 0
           },
           {
            "bin_start": 2019.3,
            "bin_end": 2019.4,
            "count": 0
           },
           {
            "bin_start": 2019.4,
            "bin_end": 2019.5,
            "count": 0
           }
          ]
         }
        },
        {
         "name": "cases",
         "dtype": "int64",
         "stats": {
          "unique_count": 5,
          "nan_count": 0,
          "min": "148",
          "max": "443",
          "histogram": [
           {
            "bin_start": 148,
            "bin_end": 177.5,
            "count": 2
           },
           {
            "bin_start": 177.5,
            "bin_end": 207,
            "count": 0
           },
           {
            "bin_start": 207,
            "bin_end": 236.5,
            "count": 1
           },
           {
            "bin_start": 236.5,
            "bin_end": 266,
            "count": 0
           },
           {
            "bin_start": 266,
            "bin_end": 295.5,
            "count": 0
           },
           {
            "bin_start": 295.5,
            "bin_end": 325,
            "count": 0
           },
           {
            "bin_start": 325,
            "bin_end": 354.5,
            "count": 0
           },
           {
            "bin_start": 354.5,
            "bin_end": 384,
            "count": 0
           },
           {
            "bin_start": 384,
            "bin_end": 413.5,
            "count": 0
           },
           {
            "bin_start": 413.5,
            "bin_end": 443,
            "count": 2
           }
          ]
         }
        },
        {
         "name": "_deepnote_index_column",
         "dtype": "int64"
        }
       ],
       "rows": [
        {
         "Departamento del hecho DANE": "Antioquia",
         "Año del hecho": 2019,
         "cases": 443,
         "_deepnote_index_column": 7
        },
        {
         "Departamento del hecho DANE": "Bogotá, D.C.",
         "Año del hecho": 2019,
         "cases": 414,
         "_deepnote_index_column": 22
        },
        {
         "Departamento del hecho DANE": "Valle del Cauca",
         "Año del hecho": 2019,
         "cases": 207,
         "_deepnote_index_column": 123
        },
        {
         "Departamento del hecho DANE": "Cundinamarca",
         "Año del hecho": 2019,
         "cases": 154,
         "_deepnote_index_column": 58
        },
        {
         "Departamento del hecho DANE": "Santander",
         "Año del hecho": 2019,
         "cases": 148,
         "_deepnote_index_column": 110
        }
       ]
      },
      "text/plain": "    Departamento del hecho DANE  Año del hecho  cases\n7                     Antioquia           2019    443\n22                 Bogotá, D.C.           2019    414\n123             Valle del Cauca           2019    207\n58                 Cundinamarca           2019    154\n110                   Santander           2019    148",
      "text/html": "<div>\n<style scoped>\n    .dataframe tbody tr th:only-of-type {\n        vertical-align: middle;\n    }\n\n    .dataframe tbody tr th {\n        vertical-align: top;\n    }\n\n    .dataframe thead th {\n        text-align: right;\n    }\n</style>\n<table border=\"1\" class=\"dataframe\">\n  <thead>\n    <tr style=\"text-align: right;\">\n      <th></th>\n      <th>Departamento del hecho DANE</th>\n      <th>Año del hecho</th>\n      <th>cases</th>\n    </tr>\n  </thead>\n  <tbody>\n    <tr>\n      <th>7</th>\n      <td>Antioquia</td>\n      <td>2019</td>\n      <td>443</td>\n    </tr>\n    <tr>\n      <th>22</th>\n      <td>Bogotá, D.C.</td>\n      <td>2019</td>\n      <td>414</td>\n    </tr>\n    <tr>\n      <th>123</th>\n      <td>Valle del Cauca</td>\n      <td>2019</td>\n      <td>207</td>\n    </tr>\n    <tr>\n      <th>58</th>\n      <td>Cundinamarca</td>\n      <td>2019</td>\n      <td>154</td>\n    </tr>\n    <tr>\n      <th>110</th>\n      <td>Santander</td>\n      <td>2019</td>\n      <td>148</td>\n    </tr>\n  </tbody>\n</table>\n</div>"
     },
     "metadata": {}
    }
   ]
  },
  {
   "cell_type": "markdown",
   "source": "Los 5 municipios con mayor número de suicidios por año (2016-2019)",
   "metadata": {
    "cell_id": "00028-9a404fcc-1795-492b-98db-38c5ad537f4c",
    "deepnote_cell_type": "markdown",
    "deepnote_cell_height": 52.359375
   }
  },
  {
   "cell_type": "code",
   "metadata": {
    "cell_id": "00029-4c04fd75-ff26-4601-843a-545dda8fb0f8",
    "deepnote_to_be_reexecuted": false,
    "source_hash": "67510b41",
    "execution_start": 1653623492486,
    "deepnote_cell_type": "code",
    "deepnote_cell_height": 394.890625
   },
   "source": "tasamunicipio[tasamunicipio[\"Año del hecho\"]== 2016].sort_values(by = \"cases\", ascending = False).head(5)",
   "execution_count": null,
   "outputs": [
    {
     "output_type": "execute_result",
     "execution_count": 26,
     "data": {
      "application/vnd.deepnote.dataframe.v3+json": {
       "column_count": 3,
       "row_count": 5,
       "columns": [
        {
         "name": "Municipio del hecho DANE",
         "dtype": "object",
         "stats": {
          "unique_count": 5,
          "nan_count": 0,
          "categories": [
           {
            "name": "Bogotá, D.C.",
            "count": 1
           },
           {
            "name": "Medellín",
            "count": 1
           },
           {
            "name": "3 others",
            "count": 3
           }
          ]
         }
        },
        {
         "name": "Año del hecho",
         "dtype": "int64",
         "stats": {
          "unique_count": 1,
          "nan_count": 0,
          "min": "2016",
          "max": "2016",
          "histogram": [
           {
            "bin_start": 2015.5,
            "bin_end": 2015.6,
            "count": 0
           },
           {
            "bin_start": 2015.6,
            "bin_end": 2015.7,
            "count": 0
           },
           {
            "bin_start": 2015.7,
            "bin_end": 2015.8,
            "count": 0
           },
           {
            "bin_start": 2015.8,
            "bin_end": 2015.9,
            "count": 0
           },
           {
            "bin_start": 2015.9,
            "bin_end": 2016,
            "count": 0
           },
           {
            "bin_start": 2016,
            "bin_end": 2016.1,
            "count": 5
           },
           {
            "bin_start": 2016.1,
            "bin_end": 2016.2,
            "count": 0
           },
           {
            "bin_start": 2016.2,
            "bin_end": 2016.3,
            "count": 0
           },
           {
            "bin_start": 2016.3,
            "bin_end": 2016.4,
            "count": 0
           },
           {
            "bin_start": 2016.4,
            "bin_end": 2016.5,
            "count": 0
           }
          ]
         }
        },
        {
         "name": "cases",
         "dtype": "int64",
         "stats": {
          "unique_count": 5,
          "nan_count": 0,
          "min": "46",
          "max": "356",
          "histogram": [
           {
            "bin_start": 46,
            "bin_end": 77,
            "count": 2
           },
           {
            "bin_start": 77,
            "bin_end": 108,
            "count": 1
           },
           {
            "bin_start": 108,
            "bin_end": 139,
            "count": 0
           },
           {
            "bin_start": 139,
            "bin_end": 170,
            "count": 1
           },
           {
            "bin_start": 170,
            "bin_end": 201,
            "count": 0
           },
           {
            "bin_start": 201,
            "bin_end": 232,
            "count": 0
           },
           {
            "bin_start": 232,
            "bin_end": 263,
            "count": 0
           },
           {
            "bin_start": 263,
            "bin_end": 294,
            "count": 0
           },
           {
            "bin_start": 294,
            "bin_end": 325,
            "count": 0
           },
           {
            "bin_start": 325,
            "bin_end": 356,
            "count": 1
           }
          ]
         }
        },
        {
         "name": "_deepnote_index_column",
         "dtype": "int64"
        }
       ],
       "rows": [
        {
         "Municipio del hecho DANE": "Bogotá, D.C.",
         "Año del hecho": 2016,
         "cases": 356,
         "_deepnote_index_column": 194
        },
        {
         "Municipio del hecho DANE": "Medellín",
         "Año del hecho": 2016,
         "cases": 161,
         "_deepnote_index_column": 1028
        },
        {
         "Municipio del hecho DANE": "Cali",
         "Año del hecho": 2016,
         "cases": 82,
         "_deepnote_index_column": 263
        },
        {
         "Municipio del hecho DANE": "Barranquilla",
         "Año del hecho": 2016,
         "cases": 50,
         "_deepnote_index_column": 170
        },
        {
         "Municipio del hecho DANE": "Ibagué",
         "Año del hecho": 2016,
         "cases": 46,
         "_deepnote_index_column": 790
        }
       ]
      },
      "text/plain": "     Municipio del hecho DANE  Año del hecho  cases\n194              Bogotá, D.C.           2016    356\n1028                 Medellín           2016    161\n263                      Cali           2016     82\n170              Barranquilla           2016     50\n790                    Ibagué           2016     46",
      "text/html": "<div>\n<style scoped>\n    .dataframe tbody tr th:only-of-type {\n        vertical-align: middle;\n    }\n\n    .dataframe tbody tr th {\n        vertical-align: top;\n    }\n\n    .dataframe thead th {\n        text-align: right;\n    }\n</style>\n<table border=\"1\" class=\"dataframe\">\n  <thead>\n    <tr style=\"text-align: right;\">\n      <th></th>\n      <th>Municipio del hecho DANE</th>\n      <th>Año del hecho</th>\n      <th>cases</th>\n    </tr>\n  </thead>\n  <tbody>\n    <tr>\n      <th>194</th>\n      <td>Bogotá, D.C.</td>\n      <td>2016</td>\n      <td>356</td>\n    </tr>\n    <tr>\n      <th>1028</th>\n      <td>Medellín</td>\n      <td>2016</td>\n      <td>161</td>\n    </tr>\n    <tr>\n      <th>263</th>\n      <td>Cali</td>\n      <td>2016</td>\n      <td>82</td>\n    </tr>\n    <tr>\n      <th>170</th>\n      <td>Barranquilla</td>\n      <td>2016</td>\n      <td>50</td>\n    </tr>\n    <tr>\n      <th>790</th>\n      <td>Ibagué</td>\n      <td>2016</td>\n      <td>46</td>\n    </tr>\n  </tbody>\n</table>\n</div>"
     },
     "metadata": {}
    }
   ]
  },
  {
   "cell_type": "code",
   "metadata": {
    "cell_id": "00030-b3f6243b-9632-4afa-a30a-308beed22ffe",
    "deepnote_to_be_reexecuted": false,
    "source_hash": "644c17a9",
    "execution_start": 1653623492531,
    "deepnote_cell_type": "code",
    "deepnote_cell_height": 394.890625
   },
   "source": "tasamunicipio[tasamunicipio[\"Año del hecho\"]== 2017].sort_values(by = \"cases\", ascending = False).head(5)",
   "execution_count": null,
   "outputs": [
    {
     "output_type": "execute_result",
     "execution_count": 27,
     "data": {
      "application/vnd.deepnote.dataframe.v3+json": {
       "column_count": 3,
       "row_count": 5,
       "columns": [
        {
         "name": "Municipio del hecho DANE",
         "dtype": "object",
         "stats": {
          "unique_count": 5,
          "nan_count": 0,
          "categories": [
           {
            "name": "Bogotá, D.C.",
            "count": 1
           },
           {
            "name": "Medellín",
            "count": 1
           },
           {
            "name": "3 others",
            "count": 3
           }
          ]
         }
        },
        {
         "name": "Año del hecho",
         "dtype": "int64",
         "stats": {
          "unique_count": 1,
          "nan_count": 0,
          "min": "2017",
          "max": "2017",
          "histogram": [
           {
            "bin_start": 2016.5,
            "bin_end": 2016.6,
            "count": 0
           },
           {
            "bin_start": 2016.6,
            "bin_end": 2016.7,
            "count": 0
           },
           {
            "bin_start": 2016.7,
            "bin_end": 2016.8,
            "count": 0
           },
           {
            "bin_start": 2016.8,
            "bin_end": 2016.9,
            "count": 0
           },
           {
            "bin_start": 2016.9,
            "bin_end": 2017,
            "count": 0
           },
           {
            "bin_start": 2017,
            "bin_end": 2017.1,
            "count": 5
           },
           {
            "bin_start": 2017.1,
            "bin_end": 2017.2,
            "count": 0
           },
           {
            "bin_start": 2017.2,
            "bin_end": 2017.3,
            "count": 0
           },
           {
            "bin_start": 2017.3,
            "bin_end": 2017.4,
            "count": 0
           },
           {
            "bin_start": 2017.4,
            "bin_end": 2017.5,
            "count": 0
           }
          ]
         }
        },
        {
         "name": "cases",
         "dtype": "int64",
         "stats": {
          "unique_count": 5,
          "nan_count": 0,
          "min": "46",
          "max": "347",
          "histogram": [
           {
            "bin_start": 46,
            "bin_end": 76.1,
            "count": 2
           },
           {
            "bin_start": 76.1,
            "bin_end": 106.2,
            "count": 0
           },
           {
            "bin_start": 106.2,
            "bin_end": 136.3,
            "count": 1
           },
           {
            "bin_start": 136.3,
            "bin_end": 166.4,
            "count": 1
           },
           {
            "bin_start": 166.4,
            "bin_end": 196.5,
            "count": 0
           },
           {
            "bin_start": 196.5,
            "bin_end": 226.60000000000002,
            "count": 0
           },
           {
            "bin_start": 226.60000000000002,
            "bin_end": 256.70000000000005,
            "count": 0
           },
           {
            "bin_start": 256.70000000000005,
            "bin_end": 286.8,
            "count": 0
           },
           {
            "bin_start": 286.8,
            "bin_end": 316.90000000000003,
            "count": 0
           },
           {
            "bin_start": 316.90000000000003,
            "bin_end": 347,
            "count": 1
           }
          ]
         }
        },
        {
         "name": "_deepnote_index_column",
         "dtype": "int64"
        }
       ],
       "rows": [
        {
         "Municipio del hecho DANE": "Bogotá, D.C.",
         "Año del hecho": 2017,
         "cases": 347,
         "_deepnote_index_column": 195
        },
        {
         "Municipio del hecho DANE": "Medellín",
         "Año del hecho": 2017,
         "cases": 155,
         "_deepnote_index_column": 1029
        },
        {
         "Municipio del hecho DANE": "Cali",
         "Año del hecho": 2017,
         "cases": 119,
         "_deepnote_index_column": 264
        },
        {
         "Municipio del hecho DANE": "Barranquilla",
         "Año del hecho": 2017,
         "cases": 53,
         "_deepnote_index_column": 171
        },
        {
         "Municipio del hecho DANE": "Cartagena de Indias",
         "Año del hecho": 2017,
         "cases": 46,
         "_deepnote_index_column": 307
        }
       ]
      },
      "text/plain": "     Municipio del hecho DANE  Año del hecho  cases\n195              Bogotá, D.C.           2017    347\n1029                 Medellín           2017    155\n264                      Cali           2017    119\n171              Barranquilla           2017     53\n307       Cartagena de Indias           2017     46",
      "text/html": "<div>\n<style scoped>\n    .dataframe tbody tr th:only-of-type {\n        vertical-align: middle;\n    }\n\n    .dataframe tbody tr th {\n        vertical-align: top;\n    }\n\n    .dataframe thead th {\n        text-align: right;\n    }\n</style>\n<table border=\"1\" class=\"dataframe\">\n  <thead>\n    <tr style=\"text-align: right;\">\n      <th></th>\n      <th>Municipio del hecho DANE</th>\n      <th>Año del hecho</th>\n      <th>cases</th>\n    </tr>\n  </thead>\n  <tbody>\n    <tr>\n      <th>195</th>\n      <td>Bogotá, D.C.</td>\n      <td>2017</td>\n      <td>347</td>\n    </tr>\n    <tr>\n      <th>1029</th>\n      <td>Medellín</td>\n      <td>2017</td>\n      <td>155</td>\n    </tr>\n    <tr>\n      <th>264</th>\n      <td>Cali</td>\n      <td>2017</td>\n      <td>119</td>\n    </tr>\n    <tr>\n      <th>171</th>\n      <td>Barranquilla</td>\n      <td>2017</td>\n      <td>53</td>\n    </tr>\n    <tr>\n      <th>307</th>\n      <td>Cartagena de Indias</td>\n      <td>2017</td>\n      <td>46</td>\n    </tr>\n  </tbody>\n</table>\n</div>"
     },
     "metadata": {}
    }
   ]
  },
  {
   "cell_type": "code",
   "metadata": {
    "cell_id": "00031-42b1de0d-8ac7-4183-ab3b-473d0580ca11",
    "deepnote_to_be_reexecuted": false,
    "source_hash": "d74d2c6",
    "execution_start": 1653623492580,
    "deepnote_cell_type": "code",
    "deepnote_cell_height": 394.890625
   },
   "source": "tasamunicipio[tasamunicipio[\"Año del hecho\"]== 2018].sort_values(by = \"cases\", ascending = False).head(5)",
   "execution_count": null,
   "outputs": [
    {
     "output_type": "execute_result",
     "execution_count": 28,
     "data": {
      "application/vnd.deepnote.dataframe.v3+json": {
       "column_count": 3,
       "row_count": 5,
       "columns": [
        {
         "name": "Municipio del hecho DANE",
         "dtype": "object",
         "stats": {
          "unique_count": 5,
          "nan_count": 0,
          "categories": [
           {
            "name": "Bogotá, D.C.",
            "count": 1
           },
           {
            "name": "Medellín",
            "count": 1
           },
           {
            "name": "3 others",
            "count": 3
           }
          ]
         }
        },
        {
         "name": "Año del hecho",
         "dtype": "int64",
         "stats": {
          "unique_count": 1,
          "nan_count": 0,
          "min": "2018",
          "max": "2018",
          "histogram": [
           {
            "bin_start": 2017.5,
            "bin_end": 2017.6,
            "count": 0
           },
           {
            "bin_start": 2017.6,
            "bin_end": 2017.7,
            "count": 0
           },
           {
            "bin_start": 2017.7,
            "bin_end": 2017.8,
            "count": 0
           },
           {
            "bin_start": 2017.8,
            "bin_end": 2017.9,
            "count": 0
           },
           {
            "bin_start": 2017.9,
            "bin_end": 2018,
            "count": 0
           },
           {
            "bin_start": 2018,
            "bin_end": 2018.1,
            "count": 5
           },
           {
            "bin_start": 2018.1,
            "bin_end": 2018.2,
            "count": 0
           },
           {
            "bin_start": 2018.2,
            "bin_end": 2018.3,
            "count": 0
           },
           {
            "bin_start": 2018.3,
            "bin_end": 2018.4,
            "count": 0
           },
           {
            "bin_start": 2018.4,
            "bin_end": 2018.5,
            "count": 0
           }
          ]
         }
        },
        {
         "name": "cases",
         "dtype": "int64",
         "stats": {
          "unique_count": 5,
          "nan_count": 0,
          "min": "44",
          "max": "387",
          "histogram": [
           {
            "bin_start": 44,
            "bin_end": 78.3,
            "count": 2
           },
           {
            "bin_start": 78.3,
            "bin_end": 112.6,
            "count": 0
           },
           {
            "bin_start": 112.6,
            "bin_end": 146.89999999999998,
            "count": 1
           },
           {
            "bin_start": 146.89999999999998,
            "bin_end": 181.2,
            "count": 1
           },
           {
            "bin_start": 181.2,
            "bin_end": 215.5,
            "count": 0
           },
           {
            "bin_start": 215.5,
            "bin_end": 249.79999999999998,
            "count": 0
           },
           {
            "bin_start": 249.79999999999998,
            "bin_end": 284.09999999999997,
            "count": 0
           },
           {
            "bin_start": 284.09999999999997,
            "bin_end": 318.4,
            "count": 0
           },
           {
            "bin_start": 318.4,
            "bin_end": 352.7,
            "count": 0
           },
           {
            "bin_start": 352.7,
            "bin_end": 387,
            "count": 1
           }
          ]
         }
        },
        {
         "name": "_deepnote_index_column",
         "dtype": "int64"
        }
       ],
       "rows": [
        {
         "Municipio del hecho DANE": "Bogotá, D.C.",
         "Año del hecho": 2018,
         "cases": 387,
         "_deepnote_index_column": 196
        },
        {
         "Municipio del hecho DANE": "Medellín",
         "Año del hecho": 2018,
         "cases": 172,
         "_deepnote_index_column": 1030
        },
        {
         "Municipio del hecho DANE": "Cali",
         "Año del hecho": 2018,
         "cases": 119,
         "_deepnote_index_column": 265
        },
        {
         "Municipio del hecho DANE": "Barranquilla",
         "Año del hecho": 2018,
         "cases": 64,
         "_deepnote_index_column": 172
        },
        {
         "Municipio del hecho DANE": "Pasto",
         "Año del hecho": 2018,
         "cases": 44,
         "_deepnote_index_column": 1221
        }
       ]
      },
      "text/plain": "     Municipio del hecho DANE  Año del hecho  cases\n196              Bogotá, D.C.           2018    387\n1030                 Medellín           2018    172\n265                      Cali           2018    119\n172              Barranquilla           2018     64\n1221                    Pasto           2018     44",
      "text/html": "<div>\n<style scoped>\n    .dataframe tbody tr th:only-of-type {\n        vertical-align: middle;\n    }\n\n    .dataframe tbody tr th {\n        vertical-align: top;\n    }\n\n    .dataframe thead th {\n        text-align: right;\n    }\n</style>\n<table border=\"1\" class=\"dataframe\">\n  <thead>\n    <tr style=\"text-align: right;\">\n      <th></th>\n      <th>Municipio del hecho DANE</th>\n      <th>Año del hecho</th>\n      <th>cases</th>\n    </tr>\n  </thead>\n  <tbody>\n    <tr>\n      <th>196</th>\n      <td>Bogotá, D.C.</td>\n      <td>2018</td>\n      <td>387</td>\n    </tr>\n    <tr>\n      <th>1030</th>\n      <td>Medellín</td>\n      <td>2018</td>\n      <td>172</td>\n    </tr>\n    <tr>\n      <th>265</th>\n      <td>Cali</td>\n      <td>2018</td>\n      <td>119</td>\n    </tr>\n    <tr>\n      <th>172</th>\n      <td>Barranquilla</td>\n      <td>2018</td>\n      <td>64</td>\n    </tr>\n    <tr>\n      <th>1221</th>\n      <td>Pasto</td>\n      <td>2018</td>\n      <td>44</td>\n    </tr>\n  </tbody>\n</table>\n</div>"
     },
     "metadata": {}
    }
   ]
  },
  {
   "cell_type": "code",
   "metadata": {
    "cell_id": "00032-764d7e9e-643b-46a0-a2f1-17f8a0f9876f",
    "deepnote_to_be_reexecuted": false,
    "source_hash": "287150ef",
    "execution_start": 1653623492581,
    "execution_millis": 54,
    "deepnote_cell_type": "code",
    "deepnote_cell_height": 394.890625
   },
   "source": "tasamunicipio[tasamunicipio[\"Año del hecho\"]== 2019].sort_values(by = \"cases\", ascending = False).head(5)",
   "execution_count": null,
   "outputs": [
    {
     "output_type": "execute_result",
     "execution_count": 29,
     "data": {
      "application/vnd.deepnote.dataframe.v3+json": {
       "column_count": 3,
       "row_count": 5,
       "columns": [
        {
         "name": "Municipio del hecho DANE",
         "dtype": "object",
         "stats": {
          "unique_count": 5,
          "nan_count": 0,
          "categories": [
           {
            "name": "Bogotá, D.C.",
            "count": 1
           },
           {
            "name": "Medellín",
            "count": 1
           },
           {
            "name": "3 others",
            "count": 3
           }
          ]
         }
        },
        {
         "name": "Año del hecho",
         "dtype": "int64",
         "stats": {
          "unique_count": 1,
          "nan_count": 0,
          "min": "2019",
          "max": "2019",
          "histogram": [
           {
            "bin_start": 2018.5,
            "bin_end": 2018.6,
            "count": 0
           },
           {
            "bin_start": 2018.6,
            "bin_end": 2018.7,
            "count": 0
           },
           {
            "bin_start": 2018.7,
            "bin_end": 2018.8,
            "count": 0
           },
           {
            "bin_start": 2018.8,
            "bin_end": 2018.9,
            "count": 0
           },
           {
            "bin_start": 2018.9,
            "bin_end": 2019,
            "count": 0
           },
           {
            "bin_start": 2019,
            "bin_end": 2019.1,
            "count": 5
           },
           {
            "bin_start": 2019.1,
            "bin_end": 2019.2,
            "count": 0
           },
           {
            "bin_start": 2019.2,
            "bin_end": 2019.3,
            "count": 0
           },
           {
            "bin_start": 2019.3,
            "bin_end": 2019.4,
            "count": 0
           },
           {
            "bin_start": 2019.4,
            "bin_end": 2019.5,
            "count": 0
           }
          ]
         }
        },
        {
         "name": "cases",
         "dtype": "int64",
         "stats": {
          "unique_count": 5,
          "nan_count": 0,
          "min": "47",
          "max": "414",
          "histogram": [
           {
            "bin_start": 47,
            "bin_end": 83.7,
            "count": 2
           },
           {
            "bin_start": 83.7,
            "bin_end": 120.4,
            "count": 1
           },
           {
            "bin_start": 120.4,
            "bin_end": 157.10000000000002,
            "count": 0
           },
           {
            "bin_start": 157.10000000000002,
            "bin_end": 193.8,
            "count": 1
           },
           {
            "bin_start": 193.8,
            "bin_end": 230.5,
            "count": 0
           },
           {
            "bin_start": 230.5,
            "bin_end": 267.20000000000005,
            "count": 0
           },
           {
            "bin_start": 267.20000000000005,
            "bin_end": 303.90000000000003,
            "count": 0
           },
           {
            "bin_start": 303.90000000000003,
            "bin_end": 340.6,
            "count": 0
           },
           {
            "bin_start": 340.6,
            "bin_end": 377.3,
            "count": 0
           },
           {
            "bin_start": 377.3,
            "bin_end": 414,
            "count": 1
           }
          ]
         }
        },
        {
         "name": "_deepnote_index_column",
         "dtype": "int64"
        }
       ],
       "rows": [
        {
         "Municipio del hecho DANE": "Bogotá, D.C.",
         "Año del hecho": 2019,
         "cases": 414,
         "_deepnote_index_column": 197
        },
        {
         "Municipio del hecho DANE": "Medellín",
         "Año del hecho": 2019,
         "cases": 190,
         "_deepnote_index_column": 1031
        },
        {
         "Municipio del hecho DANE": "Cali",
         "Año del hecho": 2019,
         "cases": 87,
         "_deepnote_index_column": 266
        },
        {
         "Municipio del hecho DANE": "Ibagué",
         "Año del hecho": 2019,
         "cases": 50,
         "_deepnote_index_column": 793
        },
        {
         "Municipio del hecho DANE": "Pereira",
         "Año del hecho": 2019,
         "cases": 47,
         "_deepnote_index_column": 1241
        }
       ]
      },
      "text/plain": "     Municipio del hecho DANE  Año del hecho  cases\n197              Bogotá, D.C.           2019    414\n1031                 Medellín           2019    190\n266                      Cali           2019     87\n793                    Ibagué           2019     50\n1241                  Pereira           2019     47",
      "text/html": "<div>\n<style scoped>\n    .dataframe tbody tr th:only-of-type {\n        vertical-align: middle;\n    }\n\n    .dataframe tbody tr th {\n        vertical-align: top;\n    }\n\n    .dataframe thead th {\n        text-align: right;\n    }\n</style>\n<table border=\"1\" class=\"dataframe\">\n  <thead>\n    <tr style=\"text-align: right;\">\n      <th></th>\n      <th>Municipio del hecho DANE</th>\n      <th>Año del hecho</th>\n      <th>cases</th>\n    </tr>\n  </thead>\n  <tbody>\n    <tr>\n      <th>197</th>\n      <td>Bogotá, D.C.</td>\n      <td>2019</td>\n      <td>414</td>\n    </tr>\n    <tr>\n      <th>1031</th>\n      <td>Medellín</td>\n      <td>2019</td>\n      <td>190</td>\n    </tr>\n    <tr>\n      <th>266</th>\n      <td>Cali</td>\n      <td>2019</td>\n      <td>87</td>\n    </tr>\n    <tr>\n      <th>793</th>\n      <td>Ibagué</td>\n      <td>2019</td>\n      <td>50</td>\n    </tr>\n    <tr>\n      <th>1241</th>\n      <td>Pereira</td>\n      <td>2019</td>\n      <td>47</td>\n    </tr>\n  </tbody>\n</table>\n</div>"
     },
     "metadata": {}
    }
   ]
  },
  {
   "cell_type": "markdown",
   "source": "<a style='text-decoration:none;line-height:16px;display:flex;color:#5B5B62;padding:10px;justify-content:end;' href='https://deepnote.com?utm_source=created-in-deepnote-cell&projectId=70a6331b-3e37-4c4d-8041-2d29d0ba96c1' target=\"_blank\">\n<img alt='Created in deepnote.com' style='display:inline;max-height:16px;margin:0px;margin-right:7.5px;' src='data:image/svg+xml;base64,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' > </img>\nCreated in <span style='font-weight:600;margin-left:4px;'>Deepnote</span></a>",
   "metadata": {
    "tags": [],
    "created_in_deepnote_cell": true,
    "deepnote_cell_type": "markdown"
   }
  }
 ],
 "nbformat": 4,
 "nbformat_minor": 5,
 "metadata": {
  "kernelspec": {
   "display_name": "Python 3 (ipykernel)",
   "language": "python",
   "name": "python3"
  },
  "language_info": {
   "codemirror_mode": {
    "name": "ipython",
    "version": 3
   },
   "file_extension": ".py",
   "mimetype": "text/x-python",
   "name": "python",
   "nbconvert_exporter": "python",
   "pygments_lexer": "ipython3",
   "version": "3.7.11"
  },
  "deepnote_notebook_id": "e5ffbfe8-65d8-4061-a0d1-8859b33bcd44",
  "deepnote": {},
  "deepnote_execution_queue": []
 }
}