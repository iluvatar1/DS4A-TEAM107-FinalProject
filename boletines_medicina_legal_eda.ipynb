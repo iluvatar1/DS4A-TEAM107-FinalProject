{
 "cells": [
  {
   "cell_type": "markdown",
   "source": "# ",
   "metadata": {
    "cell_id": "08abdd1680424dc192e327b3590c4378",
    "tags": [],
    "deepnote_cell_type": "markdown",
    "deepnote_cell_height": 46
   }
  },
  {
   "cell_type": "markdown",
   "source": "# EDA Boletines Estadisticos Mensuales Medicina Legal\n\nEn este notebook realizamos un análisis exploratorio de datos preliminar con datos exraidos y procesados a partir de los boletines mensuales disponibles en la [página web de Medicina Legal](https://www.medicinalegal.gov.co/cifras-estadisticas/boletines-estadisticos-mensuales).\n\nLos datos en cuestión corresponden a:\n- Muertes Violentas\n- Lesiones no Fatales\n- Violencia Intrafamiliar\n\nAgregados de tres maneras diferentes\n- Por sexo\n- Por grupo de edad\n- Por capitales departamentales",
   "metadata": {
    "cell_id": "d859ea57caf249aaa835ed7415800649",
    "tags": [],
    "deepnote_cell_type": "markdown",
    "deepnote_cell_height": 456
   }
  },
  {
   "cell_type": "code",
   "metadata": {
    "tags": [],
    "cell_id": "45971e4c-4815-4938-aa45-68755bb6bc9e",
    "deepnote_to_be_reexecuted": false,
    "source_hash": "af86b07f",
    "execution_start": 1654212265399,
    "execution_millis": 4191,
    "deepnote_cell_type": "code",
    "deepnote_cell_height": 171
   },
   "source": "import pathlib\nimport pandas as pd\nimport matplotlib.pyplot as plt\n\n\nsource_dir = pathlib.Path.cwd() / \"INPUTDATA\" / \"CSV\"",
   "execution_count": null,
   "outputs": []
  },
  {
   "cell_type": "markdown",
   "source": "## Muertes Violentas",
   "metadata": {
    "cell_id": "b2f496dfd44941a0a17d73d078614771",
    "tags": [],
    "deepnote_cell_type": "markdown",
    "deepnote_cell_height": 70
   }
  },
  {
   "cell_type": "markdown",
   "source": "### Por Sexo",
   "metadata": {
    "cell_id": "3bd68fbe94bf4d18a2a19670549ae45f",
    "tags": [],
    "deepnote_cell_type": "markdown",
    "deepnote_cell_height": 62
   }
  },
  {
   "cell_type": "code",
   "metadata": {
    "cell_id": "b844ae4a20074f24a697133afe01e782",
    "tags": [],
    "deepnote_to_be_reexecuted": false,
    "source_hash": "814c0eb3",
    "execution_start": 1654212269622,
    "execution_millis": 232,
    "deepnote_cell_type": "code",
    "deepnote_cell_height": 668.390625
   },
   "source": "filepath = source_dir / \"muertes_violentas_segun_sexo.csv\"\n\ndf = pd.read_csv(filepath, index_col=0, header=[0,1])\ndf",
   "execution_count": null,
   "outputs": [
    {
     "output_type": "execute_result",
     "execution_count": 2,
     "data": {
      "application/vnd.deepnote.dataframe.v3+json": {
       "column_count": 8,
       "row_count": 52,
       "columns": [
        {
         "name": "Hombre Homicidio",
         "dtype": "float64",
         "stats": {
          "unique_count": 49,
          "nan_count": 0,
          "min": "580.0",
          "max": "1155.0",
          "histogram": [
           {
            "bin_start": 580,
            "bin_end": 637.5,
            "count": 1
           },
           {
            "bin_start": 637.5,
            "bin_end": 695,
            "count": 0
           },
           {
            "bin_start": 695,
            "bin_end": 752.5,
            "count": 2
           },
           {
            "bin_start": 752.5,
            "bin_end": 810,
            "count": 9
           },
           {
            "bin_start": 810,
            "bin_end": 867.5,
            "count": 6
           },
           {
            "bin_start": 867.5,
            "bin_end": 925,
            "count": 14
           },
           {
            "bin_start": 925,
            "bin_end": 982.5,
            "count": 9
           },
           {
            "bin_start": 982.5,
            "bin_end": 1040,
            "count": 3
           },
           {
            "bin_start": 1040,
            "bin_end": 1097.5,
            "count": 6
           },
           {
            "bin_start": 1097.5,
            "bin_end": 1155,
            "count": 2
           }
          ]
         }
        },
        {
         "name": "Hombre Accidente de transporte",
         "dtype": "float64",
         "stats": {
          "unique_count": 49,
          "nan_count": 0,
          "min": "170.0",
          "max": "601.0",
          "histogram": [
           {
            "bin_start": 170,
            "bin_end": 213.1,
            "count": 1
           },
           {
            "bin_start": 213.1,
            "bin_end": 256.2,
            "count": 0
           },
           {
            "bin_start": 256.2,
            "bin_end": 299.3,
            "count": 2
           },
           {
            "bin_start": 299.3,
            "bin_end": 342.4,
            "count": 2
           },
           {
            "bin_start": 342.4,
            "bin_end": 385.5,
            "count": 5
           },
           {
            "bin_start": 385.5,
            "bin_end": 428.6,
            "count": 8
           },
           {
            "bin_start": 428.6,
            "bin_end": 471.7,
            "count": 13
           },
           {
            "bin_start": 471.7,
            "bin_end": 514.8,
            "count": 10
           },
           {
            "bin_start": 514.8,
            "bin_end": 557.9000000000001,
            "count": 8
           },
           {
            "bin_start": 557.9000000000001,
            "bin_end": 601,
            "count": 3
           }
          ]
         }
        },
        {
         "name": "Hombre Accidental",
         "dtype": "float64",
         "stats": {
          "unique_count": 40,
          "nan_count": 0,
          "min": "144.0",
          "max": "258.0",
          "histogram": [
           {
            "bin_start": 144,
            "bin_end": 155.4,
            "count": 3
           },
           {
            "bin_start": 155.4,
            "bin_end": 166.8,
            "count": 3
           },
           {
            "bin_start": 166.8,
            "bin_end": 178.2,
            "count": 2
           },
           {
            "bin_start": 178.2,
            "bin_end": 189.6,
            "count": 9
           },
           {
            "bin_start": 189.6,
            "bin_end": 201,
            "count": 10
           },
           {
            "bin_start": 201,
            "bin_end": 212.4,
            "count": 9
           },
           {
            "bin_start": 212.4,
            "bin_end": 223.8,
            "count": 6
           },
           {
            "bin_start": 223.8,
            "bin_end": 235.2,
            "count": 7
           },
           {
            "bin_start": 235.2,
            "bin_end": 246.60000000000002,
            "count": 0
           },
           {
            "bin_start": 246.60000000000002,
            "bin_end": 258,
            "count": 3
           }
          ]
         }
        },
        {
         "name": "Hombre Suicidio",
         "dtype": "float64",
         "stats": {
          "unique_count": 34,
          "nan_count": 0,
          "min": "123.0",
          "max": "198.0",
          "histogram": [
           {
            "bin_start": 123,
            "bin_end": 130.5,
            "count": 2
           },
           {
            "bin_start": 130.5,
            "bin_end": 138,
            "count": 0
           },
           {
            "bin_start": 138,
            "bin_end": 145.5,
            "count": 4
           },
           {
            "bin_start": 145.5,
            "bin_end": 153,
            "count": 2
           },
           {
            "bin_start": 153,
            "bin_end": 160.5,
            "count": 7
           },
           {
            "bin_start": 160.5,
            "bin_end": 168,
            "count": 8
           },
           {
            "bin_start": 168,
            "bin_end": 175.5,
            "count": 11
           },
           {
            "bin_start": 175.5,
            "bin_end": 183,
            "count": 7
           },
           {
            "bin_start": 183,
            "bin_end": 190.5,
            "count": 7
           },
           {
            "bin_start": 190.5,
            "bin_end": 198,
            "count": 4
           }
          ]
         }
        },
        {
         "name": "Mujer Homicidio",
         "dtype": "float64",
         "stats": {
          "unique_count": 34,
          "nan_count": 0,
          "min": "51.0",
          "max": "107.0",
          "histogram": [
           {
            "bin_start": 51,
            "bin_end": 56.6,
            "count": 2
           },
           {
            "bin_start": 56.6,
            "bin_end": 62.2,
            "count": 1
           },
           {
            "bin_start": 62.2,
            "bin_end": 67.8,
            "count": 4
           },
           {
            "bin_start": 67.8,
            "bin_end": 73.4,
            "count": 9
           },
           {
            "bin_start": 73.4,
            "bin_end": 79,
            "count": 11
           },
           {
            "bin_start": 79,
            "bin_end": 84.6,
            "count": 10
           },
           {
            "bin_start": 84.6,
            "bin_end": 90.19999999999999,
            "count": 4
           },
           {
            "bin_start": 90.19999999999999,
            "bin_end": 95.8,
            "count": 5
           },
           {
            "bin_start": 95.8,
            "bin_end": 101.4,
            "count": 3
           },
           {
            "bin_start": 101.4,
            "bin_end": 107,
            "count": 3
           }
          ]
         }
        },
        {
         "name": "Mujer Accidente de transporte",
         "dtype": "float64",
         "stats": {
          "unique_count": 40,
          "nan_count": 0,
          "min": "36.0",
          "max": "157.0",
          "histogram": [
           {
            "bin_start": 36,
            "bin_end": 48.1,
            "count": 2
           },
           {
            "bin_start": 48.1,
            "bin_end": 60.2,
            "count": 1
           },
           {
            "bin_start": 60.2,
            "bin_end": 72.3,
            "count": 4
           },
           {
            "bin_start": 72.3,
            "bin_end": 84.4,
            "count": 4
           },
           {
            "bin_start": 84.4,
            "bin_end": 96.5,
            "count": 9
           },
           {
            "bin_start": 96.5,
            "bin_end": 108.6,
            "count": 15
           },
           {
            "bin_start": 108.6,
            "bin_end": 120.7,
            "count": 7
           },
           {
            "bin_start": 120.7,
            "bin_end": 132.8,
            "count": 7
           },
           {
            "bin_start": 132.8,
            "bin_end": 144.89999999999998,
            "count": 2
           },
           {
            "bin_start": 144.89999999999998,
            "bin_end": 157,
            "count": 1
           }
          ]
         }
        },
        {
         "name": "Mujer Accidental",
         "dtype": "float64",
         "stats": {
          "unique_count": 27,
          "nan_count": 0,
          "min": "20.0",
          "max": "69.0",
          "histogram": [
           {
            "bin_start": 20,
            "bin_end": 24.9,
            "count": 1
           },
           {
            "bin_start": 24.9,
            "bin_end": 29.8,
            "count": 4
           },
           {
            "bin_start": 29.8,
            "bin_end": 34.7,
            "count": 3
           },
           {
            "bin_start": 34.7,
            "bin_end": 39.6,
            "count": 7
           },
           {
            "bin_start": 39.6,
            "bin_end": 44.5,
            "count": 14
           },
           {
            "bin_start": 44.5,
            "bin_end": 49.400000000000006,
            "count": 12
           },
           {
            "bin_start": 49.400000000000006,
            "bin_end": 54.300000000000004,
            "count": 4
           },
           {
            "bin_start": 54.300000000000004,
            "bin_end": 59.2,
            "count": 5
           },
           {
            "bin_start": 59.2,
            "bin_end": 64.1,
            "count": 0
           },
           {
            "bin_start": 64.1,
            "bin_end": 69,
            "count": 2
           }
          ]
         }
        },
        {
         "name": "Mujer Suicidio",
         "dtype": "float64",
         "stats": {
          "unique_count": 23,
          "nan_count": 0,
          "min": "29.0",
          "max": "53.0",
          "histogram": [
           {
            "bin_start": 29,
            "bin_end": 31.4,
            "count": 7
           },
           {
            "bin_start": 31.4,
            "bin_end": 33.8,
            "count": 3
           },
           {
            "bin_start": 33.8,
            "bin_end": 36.2,
            "count": 6
           },
           {
            "bin_start": 36.2,
            "bin_end": 38.6,
            "count": 6
           },
           {
            "bin_start": 38.6,
            "bin_end": 41,
            "count": 8
           },
           {
            "bin_start": 41,
            "bin_end": 43.4,
            "count": 8
           },
           {
            "bin_start": 43.4,
            "bin_end": 45.8,
            "count": 3
           },
           {
            "bin_start": 45.8,
            "bin_end": 48.2,
            "count": 6
           },
           {
            "bin_start": 48.2,
            "bin_end": 50.599999999999994,
            "count": 2
           },
           {
            "bin_start": 50.599999999999994,
            "bin_end": 53,
            "count": 3
           }
          ]
         }
        },
        {
         "name": "_deepnote_index_column",
         "dtype": "object"
        }
       ],
       "rows": [
        {
         "Hombre Homicidio": 785,
         "Hombre Accidente de transporte": 374,
         "Hombre Accidental": 166,
         "Hombre Suicidio": 143,
         "Mujer Homicidio": 76,
         "Mujer Accidente de transporte": 92,
         "Mujer Accidental": 33,
         "Mujer Suicidio": 31,
         "_deepnote_index_column": "2018-01"
        },
        {
         "Hombre Homicidio": 791,
         "Hombre Accidente de transporte": 452,
         "Hombre Accidental": 189,
         "Hombre Suicidio": 151,
         "Mujer Homicidio": 73,
         "Mujer Accidente de transporte": 102,
         "Mujer Accidental": 41,
         "Mujer Suicidio": 29,
         "_deepnote_index_column": "2018-02"
        },
        {
         "Hombre Homicidio": 890,
         "Hombre Accidente de transporte": 423,
         "Hombre Accidental": 206,
         "Hombre Suicidio": 171,
         "Mujer Homicidio": 81,
         "Mujer Accidente de transporte": 104,
         "Mujer Accidental": 39,
         "Mujer Suicidio": 34,
         "_deepnote_index_column": "2018-03"
        },
        {
         "Hombre Homicidio": 909,
         "Hombre Accidente de transporte": 408,
         "Hombre Accidental": 192,
         "Hombre Suicidio": 176,
         "Mujer Homicidio": 88,
         "Mujer Accidente de transporte": 81,
         "Mujer Accidental": 27,
         "Mujer Suicidio": 33,
         "_deepnote_index_column": "2018-04"
        },
        {
         "Hombre Homicidio": 893,
         "Hombre Accidente de transporte": 433,
         "Hombre Accidental": 189,
         "Hombre Suicidio": 172,
         "Mujer Homicidio": 78,
         "Mujer Accidente de transporte": 99,
         "Mujer Accidental": 53,
         "Mujer Suicidio": 40,
         "_deepnote_index_column": "2018-05"
        },
        {
         "Hombre Homicidio": 781,
         "Hombre Accidente de transporte": 441,
         "Hombre Accidental": 173,
         "Hombre Suicidio": 161,
         "Mujer Homicidio": 84,
         "Mujer Accidente de transporte": 102,
         "Mujer Accidental": 55,
         "Mujer Suicidio": 42,
         "_deepnote_index_column": "2018-06"
        },
        {
         "Hombre Homicidio": 888,
         "Hombre Accidente de transporte": 480,
         "Hombre Accidental": 213,
         "Hombre Suicidio": 182,
         "Mujer Homicidio": 84,
         "Mujer Accidente de transporte": 113,
         "Mujer Accidental": 29,
         "Mujer Suicidio": 31,
         "_deepnote_index_column": "2018-07"
        },
        {
         "Hombre Homicidio": 891,
         "Hombre Accidente de transporte": 432,
         "Hombre Accidental": 217,
         "Hombre Suicidio": 165,
         "Mujer Homicidio": 81,
         "Mujer Accidente de transporte": 113,
         "Mujer Accidental": 46,
         "Mujer Suicidio": 49,
         "_deepnote_index_column": "2018-08"
        },
        {
         "Hombre Homicidio": 883,
         "Hombre Accidente de transporte": 449,
         "Hombre Accidental": 190,
         "Hombre Suicidio": 176,
         "Mujer Homicidio": 77,
         "Mujer Accidente de transporte": 99,
         "Mujer Accidental": 50,
         "Mujer Suicidio": 31,
         "_deepnote_index_column": "2018-09"
        },
        {
         "Hombre Homicidio": 853,
         "Hombre Accidente de transporte": 424,
         "Hombre Accidental": 215,
         "Hombre Suicidio": 182,
         "Mujer Homicidio": 74,
         "Mujer Accidente de transporte": 130,
         "Mujer Accidental": 55,
         "Mujer Suicidio": 40,
         "_deepnote_index_column": "2018-10"
        }
       ]
      },
      "text/plain": "           Hombre                                                 Mujer  \\\n        Homicidio Accidente de transporte Accidental Suicidio Homicidio   \n2018-01     785.0                   374.0      166.0    143.0      76.0   \n2018-02     791.0                   452.0      189.0    151.0      73.0   \n2018-03     890.0                   423.0      206.0    171.0      81.0   \n2018-04     909.0                   408.0      192.0    176.0      88.0   \n2018-05     893.0                   433.0      189.0    172.0      78.0   \n2018-06     781.0                   441.0      173.0    161.0      84.0   \n2018-07     888.0                   480.0      213.0    182.0      84.0   \n2018-08     891.0                   432.0      217.0    165.0      81.0   \n2018-09     883.0                   449.0      190.0    176.0      77.0   \n2018-10     853.0                   424.0      215.0    182.0      74.0   \n2018-11     794.0                   404.0      194.0    166.0      75.0   \n2018-12     979.0                   523.0      209.0    181.0      89.0   \n2019-01     803.0                   319.0      184.0    154.0      63.0   \n2019-02     762.0                   392.0      144.0    123.0      72.0   \n2019-03     942.0                   417.0      227.0    183.0      82.0   \n2019-04     837.0                   428.0      195.0    154.0      76.0   \n2019-05     926.0                   455.0      187.0    190.0      95.0   \n2019-06     855.0                   492.0      211.0    175.0      70.0   \n2019-07     876.0                   471.0      190.0    174.0      72.0   \n2019-08     964.0                   479.0      204.0    173.0     107.0   \n2019-09     912.0                   461.0      195.0    191.0      94.0   \n2019-10     815.0                   488.0      209.0    157.0      68.0   \n2019-11     901.0                   479.0      179.0    172.0      71.0   \n2019-12    1058.0                   587.0      200.0    186.0     106.0   \n2020-01     749.0                   377.0      194.0    145.0      71.0   \n2020-02     771.0                   440.0      179.0    168.0      77.0   \n2020-03     725.0                   365.0      166.0    159.0      62.0   \n2020-04     580.0                   170.0      164.0    125.0      51.0   \n2020-05     780.0                   260.0      152.0    145.0      54.0   \n2020-06     843.0                   265.0      153.0    176.0      71.0   \n2020-07     870.0                   333.0      224.0    154.0      67.0   \n2020-08     942.0                   363.0      197.0    164.0      74.0   \n2020-09     985.0                   440.0      185.0    155.0     103.0   \n2020-10     982.0                   477.0      198.0    166.0      79.0   \n2020-11     901.0                   482.0      210.0    175.0      75.0   \n2020-12    1020.0                   601.0      210.0    189.0      81.0   \n2021-01     799.0                   378.0      178.0    145.0      63.0   \n2021-02     851.0                   496.0      183.0    173.0      65.0   \n2021-03     925.0                   509.0      233.0    184.0      80.0   \n2021-04     893.0                   467.0      221.0    194.0      72.0   \n2021-05    1155.0                   413.0      182.0    160.0      83.0   \n2021-06    1137.0                   550.0      232.0    167.0      96.0   \n2021-07    1090.0                   531.0      232.0    190.0      76.0   \n2021-08    1085.0                   547.0      222.0    161.0      95.0   \n2021-09    1019.0                   527.0      209.0    163.0      87.0   \n2021-10    1089.0                   511.0      230.0    191.0      80.0   \n2021-11     923.0                   532.0      231.0    175.0      96.0   \n2021-12    1084.0                   572.0      250.0    198.0      85.0   \n2022-01     911.0                   456.0      213.0    147.0      97.0   \n2022-02     938.0                   470.0      204.0    173.0      91.0   \n2022-03     977.0                   552.0      258.0    189.0      76.0   \n2022-04    1041.0                   552.0      254.0    181.0      91.0   \n\n                                                     \n        Accidente de transporte Accidental Suicidio  \n2018-01                    92.0       33.0     31.0  \n2018-02                   102.0       41.0     29.0  \n2018-03                   104.0       39.0     34.0  \n2018-04                    81.0       27.0     33.0  \n2018-05                    99.0       53.0     40.0  \n2018-06                   102.0       55.0     42.0  \n2018-07                   113.0       29.0     31.0  \n2018-08                   113.0       46.0     49.0  \n2018-09                    99.0       50.0     31.0  \n2018-10                   130.0       55.0     40.0  \n2018-11                    89.0       43.0     42.0  \n2018-12                   127.0       49.0     36.0  \n2019-01                    74.0       28.0     40.0  \n2019-02                    87.0       34.0     41.0  \n2019-03                    96.0       45.0     51.0  \n2019-04                    90.0       69.0     40.0  \n2019-05                   105.0       44.0     48.0  \n2019-06                   101.0       44.0     48.0  \n2019-07                   138.0       42.0     37.0  \n2019-08                   106.0       40.0     38.0  \n2019-09                    95.0       49.0     45.0  \n2019-10                   113.0       38.0     42.0  \n2019-11                   100.0       57.0     50.0  \n2019-12                   116.0       43.0     38.0  \n2020-01                   101.0       44.0     33.0  \n2020-02                    97.0       45.0     40.0  \n2020-03                    85.0       35.0     29.0  \n2020-04                    36.0       20.0     30.0  \n2020-05                    37.0       28.0     43.0  \n2020-06                    61.0       30.0     34.0  \n2020-07                    54.0       48.0     33.0  \n2020-08                    66.0       40.0     53.0  \n2020-09                    70.0       46.0     39.0  \n2020-10                    88.0       67.0     36.0  \n2020-11                   103.0       42.0     40.0  \n2020-12                   116.0       42.0     48.0  \n2021-01                    74.0       43.0     31.0  \n2021-02                    97.0       40.0     34.0  \n2021-03                    80.0       45.0     37.0  \n2021-04                    91.0       38.0     48.0  \n2021-05                    68.0       50.0     45.0  \n2021-06                    97.0       43.0     41.0  \n2021-07                   115.0       45.0     40.0  \n2021-08                   122.0       37.0     38.0  \n2021-09                   125.0       48.0     37.0  \n2021-10                   124.0       49.0     43.0  \n2021-11                   123.0       57.0     53.0  \n2021-12                   157.0       50.0     47.0  \n2022-01                   115.0       36.0     35.0  \n2022-02                   100.0       38.0     42.0  \n2022-03                   125.0       49.0     44.0  \n2022-04                   133.0       55.0     46.0  ",
      "text/html": "<div>\n<style scoped>\n    .dataframe tbody tr th:only-of-type {\n        vertical-align: middle;\n    }\n\n    .dataframe tbody tr th {\n        vertical-align: top;\n    }\n\n    .dataframe thead tr th {\n        text-align: left;\n    }\n</style>\n<table border=\"1\" class=\"dataframe\">\n  <thead>\n    <tr>\n      <th></th>\n      <th colspan=\"4\" halign=\"left\">Hombre</th>\n      <th colspan=\"4\" halign=\"left\">Mujer</th>\n    </tr>\n    <tr>\n      <th></th>\n      <th>Homicidio</th>\n      <th>Accidente de transporte</th>\n      <th>Accidental</th>\n      <th>Suicidio</th>\n      <th>Homicidio</th>\n      <th>Accidente de transporte</th>\n      <th>Accidental</th>\n      <th>Suicidio</th>\n    </tr>\n  </thead>\n  <tbody>\n    <tr>\n      <th>2018-01</th>\n      <td>785.0</td>\n      <td>374.0</td>\n      <td>166.0</td>\n      <td>143.0</td>\n      <td>76.0</td>\n      <td>92.0</td>\n      <td>33.0</td>\n      <td>31.0</td>\n    </tr>\n    <tr>\n      <th>2018-02</th>\n      <td>791.0</td>\n      <td>452.0</td>\n      <td>189.0</td>\n      <td>151.0</td>\n      <td>73.0</td>\n      <td>102.0</td>\n      <td>41.0</td>\n      <td>29.0</td>\n    </tr>\n    <tr>\n      <th>2018-03</th>\n      <td>890.0</td>\n      <td>423.0</td>\n      <td>206.0</td>\n      <td>171.0</td>\n      <td>81.0</td>\n      <td>104.0</td>\n      <td>39.0</td>\n      <td>34.0</td>\n    </tr>\n    <tr>\n      <th>2018-04</th>\n      <td>909.0</td>\n      <td>408.0</td>\n      <td>192.0</td>\n      <td>176.0</td>\n      <td>88.0</td>\n      <td>81.0</td>\n      <td>27.0</td>\n      <td>33.0</td>\n    </tr>\n    <tr>\n      <th>2018-05</th>\n      <td>893.0</td>\n      <td>433.0</td>\n      <td>189.0</td>\n      <td>172.0</td>\n      <td>78.0</td>\n      <td>99.0</td>\n      <td>53.0</td>\n      <td>40.0</td>\n    </tr>\n    <tr>\n      <th>2018-06</th>\n      <td>781.0</td>\n      <td>441.0</td>\n      <td>173.0</td>\n      <td>161.0</td>\n      <td>84.0</td>\n      <td>102.0</td>\n      <td>55.0</td>\n      <td>42.0</td>\n    </tr>\n    <tr>\n      <th>2018-07</th>\n      <td>888.0</td>\n      <td>480.0</td>\n      <td>213.0</td>\n      <td>182.0</td>\n      <td>84.0</td>\n      <td>113.0</td>\n      <td>29.0</td>\n      <td>31.0</td>\n    </tr>\n    <tr>\n      <th>2018-08</th>\n      <td>891.0</td>\n      <td>432.0</td>\n      <td>217.0</td>\n      <td>165.0</td>\n      <td>81.0</td>\n      <td>113.0</td>\n      <td>46.0</td>\n      <td>49.0</td>\n    </tr>\n    <tr>\n      <th>2018-09</th>\n      <td>883.0</td>\n      <td>449.0</td>\n      <td>190.0</td>\n      <td>176.0</td>\n      <td>77.0</td>\n      <td>99.0</td>\n      <td>50.0</td>\n      <td>31.0</td>\n    </tr>\n    <tr>\n      <th>2018-10</th>\n      <td>853.0</td>\n      <td>424.0</td>\n      <td>215.0</td>\n      <td>182.0</td>\n      <td>74.0</td>\n      <td>130.0</td>\n      <td>55.0</td>\n      <td>40.0</td>\n    </tr>\n    <tr>\n      <th>2018-11</th>\n      <td>794.0</td>\n      <td>404.0</td>\n      <td>194.0</td>\n      <td>166.0</td>\n      <td>75.0</td>\n      <td>89.0</td>\n      <td>43.0</td>\n      <td>42.0</td>\n    </tr>\n    <tr>\n      <th>2018-12</th>\n      <td>979.0</td>\n      <td>523.0</td>\n      <td>209.0</td>\n      <td>181.0</td>\n      <td>89.0</td>\n      <td>127.0</td>\n      <td>49.0</td>\n      <td>36.0</td>\n    </tr>\n    <tr>\n      <th>2019-01</th>\n      <td>803.0</td>\n      <td>319.0</td>\n      <td>184.0</td>\n      <td>154.0</td>\n      <td>63.0</td>\n      <td>74.0</td>\n      <td>28.0</td>\n      <td>40.0</td>\n    </tr>\n    <tr>\n      <th>2019-02</th>\n      <td>762.0</td>\n      <td>392.0</td>\n      <td>144.0</td>\n      <td>123.0</td>\n      <td>72.0</td>\n      <td>87.0</td>\n      <td>34.0</td>\n      <td>41.0</td>\n    </tr>\n    <tr>\n      <th>2019-03</th>\n      <td>942.0</td>\n      <td>417.0</td>\n      <td>227.0</td>\n      <td>183.0</td>\n      <td>82.0</td>\n      <td>96.0</td>\n      <td>45.0</td>\n      <td>51.0</td>\n    </tr>\n    <tr>\n      <th>2019-04</th>\n      <td>837.0</td>\n      <td>428.0</td>\n      <td>195.0</td>\n      <td>154.0</td>\n      <td>76.0</td>\n      <td>90.0</td>\n      <td>69.0</td>\n      <td>40.0</td>\n    </tr>\n    <tr>\n      <th>2019-05</th>\n      <td>926.0</td>\n      <td>455.0</td>\n      <td>187.0</td>\n      <td>190.0</td>\n      <td>95.0</td>\n      <td>105.0</td>\n      <td>44.0</td>\n      <td>48.0</td>\n    </tr>\n    <tr>\n      <th>2019-06</th>\n      <td>855.0</td>\n      <td>492.0</td>\n      <td>211.0</td>\n      <td>175.0</td>\n      <td>70.0</td>\n      <td>101.0</td>\n      <td>44.0</td>\n      <td>48.0</td>\n    </tr>\n    <tr>\n      <th>2019-07</th>\n      <td>876.0</td>\n      <td>471.0</td>\n      <td>190.0</td>\n      <td>174.0</td>\n      <td>72.0</td>\n      <td>138.0</td>\n      <td>42.0</td>\n      <td>37.0</td>\n    </tr>\n    <tr>\n      <th>2019-08</th>\n      <td>964.0</td>\n      <td>479.0</td>\n      <td>204.0</td>\n      <td>173.0</td>\n      <td>107.0</td>\n      <td>106.0</td>\n      <td>40.0</td>\n      <td>38.0</td>\n    </tr>\n    <tr>\n      <th>2019-09</th>\n      <td>912.0</td>\n      <td>461.0</td>\n      <td>195.0</td>\n      <td>191.0</td>\n      <td>94.0</td>\n      <td>95.0</td>\n      <td>49.0</td>\n      <td>45.0</td>\n    </tr>\n    <tr>\n      <th>2019-10</th>\n      <td>815.0</td>\n      <td>488.0</td>\n      <td>209.0</td>\n      <td>157.0</td>\n      <td>68.0</td>\n      <td>113.0</td>\n      <td>38.0</td>\n      <td>42.0</td>\n    </tr>\n    <tr>\n      <th>2019-11</th>\n      <td>901.0</td>\n      <td>479.0</td>\n      <td>179.0</td>\n      <td>172.0</td>\n      <td>71.0</td>\n      <td>100.0</td>\n      <td>57.0</td>\n      <td>50.0</td>\n    </tr>\n    <tr>\n      <th>2019-12</th>\n      <td>1058.0</td>\n      <td>587.0</td>\n      <td>200.0</td>\n      <td>186.0</td>\n      <td>106.0</td>\n      <td>116.0</td>\n      <td>43.0</td>\n      <td>38.0</td>\n    </tr>\n    <tr>\n      <th>2020-01</th>\n      <td>749.0</td>\n      <td>377.0</td>\n      <td>194.0</td>\n      <td>145.0</td>\n      <td>71.0</td>\n      <td>101.0</td>\n      <td>44.0</td>\n      <td>33.0</td>\n    </tr>\n    <tr>\n      <th>2020-02</th>\n      <td>771.0</td>\n      <td>440.0</td>\n      <td>179.0</td>\n      <td>168.0</td>\n      <td>77.0</td>\n      <td>97.0</td>\n      <td>45.0</td>\n      <td>40.0</td>\n    </tr>\n    <tr>\n      <th>2020-03</th>\n      <td>725.0</td>\n      <td>365.0</td>\n      <td>166.0</td>\n      <td>159.0</td>\n      <td>62.0</td>\n      <td>85.0</td>\n      <td>35.0</td>\n      <td>29.0</td>\n    </tr>\n    <tr>\n      <th>2020-04</th>\n      <td>580.0</td>\n      <td>170.0</td>\n      <td>164.0</td>\n      <td>125.0</td>\n      <td>51.0</td>\n      <td>36.0</td>\n      <td>20.0</td>\n      <td>30.0</td>\n    </tr>\n    <tr>\n      <th>2020-05</th>\n      <td>780.0</td>\n      <td>260.0</td>\n      <td>152.0</td>\n      <td>145.0</td>\n      <td>54.0</td>\n      <td>37.0</td>\n      <td>28.0</td>\n      <td>43.0</td>\n    </tr>\n    <tr>\n      <th>2020-06</th>\n      <td>843.0</td>\n      <td>265.0</td>\n      <td>153.0</td>\n      <td>176.0</td>\n      <td>71.0</td>\n      <td>61.0</td>\n      <td>30.0</td>\n      <td>34.0</td>\n    </tr>\n    <tr>\n      <th>2020-07</th>\n      <td>870.0</td>\n      <td>333.0</td>\n      <td>224.0</td>\n      <td>154.0</td>\n      <td>67.0</td>\n      <td>54.0</td>\n      <td>48.0</td>\n      <td>33.0</td>\n    </tr>\n    <tr>\n      <th>2020-08</th>\n      <td>942.0</td>\n      <td>363.0</td>\n      <td>197.0</td>\n      <td>164.0</td>\n      <td>74.0</td>\n      <td>66.0</td>\n      <td>40.0</td>\n      <td>53.0</td>\n    </tr>\n    <tr>\n      <th>2020-09</th>\n      <td>985.0</td>\n      <td>440.0</td>\n      <td>185.0</td>\n      <td>155.0</td>\n      <td>103.0</td>\n      <td>70.0</td>\n      <td>46.0</td>\n      <td>39.0</td>\n    </tr>\n    <tr>\n      <th>2020-10</th>\n      <td>982.0</td>\n      <td>477.0</td>\n      <td>198.0</td>\n      <td>166.0</td>\n      <td>79.0</td>\n      <td>88.0</td>\n      <td>67.0</td>\n      <td>36.0</td>\n    </tr>\n    <tr>\n      <th>2020-11</th>\n      <td>901.0</td>\n      <td>482.0</td>\n      <td>210.0</td>\n      <td>175.0</td>\n      <td>75.0</td>\n      <td>103.0</td>\n      <td>42.0</td>\n      <td>40.0</td>\n    </tr>\n    <tr>\n      <th>2020-12</th>\n      <td>1020.0</td>\n      <td>601.0</td>\n      <td>210.0</td>\n      <td>189.0</td>\n      <td>81.0</td>\n      <td>116.0</td>\n      <td>42.0</td>\n      <td>48.0</td>\n    </tr>\n    <tr>\n      <th>2021-01</th>\n      <td>799.0</td>\n      <td>378.0</td>\n      <td>178.0</td>\n      <td>145.0</td>\n      <td>63.0</td>\n      <td>74.0</td>\n      <td>43.0</td>\n      <td>31.0</td>\n    </tr>\n    <tr>\n      <th>2021-02</th>\n      <td>851.0</td>\n      <td>496.0</td>\n      <td>183.0</td>\n      <td>173.0</td>\n      <td>65.0</td>\n      <td>97.0</td>\n      <td>40.0</td>\n      <td>34.0</td>\n    </tr>\n    <tr>\n      <th>2021-03</th>\n      <td>925.0</td>\n      <td>509.0</td>\n      <td>233.0</td>\n      <td>184.0</td>\n      <td>80.0</td>\n      <td>80.0</td>\n      <td>45.0</td>\n      <td>37.0</td>\n    </tr>\n    <tr>\n      <th>2021-04</th>\n      <td>893.0</td>\n      <td>467.0</td>\n      <td>221.0</td>\n      <td>194.0</td>\n      <td>72.0</td>\n      <td>91.0</td>\n      <td>38.0</td>\n      <td>48.0</td>\n    </tr>\n    <tr>\n      <th>2021-05</th>\n      <td>1155.0</td>\n      <td>413.0</td>\n      <td>182.0</td>\n      <td>160.0</td>\n      <td>83.0</td>\n      <td>68.0</td>\n      <td>50.0</td>\n      <td>45.0</td>\n    </tr>\n    <tr>\n      <th>2021-06</th>\n      <td>1137.0</td>\n      <td>550.0</td>\n      <td>232.0</td>\n      <td>167.0</td>\n      <td>96.0</td>\n      <td>97.0</td>\n      <td>43.0</td>\n      <td>41.0</td>\n    </tr>\n    <tr>\n      <th>2021-07</th>\n      <td>1090.0</td>\n      <td>531.0</td>\n      <td>232.0</td>\n      <td>190.0</td>\n      <td>76.0</td>\n      <td>115.0</td>\n      <td>45.0</td>\n      <td>40.0</td>\n    </tr>\n    <tr>\n      <th>2021-08</th>\n      <td>1085.0</td>\n      <td>547.0</td>\n      <td>222.0</td>\n      <td>161.0</td>\n      <td>95.0</td>\n      <td>122.0</td>\n      <td>37.0</td>\n      <td>38.0</td>\n    </tr>\n    <tr>\n      <th>2021-09</th>\n      <td>1019.0</td>\n      <td>527.0</td>\n      <td>209.0</td>\n      <td>163.0</td>\n      <td>87.0</td>\n      <td>125.0</td>\n      <td>48.0</td>\n      <td>37.0</td>\n    </tr>\n    <tr>\n      <th>2021-10</th>\n      <td>1089.0</td>\n      <td>511.0</td>\n      <td>230.0</td>\n      <td>191.0</td>\n      <td>80.0</td>\n      <td>124.0</td>\n      <td>49.0</td>\n      <td>43.0</td>\n    </tr>\n    <tr>\n      <th>2021-11</th>\n      <td>923.0</td>\n      <td>532.0</td>\n      <td>231.0</td>\n      <td>175.0</td>\n      <td>96.0</td>\n      <td>123.0</td>\n      <td>57.0</td>\n      <td>53.0</td>\n    </tr>\n    <tr>\n      <th>2021-12</th>\n      <td>1084.0</td>\n      <td>572.0</td>\n      <td>250.0</td>\n      <td>198.0</td>\n      <td>85.0</td>\n      <td>157.0</td>\n      <td>50.0</td>\n      <td>47.0</td>\n    </tr>\n    <tr>\n      <th>2022-01</th>\n      <td>911.0</td>\n      <td>456.0</td>\n      <td>213.0</td>\n      <td>147.0</td>\n      <td>97.0</td>\n      <td>115.0</td>\n      <td>36.0</td>\n      <td>35.0</td>\n    </tr>\n    <tr>\n      <th>2022-02</th>\n      <td>938.0</td>\n      <td>470.0</td>\n      <td>204.0</td>\n      <td>173.0</td>\n      <td>91.0</td>\n      <td>100.0</td>\n      <td>38.0</td>\n      <td>42.0</td>\n    </tr>\n    <tr>\n      <th>2022-03</th>\n      <td>977.0</td>\n      <td>552.0</td>\n      <td>258.0</td>\n      <td>189.0</td>\n      <td>76.0</td>\n      <td>125.0</td>\n      <td>49.0</td>\n      <td>44.0</td>\n    </tr>\n    <tr>\n      <th>2022-04</th>\n      <td>1041.0</td>\n      <td>552.0</td>\n      <td>254.0</td>\n      <td>181.0</td>\n      <td>91.0</td>\n      <td>133.0</td>\n      <td>55.0</td>\n      <td>46.0</td>\n    </tr>\n  </tbody>\n</table>\n</div>"
     },
     "metadata": {}
    }
   ]
  },
  {
   "cell_type": "code",
   "metadata": {
    "cell_id": "50f9678733734aea97549410bf8d43e0",
    "tags": [],
    "deepnote_to_be_reexecuted": false,
    "source_hash": "de1e323c",
    "execution_start": 1654212269903,
    "execution_millis": 25027323,
    "deepnote_cell_type": "code",
    "deepnote_cell_height": 380
   },
   "source": "df.info()",
   "execution_count": null,
   "outputs": [
    {
     "name": "stdout",
     "text": "<class 'pandas.core.frame.DataFrame'>\nIndex: 52 entries, 2018-01 to 2022-04\nData columns (total 8 columns):\n #   Column                             Non-Null Count  Dtype  \n---  ------                             --------------  -----  \n 0   (Hombre, Homicidio)                52 non-null     float64\n 1   (Hombre, Accidente de transporte)  52 non-null     float64\n 2   (Hombre, Accidental)               52 non-null     float64\n 3   (Hombre, Suicidio)                 52 non-null     float64\n 4   (Mujer, Homicidio)                 52 non-null     float64\n 5   (Mujer, Accidente de transporte)   52 non-null     float64\n 6   (Mujer, Accidental)                52 non-null     float64\n 7   (Mujer, Suicidio)                  52 non-null     float64\ndtypes: float64(8)\nmemory usage: 3.7+ KB\n",
     "output_type": "stream"
    }
   ]
  },
  {
   "cell_type": "code",
   "metadata": {
    "cell_id": "e7b6051cd1334f9686e6b2bc2228e8cc",
    "tags": [],
    "deepnote_to_be_reexecuted": false,
    "source_hash": "f88152d9",
    "execution_start": 1654212269954,
    "execution_millis": 673,
    "deepnote_cell_type": "code",
    "deepnote_cell_height": 532.390625
   },
   "source": "df.describe()",
   "execution_count": null,
   "outputs": [
    {
     "output_type": "execute_result",
     "execution_count": 4,
     "data": {
      "application/vnd.deepnote.dataframe.v3+json": {
       "column_count": 8,
       "row_count": 8,
       "columns": [
        {
         "name": "Hombre Homicidio",
         "dtype": "float64",
         "stats": {
          "unique_count": 8,
          "nan_count": 0,
          "min": "52.0",
          "max": "1155.0",
          "histogram": [
           {
            "bin_start": 52,
            "bin_end": 162.3,
            "count": 2
           },
           {
            "bin_start": 162.3,
            "bin_end": 272.6,
            "count": 0
           },
           {
            "bin_start": 272.6,
            "bin_end": 382.9,
            "count": 0
           },
           {
            "bin_start": 382.9,
            "bin_end": 493.2,
            "count": 0
           },
           {
            "bin_start": 493.2,
            "bin_end": 603.5,
            "count": 1
           },
           {
            "bin_start": 603.5,
            "bin_end": 713.8,
            "count": 0
           },
           {
            "bin_start": 713.8,
            "bin_end": 824.1,
            "count": 0
           },
           {
            "bin_start": 824.1,
            "bin_end": 934.4,
            "count": 3
           },
           {
            "bin_start": 934.4,
            "bin_end": 1044.6999999999998,
            "count": 1
           },
           {
            "bin_start": 1044.6999999999998,
            "bin_end": 1155,
            "count": 1
           }
          ]
         }
        },
        {
         "name": "Hombre Accidente de transporte",
         "dtype": "float64",
         "stats": {
          "unique_count": 8,
          "nan_count": 0,
          "min": "52.0",
          "max": "601.0",
          "histogram": [
           {
            "bin_start": 52,
            "bin_end": 106.9,
            "count": 2
           },
           {
            "bin_start": 106.9,
            "bin_end": 161.8,
            "count": 0
           },
           {
            "bin_start": 161.8,
            "bin_end": 216.7,
            "count": 1
           },
           {
            "bin_start": 216.7,
            "bin_end": 271.6,
            "count": 0
           },
           {
            "bin_start": 271.6,
            "bin_end": 326.5,
            "count": 0
           },
           {
            "bin_start": 326.5,
            "bin_end": 381.4,
            "count": 0
           },
           {
            "bin_start": 381.4,
            "bin_end": 436.3,
            "count": 1
           },
           {
            "bin_start": 436.3,
            "bin_end": 491.2,
            "count": 2
           },
           {
            "bin_start": 491.2,
            "bin_end": 546.0999999999999,
            "count": 1
           },
           {
            "bin_start": 546.0999999999999,
            "bin_end": 601,
            "count": 1
           }
          ]
         }
        },
        {
         "name": "Hombre Accidental",
         "dtype": "float64",
         "stats": {
          "unique_count": 8,
          "nan_count": 0,
          "min": "25.32691234019226",
          "max": "258.0",
          "histogram": [
           {
            "bin_start": 25.32691234019226,
            "bin_end": 48.59422110617304,
            "count": 1
           },
           {
            "bin_start": 48.59422110617304,
            "bin_end": 71.86152987215381,
            "count": 1
           },
           {
            "bin_start": 71.86152987215381,
            "bin_end": 95.1288386381346,
            "count": 0
           },
           {
            "bin_start": 95.1288386381346,
            "bin_end": 118.39614740411537,
            "count": 0
           },
           {
            "bin_start": 118.39614740411537,
            "bin_end": 141.66345617009614,
            "count": 0
           },
           {
            "bin_start": 141.66345617009614,
            "bin_end": 164.9307649360769,
            "count": 1
           },
           {
            "bin_start": 164.9307649360769,
            "bin_end": 188.19807370205768,
            "count": 1
           },
           {
            "bin_start": 188.19807370205768,
            "bin_end": 211.46538246803846,
            "count": 2
           },
           {
            "bin_start": 211.46538246803846,
            "bin_end": 234.73269123401923,
            "count": 1
           },
           {
            "bin_start": 234.73269123401923,
            "bin_end": 258,
            "count": 1
           }
          ]
         }
        },
        {
         "name": "Hombre Suicidio",
         "dtype": "float64",
         "stats": {
          "unique_count": 8,
          "nan_count": 0,
          "min": "16.852165294499166",
          "max": "198.0",
          "histogram": [
           {
            "bin_start": 16.852165294499166,
            "bin_end": 34.96694876504925,
            "count": 1
           },
           {
            "bin_start": 34.96694876504925,
            "bin_end": 53.08173223559933,
            "count": 1
           },
           {
            "bin_start": 53.08173223559933,
            "bin_end": 71.19651570614943,
            "count": 0
           },
           {
            "bin_start": 71.19651570614943,
            "bin_end": 89.31129917669949,
            "count": 0
           },
           {
            "bin_start": 89.31129917669949,
            "bin_end": 107.42608264724959,
            "count": 0
           },
           {
            "bin_start": 107.42608264724959,
            "bin_end": 125.54086611779968,
            "count": 1
           },
           {
            "bin_start": 125.54086611779968,
            "bin_end": 143.65564958834975,
            "count": 0
           },
           {
            "bin_start": 143.65564958834975,
            "bin_end": 161.77043305889984,
            "count": 1
           },
           {
            "bin_start": 161.77043305889984,
            "bin_end": 179.88521652944993,
            "count": 2
           },
           {
            "bin_start": 179.88521652944993,
            "bin_end": 198,
            "count": 2
           }
          ]
         }
        },
        {
         "name": "Mujer Homicidio",
         "dtype": "float64",
         "stats": {
          "unique_count": 8,
          "nan_count": 0,
          "min": "12.22902365717898",
          "max": "107.0",
          "histogram": [
           {
            "bin_start": 12.22902365717898,
            "bin_end": 21.70612129146108,
            "count": 1
           },
           {
            "bin_start": 21.70612129146108,
            "bin_end": 31.183218925743184,
            "count": 0
           },
           {
            "bin_start": 31.183218925743184,
            "bin_end": 40.66031656002528,
            "count": 0
           },
           {
            "bin_start": 40.66031656002528,
            "bin_end": 50.13741419430738,
            "count": 0
           },
           {
            "bin_start": 50.13741419430738,
            "bin_end": 59.614511828589485,
            "count": 2
           },
           {
            "bin_start": 59.614511828589485,
            "bin_end": 69.09160946287159,
            "count": 0
           },
           {
            "bin_start": 69.09160946287159,
            "bin_end": 78.56870709715369,
            "count": 2
           },
           {
            "bin_start": 78.56870709715369,
            "bin_end": 88.0458047314358,
            "count": 2
           },
           {
            "bin_start": 88.0458047314358,
            "bin_end": 97.5229023657179,
            "count": 0
           },
           {
            "bin_start": 97.5229023657179,
            "bin_end": 107,
            "count": 1
           }
          ]
         }
        },
        {
         "name": "Mujer Accidente de transporte",
         "dtype": "float64",
         "stats": {
          "unique_count": 8,
          "nan_count": 0,
          "min": "24.089325975267236",
          "max": "157.0",
          "histogram": [
           {
            "bin_start": 24.089325975267236,
            "bin_end": 37.38039337774052,
            "count": 2
           },
           {
            "bin_start": 37.38039337774052,
            "bin_end": 50.67146078021379,
            "count": 0
           },
           {
            "bin_start": 50.67146078021379,
            "bin_end": 63.96252818268707,
            "count": 1
           },
           {
            "bin_start": 63.96252818268707,
            "bin_end": 77.25359558516035,
            "count": 0
           },
           {
            "bin_start": 77.25359558516035,
            "bin_end": 90.54466298763361,
            "count": 1
           },
           {
            "bin_start": 90.54466298763361,
            "bin_end": 103.8357303901069,
            "count": 2
           },
           {
            "bin_start": 103.8357303901069,
            "bin_end": 117.12679779258019,
            "count": 1
           },
           {
            "bin_start": 117.12679779258019,
            "bin_end": 130.41786519505345,
            "count": 0
           },
           {
            "bin_start": 130.41786519505345,
            "bin_end": 143.70893259752674,
            "count": 0
           },
           {
            "bin_start": 143.70893259752674,
            "bin_end": 157,
            "count": 1
           }
          ]
         }
        },
        {
         "name": "Mujer Accidental",
         "dtype": "float64",
         "stats": {
          "unique_count": 8,
          "nan_count": 0,
          "min": "9.491978831717852",
          "max": "69.0",
          "histogram": [
           {
            "bin_start": 9.491978831717852,
            "bin_end": 15.442780948546066,
            "count": 1
           },
           {
            "bin_start": 15.442780948546066,
            "bin_end": 21.39358306537428,
            "count": 1
           },
           {
            "bin_start": 21.39358306537428,
            "bin_end": 27.344385182202497,
            "count": 0
           },
           {
            "bin_start": 27.344385182202497,
            "bin_end": 33.295187299030715,
            "count": 0
           },
           {
            "bin_start": 33.295187299030715,
            "bin_end": 39.24598941585893,
            "count": 1
           },
           {
            "bin_start": 39.24598941585893,
            "bin_end": 45.19679153268714,
            "count": 2
           },
           {
            "bin_start": 45.19679153268714,
            "bin_end": 51.14759364951536,
            "count": 1
           },
           {
            "bin_start": 51.14759364951536,
            "bin_end": 57.09839576634357,
            "count": 1
           },
           {
            "bin_start": 57.09839576634357,
            "bin_end": 63.049197883171786,
            "count": 0
           },
           {
            "bin_start": 63.049197883171786,
            "bin_end": 69,
            "count": 1
           }
          ]
         }
        },
        {
         "name": "Mujer Suicidio",
         "dtype": "float64",
         "stats": {
          "unique_count": 8,
          "nan_count": 0,
          "min": "6.417682726943613",
          "max": "53.0",
          "histogram": [
           {
            "bin_start": 6.417682726943613,
            "bin_end": 11.07591445424925,
            "count": 1
           },
           {
            "bin_start": 11.07591445424925,
            "bin_end": 15.734146181554891,
            "count": 0
           },
           {
            "bin_start": 15.734146181554891,
            "bin_end": 20.392377908860528,
            "count": 0
           },
           {
            "bin_start": 20.392377908860528,
            "bin_end": 25.05060963616617,
            "count": 0
           },
           {
            "bin_start": 25.05060963616617,
            "bin_end": 29.70884136347181,
            "count": 1
           },
           {
            "bin_start": 29.70884136347181,
            "bin_end": 34.367073090777446,
            "count": 0
           },
           {
            "bin_start": 34.367073090777446,
            "bin_end": 39.02530481808308,
            "count": 1
           },
           {
            "bin_start": 39.02530481808308,
            "bin_end": 43.68353654538872,
            "count": 2
           },
           {
            "bin_start": 43.68353654538872,
            "bin_end": 48.34176827269436,
            "count": 1
           },
           {
            "bin_start": 48.34176827269436,
            "bin_end": 53,
            "count": 2
           }
          ]
         }
        },
        {
         "name": "_deepnote_index_column",
         "dtype": "object"
        }
       ],
       "rows": [
        {
         "Hombre Homicidio": 52,
         "Hombre Accidente de transporte": 52,
         "Hombre Accidental": 52,
         "Hombre Suicidio": 52,
         "Mujer Homicidio": 52,
         "Mujer Accidente de transporte": 52,
         "Mujer Accidental": 52,
         "Mujer Suicidio": 52,
         "_deepnote_index_column": "count"
        },
        {
         "Hombre Homicidio": 904.8653846153846,
         "Hombre Accidente de transporte": 448.9807692307692,
         "Hombre Accidental": 200.80769230769232,
         "Hombre Suicidio": 168.65384615384616,
         "Mujer Homicidio": 79.5,
         "Mujer Accidente de transporte": 98.6923076923077,
         "Mujer Accidental": 43.51923076923077,
         "Mujer Suicidio": 39.90384615384615,
         "_deepnote_index_column": "mean"
        },
        {
         "Hombre Homicidio": 114.61153978893377,
         "Hombre Accidente de transporte": 84.30581362611589,
         "Hombre Accidental": 25.32691234019226,
         "Hombre Suicidio": 16.852165294499166,
         "Mujer Homicidio": 12.22902365717898,
         "Mujer Accidente de transporte": 24.089325975267236,
         "Mujer Accidental": 9.491978831717852,
         "Mujer Suicidio": 6.417682726943613,
         "_deepnote_index_column": "std"
        },
        {
         "Hombre Homicidio": 580,
         "Hombre Accidente de transporte": 170,
         "Hombre Accidental": 144,
         "Hombre Suicidio": 123,
         "Mujer Homicidio": 51,
         "Mujer Accidente de transporte": 36,
         "Mujer Accidental": 20,
         "Mujer Suicidio": 29,
         "_deepnote_index_column": "min"
        },
        {
         "Hombre Homicidio": 831.5,
         "Hombre Accidente de transporte": 411.75,
         "Hombre Accidental": 184.75,
         "Hombre Suicidio": 158.5,
         "Mujer Homicidio": 72,
         "Mujer Accidente de transporte": 87.75,
         "Mujer Accidental": 38,
         "Mujer Suicidio": 34.75,
         "_deepnote_index_column": "25%"
        },
        {
         "Hombre Homicidio": 897,
         "Hombre Accidente de transporte": 455.5,
         "Hombre Accidental": 199,
         "Hombre Suicidio": 172,
         "Mujer Homicidio": 77.5,
         "Mujer Accidente de transporte": 100,
         "Mujer Accidental": 43.5,
         "Mujer Suicidio": 40,
         "_deepnote_index_column": "50%"
        },
        {
         "Hombre Homicidio": 977.5,
         "Hombre Accidente de transporte": 499.25,
         "Hombre Accidental": 215.5,
         "Hombre Suicidio": 181.25,
         "Mujer Homicidio": 87.25,
         "Mujer Accidente de transporte": 115,
         "Mujer Accidental": 49,
         "Mujer Suicidio": 44.25,
         "_deepnote_index_column": "75%"
        },
        {
         "Hombre Homicidio": 1155,
         "Hombre Accidente de transporte": 601,
         "Hombre Accidental": 258,
         "Hombre Suicidio": 198,
         "Mujer Homicidio": 107,
         "Mujer Accidente de transporte": 157,
         "Mujer Accidental": 69,
         "Mujer Suicidio": 53,
         "_deepnote_index_column": "max"
        }
       ]
      },
      "text/plain": "            Hombre                                                  \\\n         Homicidio Accidente de transporte  Accidental    Suicidio   \ncount    52.000000               52.000000   52.000000   52.000000   \nmean    904.865385              448.980769  200.807692  168.653846   \nstd     114.611540               84.305814   25.326912   16.852165   \nmin     580.000000              170.000000  144.000000  123.000000   \n25%     831.500000              411.750000  184.750000  158.500000   \n50%     897.000000              455.500000  199.000000  172.000000   \n75%     977.500000              499.250000  215.500000  181.250000   \nmax    1155.000000              601.000000  258.000000  198.000000   \n\n            Mujer                                                \n        Homicidio Accidente de transporte Accidental   Suicidio  \ncount   52.000000               52.000000  52.000000  52.000000  \nmean    79.500000               98.692308  43.519231  39.903846  \nstd     12.229024               24.089326   9.491979   6.417683  \nmin     51.000000               36.000000  20.000000  29.000000  \n25%     72.000000               87.750000  38.000000  34.750000  \n50%     77.500000              100.000000  43.500000  40.000000  \n75%     87.250000              115.000000  49.000000  44.250000  \nmax    107.000000              157.000000  69.000000  53.000000  ",
      "text/html": "<div>\n<style scoped>\n    .dataframe tbody tr th:only-of-type {\n        vertical-align: middle;\n    }\n\n    .dataframe tbody tr th {\n        vertical-align: top;\n    }\n\n    .dataframe thead tr th {\n        text-align: left;\n    }\n</style>\n<table border=\"1\" class=\"dataframe\">\n  <thead>\n    <tr>\n      <th></th>\n      <th colspan=\"4\" halign=\"left\">Hombre</th>\n      <th colspan=\"4\" halign=\"left\">Mujer</th>\n    </tr>\n    <tr>\n      <th></th>\n      <th>Homicidio</th>\n      <th>Accidente de transporte</th>\n      <th>Accidental</th>\n      <th>Suicidio</th>\n      <th>Homicidio</th>\n      <th>Accidente de transporte</th>\n      <th>Accidental</th>\n      <th>Suicidio</th>\n    </tr>\n  </thead>\n  <tbody>\n    <tr>\n      <th>count</th>\n      <td>52.000000</td>\n      <td>52.000000</td>\n      <td>52.000000</td>\n      <td>52.000000</td>\n      <td>52.000000</td>\n      <td>52.000000</td>\n      <td>52.000000</td>\n      <td>52.000000</td>\n    </tr>\n    <tr>\n      <th>mean</th>\n      <td>904.865385</td>\n      <td>448.980769</td>\n      <td>200.807692</td>\n      <td>168.653846</td>\n      <td>79.500000</td>\n      <td>98.692308</td>\n      <td>43.519231</td>\n      <td>39.903846</td>\n    </tr>\n    <tr>\n      <th>std</th>\n      <td>114.611540</td>\n      <td>84.305814</td>\n      <td>25.326912</td>\n      <td>16.852165</td>\n      <td>12.229024</td>\n      <td>24.089326</td>\n      <td>9.491979</td>\n      <td>6.417683</td>\n    </tr>\n    <tr>\n      <th>min</th>\n      <td>580.000000</td>\n      <td>170.000000</td>\n      <td>144.000000</td>\n      <td>123.000000</td>\n      <td>51.000000</td>\n      <td>36.000000</td>\n      <td>20.000000</td>\n      <td>29.000000</td>\n    </tr>\n    <tr>\n      <th>25%</th>\n      <td>831.500000</td>\n      <td>411.750000</td>\n      <td>184.750000</td>\n      <td>158.500000</td>\n      <td>72.000000</td>\n      <td>87.750000</td>\n      <td>38.000000</td>\n      <td>34.750000</td>\n    </tr>\n    <tr>\n      <th>50%</th>\n      <td>897.000000</td>\n      <td>455.500000</td>\n      <td>199.000000</td>\n      <td>172.000000</td>\n      <td>77.500000</td>\n      <td>100.000000</td>\n      <td>43.500000</td>\n      <td>40.000000</td>\n    </tr>\n    <tr>\n      <th>75%</th>\n      <td>977.500000</td>\n      <td>499.250000</td>\n      <td>215.500000</td>\n      <td>181.250000</td>\n      <td>87.250000</td>\n      <td>115.000000</td>\n      <td>49.000000</td>\n      <td>44.250000</td>\n    </tr>\n    <tr>\n      <th>max</th>\n      <td>1155.000000</td>\n      <td>601.000000</td>\n      <td>258.000000</td>\n      <td>198.000000</td>\n      <td>107.000000</td>\n      <td>157.000000</td>\n      <td>69.000000</td>\n      <td>53.000000</td>\n    </tr>\n  </tbody>\n</table>\n</div>"
     },
     "metadata": {}
    }
   ]
  },
  {
   "cell_type": "code",
   "metadata": {
    "cell_id": "8018b49d8e2840da86f09b69037d8e46",
    "tags": [],
    "deepnote_to_be_reexecuted": false,
    "source_hash": "de78190d",
    "execution_start": 1654212270076,
    "execution_millis": 1983,
    "deepnote_cell_type": "code",
    "deepnote_cell_height": 727,
    "deepnote_output_heights": [
     486
    ]
   },
   "source": "import matplotlib.pyplot as plt\nimport seaborn as sns\nsns.set_theme(style=\"darkgrid\")\n\ndf[\"Hombre\"].plot(\n    figsize=(10,8),\n    title=\"Muertes Violentas en Hombres\",\n)\nplt.show()",
   "execution_count": null,
   "outputs": [
    {
     "data": {
      "text/plain": "<Figure size 720x576 with 1 Axes>",
      "image/png": "[encoded data removed]"
     },
     "metadata": {
      "needs_background": "light",
      "image/png": {
       "width": 609,
       "height": 484
      }
     },
     "output_type": "display_data"
    }
   ]
  },
  {
   "cell_type": "code",
   "metadata": {
    "cell_id": "51836d837585438e9a1b35fcbb4099ff",
    "tags": [],
    "deepnote_to_be_reexecuted": false,
    "source_hash": "a4d1f6c2",
    "execution_start": 1654212272083,
    "execution_millis": 1358,
    "deepnote_cell_type": "code",
    "deepnote_cell_height": 582,
    "deepnote_output_heights": [
     395
    ]
   },
   "source": "df[\"Mujer\"].plot(\n    figsize=(10,6),\n    title=\"Muertes Violentas en Mujeres\",\n    xlabel=\"Periodo\",\n)\nplt.show()",
   "execution_count": null,
   "outputs": [
    {
     "data": {
      "text/plain": "<Figure size 720x432 with 1 Axes>",
      "image/png": "[encoded data removed]"
     },
     "metadata": {
      "needs_background": "light",
      "image/png": {
       "width": 602,
       "height": 393
      }
     },
     "output_type": "display_data"
    }
   ]
  },
  {
   "cell_type": "code",
   "metadata": {
    "cell_id": "cb2e0c427f5b41d5b3b24655bf0a27c0",
    "tags": [],
    "deepnote_to_be_reexecuted": false,
    "source_hash": "a49f27b6",
    "execution_start": 1654212273035,
    "execution_millis": 588,
    "deepnote_cell_type": "code",
    "deepnote_cell_height": 618,
    "deepnote_output_heights": [
     395
    ]
   },
   "source": "df[[(\"Hombre\",\"Suicidio\"), (\"Mujer\", \"Suicidio\")]].plot(\n    figsize=(10,6),\n    title=\"Suicidio en Hombres y Mujeres\",\n    xlabel=\"Periodo\",\n    legend=False\n)\nplt.legend([\"Hombres\", \"Mujeres\"])\nplt.show()",
   "execution_count": null,
   "outputs": [
    {
     "data": {
      "text/plain": "<Figure size 720x432 with 1 Axes>",
      "image/png": "[encoded data removed]"
     },
     "metadata": {
      "needs_background": "light",
      "image/png": {
       "width": 602,
       "height": 393
      }
     },
     "output_type": "display_data"
    }
   ]
  },
  {
   "cell_type": "code",
   "metadata": {
    "cell_id": "6487b4b08b7d4fd59ceb590733650c49",
    "tags": [],
    "deepnote_to_be_reexecuted": false,
    "source_hash": "e1b79817",
    "execution_start": 1654212273622,
    "execution_millis": 659,
    "deepnote_cell_type": "code",
    "deepnote_cell_height": 565,
    "deepnote_output_heights": [
     378
    ]
   },
   "source": "df.mean().unstack(0).plot.bar(\n    figsize=(10,6),\n    title=\"Promedio mensual por tipo de muerte (2018-01 a 2022-04)\",\n    stacked=True,\n    rot=0)\nplt.show()",
   "execution_count": null,
   "outputs": [
    {
     "data": {
      "text/plain": "<Figure size 720x432 with 1 Axes>",
      "image/png": "[encoded data removed]"
     },
     "metadata": {
      "needs_background": "light",
      "image/png": {
       "width": 609,
       "height": 376
      }
     },
     "output_type": "display_data"
    }
   ]
  },
  {
   "cell_type": "markdown",
   "source": "De las graficas anteriores podemos observar como en general para las categorías de muertes vioentas, y en particular para los suicidios, se presentan muchos más casos en hombres que en mujeres.",
   "metadata": {
    "cell_id": "99a192d8f23642628ed493c7f321409b",
    "tags": [],
    "deepnote_cell_type": "markdown",
    "deepnote_cell_height": 74.796875
   }
  },
  {
   "cell_type": "markdown",
   "source": "### Por Grupo de Edad",
   "metadata": {
    "cell_id": "49257127249346f1aa1bd244fc5ab1e0",
    "tags": [],
    "deepnote_cell_type": "markdown",
    "deepnote_cell_height": 62
   }
  },
  {
   "cell_type": "code",
   "metadata": {
    "cell_id": "71131cf2bade4f439dd8c01e26dd1a14",
    "tags": [],
    "deepnote_to_be_reexecuted": false,
    "source_hash": "63caed5b",
    "execution_start": 1654212274292,
    "execution_millis": 232,
    "deepnote_cell_type": "code",
    "deepnote_cell_height": 668.390625
   },
   "source": "filepath = source_dir / \"muertes_violentas_segun_grupo_de_edad_y_manera_de_muerte.csv\"\n\ndf = pd.read_csv(filepath, index_col=[0,1])\ndf",
   "execution_count": null,
   "outputs": [
    {
     "output_type": "execute_result",
     "execution_count": 9,
     "data": {
      "application/vnd.deepnote.dataframe.v3+json": {
       "column_count": 20,
       "row_count": 208,
       "columns": [
        {
         "name": "(00 a 04)",
         "dtype": "float64",
         "stats": {
          "unique_count": 32,
          "nan_count": 1,
          "min": "0.0",
          "max": "48.0",
          "histogram": [
           {
            "bin_start": 0,
            "bin_end": 4.8,
            "count": 99
           },
           {
            "bin_start": 4.8,
            "bin_end": 9.6,
            "count": 48
           },
           {
            "bin_start": 9.6,
            "bin_end": 14.399999999999999,
            "count": 20
           },
           {
            "bin_start": 14.399999999999999,
            "bin_end": 19.2,
            "count": 24
           },
           {
            "bin_start": 19.2,
            "bin_end": 24,
            "count": 7
           },
           {
            "bin_start": 24,
            "bin_end": 28.799999999999997,
            "count": 5
           },
           {
            "bin_start": 28.799999999999997,
            "bin_end": 33.6,
            "count": 1
           },
           {
            "bin_start": 33.6,
            "bin_end": 38.4,
            "count": 1
           },
           {
            "bin_start": 38.4,
            "bin_end": 43.199999999999996,
            "count": 1
           },
           {
            "bin_start": 43.199999999999996,
            "bin_end": 48,
            "count": 1
           }
          ]
         }
        },
        {
         "name": "(05 a 09)",
         "dtype": "float64",
         "stats": {
          "unique_count": 14,
          "nan_count": 0,
          "min": "0.0",
          "max": "13.0",
          "histogram": [
           {
            "bin_start": 0,
            "bin_end": 1.3,
            "count": 85
           },
           {
            "bin_start": 1.3,
            "bin_end": 2.6,
            "count": 26
           },
           {
            "bin_start": 2.6,
            "bin_end": 3.9000000000000004,
            "count": 17
           },
           {
            "bin_start": 3.9000000000000004,
            "bin_end": 5.2,
            "count": 41
           },
           {
            "bin_start": 5.2,
            "bin_end": 6.5,
            "count": 14
           },
           {
            "bin_start": 6.5,
            "bin_end": 7.800000000000001,
            "count": 7
           },
           {
            "bin_start": 7.800000000000001,
            "bin_end": 9.1,
            "count": 8
           },
           {
            "bin_start": 9.1,
            "bin_end": 10.4,
            "count": 4
           },
           {
            "bin_start": 10.4,
            "bin_end": 11.700000000000001,
            "count": 4
           },
           {
            "bin_start": 11.700000000000001,
            "bin_end": 13,
            "count": 2
           }
          ]
         }
        },
        {
         "name": "(10 a 14)",
         "dtype": "float64",
         "stats": {
          "unique_count": 19,
          "nan_count": 0,
          "min": "0.0",
          "max": "18.0",
          "histogram": [
           {
            "bin_start": 0,
            "bin_end": 1.8,
            "count": 4
           },
           {
            "bin_start": 1.8,
            "bin_end": 3.6,
            "count": 16
           },
           {
            "bin_start": 3.6,
            "bin_end": 5.4,
            "count": 40
           },
           {
            "bin_start": 5.4,
            "bin_end": 7.2,
            "count": 41
           },
           {
            "bin_start": 7.2,
            "bin_end": 9,
            "count": 27
           },
           {
            "bin_start": 9,
            "bin_end": 10.8,
            "count": 39
           },
           {
            "bin_start": 10.8,
            "bin_end": 12.6,
            "count": 22
           },
           {
            "bin_start": 12.6,
            "bin_end": 14.4,
            "count": 11
           },
           {
            "bin_start": 14.4,
            "bin_end": 16.2,
            "count": 5
           },
           {
            "bin_start": 16.2,
            "bin_end": 18,
            "count": 3
           }
          ]
         }
        },
        {
         "name": "(15 a 17)",
         "dtype": "float64",
         "stats": {
          "unique_count": 53,
          "nan_count": 0,
          "min": "1.0",
          "max": "62.0",
          "histogram": [
           {
            "bin_start": 1,
            "bin_end": 7.1,
            "count": 30
           },
           {
            "bin_start": 7.1,
            "bin_end": 13.2,
            "count": 58
           },
           {
            "bin_start": 13.2,
            "bin_end": 19.299999999999997,
            "count": 37
           },
           {
            "bin_start": 19.299999999999997,
            "bin_end": 25.4,
            "count": 24
           },
           {
            "bin_start": 25.4,
            "bin_end": 31.5,
            "count": 13
           },
           {
            "bin_start": 31.5,
            "bin_end": 37.599999999999994,
            "count": 12
           },
           {
            "bin_start": 37.599999999999994,
            "bin_end": 43.699999999999996,
            "count": 16
           },
           {
            "bin_start": 43.699999999999996,
            "bin_end": 49.8,
            "count": 9
           },
           {
            "bin_start": 49.8,
            "bin_end": 55.9,
            "count": 7
           },
           {
            "bin_start": 55.9,
            "bin_end": 62,
            "count": 2
           }
          ]
         }
        },
        {
         "name": "(18 a 19)",
         "dtype": "float64",
         "stats": {
          "unique_count": 57,
          "nan_count": 0,
          "min": "0.0",
          "max": "78.0",
          "histogram": [
           {
            "bin_start": 0,
            "bin_end": 7.8,
            "count": 43
           },
           {
            "bin_start": 7.8,
            "bin_end": 15.6,
            "count": 59
           },
           {
            "bin_start": 15.6,
            "bin_end": 23.4,
            "count": 28
           },
           {
            "bin_start": 23.4,
            "bin_end": 31.2,
            "count": 23
           },
           {
            "bin_start": 31.2,
            "bin_end": 39,
            "count": 3
           },
           {
            "bin_start": 39,
            "bin_end": 46.8,
            "count": 4
           },
           {
            "bin_start": 46.8,
            "bin_end": 54.6,
            "count": 15
           },
           {
            "bin_start": 54.6,
            "bin_end": 62.4,
            "count": 18
           },
           {
            "bin_start": 62.4,
            "bin_end": 70.2,
            "count": 13
           },
           {
            "bin_start": 70.2,
            "bin_end": 78,
            "count": 2
           }
          ]
         }
        },
        {
         "name": "(20 a 24)",
         "dtype": "float64",
         "stats": {
          "unique_count": 103,
          "nan_count": 0,
          "min": "10.0",
          "max": "259.0",
          "histogram": [
           {
            "bin_start": 10,
            "bin_end": 34.9,
            "count": 94
           },
           {
            "bin_start": 34.9,
            "bin_end": 59.8,
            "count": 17
           },
           {
            "bin_start": 59.8,
            "bin_end": 84.69999999999999,
            "count": 27
           },
           {
            "bin_start": 84.69999999999999,
            "bin_end": 109.6,
            "count": 18
           },
           {
            "bin_start": 109.6,
            "bin_end": 134.5,
            "count": 1
           },
           {
            "bin_start": 134.5,
            "bin_end": 159.39999999999998,
            "count": 1
           },
           {
            "bin_start": 159.39999999999998,
            "bin_end": 184.29999999999998,
            "count": 12
           },
           {
            "bin_start": 184.29999999999998,
            "bin_end": 209.2,
            "count": 22
           },
           {
            "bin_start": 209.2,
            "bin_end": 234.1,
            "count": 10
           },
           {
            "bin_start": 234.1,
            "bin_end": 259,
            "count": 6
           }
          ]
         }
        },
        {
         "name": "(25 a 29)",
         "dtype": "float64",
         "stats": {
          "unique_count": 109,
          "nan_count": 0,
          "min": "7.0",
          "max": "278.0",
          "histogram": [
           {
            "bin_start": 7,
            "bin_end": 34.1,
            "count": 101
           },
           {
            "bin_start": 34.1,
            "bin_end": 61.2,
            "count": 19
           },
           {
            "bin_start": 61.2,
            "bin_end": 88.30000000000001,
            "count": 32
           },
           {
            "bin_start": 88.30000000000001,
            "bin_end": 115.4,
            "count": 4
           },
           {
            "bin_start": 115.4,
            "bin_end": 142.5,
            "count": 3
           },
           {
            "bin_start": 142.5,
            "bin_end": 169.60000000000002,
            "count": 14
           },
           {
            "bin_start": 169.60000000000002,
            "bin_end": 196.70000000000002,
            "count": 18
           },
           {
            "bin_start": 196.70000000000002,
            "bin_end": 223.8,
            "count": 11
           },
           {
            "bin_start": 223.8,
            "bin_end": 250.9,
            "count": 5
           },
           {
            "bin_start": 250.9,
            "bin_end": 278,
            "count": 1
           }
          ]
         }
        },
        {
         "name": "(30 a 34)",
         "dtype": "float64",
         "stats": {
          "unique_count": 90,
          "nan_count": 0,
          "min": "8.0",
          "max": "190.0",
          "histogram": [
           {
            "bin_start": 8,
            "bin_end": 26.2,
            "count": 102
           },
           {
            "bin_start": 26.2,
            "bin_end": 44.4,
            "count": 12
           },
           {
            "bin_start": 44.4,
            "bin_end": 62.599999999999994,
            "count": 29
           },
           {
            "bin_start": 62.599999999999994,
            "bin_end": 80.8,
            "count": 12
           },
           {
            "bin_start": 80.8,
            "bin_end": 99,
            "count": 2
           },
           {
            "bin_start": 99,
            "bin_end": 117.19999999999999,
            "count": 4
           },
           {
            "bin_start": 117.19999999999999,
            "bin_end": 135.39999999999998,
            "count": 17
           },
           {
            "bin_start": 135.39999999999998,
            "bin_end": 153.6,
            "count": 14
           },
           {
            "bin_start": 153.6,
            "bin_end": 171.79999999999998,
            "count": 9
           },
           {
            "bin_start": 171.79999999999998,
            "bin_end": 190,
            "count": 7
           }
          ]
         }
        },
        {
         "name": "(35 a 39)",
         "dtype": "float64",
         "stats": {
          "unique_count": 85,
          "nan_count": 0,
          "min": "5.0",
          "max": "150.0",
          "histogram": [
           {
            "bin_start": 5,
            "bin_end": 19.5,
            "count": 76
           },
           {
            "bin_start": 19.5,
            "bin_end": 34,
            "count": 31
           },
           {
            "bin_start": 34,
            "bin_end": 48.5,
            "count": 29
           },
           {
            "bin_start": 48.5,
            "bin_end": 63,
            "count": 18
           },
           {
            "bin_start": 63,
            "bin_end": 77.5,
            "count": 3
           },
           {
            "bin_start": 77.5,
            "bin_end": 92,
            "count": 4
           },
           {
            "bin_start": 92,
            "bin_end": 106.5,
            "count": 18
           },
           {
            "bin_start": 106.5,
            "bin_end": 121,
            "count": 16
           },
           {
            "bin_start": 121,
            "bin_end": 135.5,
            "count": 10
           },
           {
            "bin_start": 135.5,
            "bin_end": 150,
            "count": 3
           }
          ]
         }
        },
        {
         "name": "(40 a 44)",
         "dtype": "float64",
         "stats": {
          "unique_count": 71,
          "nan_count": 0,
          "min": "5.0",
          "max": "108.0",
          "histogram": [
           {
            "bin_start": 5,
            "bin_end": 15.3,
            "count": 67
           },
           {
            "bin_start": 15.3,
            "bin_end": 25.6,
            "count": 41
           },
           {
            "bin_start": 25.6,
            "bin_end": 35.900000000000006,
            "count": 18
           },
           {
            "bin_start": 35.900000000000006,
            "bin_end": 46.2,
            "count": 23
           },
           {
            "bin_start": 46.2,
            "bin_end": 56.5,
            "count": 15
           },
           {
            "bin_start": 56.5,
            "bin_end": 66.80000000000001,
            "count": 7
           },
           {
            "bin_start": 66.80000000000001,
            "bin_end": 77.10000000000001,
            "count": 20
           },
           {
            "bin_start": 77.10000000000001,
            "bin_end": 87.4,
            "count": 7
           },
           {
            "bin_start": 87.4,
            "bin_end": 97.7,
            "count": 7
           },
           {
            "bin_start": 97.7,
            "bin_end": 108,
            "count": 3
           }
          ]
         }
        },
        {
         "name": "(45 a 49)",
         "dtype": "float64",
         "stats": {
          "unique_count": 61,
          "nan_count": 0,
          "min": "5.0",
          "max": "72.0",
          "histogram": [
           {
            "bin_start": 5,
            "bin_end": 11.7,
            "count": 31
           },
           {
            "bin_start": 11.7,
            "bin_end": 18.4,
            "count": 64
           },
           {
            "bin_start": 18.4,
            "bin_end": 25.1,
            "count": 21
           },
           {
            "bin_start": 25.1,
            "bin_end": 31.8,
            "count": 17
           },
           {
            "bin_start": 31.8,
            "bin_end": 38.5,
            "count": 19
           },
           {
            "bin_start": 38.5,
            "bin_end": 45.2,
            "count": 14
           },
           {
            "bin_start": 45.2,
            "bin_end": 51.9,
            "count": 10
           },
           {
            "bin_start": 51.9,
            "bin_end": 58.6,
            "count": 17
           },
           {
            "bin_start": 58.6,
            "bin_end": 65.30000000000001,
            "count": 9
           },
           {
            "bin_start": 65.30000000000001,
            "bin_end": 72,
            "count": 6
           }
          ]
         }
        },
        {
         "name": "(50 a 54)",
         "dtype": "float64",
         "stats": {
          "unique_count": 48,
          "nan_count": 0,
          "min": "2.0",
          "max": "60.0",
          "histogram": [
           {
            "bin_start": 2,
            "bin_end": 7.8,
            "count": 6
           },
           {
            "bin_start": 7.8,
            "bin_end": 13.6,
            "count": 45
           },
           {
            "bin_start": 13.6,
            "bin_end": 19.4,
            "count": 51
           },
           {
            "bin_start": 19.4,
            "bin_end": 25.2,
            "count": 8
           },
           {
            "bin_start": 25.2,
            "bin_end": 31,
            "count": 10
           },
           {
            "bin_start": 31,
            "bin_end": 36.8,
            "count": 32
           },
           {
            "bin_start": 36.8,
            "bin_end": 42.6,
            "count": 31
           },
           {
            "bin_start": 42.6,
            "bin_end": 48.4,
            "count": 17
           },
           {
            "bin_start": 48.4,
            "bin_end": 54.199999999999996,
            "count": 7
           },
           {
            "bin_start": 54.199999999999996,
            "bin_end": 60,
            "count": 1
           }
          ]
         }
        },
        {
         "name": "(55 a 59)",
         "dtype": "float64",
         "stats": {
          "unique_count": 42,
          "nan_count": 0,
          "min": "4.0",
          "max": "50.0",
          "histogram": [
           {
            "bin_start": 4,
            "bin_end": 8.6,
            "count": 11
           },
           {
            "bin_start": 8.6,
            "bin_end": 13.2,
            "count": 47
           },
           {
            "bin_start": 13.2,
            "bin_end": 17.799999999999997,
            "count": 33
           },
           {
            "bin_start": 17.799999999999997,
            "bin_end": 22.4,
            "count": 27
           },
           {
            "bin_start": 22.4,
            "bin_end": 27,
            "count": 18
           },
           {
            "bin_start": 27,
            "bin_end": 31.599999999999998,
            "count": 31
           },
           {
            "bin_start": 31.599999999999998,
            "bin_end": 36.199999999999996,
            "count": 28
           },
           {
            "bin_start": 36.199999999999996,
            "bin_end": 40.8,
            "count": 5
           },
           {
            "bin_start": 40.8,
            "bin_end": 45.4,
            "count": 6
           },
           {
            "bin_start": 45.4,
            "bin_end": 50,
            "count": 2
           }
          ]
         }
        },
        {
         "name": "(60 a 64)",
         "dtype": "float64",
         "stats": {
          "unique_count": 37,
          "nan_count": 0,
          "min": "5.0",
          "max": "43.0",
          "histogram": [
           {
            "bin_start": 5,
            "bin_end": 8.8,
            "count": 19
           },
           {
            "bin_start": 8.8,
            "bin_end": 12.6,
            "count": 38
           },
           {
            "bin_start": 12.6,
            "bin_end": 16.4,
            "count": 35
           },
           {
            "bin_start": 16.4,
            "bin_end": 20.2,
            "count": 42
           },
           {
            "bin_start": 20.2,
            "bin_end": 24,
            "count": 19
           },
           {
            "bin_start": 24,
            "bin_end": 27.799999999999997,
            "count": 23
           },
           {
            "bin_start": 27.799999999999997,
            "bin_end": 31.599999999999998,
            "count": 14
           },
           {
            "bin_start": 31.599999999999998,
            "bin_end": 35.4,
            "count": 9
           },
           {
            "bin_start": 35.4,
            "bin_end": 39.199999999999996,
            "count": 5
           },
           {
            "bin_start": 39.199999999999996,
            "bin_end": 43,
            "count": 4
           }
          ]
         }
        },
        {
         "name": "(65 a 69)",
         "dtype": "float64",
         "stats": {
          "unique_count": 35,
          "nan_count": 0,
          "min": "3.0",
          "max": "39.0",
          "histogram": [
           {
            "bin_start": 3,
            "bin_end": 6.6,
            "count": 24
           },
           {
            "bin_start": 6.6,
            "bin_end": 10.2,
            "count": 63
           },
           {
            "bin_start": 10.2,
            "bin_end": 13.8,
            "count": 37
           },
           {
            "bin_start": 13.8,
            "bin_end": 17.4,
            "count": 31
           },
           {
            "bin_start": 17.4,
            "bin_end": 21,
            "count": 13
           },
           {
            "bin_start": 21,
            "bin_end": 24.6,
            "count": 18
           },
           {
            "bin_start": 24.6,
            "bin_end": 28.2,
            "count": 10
           },
           {
            "bin_start": 28.2,
            "bin_end": 31.8,
            "count": 4
           },
           {
            "bin_start": 31.8,
            "bin_end": 35.4,
            "count": 5
           },
           {
            "bin_start": 35.4,
            "bin_end": 39,
            "count": 3
           }
          ]
         }
        },
        {
         "name": "(70 a 74)",
         "dtype": "float64",
         "stats": {
          "unique_count": 30,
          "nan_count": 0,
          "min": "1.0",
          "max": "38.0",
          "histogram": [
           {
            "bin_start": 1,
            "bin_end": 4.7,
            "count": 26
           },
           {
            "bin_start": 4.7,
            "bin_end": 8.4,
            "count": 70
           },
           {
            "bin_start": 8.4,
            "bin_end": 12.100000000000001,
            "count": 40
           },
           {
            "bin_start": 12.100000000000001,
            "bin_end": 15.8,
            "count": 25
           },
           {
            "bin_start": 15.8,
            "bin_end": 19.5,
            "count": 17
           },
           {
            "bin_start": 19.5,
            "bin_end": 23.200000000000003,
            "count": 17
           },
           {
            "bin_start": 23.200000000000003,
            "bin_end": 26.900000000000002,
            "count": 7
           },
           {
            "bin_start": 26.900000000000002,
            "bin_end": 30.6,
            "count": 4
           },
           {
            "bin_start": 30.6,
            "bin_end": 34.300000000000004,
            "count": 1
           },
           {
            "bin_start": 34.300000000000004,
            "bin_end": 38,
            "count": 1
           }
          ]
         }
        },
        {
         "name": "(75 a 79)",
         "dtype": "float64",
         "stats": {
          "unique_count": 28,
          "nan_count": 0,
          "min": "0.0",
          "max": "30.0",
          "histogram": [
           {
            "bin_start": 0,
            "bin_end": 3,
            "count": 29
           },
           {
            "bin_start": 3,
            "bin_end": 6,
            "count": 62
           },
           {
            "bin_start": 6,
            "bin_end": 9,
            "count": 29
           },
           {
            "bin_start": 9,
            "bin_end": 12,
            "count": 27
           },
           {
            "bin_start": 12,
            "bin_end": 15,
            "count": 20
           },
           {
            "bin_start": 15,
            "bin_end": 18,
            "count": 18
           },
           {
            "bin_start": 18,
            "bin_end": 21,
            "count": 9
           },
           {
            "bin_start": 21,
            "bin_end": 24,
            "count": 9
           },
           {
            "bin_start": 24,
            "bin_end": 27,
            "count": 1
           },
           {
            "bin_start": 27,
            "bin_end": 30,
            "count": 4
           }
          ]
         }
        },
        {
         "name": "(80 y más)",
         "dtype": "float64",
         "stats": {
          "unique_count": 37,
          "nan_count": 0,
          "min": "0.0",
          "max": "41.0",
          "histogram": [
           {
            "bin_start": 0,
            "bin_end": 4.1,
            "count": 65
           },
           {
            "bin_start": 4.1,
            "bin_end": 8.2,
            "count": 37
           },
           {
            "bin_start": 8.2,
            "bin_end": 12.299999999999999,
            "count": 10
           },
           {
            "bin_start": 12.299999999999999,
            "bin_end": 16.4,
            "count": 17
           },
           {
            "bin_start": 16.4,
            "bin_end": 20.5,
            "count": 17
           },
           {
            "bin_start": 20.5,
            "bin_end": 24.599999999999998,
            "count": 22
           },
           {
            "bin_start": 24.599999999999998,
            "bin_end": 28.699999999999996,
            "count": 24
           },
           {
            "bin_start": 28.699999999999996,
            "bin_end": 32.8,
            "count": 10
           },
           {
            "bin_start": 32.8,
            "bin_end": 36.9,
            "count": 4
           },
           {
            "bin_start": 36.9,
            "bin_end": 41,
            "count": 2
           }
          ]
         }
        },
        {
         "name": "Sin información",
         "dtype": "float64",
         "stats": {
          "unique_count": 5,
          "nan_count": 124,
          "min": "0.0",
          "max": "4.0",
          "histogram": [
           {
            "bin_start": 0,
            "bin_end": 0.4,
            "count": 67
           },
           {
            "bin_start": 0.4,
            "bin_end": 0.8,
            "count": 0
           },
           {
            "bin_start": 0.8,
            "bin_end": 1.2000000000000002,
            "count": 9
           },
           {
            "bin_start": 1.2000000000000002,
            "bin_end": 1.6,
            "count": 0
           },
           {
            "bin_start": 1.6,
            "bin_end": 2,
            "count": 0
           },
           {
            "bin_start": 2,
            "bin_end": 2.4000000000000004,
            "count": 5
           },
           {
            "bin_start": 2.4000000000000004,
            "bin_end": 2.8000000000000003,
            "count": 0
           },
           {
            "bin_start": 2.8000000000000003,
            "bin_end": 3.2,
            "count": 2
           },
           {
            "bin_start": 3.2,
            "bin_end": 3.6,
            "count": 0
           },
           {
            "bin_start": 3.6,
            "bin_end": 4,
            "count": 1
           }
          ]
         }
        },
        {
         "name": "Por determinar",
         "dtype": "float64",
         "stats": {
          "unique_count": 3,
          "nan_count": 159,
          "min": "0.0",
          "max": "2.0",
          "histogram": [
           {
            "bin_start": 0,
            "bin_end": 0.2,
            "count": 38
           },
           {
            "bin_start": 0.2,
            "bin_end": 0.4,
            "count": 0
           },
           {
            "bin_start": 0.4,
            "bin_end": 0.6000000000000001,
            "count": 0
           },
           {
            "bin_start": 0.6000000000000001,
            "bin_end": 0.8,
            "count": 0
           },
           {
            "bin_start": 0.8,
            "bin_end": 1,
            "count": 0
           },
           {
            "bin_start": 1,
            "bin_end": 1.2000000000000002,
            "count": 10
           },
           {
            "bin_start": 1.2000000000000002,
            "bin_end": 1.4000000000000001,
            "count": 0
           },
           {
            "bin_start": 1.4000000000000001,
            "bin_end": 1.6,
            "count": 0
           },
           {
            "bin_start": 1.6,
            "bin_end": 1.8,
            "count": 0
           },
           {
            "bin_start": 1.8,
            "bin_end": 2,
            "count": 1
           }
          ]
         }
        },
        {
         "name": "_deepnote_index_column",
         "dtype": "object"
        }
       ],
       "rows": [
        {
         "(00 a 04)": 9,
         "(05 a 09)": 4,
         "(10 a 14)": 9,
         "(15 a 17)": 16,
         "(18 a 19)": 12,
         "(20 a 24)": 53,
         "(25 a 29)": 52,
         "(30 a 34)": 48,
         "(35 a 39)": 35,
         "(40 a 44)": 28,
         "(45 a 49)": 26,
         "(50 a 54)": 34,
         "(55 a 59)": 32,
         "(60 a 64)": 33,
         "(65 a 69)": 15,
         "(70 a 74)": 18,
         "(75 a 79)": 17,
         "(80 y más)": 25,
         "Sin información": "nan",
         "Por determinar": "nan",
         "_deepnote_index_column": "('Accidente de transporte', '2018-01')"
        },
        {
         "(00 a 04)": 4,
         "(05 a 09)": 9,
         "(10 a 14)": 10,
         "(15 a 17)": 19,
         "(18 a 19)": 16,
         "(20 a 24)": 90,
         "(25 a 29)": 62,
         "(30 a 34)": 53,
         "(35 a 39)": 52,
         "(40 a 44)": 30,
         "(45 a 49)": 29,
         "(50 a 54)": 34,
         "(55 a 59)": 33,
         "(60 a 64)": 23,
         "(65 a 69)": 29,
         "(70 a 74)": 16,
         "(75 a 79)": 23,
         "(80 y más)": 22,
         "Sin información": 0,
         "Por determinar": "nan",
         "_deepnote_index_column": "('Accidente de transporte', '2018-02')"
        },
        {
         "(00 a 04)": 6,
         "(05 a 09)": 0,
         "(10 a 14)": 6,
         "(15 a 17)": 20,
         "(18 a 19)": 24,
         "(20 a 24)": 60,
         "(25 a 29)": 55,
         "(30 a 34)": 57,
         "(35 a 39)": 47,
         "(40 a 44)": 39,
         "(45 a 49)": 24,
         "(50 a 54)": 42,
         "(55 a 59)": 27,
         "(60 a 64)": 18,
         "(65 a 69)": 22,
         "(70 a 74)": 28,
         "(75 a 79)": 19,
         "(80 y más)": 33,
         "Sin información": 0,
         "Por determinar": "nan",
         "_deepnote_index_column": "('Accidente de transporte', '2018-03')"
        },
        {
         "(00 a 04)": 3,
         "(05 a 09)": 2,
         "(10 a 14)": 5,
         "(15 a 17)": 25,
         "(18 a 19)": 25,
         "(20 a 24)": 64,
         "(25 a 29)": 64,
         "(30 a 34)": 41,
         "(35 a 39)": 35,
         "(40 a 44)": 26,
         "(45 a 49)": 26,
         "(50 a 54)": 23,
         "(55 a 59)": 26,
         "(60 a 64)": 24,
         "(65 a 69)": 34,
         "(70 a 74)": 25,
         "(75 a 79)": 18,
         "(80 y más)": 23,
         "Sin información": 0,
         "Por determinar": "nan",
         "_deepnote_index_column": "('Accidente de transporte', '2018-04')"
        },
        {
         "(00 a 04)": 8,
         "(05 a 09)": 1,
         "(10 a 14)": 5,
         "(15 a 17)": 24,
         "(18 a 19)": 20,
         "(20 a 24)": 75,
         "(25 a 29)": 51,
         "(30 a 34)": 62,
         "(35 a 39)": 49,
         "(40 a 44)": 44,
         "(45 a 49)": 25,
         "(50 a 54)": 32,
         "(55 a 59)": 30,
         "(60 a 64)": 31,
         "(65 a 69)": 20,
         "(70 a 74)": 13,
         "(75 a 79)": 14,
         "(80 y más)": 28,
         "Sin información": "nan",
         "Por determinar": "nan",
         "_deepnote_index_column": "('Accidente de transporte', '2018-05')"
        },
        {
         "(00 a 04)": 2,
         "(05 a 09)": 4,
         "(10 a 14)": 10,
         "(15 a 17)": 11,
         "(18 a 19)": 19,
         "(20 a 24)": 77,
         "(25 a 29)": 63,
         "(30 a 34)": 50,
         "(35 a 39)": 47,
         "(40 a 44)": 34,
         "(45 a 49)": 31,
         "(50 a 54)": 34,
         "(55 a 59)": 50,
         "(60 a 64)": 31,
         "(65 a 69)": 25,
         "(70 a 74)": 18,
         "(75 a 79)": 14,
         "(80 y más)": 23,
         "Sin información": 0,
         "Por determinar": "nan",
         "_deepnote_index_column": "('Accidente de transporte', '2018-06')"
        },
        {
         "(00 a 04)": 7,
         "(05 a 09)": 1,
         "(10 a 14)": 6,
         "(15 a 17)": 25,
         "(18 a 19)": 18,
         "(20 a 24)": 81,
         "(25 a 29)": 84,
         "(30 a 34)": 47,
         "(35 a 39)": 41,
         "(40 a 44)": 52,
         "(45 a 49)": 40,
         "(50 a 54)": 36,
         "(55 a 59)": 32,
         "(60 a 64)": 27,
         "(65 a 69)": 21,
         "(70 a 74)": 26,
         "(75 a 79)": 28,
         "(80 y más)": 21,
         "Sin información": 0,
         "Por determinar": "nan",
         "_deepnote_index_column": "('Accidente de transporte', '2018-07')"
        },
        {
         "(00 a 04)": 5,
         "(05 a 09)": 5,
         "(10 a 14)": 8,
         "(15 a 17)": 22,
         "(18 a 19)": 24,
         "(20 a 24)": 79,
         "(25 a 29)": 61,
         "(30 a 34)": 50,
         "(35 a 39)": 36,
         "(40 a 44)": 37,
         "(45 a 49)": 37,
         "(50 a 54)": 21,
         "(55 a 59)": 41,
         "(60 a 64)": 25,
         "(65 a 69)": 23,
         "(70 a 74)": 13,
         "(75 a 79)": 30,
         "(80 y más)": 28,
         "Sin información": 0,
         "Por determinar": "nan",
         "_deepnote_index_column": "('Accidente de transporte', '2018-08')"
        },
        {
         "(00 a 04)": 5,
         "(05 a 09)": 7,
         "(10 a 14)": 14,
         "(15 a 17)": 27,
         "(18 a 19)": 22,
         "(20 a 24)": 77,
         "(25 a 29)": 63,
         "(30 a 34)": 39,
         "(35 a 39)": 59,
         "(40 a 44)": 32,
         "(45 a 49)": 36,
         "(50 a 54)": 31,
         "(55 a 59)": 26,
         "(60 a 64)": 29,
         "(65 a 69)": 20,
         "(70 a 74)": 17,
         "(75 a 79)": 18,
         "(80 y más)": 26,
         "Sin información": 0,
         "Por determinar": "nan",
         "_deepnote_index_column": "('Accidente de transporte', '2018-09')"
        },
        {
         "(00 a 04)": 7,
         "(05 a 09)": 5,
         "(10 a 14)": 9,
         "(15 a 17)": 25,
         "(18 a 19)": 18,
         "(20 a 24)": 86,
         "(25 a 29)": 76,
         "(30 a 34)": 51,
         "(35 a 39)": 37,
         "(40 a 44)": 39,
         "(45 a 49)": 34,
         "(50 a 54)": 30,
         "(55 a 59)": 22,
         "(60 a 64)": 21,
         "(65 a 69)": 18,
         "(70 a 74)": 27,
         "(75 a 79)": 21,
         "(80 y más)": 28,
         "Sin información": 0,
         "Por determinar": "nan",
         "_deepnote_index_column": "('Accidente de transporte', '2018-10')"
        }
       ]
      },
      "text/plain": "                                 (00 a 04)  (05 a 09)  (10 a 14)  (15 a 17)  \\\ncategoria               periodo                                               \nAccidente de transporte 2018-01        9.0        4.0        9.0       16.0   \n                        2018-02        4.0        9.0       10.0       19.0   \n                        2018-03        6.0        0.0        6.0       20.0   \n                        2018-04        3.0        2.0        5.0       25.0   \n                        2018-05        8.0        1.0        5.0       24.0   \n...                                    ...        ...        ...        ...   \nSuicidio                2021-12        0.0        1.0        6.0       13.0   \n                        2022-01        0.0        0.0        6.0        9.0   \n                        2022-02        0.0        0.0        5.0       12.0   \n                        2022-03        0.0        0.0       10.0       15.0   \n                        2022-04        0.0        0.0        3.0       26.0   \n\n                                 (18 a 19)  (20 a 24)  (25 a 29)  (30 a 34)  \\\ncategoria               periodo                                               \nAccidente de transporte 2018-01       12.0       53.0       52.0       48.0   \n                        2018-02       16.0       90.0       62.0       53.0   \n                        2018-03       24.0       60.0       55.0       57.0   \n                        2018-04       25.0       64.0       64.0       41.0   \n                        2018-05       20.0       75.0       51.0       62.0   \n...                                    ...        ...        ...        ...   \nSuicidio                2021-12       14.0       34.0       30.0       21.0   \n                        2022-01        9.0       26.0       23.0       11.0   \n                        2022-02       16.0       38.0       25.0       15.0   \n                        2022-03       16.0       36.0       25.0       27.0   \n                        2022-04       12.0       27.0       39.0       19.0   \n\n                                 (35 a 39)  (40 a 44)  (45 a 49)  (50 a 54)  \\\ncategoria               periodo                                               \nAccidente de transporte 2018-01       35.0       28.0       26.0       34.0   \n                        2018-02       52.0       30.0       29.0       34.0   \n                        2018-03       47.0       39.0       24.0       42.0   \n                        2018-04       35.0       26.0       26.0       23.0   \n                        2018-05       49.0       44.0       25.0       32.0   \n...                                    ...        ...        ...        ...   \nSuicidio                2021-12       24.0       19.0        7.0       13.0   \n                        2022-01       16.0       16.0       12.0       12.0   \n                        2022-02       23.0       18.0        7.0        9.0   \n                        2022-03       21.0       11.0        9.0        3.0   \n                        2022-04       13.0       18.0       13.0        6.0   \n\n                                 (55 a 59)  (60 a 64)  (65 a 69)  (70 a 74)  \\\ncategoria               periodo                                               \nAccidente de transporte 2018-01       32.0       33.0       15.0       18.0   \n                        2018-02       33.0       23.0       29.0       16.0   \n                        2018-03       27.0       18.0       22.0       28.0   \n                        2018-04       26.0       24.0       34.0       25.0   \n                        2018-05       30.0       31.0       20.0       13.0   \n...                                    ...        ...        ...        ...   \nSuicidio                2021-12       12.0       15.0       14.0       10.0   \n                        2022-01        9.0        7.0        9.0        7.0   \n                        2022-02       10.0       13.0        6.0        7.0   \n                        2022-03       18.0       12.0        7.0       11.0   \n                        2022-04       10.0       17.0       10.0        7.0   \n\n                                 (75 a 79)  (80 y más)  Sin información  \\\ncategoria               periodo                                           \nAccidente de transporte 2018-01       17.0        25.0              NaN   \n                        2018-02       23.0        22.0              0.0   \n                        2018-03       19.0        33.0              0.0   \n                        2018-04       18.0        23.0              0.0   \n                        2018-05       14.0        28.0              NaN   \n...                                    ...         ...              ...   \nSuicidio                2021-12        6.0         6.0              NaN   \n                        2022-01        3.0         7.0              NaN   \n                        2022-02        2.0         9.0              NaN   \n                        2022-03        6.0         6.0              NaN   \n                        2022-04        2.0         5.0              NaN   \n\n                                 Por determinar  \ncategoria               periodo                  \nAccidente de transporte 2018-01             NaN  \n                        2018-02             NaN  \n                        2018-03             NaN  \n                        2018-04             NaN  \n                        2018-05             NaN  \n...                                         ...  \nSuicidio                2021-12             NaN  \n                        2022-01             0.0  \n                        2022-02             0.0  \n                        2022-03             0.0  \n                        2022-04             NaN  \n\n[208 rows x 20 columns]",
      "text/html": "<div>\n<style scoped>\n    .dataframe tbody tr th:only-of-type {\n        vertical-align: middle;\n    }\n\n    .dataframe tbody tr th {\n        vertical-align: top;\n    }\n\n    .dataframe thead th {\n        text-align: right;\n    }\n</style>\n<table border=\"1\" class=\"dataframe\">\n  <thead>\n    <tr style=\"text-align: right;\">\n      <th></th>\n      <th></th>\n      <th>(00 a 04)</th>\n      <th>(05 a 09)</th>\n      <th>(10 a 14)</th>\n      <th>(15 a 17)</th>\n      <th>(18 a 19)</th>\n      <th>(20 a 24)</th>\n      <th>(25 a 29)</th>\n      <th>(30 a 34)</th>\n      <th>(35 a 39)</th>\n      <th>(40 a 44)</th>\n      <th>(45 a 49)</th>\n      <th>(50 a 54)</th>\n      <th>(55 a 59)</th>\n      <th>(60 a 64)</th>\n      <th>(65 a 69)</th>\n      <th>(70 a 74)</th>\n      <th>(75 a 79)</th>\n      <th>(80 y más)</th>\n      <th>Sin información</th>\n      <th>Por determinar</th>\n    </tr>\n    <tr>\n      <th>categoria</th>\n      <th>periodo</th>\n      <th></th>\n      <th></th>\n      <th></th>\n      <th></th>\n      <th></th>\n      <th></th>\n      <th></th>\n      <th></th>\n      <th></th>\n      <th></th>\n      <th></th>\n      <th></th>\n      <th></th>\n      <th></th>\n      <th></th>\n      <th></th>\n      <th></th>\n      <th></th>\n      <th></th>\n      <th></th>\n    </tr>\n  </thead>\n  <tbody>\n    <tr>\n      <th rowspan=\"5\" valign=\"top\">Accidente de transporte</th>\n      <th>2018-01</th>\n      <td>9.0</td>\n      <td>4.0</td>\n      <td>9.0</td>\n      <td>16.0</td>\n      <td>12.0</td>\n      <td>53.0</td>\n      <td>52.0</td>\n      <td>48.0</td>\n      <td>35.0</td>\n      <td>28.0</td>\n      <td>26.0</td>\n      <td>34.0</td>\n      <td>32.0</td>\n      <td>33.0</td>\n      <td>15.0</td>\n      <td>18.0</td>\n      <td>17.0</td>\n      <td>25.0</td>\n      <td>NaN</td>\n      <td>NaN</td>\n    </tr>\n    <tr>\n      <th>2018-02</th>\n      <td>4.0</td>\n      <td>9.0</td>\n      <td>10.0</td>\n      <td>19.0</td>\n      <td>16.0</td>\n      <td>90.0</td>\n      <td>62.0</td>\n      <td>53.0</td>\n      <td>52.0</td>\n      <td>30.0</td>\n      <td>29.0</td>\n      <td>34.0</td>\n      <td>33.0</td>\n      <td>23.0</td>\n      <td>29.0</td>\n      <td>16.0</td>\n      <td>23.0</td>\n      <td>22.0</td>\n      <td>0.0</td>\n      <td>NaN</td>\n    </tr>\n    <tr>\n      <th>2018-03</th>\n      <td>6.0</td>\n      <td>0.0</td>\n      <td>6.0</td>\n      <td>20.0</td>\n      <td>24.0</td>\n      <td>60.0</td>\n      <td>55.0</td>\n      <td>57.0</td>\n      <td>47.0</td>\n      <td>39.0</td>\n      <td>24.0</td>\n      <td>42.0</td>\n      <td>27.0</td>\n      <td>18.0</td>\n      <td>22.0</td>\n      <td>28.0</td>\n      <td>19.0</td>\n      <td>33.0</td>\n      <td>0.0</td>\n      <td>NaN</td>\n    </tr>\n    <tr>\n      <th>2018-04</th>\n      <td>3.0</td>\n      <td>2.0</td>\n      <td>5.0</td>\n      <td>25.0</td>\n      <td>25.0</td>\n      <td>64.0</td>\n      <td>64.0</td>\n      <td>41.0</td>\n      <td>35.0</td>\n      <td>26.0</td>\n      <td>26.0</td>\n      <td>23.0</td>\n      <td>26.0</td>\n      <td>24.0</td>\n      <td>34.0</td>\n      <td>25.0</td>\n      <td>18.0</td>\n      <td>23.0</td>\n      <td>0.0</td>\n      <td>NaN</td>\n    </tr>\n    <tr>\n      <th>2018-05</th>\n      <td>8.0</td>\n      <td>1.0</td>\n      <td>5.0</td>\n      <td>24.0</td>\n      <td>20.0</td>\n      <td>75.0</td>\n      <td>51.0</td>\n      <td>62.0</td>\n      <td>49.0</td>\n      <td>44.0</td>\n      <td>25.0</td>\n      <td>32.0</td>\n      <td>30.0</td>\n      <td>31.0</td>\n      <td>20.0</td>\n      <td>13.0</td>\n      <td>14.0</td>\n      <td>28.0</td>\n      <td>NaN</td>\n      <td>NaN</td>\n    </tr>\n    <tr>\n      <th>...</th>\n      <th>...</th>\n      <td>...</td>\n      <td>...</td>\n      <td>...</td>\n      <td>...</td>\n      <td>...</td>\n      <td>...</td>\n      <td>...</td>\n      <td>...</td>\n      <td>...</td>\n      <td>...</td>\n      <td>...</td>\n      <td>...</td>\n      <td>...</td>\n      <td>...</td>\n      <td>...</td>\n      <td>...</td>\n      <td>...</td>\n      <td>...</td>\n      <td>...</td>\n      <td>...</td>\n    </tr>\n    <tr>\n      <th rowspan=\"5\" valign=\"top\">Suicidio</th>\n      <th>2021-12</th>\n      <td>0.0</td>\n      <td>1.0</td>\n      <td>6.0</td>\n      <td>13.0</td>\n      <td>14.0</td>\n      <td>34.0</td>\n      <td>30.0</td>\n      <td>21.0</td>\n      <td>24.0</td>\n      <td>19.0</td>\n      <td>7.0</td>\n      <td>13.0</td>\n      <td>12.0</td>\n      <td>15.0</td>\n      <td>14.0</td>\n      <td>10.0</td>\n      <td>6.0</td>\n      <td>6.0</td>\n      <td>NaN</td>\n      <td>NaN</td>\n    </tr>\n    <tr>\n      <th>2022-01</th>\n      <td>0.0</td>\n      <td>0.0</td>\n      <td>6.0</td>\n      <td>9.0</td>\n      <td>9.0</td>\n      <td>26.0</td>\n      <td>23.0</td>\n      <td>11.0</td>\n      <td>16.0</td>\n      <td>16.0</td>\n      <td>12.0</td>\n      <td>12.0</td>\n      <td>9.0</td>\n      <td>7.0</td>\n      <td>9.0</td>\n      <td>7.0</td>\n      <td>3.0</td>\n      <td>7.0</td>\n      <td>NaN</td>\n      <td>0.0</td>\n    </tr>\n    <tr>\n      <th>2022-02</th>\n      <td>0.0</td>\n      <td>0.0</td>\n      <td>5.0</td>\n      <td>12.0</td>\n      <td>16.0</td>\n      <td>38.0</td>\n      <td>25.0</td>\n      <td>15.0</td>\n      <td>23.0</td>\n      <td>18.0</td>\n      <td>7.0</td>\n      <td>9.0</td>\n      <td>10.0</td>\n      <td>13.0</td>\n      <td>6.0</td>\n      <td>7.0</td>\n      <td>2.0</td>\n      <td>9.0</td>\n      <td>NaN</td>\n      <td>0.0</td>\n    </tr>\n    <tr>\n      <th>2022-03</th>\n      <td>0.0</td>\n      <td>0.0</td>\n      <td>10.0</td>\n      <td>15.0</td>\n      <td>16.0</td>\n      <td>36.0</td>\n      <td>25.0</td>\n      <td>27.0</td>\n      <td>21.0</td>\n      <td>11.0</td>\n      <td>9.0</td>\n      <td>3.0</td>\n      <td>18.0</td>\n      <td>12.0</td>\n      <td>7.0</td>\n      <td>11.0</td>\n      <td>6.0</td>\n      <td>6.0</td>\n      <td>NaN</td>\n      <td>0.0</td>\n    </tr>\n    <tr>\n      <th>2022-04</th>\n      <td>0.0</td>\n      <td>0.0</td>\n      <td>3.0</td>\n      <td>26.0</td>\n      <td>12.0</td>\n      <td>27.0</td>\n      <td>39.0</td>\n      <td>19.0</td>\n      <td>13.0</td>\n      <td>18.0</td>\n      <td>13.0</td>\n      <td>6.0</td>\n      <td>10.0</td>\n      <td>17.0</td>\n      <td>10.0</td>\n      <td>7.0</td>\n      <td>2.0</td>\n      <td>5.0</td>\n      <td>NaN</td>\n      <td>NaN</td>\n    </tr>\n  </tbody>\n</table>\n<p>208 rows × 20 columns</p>\n</div>"
     },
     "metadata": {}
    }
   ]
  },
  {
   "cell_type": "code",
   "metadata": {
    "cell_id": "2bb04ca7bce544f884f4dd67c86629bd",
    "tags": [],
    "deepnote_to_be_reexecuted": false,
    "source_hash": "828002a",
    "execution_start": 1654213562267,
    "execution_millis": 76,
    "deepnote_cell_type": "code",
    "deepnote_cell_height": 610.390625
   },
   "source": "df.loc[\"Suicidio\"].info()",
   "execution_count": null,
   "outputs": [
    {
     "name": "stdout",
     "text": "<class 'pandas.core.frame.DataFrame'>\nIndex: 52 entries, 2018-01 to 2022-04\nData columns (total 20 columns):\n #   Column           Non-Null Count  Dtype  \n---  ------           --------------  -----  \n 0   (00 a 04)        51 non-null     float64\n 1   (05 a 09)        52 non-null     float64\n 2   (10 a 14)        52 non-null     float64\n 3   (15 a 17)        52 non-null     float64\n 4   (18 a 19)        52 non-null     float64\n 5   (20 a 24)        52 non-null     float64\n 6   (25 a 29)        52 non-null     float64\n 7   (30 a 34)        52 non-null     float64\n 8   (35 a 39)        52 non-null     float64\n 9   (40 a 44)        52 non-null     float64\n 10  (45 a 49)        52 non-null     float64\n 11  (50 a 54)        52 non-null     float64\n 12  (55 a 59)        52 non-null     float64\n 13  (60 a 64)        52 non-null     float64\n 14  (65 a 69)        52 non-null     float64\n 15  (70 a 74)        52 non-null     float64\n 16  (75 a 79)        52 non-null     float64\n 17  (80 y más)       52 non-null     float64\n 18  Sin información  21 non-null     float64\n 19  Por determinar   12 non-null     float64\ndtypes: float64(20)\nmemory usage: 8.5+ KB\n",
     "output_type": "stream"
    }
   ]
  },
  {
   "cell_type": "code",
   "metadata": {
    "cell_id": "5f08d296a7724c1898018c0a49a56720",
    "tags": [],
    "deepnote_to_be_reexecuted": false,
    "source_hash": "dca7f342",
    "execution_start": 1654213577302,
    "execution_millis": 399,
    "deepnote_cell_type": "code",
    "deepnote_cell_height": 532.390625
   },
   "source": "df.loc[\"Suicidio\"].describe()",
   "execution_count": null,
   "outputs": [
    {
     "output_type": "execute_result",
     "execution_count": 37,
     "data": {
      "application/vnd.deepnote.dataframe.v3+json": {
       "column_count": 20,
       "row_count": 8,
       "columns": [
        {
         "name": "(00 a 04)",
         "dtype": "float64",
         "stats": {
          "unique_count": 2,
          "nan_count": 0,
          "min": "0.0",
          "max": "51.0",
          "histogram": [
           {
            "bin_start": 0,
            "bin_end": 5.1,
            "count": 7
           },
           {
            "bin_start": 5.1,
            "bin_end": 10.2,
            "count": 0
           },
           {
            "bin_start": 10.2,
            "bin_end": 15.299999999999999,
            "count": 0
           },
           {
            "bin_start": 15.299999999999999,
            "bin_end": 20.4,
            "count": 0
           },
           {
            "bin_start": 20.4,
            "bin_end": 25.5,
            "count": 0
           },
           {
            "bin_start": 25.5,
            "bin_end": 30.599999999999998,
            "count": 0
           },
           {
            "bin_start": 30.599999999999998,
            "bin_end": 35.699999999999996,
            "count": 0
           },
           {
            "bin_start": 35.699999999999996,
            "bin_end": 40.8,
            "count": 0
           },
           {
            "bin_start": 40.8,
            "bin_end": 45.9,
            "count": 0
           },
           {
            "bin_start": 45.9,
            "bin_end": 51,
            "count": 1
           }
          ]
         }
        },
        {
         "name": "(05 a 09)",
         "dtype": "float64",
         "stats": {
          "unique_count": 6,
          "nan_count": 0,
          "min": "0.0",
          "max": "52.0",
          "histogram": [
           {
            "bin_start": 0,
            "bin_end": 5.2,
            "count": 7
           },
           {
            "bin_start": 5.2,
            "bin_end": 10.4,
            "count": 0
           },
           {
            "bin_start": 10.4,
            "bin_end": 15.600000000000001,
            "count": 0
           },
           {
            "bin_start": 15.600000000000001,
            "bin_end": 20.8,
            "count": 0
           },
           {
            "bin_start": 20.8,
            "bin_end": 26,
            "count": 0
           },
           {
            "bin_start": 26,
            "bin_end": 31.200000000000003,
            "count": 0
           },
           {
            "bin_start": 31.200000000000003,
            "bin_end": 36.4,
            "count": 0
           },
           {
            "bin_start": 36.4,
            "bin_end": 41.6,
            "count": 0
           },
           {
            "bin_start": 41.6,
            "bin_end": 46.800000000000004,
            "count": 0
           },
           {
            "bin_start": 46.800000000000004,
            "bin_end": 52,
            "count": 1
           }
          ]
         }
        },
        {
         "name": "(10 a 14)",
         "dtype": "float64",
         "stats": {
          "unique_count": 8,
          "nan_count": 0,
          "min": "3.0",
          "max": "52.0",
          "histogram": [
           {
            "bin_start": 3,
            "bin_end": 7.9,
            "count": 3
           },
           {
            "bin_start": 7.9,
            "bin_end": 12.8,
            "count": 3
           },
           {
            "bin_start": 12.8,
            "bin_end": 17.700000000000003,
            "count": 0
           },
           {
            "bin_start": 17.700000000000003,
            "bin_end": 22.6,
            "count": 1
           },
           {
            "bin_start": 22.6,
            "bin_end": 27.5,
            "count": 0
           },
           {
            "bin_start": 27.5,
            "bin_end": 32.400000000000006,
            "count": 0
           },
           {
            "bin_start": 32.400000000000006,
            "bin_end": 37.300000000000004,
            "count": 0
           },
           {
            "bin_start": 37.300000000000004,
            "bin_end": 42.2,
            "count": 0
           },
           {
            "bin_start": 42.2,
            "bin_end": 47.1,
            "count": 0
           },
           {
            "bin_start": 47.1,
            "bin_end": 52,
            "count": 1
           }
          ]
         }
        },
        {
         "name": "(15 a 17)",
         "dtype": "float64",
         "stats": {
          "unique_count": 8,
          "nan_count": 0,
          "min": "4.211374026556362",
          "max": "52.0",
          "histogram": [
           {
            "bin_start": 4.211374026556362,
            "bin_end": 8.990236623900724,
            "count": 2
           },
           {
            "bin_start": 8.990236623900724,
            "bin_end": 13.769099221245089,
            "count": 3
           },
           {
            "bin_start": 13.769099221245089,
            "bin_end": 18.54796181858945,
            "count": 1
           },
           {
            "bin_start": 18.54796181858945,
            "bin_end": 23.326824415933814,
            "count": 0
           },
           {
            "bin_start": 23.326824415933814,
            "bin_end": 28.105687013278178,
            "count": 1
           },
           {
            "bin_start": 28.105687013278178,
            "bin_end": 32.88454961062254,
            "count": 0
           },
           {
            "bin_start": 32.88454961062254,
            "bin_end": 37.66341220796691,
            "count": 0
           },
           {
            "bin_start": 37.66341220796691,
            "bin_end": 42.44227480531127,
            "count": 0
           },
           {
            "bin_start": 42.44227480531127,
            "bin_end": 47.221137402655636,
            "count": 0
           },
           {
            "bin_start": 47.221137402655636,
            "bin_end": 52,
            "count": 1
           }
          ]
         }
        },
        {
         "name": "(18 a 19)",
         "dtype": "float64",
         "stats": {
          "unique_count": 8,
          "nan_count": 0,
          "min": "3.3211125904751206",
          "max": "52.0",
          "histogram": [
           {
            "bin_start": 3.3211125904751206,
            "bin_end": 8.189001331427608,
            "count": 2
           },
           {
            "bin_start": 8.189001331427608,
            "bin_end": 13.056890072380096,
            "count": 3
           },
           {
            "bin_start": 13.056890072380096,
            "bin_end": 17.924778813332583,
            "count": 1
           },
           {
            "bin_start": 17.924778813332583,
            "bin_end": 22.79266755428507,
            "count": 1
           },
           {
            "bin_start": 22.79266755428507,
            "bin_end": 27.66055629523756,
            "count": 0
           },
           {
            "bin_start": 27.66055629523756,
            "bin_end": 32.52844503619005,
            "count": 0
           },
           {
            "bin_start": 32.52844503619005,
            "bin_end": 37.39633377714253,
            "count": 0
           },
           {
            "bin_start": 37.39633377714253,
            "bin_end": 42.264222518095025,
            "count": 0
           },
           {
            "bin_start": 42.264222518095025,
            "bin_end": 47.132111259047505,
            "count": 0
           },
           {
            "bin_start": 47.132111259047505,
            "bin_end": 52,
            "count": 1
           }
          ]
         }
        },
        {
         "name": "(20 a 24)",
         "dtype": "float64",
         "stats": {
          "unique_count": 8,
          "nan_count": 0,
          "min": "5.33196626521527",
          "max": "52.0",
          "histogram": [
           {
            "bin_start": 5.33196626521527,
            "bin_end": 9.998769638693743,
            "count": 1
           },
           {
            "bin_start": 9.998769638693743,
            "bin_end": 14.665573012172215,
            "count": 0
           },
           {
            "bin_start": 14.665573012172215,
            "bin_end": 19.33237638565069,
            "count": 1
           },
           {
            "bin_start": 19.33237638565069,
            "bin_end": 23.999179759129163,
            "count": 0
           },
           {
            "bin_start": 23.999179759129163,
            "bin_end": 28.665983132607636,
            "count": 1
           },
           {
            "bin_start": 28.665983132607636,
            "bin_end": 33.33278650608611,
            "count": 2
           },
           {
            "bin_start": 33.33278650608611,
            "bin_end": 37.99958987956458,
            "count": 1
           },
           {
            "bin_start": 37.99958987956458,
            "bin_end": 42.666393253043054,
            "count": 1
           },
           {
            "bin_start": 42.666393253043054,
            "bin_end": 47.33319662652153,
            "count": 0
           },
           {
            "bin_start": 47.33319662652153,
            "bin_end": 52,
            "count": 1
           }
          ]
         }
        },
        {
         "name": "(25 a 29)",
         "dtype": "float64",
         "stats": {
          "unique_count": 8,
          "nan_count": 0,
          "min": "5.895360806150104",
          "max": "52.0",
          "histogram": [
           {
            "bin_start": 5.895360806150104,
            "bin_end": 10.505824725535094,
            "count": 1
           },
           {
            "bin_start": 10.505824725535094,
            "bin_end": 15.116288644920083,
            "count": 1
           },
           {
            "bin_start": 15.116288644920083,
            "bin_end": 19.726752564305073,
            "count": 0
           },
           {
            "bin_start": 19.726752564305073,
            "bin_end": 24.337216483690064,
            "count": 3
           },
           {
            "bin_start": 24.337216483690064,
            "bin_end": 28.947680403075054,
            "count": 1
           },
           {
            "bin_start": 28.947680403075054,
            "bin_end": 33.55814432246004,
            "count": 0
           },
           {
            "bin_start": 33.55814432246004,
            "bin_end": 38.16860824184503,
            "count": 0
           },
           {
            "bin_start": 38.16860824184503,
            "bin_end": 42.77907216123002,
            "count": 1
           },
           {
            "bin_start": 42.77907216123002,
            "bin_end": 47.38953608061501,
            "count": 0
           },
           {
            "bin_start": 47.38953608061501,
            "bin_end": 52,
            "count": 1
           }
          ]
         }
        },
        {
         "name": "(30 a 34)",
         "dtype": "float64",
         "stats": {
          "unique_count": 8,
          "nan_count": 0,
          "min": "4.344298112873279",
          "max": "52.0",
          "histogram": [
           {
            "bin_start": 4.344298112873279,
            "bin_end": 9.109868301585951,
            "count": 2
           },
           {
            "bin_start": 9.109868301585951,
            "bin_end": 13.875438490298624,
            "count": 0
           },
           {
            "bin_start": 13.875438490298624,
            "bin_end": 18.641008679011296,
            "count": 2
           },
           {
            "bin_start": 18.641008679011296,
            "bin_end": 23.40657886772397,
            "count": 2
           },
           {
            "bin_start": 23.40657886772397,
            "bin_end": 28.17214905643664,
            "count": 1
           },
           {
            "bin_start": 28.17214905643664,
            "bin_end": 32.93771924514931,
            "count": 0
           },
           {
            "bin_start": 32.93771924514931,
            "bin_end": 37.70328943386198,
            "count": 0
           },
           {
            "bin_start": 37.70328943386198,
            "bin_end": 42.468859622574655,
            "count": 0
           },
           {
            "bin_start": 42.468859622574655,
            "bin_end": 47.23442981128733,
            "count": 0
           },
           {
            "bin_start": 47.23442981128733,
            "bin_end": 52,
            "count": 1
           }
          ]
         }
        },
        {
         "name": "(35 a 39)",
         "dtype": "float64",
         "stats": {
          "unique_count": 8,
          "nan_count": 0,
          "min": "4.655678185454385",
          "max": "52.0",
          "histogram": [
           {
            "bin_start": 4.655678185454385,
            "bin_end": 9.390110366908946,
            "count": 2
           },
           {
            "bin_start": 9.390110366908946,
            "bin_end": 14.124542548363507,
            "count": 1
           },
           {
            "bin_start": 14.124542548363507,
            "bin_end": 18.85897472981807,
            "count": 2
           },
           {
            "bin_start": 18.85897472981807,
            "bin_end": 23.59340691127263,
            "count": 1
           },
           {
            "bin_start": 23.59340691127263,
            "bin_end": 28.327839092727192,
            "count": 1
           },
           {
            "bin_start": 28.327839092727192,
            "bin_end": 33.062271274181754,
            "count": 0
           },
           {
            "bin_start": 33.062271274181754,
            "bin_end": 37.79670345563631,
            "count": 0
           },
           {
            "bin_start": 37.79670345563631,
            "bin_end": 42.53113563709088,
            "count": 0
           },
           {
            "bin_start": 42.53113563709088,
            "bin_end": 47.26556781854544,
            "count": 0
           },
           {
            "bin_start": 47.26556781854544,
            "bin_end": 52,
            "count": 1
           }
          ]
         }
        },
        {
         "name": "(40 a 44)",
         "dtype": "float64",
         "stats": {
          "unique_count": 8,
          "nan_count": 0,
          "min": "4.002261803969265",
          "max": "52.0",
          "histogram": [
           {
            "bin_start": 4.002261803969265,
            "bin_end": 8.802035623572339,
            "count": 2
           },
           {
            "bin_start": 8.802035623572339,
            "bin_end": 13.601809443175412,
            "count": 3
           },
           {
            "bin_start": 13.601809443175412,
            "bin_end": 18.401583262778487,
            "count": 1
           },
           {
            "bin_start": 18.401583262778487,
            "bin_end": 23.20135708238156,
            "count": 0
           },
           {
            "bin_start": 23.20135708238156,
            "bin_end": 28.001130901984634,
            "count": 1
           },
           {
            "bin_start": 28.001130901984634,
            "bin_end": 32.800904721587706,
            "count": 0
           },
           {
            "bin_start": 32.800904721587706,
            "bin_end": 37.600678541190774,
            "count": 0
           },
           {
            "bin_start": 37.600678541190774,
            "bin_end": 42.40045236079385,
            "count": 0
           },
           {
            "bin_start": 42.40045236079385,
            "bin_end": 47.200226180396925,
            "count": 0
           },
           {
            "bin_start": 47.200226180396925,
            "bin_end": 52,
            "count": 1
           }
          ]
         }
        },
        {
         "name": "(45 a 49)",
         "dtype": "float64",
         "stats": {
          "unique_count": 8,
          "nan_count": 0,
          "min": "3.403263450221548",
          "max": "52.0",
          "histogram": [
           {
            "bin_start": 3.403263450221548,
            "bin_end": 8.262937105199393,
            "count": 2
           },
           {
            "bin_start": 8.262937105199393,
            "bin_end": 13.122610760177238,
            "count": 3
           },
           {
            "bin_start": 13.122610760177238,
            "bin_end": 17.982284415155085,
            "count": 1
           },
           {
            "bin_start": 17.982284415155085,
            "bin_end": 22.84195807013293,
            "count": 1
           },
           {
            "bin_start": 22.84195807013293,
            "bin_end": 27.701631725110776,
            "count": 0
           },
           {
            "bin_start": 27.701631725110776,
            "bin_end": 32.56130538008862,
            "count": 0
           },
           {
            "bin_start": 32.56130538008862,
            "bin_end": 37.420979035066466,
            "count": 0
           },
           {
            "bin_start": 37.420979035066466,
            "bin_end": 42.280652690044306,
            "count": 0
           },
           {
            "bin_start": 42.280652690044306,
            "bin_end": 47.14032634502216,
            "count": 0
           },
           {
            "bin_start": 47.14032634502216,
            "bin_end": 52,
            "count": 1
           }
          ]
         }
        },
        {
         "name": "(50 a 54)",
         "dtype": "float64",
         "stats": {
          "unique_count": 8,
          "nan_count": 0,
          "min": "2.0",
          "max": "52.0",
          "histogram": [
           {
            "bin_start": 2,
            "bin_end": 7,
            "count": 2
           },
           {
            "bin_start": 7,
            "bin_end": 12,
            "count": 1
           },
           {
            "bin_start": 12,
            "bin_end": 17,
            "count": 3
           },
           {
            "bin_start": 17,
            "bin_end": 22,
            "count": 1
           },
           {
            "bin_start": 22,
            "bin_end": 27,
            "count": 0
           },
           {
            "bin_start": 27,
            "bin_end": 32,
            "count": 0
           },
           {
            "bin_start": 32,
            "bin_end": 37,
            "count": 0
           },
           {
            "bin_start": 37,
            "bin_end": 42,
            "count": 0
           },
           {
            "bin_start": 42,
            "bin_end": 47,
            "count": 0
           },
           {
            "bin_start": 47,
            "bin_end": 52,
            "count": 1
           }
          ]
         }
        },
        {
         "name": "(55 a 59)",
         "dtype": "float64",
         "stats": {
          "unique_count": 8,
          "nan_count": 0,
          "min": "3.5028538246754946",
          "max": "52.0",
          "histogram": [
           {
            "bin_start": 3.5028538246754946,
            "bin_end": 8.352568442207945,
            "count": 2
           },
           {
            "bin_start": 8.352568442207945,
            "bin_end": 13.202283059740395,
            "count": 3
           },
           {
            "bin_start": 13.202283059740395,
            "bin_end": 18.051997677272848,
            "count": 1
           },
           {
            "bin_start": 18.051997677272848,
            "bin_end": 22.901712294805296,
            "count": 1
           },
           {
            "bin_start": 22.901712294805296,
            "bin_end": 27.751426912337745,
            "count": 0
           },
           {
            "bin_start": 27.751426912337745,
            "bin_end": 32.6011415298702,
            "count": 0
           },
           {
            "bin_start": 32.6011415298702,
            "bin_end": 37.450856147402654,
            "count": 0
           },
           {
            "bin_start": 37.450856147402654,
            "bin_end": 42.3005707649351,
            "count": 0
           },
           {
            "bin_start": 42.3005707649351,
            "bin_end": 47.15028538246755,
            "count": 0
           },
           {
            "bin_start": 47.15028538246755,
            "bin_end": 52,
            "count": 1
           }
          ]
         }
        },
        {
         "name": "(60 a 64)",
         "dtype": "float64",
         "stats": {
          "unique_count": 8,
          "nan_count": 0,
          "min": "3.289225520527116",
          "max": "52.0",
          "histogram": [
           {
            "bin_start": 3.289225520527116,
            "bin_end": 8.160302968474404,
            "count": 3
           },
           {
            "bin_start": 8.160302968474404,
            "bin_end": 13.031380416421692,
            "count": 3
           },
           {
            "bin_start": 13.031380416421692,
            "bin_end": 17.90245786436898,
            "count": 1
           },
           {
            "bin_start": 17.90245786436898,
            "bin_end": 22.773535312316266,
            "count": 0
           },
           {
            "bin_start": 22.773535312316266,
            "bin_end": 27.644612760263552,
            "count": 0
           },
           {
            "bin_start": 27.644612760263552,
            "bin_end": 32.51569020821084,
            "count": 0
           },
           {
            "bin_start": 32.51569020821084,
            "bin_end": 37.386767656158135,
            "count": 0
           },
           {
            "bin_start": 37.386767656158135,
            "bin_end": 42.25784510410542,
            "count": 0
           },
           {
            "bin_start": 42.25784510410542,
            "bin_end": 47.12892255205271,
            "count": 0
           },
           {
            "bin_start": 47.12892255205271,
            "bin_end": 52,
            "count": 1
           }
          ]
         }
        },
        {
         "name": "(65 a 69)",
         "dtype": "float64",
         "stats": {
          "unique_count": 8,
          "nan_count": 0,
          "min": "2.6280193437628183",
          "max": "52.0",
          "histogram": [
           {
            "bin_start": 2.6280193437628183,
            "bin_end": 7.565217409386537,
            "count": 3
           },
           {
            "bin_start": 7.565217409386537,
            "bin_end": 12.502415475010256,
            "count": 3
           },
           {
            "bin_start": 12.502415475010256,
            "bin_end": 17.439613540633975,
            "count": 1
           },
           {
            "bin_start": 17.439613540633975,
            "bin_end": 22.376811606257693,
            "count": 0
           },
           {
            "bin_start": 22.376811606257693,
            "bin_end": 27.31400967188141,
            "count": 0
           },
           {
            "bin_start": 27.31400967188141,
            "bin_end": 32.251207737505126,
            "count": 0
           },
           {
            "bin_start": 32.251207737505126,
            "bin_end": 37.188405803128845,
            "count": 0
           },
           {
            "bin_start": 37.188405803128845,
            "bin_end": 42.12560386875256,
            "count": 0
           },
           {
            "bin_start": 42.12560386875256,
            "bin_end": 47.06280193437628,
            "count": 0
           },
           {
            "bin_start": 47.06280193437628,
            "bin_end": 52,
            "count": 1
           }
          ]
         }
        },
        {
         "name": "(70 a 74)",
         "dtype": "float64",
         "stats": {
          "unique_count": 8,
          "nan_count": 0,
          "min": "1.0",
          "max": "52.0",
          "histogram": [
           {
            "bin_start": 1,
            "bin_end": 6.1,
            "count": 3
           },
           {
            "bin_start": 6.1,
            "bin_end": 11.2,
            "count": 4
           },
           {
            "bin_start": 11.2,
            "bin_end": 16.299999999999997,
            "count": 0
           },
           {
            "bin_start": 16.299999999999997,
            "bin_end": 21.4,
            "count": 0
           },
           {
            "bin_start": 21.4,
            "bin_end": 26.5,
            "count": 0
           },
           {
            "bin_start": 26.5,
            "bin_end": 31.599999999999998,
            "count": 0
           },
           {
            "bin_start": 31.599999999999998,
            "bin_end": 36.699999999999996,
            "count": 0
           },
           {
            "bin_start": 36.699999999999996,
            "bin_end": 41.8,
            "count": 0
           },
           {
            "bin_start": 41.8,
            "bin_end": 46.9,
            "count": 0
           },
           {
            "bin_start": 46.9,
            "bin_end": 52,
            "count": 1
           }
          ]
         }
        },
        {
         "name": "(75 a 79)",
         "dtype": "float64",
         "stats": {
          "unique_count": 8,
          "nan_count": 0,
          "min": "1.0",
          "max": "52.0",
          "histogram": [
           {
            "bin_start": 1,
            "bin_end": 6.1,
            "count": 6
           },
           {
            "bin_start": 6.1,
            "bin_end": 11.2,
            "count": 1
           },
           {
            "bin_start": 11.2,
            "bin_end": 16.299999999999997,
            "count": 0
           },
           {
            "bin_start": 16.299999999999997,
            "bin_end": 21.4,
            "count": 0
           },
           {
            "bin_start": 21.4,
            "bin_end": 26.5,
            "count": 0
           },
           {
            "bin_start": 26.5,
            "bin_end": 31.599999999999998,
            "count": 0
           },
           {
            "bin_start": 31.599999999999998,
            "bin_end": 36.699999999999996,
            "count": 0
           },
           {
            "bin_start": 36.699999999999996,
            "bin_end": 41.8,
            "count": 0
           },
           {
            "bin_start": 41.8,
            "bin_end": 46.9,
            "count": 0
           },
           {
            "bin_start": 46.9,
            "bin_end": 52,
            "count": 1
           }
          ]
         }
        },
        {
         "name": "(80 y más)",
         "dtype": "float64",
         "stats": {
          "unique_count": 8,
          "nan_count": 0,
          "min": "1.0",
          "max": "52.0",
          "histogram": [
           {
            "bin_start": 1,
            "bin_end": 6.1,
            "count": 6
           },
           {
            "bin_start": 6.1,
            "bin_end": 11.2,
            "count": 1
           },
           {
            "bin_start": 11.2,
            "bin_end": 16.299999999999997,
            "count": 0
           },
           {
            "bin_start": 16.299999999999997,
            "bin_end": 21.4,
            "count": 0
           },
           {
            "bin_start": 21.4,
            "bin_end": 26.5,
            "count": 0
           },
           {
            "bin_start": 26.5,
            "bin_end": 31.599999999999998,
            "count": 0
           },
           {
            "bin_start": 31.599999999999998,
            "bin_end": 36.699999999999996,
            "count": 0
           },
           {
            "bin_start": 36.699999999999996,
            "bin_end": 41.8,
            "count": 0
           },
           {
            "bin_start": 41.8,
            "bin_end": 46.9,
            "count": 0
           },
           {
            "bin_start": 46.9,
            "bin_end": 52,
            "count": 1
           }
          ]
         }
        },
        {
         "name": "Sin información",
         "dtype": "float64",
         "stats": {
          "unique_count": 2,
          "nan_count": 0,
          "min": "0.0",
          "max": "21.0",
          "histogram": [
           {
            "bin_start": 0,
            "bin_end": 2.1,
            "count": 7
           },
           {
            "bin_start": 2.1,
            "bin_end": 4.2,
            "count": 0
           },
           {
            "bin_start": 4.2,
            "bin_end": 6.300000000000001,
            "count": 0
           },
           {
            "bin_start": 6.300000000000001,
            "bin_end": 8.4,
            "count": 0
           },
           {
            "bin_start": 8.4,
            "bin_end": 10.5,
            "count": 0
           },
           {
            "bin_start": 10.5,
            "bin_end": 12.600000000000001,
            "count": 0
           },
           {
            "bin_start": 12.600000000000001,
            "bin_end": 14.700000000000001,
            "count": 0
           },
           {
            "bin_start": 14.700000000000001,
            "bin_end": 16.8,
            "count": 0
           },
           {
            "bin_start": 16.8,
            "bin_end": 18.900000000000002,
            "count": 0
           },
           {
            "bin_start": 18.900000000000002,
            "bin_end": 21,
            "count": 1
           }
          ]
         }
        },
        {
         "name": "Por determinar",
         "dtype": "float64",
         "stats": {
          "unique_count": 2,
          "nan_count": 0,
          "min": "0.0",
          "max": "12.0",
          "histogram": [
           {
            "bin_start": 0,
            "bin_end": 1.2,
            "count": 7
           },
           {
            "bin_start": 1.2,
            "bin_end": 2.4,
            "count": 0
           },
           {
            "bin_start": 2.4,
            "bin_end": 3.5999999999999996,
            "count": 0
           },
           {
            "bin_start": 3.5999999999999996,
            "bin_end": 4.8,
            "count": 0
           },
           {
            "bin_start": 4.8,
            "bin_end": 6,
            "count": 0
           },
           {
            "bin_start": 6,
            "bin_end": 7.199999999999999,
            "count": 0
           },
           {
            "bin_start": 7.199999999999999,
            "bin_end": 8.4,
            "count": 0
           },
           {
            "bin_start": 8.4,
            "bin_end": 9.6,
            "count": 0
           },
           {
            "bin_start": 9.6,
            "bin_end": 10.799999999999999,
            "count": 0
           },
           {
            "bin_start": 10.799999999999999,
            "bin_end": 12,
            "count": 1
           }
          ]
         }
        },
        {
         "name": "_deepnote_index_column",
         "dtype": "object"
        }
       ],
       "rows": [
        {
         "(00 a 04)": 51,
         "(05 a 09)": 52,
         "(10 a 14)": 52,
         "(15 a 17)": 52,
         "(18 a 19)": 52,
         "(20 a 24)": 52,
         "(25 a 29)": 52,
         "(30 a 34)": 52,
         "(35 a 39)": 52,
         "(40 a 44)": 52,
         "(45 a 49)": 52,
         "(50 a 54)": 52,
         "(55 a 59)": 52,
         "(60 a 64)": 52,
         "(65 a 69)": 52,
         "(70 a 74)": 52,
         "(75 a 79)": 52,
         "(80 y más)": 52,
         "Sin información": 21,
         "Por determinar": 12,
         "_deepnote_index_column": "count"
        },
        {
         "(00 a 04)": 0,
         "(05 a 09)": 0.34615384615384615,
         "(10 a 14)": 9.23076923076923,
         "(15 a 17)": 13.403846153846153,
         "(18 a 19)": 12.096153846153847,
         "(20 a 24)": 30.03846153846154,
         "(25 a 29)": 24.096153846153847,
         "(30 a 34)": 18.403846153846153,
         "(35 a 39)": 16.673076923076923,
         "(40 a 44)": 13.461538461538462,
         "(45 a 49)": 12.423076923076923,
         "(50 a 54)": 12.134615384615385,
         "(55 a 59)": 11.653846153846153,
         "(60 a 64)": 10.653846153846153,
         "(65 a 69)": 8.73076923076923,
         "(70 a 74)": 6.1923076923076925,
         "(75 a 79)": 4.288461538461538,
         "(80 y más)": 4.769230769230769,
         "Sin información": 0,
         "Por determinar": 0,
         "_deepnote_index_column": "mean"
        },
        {
         "(00 a 04)": 0,
         "(05 a 09)": 0.5560580934742793,
         "(10 a 14)": 3.203034006635294,
         "(15 a 17)": 4.211374026556362,
         "(18 a 19)": 3.3211125904751206,
         "(20 a 24)": 5.33196626521527,
         "(25 a 29)": 5.895360806150104,
         "(30 a 34)": 4.344298112873279,
         "(35 a 39)": 4.655678185454385,
         "(40 a 44)": 4.002261803969265,
         "(45 a 49)": 3.403263450221548,
         "(50 a 54)": 3.885765103220437,
         "(55 a 59)": 3.5028538246754946,
         "(60 a 64)": 3.289225520527116,
         "(65 a 69)": 2.6280193437628183,
         "(70 a 74)": 2.351790819850232,
         "(75 a 79)": 2.061186964924351,
         "(80 y más)": 2.1658253384522377,
         "Sin información": 0,
         "Por determinar": 0,
         "_deepnote_index_column": "std"
        },
        {
         "(00 a 04)": 0,
         "(05 a 09)": 0,
         "(10 a 14)": 3,
         "(15 a 17)": 5,
         "(18 a 19)": 5,
         "(20 a 24)": 19,
         "(25 a 29)": 14,
         "(30 a 34)": 9,
         "(35 a 39)": 5,
         "(40 a 44)": 5,
         "(45 a 49)": 6,
         "(50 a 54)": 2,
         "(55 a 59)": 4,
         "(60 a 64)": 5,
         "(65 a 69)": 3,
         "(70 a 74)": 1,
         "(75 a 79)": 1,
         "(80 y más)": 1,
         "Sin información": 0,
         "Por determinar": 0,
         "_deepnote_index_column": "min"
        },
        {
         "(00 a 04)": 0,
         "(05 a 09)": 0,
         "(10 a 14)": 6,
         "(15 a 17)": 11,
         "(18 a 19)": 10,
         "(20 a 24)": 26,
         "(25 a 29)": 20,
         "(30 a 34)": 15,
         "(35 a 39)": 14,
         "(40 a 44)": 11,
         "(45 a 49)": 9.75,
         "(50 a 54)": 10,
         "(55 a 59)": 9,
         "(60 a 64)": 8,
         "(65 a 69)": 6.75,
         "(70 a 74)": 5,
         "(75 a 79)": 3,
         "(80 y más)": 3,
         "Sin información": 0,
         "Por determinar": 0,
         "_deepnote_index_column": "25%"
        },
        {
         "(00 a 04)": 0,
         "(05 a 09)": 0,
         "(10 a 14)": 9,
         "(15 a 17)": 13,
         "(18 a 19)": 12,
         "(20 a 24)": 29,
         "(25 a 29)": 23,
         "(30 a 34)": 19,
         "(35 a 39)": 16,
         "(40 a 44)": 13,
         "(45 a 49)": 13,
         "(50 a 54)": 12,
         "(55 a 59)": 12,
         "(60 a 64)": 11,
         "(65 a 69)": 9,
         "(70 a 74)": 6.5,
         "(75 a 79)": 4,
         "(80 y más)": 5,
         "Sin información": 0,
         "Por determinar": 0,
         "_deepnote_index_column": "50%"
        },
        {
         "(00 a 04)": 0,
         "(05 a 09)": 1,
         "(10 a 14)": 11,
         "(15 a 17)": 15,
         "(18 a 19)": 14.25,
         "(20 a 24)": 34,
         "(25 a 29)": 27.25,
         "(30 a 34)": 21,
         "(35 a 39)": 20.25,
         "(40 a 44)": 16,
         "(45 a 49)": 14,
         "(50 a 54)": 15,
         "(55 a 59)": 14,
         "(60 a 64)": 13,
         "(65 a 69)": 10,
         "(70 a 74)": 8,
         "(75 a 79)": 6,
         "(80 y más)": 6,
         "Sin información": 0,
         "Por determinar": 0,
         "_deepnote_index_column": "75%"
        },
        {
         "(00 a 04)": 0,
         "(05 a 09)": 2,
         "(10 a 14)": 18,
         "(15 a 17)": 28,
         "(18 a 19)": 20,
         "(20 a 24)": 40,
         "(25 a 29)": 39,
         "(30 a 34)": 27,
         "(35 a 39)": 27,
         "(40 a 44)": 26,
         "(45 a 49)": 22,
         "(50 a 54)": 19,
         "(55 a 59)": 20,
         "(60 a 64)": 17,
         "(65 a 69)": 14,
         "(70 a 74)": 11,
         "(75 a 79)": 9,
         "(80 y más)": 10,
         "Sin información": 0,
         "Por determinar": 0,
         "_deepnote_index_column": "max"
        }
       ]
      },
      "text/plain": "       (00 a 04)  (05 a 09)  (10 a 14)  (15 a 17)  (18 a 19)  (20 a 24)  \\\ncount       51.0  52.000000  52.000000  52.000000  52.000000  52.000000   \nmean         0.0   0.346154   9.230769  13.403846  12.096154  30.038462   \nstd          0.0   0.556058   3.203034   4.211374   3.321113   5.331966   \nmin          0.0   0.000000   3.000000   5.000000   5.000000  19.000000   \n25%          0.0   0.000000   6.000000  11.000000  10.000000  26.000000   \n50%          0.0   0.000000   9.000000  13.000000  12.000000  29.000000   \n75%          0.0   1.000000  11.000000  15.000000  14.250000  34.000000   \nmax          0.0   2.000000  18.000000  28.000000  20.000000  40.000000   \n\n       (25 a 29)  (30 a 34)  (35 a 39)  (40 a 44)  (45 a 49)  (50 a 54)  \\\ncount  52.000000  52.000000  52.000000  52.000000  52.000000  52.000000   \nmean   24.096154  18.403846  16.673077  13.461538  12.423077  12.134615   \nstd     5.895361   4.344298   4.655678   4.002262   3.403263   3.885765   \nmin    14.000000   9.000000   5.000000   5.000000   6.000000   2.000000   \n25%    20.000000  15.000000  14.000000  11.000000   9.750000  10.000000   \n50%    23.000000  19.000000  16.000000  13.000000  13.000000  12.000000   \n75%    27.250000  21.000000  20.250000  16.000000  14.000000  15.000000   \nmax    39.000000  27.000000  27.000000  26.000000  22.000000  19.000000   \n\n       (55 a 59)  (60 a 64)  (65 a 69)  (70 a 74)  (75 a 79)  (80 y más)  \\\ncount  52.000000  52.000000  52.000000  52.000000  52.000000   52.000000   \nmean   11.653846  10.653846   8.730769   6.192308   4.288462    4.769231   \nstd     3.502854   3.289226   2.628019   2.351791   2.061187    2.165825   \nmin     4.000000   5.000000   3.000000   1.000000   1.000000    1.000000   \n25%     9.000000   8.000000   6.750000   5.000000   3.000000    3.000000   \n50%    12.000000  11.000000   9.000000   6.500000   4.000000    5.000000   \n75%    14.000000  13.000000  10.000000   8.000000   6.000000    6.000000   \nmax    20.000000  17.000000  14.000000  11.000000   9.000000   10.000000   \n\n       Sin información  Por determinar  \ncount             21.0            12.0  \nmean               0.0             0.0  \nstd                0.0             0.0  \nmin                0.0             0.0  \n25%                0.0             0.0  \n50%                0.0             0.0  \n75%                0.0             0.0  \nmax                0.0             0.0  ",
      "text/html": "<div>\n<style scoped>\n    .dataframe tbody tr th:only-of-type {\n        vertical-align: middle;\n    }\n\n    .dataframe tbody tr th {\n        vertical-align: top;\n    }\n\n    .dataframe thead th {\n        text-align: right;\n    }\n</style>\n<table border=\"1\" class=\"dataframe\">\n  <thead>\n    <tr style=\"text-align: right;\">\n      <th></th>\n      <th>(00 a 04)</th>\n      <th>(05 a 09)</th>\n      <th>(10 a 14)</th>\n      <th>(15 a 17)</th>\n      <th>(18 a 19)</th>\n      <th>(20 a 24)</th>\n      <th>(25 a 29)</th>\n      <th>(30 a 34)</th>\n      <th>(35 a 39)</th>\n      <th>(40 a 44)</th>\n      <th>(45 a 49)</th>\n      <th>(50 a 54)</th>\n      <th>(55 a 59)</th>\n      <th>(60 a 64)</th>\n      <th>(65 a 69)</th>\n      <th>(70 a 74)</th>\n      <th>(75 a 79)</th>\n      <th>(80 y más)</th>\n      <th>Sin información</th>\n      <th>Por determinar</th>\n    </tr>\n  </thead>\n  <tbody>\n    <tr>\n      <th>count</th>\n      <td>51.0</td>\n      <td>52.000000</td>\n      <td>52.000000</td>\n      <td>52.000000</td>\n      <td>52.000000</td>\n      <td>52.000000</td>\n      <td>52.000000</td>\n      <td>52.000000</td>\n      <td>52.000000</td>\n      <td>52.000000</td>\n      <td>52.000000</td>\n      <td>52.000000</td>\n      <td>52.000000</td>\n      <td>52.000000</td>\n      <td>52.000000</td>\n      <td>52.000000</td>\n      <td>52.000000</td>\n      <td>52.000000</td>\n      <td>21.0</td>\n      <td>12.0</td>\n    </tr>\n    <tr>\n      <th>mean</th>\n      <td>0.0</td>\n      <td>0.346154</td>\n      <td>9.230769</td>\n      <td>13.403846</td>\n      <td>12.096154</td>\n      <td>30.038462</td>\n      <td>24.096154</td>\n      <td>18.403846</td>\n      <td>16.673077</td>\n      <td>13.461538</td>\n      <td>12.423077</td>\n      <td>12.134615</td>\n      <td>11.653846</td>\n      <td>10.653846</td>\n      <td>8.730769</td>\n      <td>6.192308</td>\n      <td>4.288462</td>\n      <td>4.769231</td>\n      <td>0.0</td>\n      <td>0.0</td>\n    </tr>\n    <tr>\n      <th>std</th>\n      <td>0.0</td>\n      <td>0.556058</td>\n      <td>3.203034</td>\n      <td>4.211374</td>\n      <td>3.321113</td>\n      <td>5.331966</td>\n      <td>5.895361</td>\n      <td>4.344298</td>\n      <td>4.655678</td>\n      <td>4.002262</td>\n      <td>3.403263</td>\n      <td>3.885765</td>\n      <td>3.502854</td>\n      <td>3.289226</td>\n      <td>2.628019</td>\n      <td>2.351791</td>\n      <td>2.061187</td>\n      <td>2.165825</td>\n      <td>0.0</td>\n      <td>0.0</td>\n    </tr>\n    <tr>\n      <th>min</th>\n      <td>0.0</td>\n      <td>0.000000</td>\n      <td>3.000000</td>\n      <td>5.000000</td>\n      <td>5.000000</td>\n      <td>19.000000</td>\n      <td>14.000000</td>\n      <td>9.000000</td>\n      <td>5.000000</td>\n      <td>5.000000</td>\n      <td>6.000000</td>\n      <td>2.000000</td>\n      <td>4.000000</td>\n      <td>5.000000</td>\n      <td>3.000000</td>\n      <td>1.000000</td>\n      <td>1.000000</td>\n      <td>1.000000</td>\n      <td>0.0</td>\n      <td>0.0</td>\n    </tr>\n    <tr>\n      <th>25%</th>\n      <td>0.0</td>\n      <td>0.000000</td>\n      <td>6.000000</td>\n      <td>11.000000</td>\n      <td>10.000000</td>\n      <td>26.000000</td>\n      <td>20.000000</td>\n      <td>15.000000</td>\n      <td>14.000000</td>\n      <td>11.000000</td>\n      <td>9.750000</td>\n      <td>10.000000</td>\n      <td>9.000000</td>\n      <td>8.000000</td>\n      <td>6.750000</td>\n      <td>5.000000</td>\n      <td>3.000000</td>\n      <td>3.000000</td>\n      <td>0.0</td>\n      <td>0.0</td>\n    </tr>\n    <tr>\n      <th>50%</th>\n      <td>0.0</td>\n      <td>0.000000</td>\n      <td>9.000000</td>\n      <td>13.000000</td>\n      <td>12.000000</td>\n      <td>29.000000</td>\n      <td>23.000000</td>\n      <td>19.000000</td>\n      <td>16.000000</td>\n      <td>13.000000</td>\n      <td>13.000000</td>\n      <td>12.000000</td>\n      <td>12.000000</td>\n      <td>11.000000</td>\n      <td>9.000000</td>\n      <td>6.500000</td>\n      <td>4.000000</td>\n      <td>5.000000</td>\n      <td>0.0</td>\n      <td>0.0</td>\n    </tr>\n    <tr>\n      <th>75%</th>\n      <td>0.0</td>\n      <td>1.000000</td>\n      <td>11.000000</td>\n      <td>15.000000</td>\n      <td>14.250000</td>\n      <td>34.000000</td>\n      <td>27.250000</td>\n      <td>21.000000</td>\n      <td>20.250000</td>\n      <td>16.000000</td>\n      <td>14.000000</td>\n      <td>15.000000</td>\n      <td>14.000000</td>\n      <td>13.000000</td>\n      <td>10.000000</td>\n      <td>8.000000</td>\n      <td>6.000000</td>\n      <td>6.000000</td>\n      <td>0.0</td>\n      <td>0.0</td>\n    </tr>\n    <tr>\n      <th>max</th>\n      <td>0.0</td>\n      <td>2.000000</td>\n      <td>18.000000</td>\n      <td>28.000000</td>\n      <td>20.000000</td>\n      <td>40.000000</td>\n      <td>39.000000</td>\n      <td>27.000000</td>\n      <td>27.000000</td>\n      <td>26.000000</td>\n      <td>22.000000</td>\n      <td>19.000000</td>\n      <td>20.000000</td>\n      <td>17.000000</td>\n      <td>14.000000</td>\n      <td>11.000000</td>\n      <td>9.000000</td>\n      <td>10.000000</td>\n      <td>0.0</td>\n      <td>0.0</td>\n    </tr>\n  </tbody>\n</table>\n</div>"
     },
     "metadata": {}
    }
   ]
  },
  {
   "cell_type": "code",
   "metadata": {
    "cell_id": "c422e92857094a73bfdec122a2e10676",
    "tags": [],
    "deepnote_to_be_reexecuted": false,
    "source_hash": "7bd0ab7c",
    "execution_start": 1654212460504,
    "execution_millis": 531,
    "deepnote_cell_type": "code",
    "deepnote_cell_height": 578,
    "deepnote_output_heights": [
     427
    ]
   },
   "source": "df.loc[\"Suicidio\"].drop(columns=[\"Sin información\", \"Por determinar\"]).mean().plot.bar(\n    figsize=(10,6), \n    title=\"Promedio mensual de suicidios por grupo de edad (2018-01 a 2022-04)\"\n);",
   "execution_count": null,
   "outputs": [
    {
     "data": {
      "text/plain": "<Figure size 720x432 with 1 Axes>",
      "image/png": "[encoded data removed]"
     },
     "metadata": {
      "needs_background": "light",
      "image/png": {
       "width": 595,
       "height": 425
      }
     },
     "output_type": "display_data"
    }
   ]
  },
  {
   "cell_type": "markdown",
   "source": "Vemos que los adultos jóvenes son el grupo de edad en el que se presentan más casos de suicidio.",
   "metadata": {
    "cell_id": "31e727ef0ffc4847a99a15aebf41f025",
    "tags": [],
    "deepnote_cell_type": "markdown",
    "deepnote_cell_height": 52.390625
   }
  },
  {
   "cell_type": "code",
   "metadata": {
    "cell_id": "ea507be6e5534b159e12ed571bf7d033",
    "tags": [],
    "deepnote_to_be_reexecuted": false,
    "source_hash": "d8e62138",
    "execution_start": 1654213402082,
    "execution_millis": 2522,
    "owner_user_id": "0f8fcedf-4dff-4017-a19e-f424f4a2f7cb",
    "deepnote_cell_type": "code",
    "deepnote_cell_height": 2382,
    "deepnote_output_heights": [
     395,
     395,
     395,
     395
    ]
   },
   "source": "youth = [\n    '(00 a 04)',\n    '(05 a 09)',\n    '(10 a 14)',\n    '(15 a 17)',\n    '(18 a 19)'\n]\nyoung_adults = [\n    '(20 a 24)',\n    '(25 a 29)',\n    '(30 a 34)',\n    '(35 a 39)',\n]\nadults = [\n    '(40 a 44)',\n    '(45 a 49)',\n    '(50 a 54)',\n    '(55 a 59)',\n    '(60 a 64)',\n]\nelders = [\n    '(65 a 69)',\n    '(70 a 74)',\n    '(75 a 79)',\n    '(80 y más)'\n]\n\nnames = [\"jóvenes\", \"adultos jóvenes\", \"adultos\", \"adultos mayores\"]\n\nfor grp_name, age_grps in zip(names, [youth, young_adults, adults, elders]):\n    df.loc[\"Suicidio\"][age_grps].plot.line(\n        figsize=(10,6), \n        title=f\"Casos de Suicidio por grupo de edad en {grp_name} (2018-01 a 2022-04)\"\n    )\n    plt.show()",
   "execution_count": null,
   "outputs": [
    {
     "data": {
      "text/plain": "<Figure size 720x432 with 1 Axes>",
      "image/png": "[encoded data removed]"
     },
     "metadata": {
      "needs_background": "light",
      "image/png": {
       "width": 595,
       "height": 393
      }
     },
     "output_type": "display_data"
    },
    {
     "data": {
      "text/plain": "<Figure size 720x432 with 1 Axes>",
      "image/png": "[encoded data removed]"
     },
     "metadata": {
      "needs_background": "light",
      "image/png": {
       "width": 595,
       "height": 393
      }
     },
     "output_type": "display_data"
    },
    {
     "data": {
      "text/plain": "<Figure size 720x432 with 1 Axes>",
      "image/png": "[encoded data removed]"
     },
     "metadata": {
      "needs_background": "light",
      "image/png": {
       "width": 595,
       "height": 393
      }
     },
     "output_type": "display_data"
    },
    {
     "data": {
      "text/plain": "<Figure size 720x432 with 1 Axes>",
      "image/png": "[encoded data removed]"
     },
     "metadata": {
      "needs_background": "light",
      "image/png": {
       "width": 595,
       "height": 393
      }
     },
     "output_type": "display_data"
    }
   ]
  },
  {
   "cell_type": "markdown",
   "source": "Las graficas anteriores son dificiles de interpretar, pero se podría decir que no se evidencia una tendencia de crecimiento en los casos de suicidio en los diferentes grupos de edad",
   "metadata": {
    "cell_id": "ec60f8a2120b4353a5f6989f342fd8fa",
    "tags": [],
    "deepnote_cell_type": "markdown",
    "deepnote_cell_height": 74.796875
   }
  },
  {
   "cell_type": "markdown",
   "source": "### Por Capitales Departamentales ",
   "metadata": {
    "cell_id": "60c0058d9dda4ff69a8ff29f9208b2d6",
    "tags": [],
    "deepnote_cell_type": "markdown",
    "deepnote_cell_height": 62
   }
  },
  {
   "cell_type": "code",
   "metadata": {
    "cell_id": "3fc1db2d97d640b8960d6ee1c5c9b139",
    "tags": [],
    "deepnote_to_be_reexecuted": false,
    "source_hash": "e342ddce",
    "execution_start": 1654213839998,
    "execution_millis": 229,
    "deepnote_cell_type": "code",
    "deepnote_cell_height": 668.390625
   },
   "source": "filepath = source_dir / \"muertes_violentas_segun_manera.csv\"\n\ndf = pd.read_csv(filepath, index_col=[0,1])\ndf",
   "execution_count": null,
   "outputs": [
    {
     "output_type": "execute_result",
     "execution_count": 38,
     "data": {
      "application/vnd.deepnote.dataframe.v3+json": {
       "column_count": 33,
       "row_count": 208,
       "columns": [
        {
         "name": "arauca",
         "dtype": "float64",
         "stats": {
          "unique_count": 11,
          "nan_count": 0,
          "min": "0.0",
          "max": "10.0",
          "histogram": [
           {
            "bin_start": 0,
            "bin_end": 1,
            "count": 70
           },
           {
            "bin_start": 1,
            "bin_end": 2,
            "count": 67
           },
           {
            "bin_start": 2,
            "bin_end": 3,
            "count": 35
           },
           {
            "bin_start": 3,
            "bin_end": 4,
            "count": 12
           },
           {
            "bin_start": 4,
            "bin_end": 5,
            "count": 9
           },
           {
            "bin_start": 5,
            "bin_end": 6,
            "count": 7
           },
           {
            "bin_start": 6,
            "bin_end": 7,
            "count": 3
           },
           {
            "bin_start": 7,
            "bin_end": 8,
            "count": 1
           },
           {
            "bin_start": 8,
            "bin_end": 9,
            "count": 1
           },
           {
            "bin_start": 9,
            "bin_end": 10,
            "count": 3
           }
          ]
         }
        },
        {
         "name": "armenia",
         "dtype": "float64",
         "stats": {
          "unique_count": 16,
          "nan_count": 0,
          "min": "0.0",
          "max": "16.0",
          "histogram": [
           {
            "bin_start": 0,
            "bin_end": 1.6,
            "count": 57
           },
           {
            "bin_start": 1.6,
            "bin_end": 3.2,
            "count": 52
           },
           {
            "bin_start": 3.2,
            "bin_end": 4.800000000000001,
            "count": 27
           },
           {
            "bin_start": 4.800000000000001,
            "bin_end": 6.4,
            "count": 36
           },
           {
            "bin_start": 6.4,
            "bin_end": 8,
            "count": 13
           },
           {
            "bin_start": 8,
            "bin_end": 9.600000000000001,
            "count": 13
           },
           {
            "bin_start": 9.600000000000001,
            "bin_end": 11.200000000000001,
            "count": 4
           },
           {
            "bin_start": 11.200000000000001,
            "bin_end": 12.8,
            "count": 2
           },
           {
            "bin_start": 12.8,
            "bin_end": 14.4,
            "count": 2
           },
           {
            "bin_start": 14.4,
            "bin_end": 16,
            "count": 2
           }
          ]
         }
        },
        {
         "name": "barranquilla",
         "dtype": "float64",
         "stats": {
          "unique_count": 39,
          "nan_count": 0,
          "min": "0.0",
          "max": "42.0",
          "histogram": [
           {
            "bin_start": 0,
            "bin_end": 4.2,
            "count": 80
           },
           {
            "bin_start": 4.2,
            "bin_end": 8.4,
            "count": 44
           },
           {
            "bin_start": 8.4,
            "bin_end": 12.600000000000001,
            "count": 23
           },
           {
            "bin_start": 12.600000000000001,
            "bin_end": 16.8,
            "count": 8
           },
           {
            "bin_start": 16.8,
            "bin_end": 21,
            "count": 9
           },
           {
            "bin_start": 21,
            "bin_end": 25.200000000000003,
            "count": 14
           },
           {
            "bin_start": 25.200000000000003,
            "bin_end": 29.400000000000002,
            "count": 10
           },
           {
            "bin_start": 29.400000000000002,
            "bin_end": 33.6,
            "count": 6
           },
           {
            "bin_start": 33.6,
            "bin_end": 37.800000000000004,
            "count": 8
           },
           {
            "bin_start": 37.800000000000004,
            "bin_end": 42,
            "count": 6
           }
          ]
         }
        },
        {
         "name": "bogota dc",
         "dtype": "float64",
         "stats": {
          "unique_count": 76,
          "nan_count": 0,
          "min": "8.0",
          "max": "120.0",
          "histogram": [
           {
            "bin_start": 8,
            "bin_end": 19.2,
            "count": 27
           },
           {
            "bin_start": 19.2,
            "bin_end": 30.4,
            "count": 71
           },
           {
            "bin_start": 30.4,
            "bin_end": 41.599999999999994,
            "count": 31
           },
           {
            "bin_start": 41.599999999999994,
            "bin_end": 52.8,
            "count": 23
           },
           {
            "bin_start": 52.8,
            "bin_end": 64,
            "count": 6
           },
           {
            "bin_start": 64,
            "bin_end": 75.19999999999999,
            "count": 9
           },
           {
            "bin_start": 75.19999999999999,
            "bin_end": 86.39999999999999,
            "count": 19
           },
           {
            "bin_start": 86.39999999999999,
            "bin_end": 97.6,
            "count": 10
           },
           {
            "bin_start": 97.6,
            "bin_end": 108.8,
            "count": 7
           },
           {
            "bin_start": 108.8,
            "bin_end": 120,
            "count": 5
           }
          ]
         }
        },
        {
         "name": "bucaramanga",
         "dtype": "float64",
         "stats": {
          "unique_count": 17,
          "nan_count": 0,
          "min": "0.0",
          "max": "16.0",
          "histogram": [
           {
            "bin_start": 0,
            "bin_end": 1.6,
            "count": 35
           },
           {
            "bin_start": 1.6,
            "bin_end": 3.2,
            "count": 54
           },
           {
            "bin_start": 3.2,
            "bin_end": 4.800000000000001,
            "count": 19
           },
           {
            "bin_start": 4.800000000000001,
            "bin_end": 6.4,
            "count": 43
           },
           {
            "bin_start": 6.4,
            "bin_end": 8,
            "count": 13
           },
           {
            "bin_start": 8,
            "bin_end": 9.600000000000001,
            "count": 20
           },
           {
            "bin_start": 9.600000000000001,
            "bin_end": 11.200000000000001,
            "count": 10
           },
           {
            "bin_start": 11.200000000000001,
            "bin_end": 12.8,
            "count": 4
           },
           {
            "bin_start": 12.8,
            "bin_end": 14.4,
            "count": 6
           },
           {
            "bin_start": 14.4,
            "bin_end": 16,
            "count": 4
           }
          ]
         }
        },
        {
         "name": "cartagena",
         "dtype": "float64",
         "stats": {
          "unique_count": 31,
          "nan_count": 0,
          "min": "0.0",
          "max": "38.0",
          "histogram": [
           {
            "bin_start": 0,
            "bin_end": 3.8,
            "count": 55
           },
           {
            "bin_start": 3.8,
            "bin_end": 7.6,
            "count": 59
           },
           {
            "bin_start": 7.6,
            "bin_end": 11.399999999999999,
            "count": 31
           },
           {
            "bin_start": 11.399999999999999,
            "bin_end": 15.2,
            "count": 25
           },
           {
            "bin_start": 15.2,
            "bin_end": 19,
            "count": 8
           },
           {
            "bin_start": 19,
            "bin_end": 22.799999999999997,
            "count": 17
           },
           {
            "bin_start": 22.799999999999997,
            "bin_end": 26.599999999999998,
            "count": 6
           },
           {
            "bin_start": 26.599999999999998,
            "bin_end": 30.4,
            "count": 4
           },
           {
            "bin_start": 30.4,
            "bin_end": 34.199999999999996,
            "count": 2
           },
           {
            "bin_start": 34.199999999999996,
            "bin_end": 38,
            "count": 1
           }
          ]
         }
        },
        {
         "name": "cucuta",
         "dtype": "float64",
         "stats": {
          "unique_count": 33,
          "nan_count": 0,
          "min": "0.0",
          "max": "48.0",
          "histogram": [
           {
            "bin_start": 0,
            "bin_end": 4.8,
            "count": 104
           },
           {
            "bin_start": 4.8,
            "bin_end": 9.6,
            "count": 45
           },
           {
            "bin_start": 9.6,
            "bin_end": 14.399999999999999,
            "count": 14
           },
           {
            "bin_start": 14.399999999999999,
            "bin_end": 19.2,
            "count": 25
           },
           {
            "bin_start": 19.2,
            "bin_end": 24,
            "count": 10
           },
           {
            "bin_start": 24,
            "bin_end": 28.799999999999997,
            "count": 3
           },
           {
            "bin_start": 28.799999999999997,
            "bin_end": 33.6,
            "count": 4
           },
           {
            "bin_start": 33.6,
            "bin_end": 38.4,
            "count": 2
           },
           {
            "bin_start": 38.4,
            "bin_end": 43.199999999999996,
            "count": 0
           },
           {
            "bin_start": 43.199999999999996,
            "bin_end": 48,
            "count": 1
           }
          ]
         }
        },
        {
         "name": "florencia",
         "dtype": "float64",
         "stats": {
          "unique_count": 12,
          "nan_count": 0,
          "min": "0.0",
          "max": "32.0",
          "histogram": [
           {
            "bin_start": 0,
            "bin_end": 3.2,
            "count": 170
           },
           {
            "bin_start": 3.2,
            "bin_end": 6.4,
            "count": 29
           },
           {
            "bin_start": 6.4,
            "bin_end": 9.600000000000001,
            "count": 6
           },
           {
            "bin_start": 9.600000000000001,
            "bin_end": 12.8,
            "count": 1
           },
           {
            "bin_start": 12.8,
            "bin_end": 16,
            "count": 0
           },
           {
            "bin_start": 16,
            "bin_end": 19.200000000000003,
            "count": 0
           },
           {
            "bin_start": 19.200000000000003,
            "bin_end": 22.400000000000002,
            "count": 0
           },
           {
            "bin_start": 22.400000000000002,
            "bin_end": 25.6,
            "count": 1
           },
           {
            "bin_start": 25.6,
            "bin_end": 28.8,
            "count": 0
           },
           {
            "bin_start": 28.8,
            "bin_end": 32,
            "count": 1
           }
          ]
         }
        },
        {
         "name": "ibague",
         "dtype": "float64",
         "stats": {
          "unique_count": 17,
          "nan_count": 0,
          "min": "0.0",
          "max": "18.0",
          "histogram": [
           {
            "bin_start": 0,
            "bin_end": 1.8,
            "count": 28
           },
           {
            "bin_start": 1.8,
            "bin_end": 3.6,
            "count": 59
           },
           {
            "bin_start": 3.6,
            "bin_end": 5.4,
            "count": 46
           },
           {
            "bin_start": 5.4,
            "bin_end": 7.2,
            "count": 36
           },
           {
            "bin_start": 7.2,
            "bin_end": 9,
            "count": 15
           },
           {
            "bin_start": 9,
            "bin_end": 10.8,
            "count": 15
           },
           {
            "bin_start": 10.8,
            "bin_end": 12.6,
            "count": 3
           },
           {
            "bin_start": 12.6,
            "bin_end": 14.4,
            "count": 4
           },
           {
            "bin_start": 14.4,
            "bin_end": 16.2,
            "count": 1
           },
           {
            "bin_start": 16.2,
            "bin_end": 18,
            "count": 1
           }
          ]
         }
        },
        {
         "name": "inirida",
         "dtype": "float64",
         "stats": {
          "unique_count": 3,
          "nan_count": 44,
          "min": "0.0",
          "max": "2.0",
          "histogram": [
           {
            "bin_start": 0,
            "bin_end": 0.2,
            "count": 124
           },
           {
            "bin_start": 0.2,
            "bin_end": 0.4,
            "count": 0
           },
           {
            "bin_start": 0.4,
            "bin_end": 0.6000000000000001,
            "count": 0
           },
           {
            "bin_start": 0.6000000000000001,
            "bin_end": 0.8,
            "count": 0
           },
           {
            "bin_start": 0.8,
            "bin_end": 1,
            "count": 0
           },
           {
            "bin_start": 1,
            "bin_end": 1.2000000000000002,
            "count": 35
           },
           {
            "bin_start": 1.2000000000000002,
            "bin_end": 1.4000000000000001,
            "count": 0
           },
           {
            "bin_start": 1.4000000000000001,
            "bin_end": 1.6,
            "count": 0
           },
           {
            "bin_start": 1.6,
            "bin_end": 1.8,
            "count": 0
           },
           {
            "bin_start": 1.8,
            "bin_end": 2,
            "count": 5
           }
          ]
         }
        },
        {
         "name": "leticia",
         "dtype": "float64",
         "stats": {
          "unique_count": 6,
          "nan_count": 5,
          "min": "0.0",
          "max": "5.0",
          "histogram": [
           {
            "bin_start": 0,
            "bin_end": 0.5,
            "count": 138
           },
           {
            "bin_start": 0.5,
            "bin_end": 1,
            "count": 0
           },
           {
            "bin_start": 1,
            "bin_end": 1.5,
            "count": 40
           },
           {
            "bin_start": 1.5,
            "bin_end": 2,
            "count": 0
           },
           {
            "bin_start": 2,
            "bin_end": 2.5,
            "count": 17
           },
           {
            "bin_start": 2.5,
            "bin_end": 3,
            "count": 0
           },
           {
            "bin_start": 3,
            "bin_end": 3.5,
            "count": 3
           },
           {
            "bin_start": 3.5,
            "bin_end": 4,
            "count": 0
           },
           {
            "bin_start": 4,
            "bin_end": 4.5,
            "count": 4
           },
           {
            "bin_start": 4.5,
            "bin_end": 5,
            "count": 1
           }
          ]
         }
        },
        {
         "name": "manizales",
         "dtype": "float64",
         "stats": {
          "unique_count": 11,
          "nan_count": 0,
          "min": "0.0",
          "max": "10.0",
          "histogram": [
           {
            "bin_start": 0,
            "bin_end": 1,
            "count": 12
           },
           {
            "bin_start": 1,
            "bin_end": 2,
            "count": 33
           },
           {
            "bin_start": 2,
            "bin_end": 3,
            "count": 40
           },
           {
            "bin_start": 3,
            "bin_end": 4,
            "count": 37
           },
           {
            "bin_start": 4,
            "bin_end": 5,
            "count": 25
           },
           {
            "bin_start": 5,
            "bin_end": 6,
            "count": 25
           },
           {
            "bin_start": 6,
            "bin_end": 7,
            "count": 15
           },
           {
            "bin_start": 7,
            "bin_end": 8,
            "count": 8
           },
           {
            "bin_start": 8,
            "bin_end": 9,
            "count": 6
           },
           {
            "bin_start": 9,
            "bin_end": 10,
            "count": 7
           }
          ]
         }
        },
        {
         "name": "medellin",
         "dtype": "float64",
         "stats": {
          "unique_count": 50,
          "nan_count": 0,
          "min": "4.0",
          "max": "71.0",
          "histogram": [
           {
            "bin_start": 4,
            "bin_end": 10.7,
            "count": 31
           },
           {
            "bin_start": 10.7,
            "bin_end": 17.4,
            "count": 73
           },
           {
            "bin_start": 17.4,
            "bin_end": 24.1,
            "count": 49
           },
           {
            "bin_start": 24.1,
            "bin_end": 30.8,
            "count": 16
           },
           {
            "bin_start": 30.8,
            "bin_end": 37.5,
            "count": 10
           },
           {
            "bin_start": 37.5,
            "bin_end": 44.2,
            "count": 10
           },
           {
            "bin_start": 44.2,
            "bin_end": 50.9,
            "count": 7
           },
           {
            "bin_start": 50.9,
            "bin_end": 57.6,
            "count": 8
           },
           {
            "bin_start": 57.6,
            "bin_end": 64.30000000000001,
            "count": 1
           },
           {
            "bin_start": 64.30000000000001,
            "bin_end": 71,
            "count": 3
           }
          ]
         }
        },
        {
         "name": "mitu",
         "dtype": "float64",
         "stats": {
          "unique_count": 4,
          "nan_count": 44,
          "min": "0.0",
          "max": "3.0",
          "histogram": [
           {
            "bin_start": 0,
            "bin_end": 0.3,
            "count": 125
           },
           {
            "bin_start": 0.3,
            "bin_end": 0.6,
            "count": 0
           },
           {
            "bin_start": 0.6,
            "bin_end": 0.8999999999999999,
            "count": 0
           },
           {
            "bin_start": 0.8999999999999999,
            "bin_end": 1.2,
            "count": 29
           },
           {
            "bin_start": 1.2,
            "bin_end": 1.5,
            "count": 0
           },
           {
            "bin_start": 1.5,
            "bin_end": 1.7999999999999998,
            "count": 0
           },
           {
            "bin_start": 1.7999999999999998,
            "bin_end": 2.1,
            "count": 9
           },
           {
            "bin_start": 2.1,
            "bin_end": 2.4,
            "count": 0
           },
           {
            "bin_start": 2.4,
            "bin_end": 2.6999999999999997,
            "count": 0
           },
           {
            "bin_start": 2.6999999999999997,
            "bin_end": 3,
            "count": 1
           }
          ]
         }
        },
        {
         "name": "monteria",
         "dtype": "float64",
         "stats": {
          "unique_count": 17,
          "nan_count": 0,
          "min": "0.0",
          "max": "19.0",
          "histogram": [
           {
            "bin_start": 0,
            "bin_end": 1.9,
            "count": 66
           },
           {
            "bin_start": 1.9,
            "bin_end": 3.8,
            "count": 51
           },
           {
            "bin_start": 3.8,
            "bin_end": 5.699999999999999,
            "count": 28
           },
           {
            "bin_start": 5.699999999999999,
            "bin_end": 7.6,
            "count": 21
           },
           {
            "bin_start": 7.6,
            "bin_end": 9.5,
            "count": 25
           },
           {
            "bin_start": 9.5,
            "bin_end": 11.399999999999999,
            "count": 10
           },
           {
            "bin_start": 11.399999999999999,
            "bin_end": 13.299999999999999,
            "count": 4
           },
           {
            "bin_start": 13.299999999999999,
            "bin_end": 15.2,
            "count": 1
           },
           {
            "bin_start": 15.2,
            "bin_end": 17.099999999999998,
            "count": 1
           },
           {
            "bin_start": 17.099999999999998,
            "bin_end": 19,
            "count": 1
           }
          ]
         }
        },
        {
         "name": "neiva",
         "dtype": "float64",
         "stats": {
          "unique_count": 15,
          "nan_count": 0,
          "min": "0.0",
          "max": "43.0",
          "histogram": [
           {
            "bin_start": 0,
            "bin_end": 4.3,
            "count": 139
           },
           {
            "bin_start": 4.3,
            "bin_end": 8.6,
            "count": 50
           },
           {
            "bin_start": 8.6,
            "bin_end": 12.899999999999999,
            "count": 17
           },
           {
            "bin_start": 12.899999999999999,
            "bin_end": 17.2,
            "count": 1
           },
           {
            "bin_start": 17.2,
            "bin_end": 21.5,
            "count": 0
           },
           {
            "bin_start": 21.5,
            "bin_end": 25.799999999999997,
            "count": 0
           },
           {
            "bin_start": 25.799999999999997,
            "bin_end": 30.099999999999998,
            "count": 0
           },
           {
            "bin_start": 30.099999999999998,
            "bin_end": 34.4,
            "count": 0
           },
           {
            "bin_start": 34.4,
            "bin_end": 38.699999999999996,
            "count": 0
           },
           {
            "bin_start": 38.699999999999996,
            "bin_end": 43,
            "count": 1
           }
          ]
         }
        },
        {
         "name": "pasto",
         "dtype": "float64",
         "stats": {
          "unique_count": 11,
          "nan_count": 0,
          "min": "0.0",
          "max": "10.0",
          "histogram": [
           {
            "bin_start": 0,
            "bin_end": 1,
            "count": 5
           },
           {
            "bin_start": 1,
            "bin_end": 2,
            "count": 20
           },
           {
            "bin_start": 2,
            "bin_end": 3,
            "count": 27
           },
           {
            "bin_start": 3,
            "bin_end": 4,
            "count": 46
           },
           {
            "bin_start": 4,
            "bin_end": 5,
            "count": 39
           },
           {
            "bin_start": 5,
            "bin_end": 6,
            "count": 28
           },
           {
            "bin_start": 6,
            "bin_end": 7,
            "count": 17
           },
           {
            "bin_start": 7,
            "bin_end": 8,
            "count": 16
           },
           {
            "bin_start": 8,
            "bin_end": 9,
            "count": 4
           },
           {
            "bin_start": 9,
            "bin_end": 10,
            "count": 6
           }
          ]
         }
        },
        {
         "name": "pereira",
         "dtype": "float64",
         "stats": {
          "unique_count": 18,
          "nan_count": 0,
          "min": "0.0",
          "max": "23.0",
          "histogram": [
           {
            "bin_start": 0,
            "bin_end": 2.3,
            "count": 55
           },
           {
            "bin_start": 2.3,
            "bin_end": 4.6,
            "count": 52
           },
           {
            "bin_start": 4.6,
            "bin_end": 6.8999999999999995,
            "count": 32
           },
           {
            "bin_start": 6.8999999999999995,
            "bin_end": 9.2,
            "count": 35
           },
           {
            "bin_start": 9.2,
            "bin_end": 11.5,
            "count": 12
           },
           {
            "bin_start": 11.5,
            "bin_end": 13.799999999999999,
            "count": 16
           },
           {
            "bin_start": 13.799999999999999,
            "bin_end": 16.099999999999998,
            "count": 5
           },
           {
            "bin_start": 16.099999999999998,
            "bin_end": 18.4,
            "count": 0
           },
           {
            "bin_start": 18.4,
            "bin_end": 20.7,
            "count": 0
           },
           {
            "bin_start": 20.7,
            "bin_end": 23,
            "count": 1
           }
          ]
         }
        },
        {
         "name": "popayan",
         "dtype": "float64",
         "stats": {
          "unique_count": 13,
          "nan_count": 0,
          "min": "0.0",
          "max": "18.0",
          "histogram": [
           {
            "bin_start": 0,
            "bin_end": 1.8,
            "count": 53
           },
           {
            "bin_start": 1.8,
            "bin_end": 3.6,
            "count": 69
           },
           {
            "bin_start": 3.6,
            "bin_end": 5.4,
            "count": 46
           },
           {
            "bin_start": 5.4,
            "bin_end": 7.2,
            "count": 17
           },
           {
            "bin_start": 7.2,
            "bin_end": 9,
            "count": 10
           },
           {
            "bin_start": 9,
            "bin_end": 10.8,
            "count": 10
           },
           {
            "bin_start": 10.8,
            "bin_end": 12.6,
            "count": 2
           },
           {
            "bin_start": 12.6,
            "bin_end": 14.4,
            "count": 0
           },
           {
            "bin_start": 14.4,
            "bin_end": 16.2,
            "count": 0
           },
           {
            "bin_start": 16.2,
            "bin_end": 18,
            "count": 1
           }
          ]
         }
        },
        {
         "name": "puerto asis",
         "dtype": "float64",
         "stats": {
          "unique_count": 11,
          "nan_count": 20,
          "min": "0.0",
          "max": "14.0",
          "histogram": [
           {
            "bin_start": 0,
            "bin_end": 1.4,
            "count": 121
           },
           {
            "bin_start": 1.4,
            "bin_end": 2.8,
            "count": 29
           },
           {
            "bin_start": 2.8,
            "bin_end": 4.199999999999999,
            "count": 23
           },
           {
            "bin_start": 4.199999999999999,
            "bin_end": 5.6,
            "count": 8
           },
           {
            "bin_start": 5.6,
            "bin_end": 7,
            "count": 2
           },
           {
            "bin_start": 7,
            "bin_end": 8.399999999999999,
            "count": 3
           },
           {
            "bin_start": 8.399999999999999,
            "bin_end": 9.799999999999999,
            "count": 0
           },
           {
            "bin_start": 9.799999999999999,
            "bin_end": 11.2,
            "count": 1
           },
           {
            "bin_start": 11.2,
            "bin_end": 12.6,
            "count": 0
           },
           {
            "bin_start": 12.6,
            "bin_end": 14,
            "count": 1
           }
          ]
         }
        },
        {
         "name": "puerto carreno",
         "dtype": "float64",
         "stats": {
          "unique_count": 6,
          "nan_count": 6,
          "min": "0.0",
          "max": "5.0",
          "histogram": [
           {
            "bin_start": 0,
            "bin_end": 0.5,
            "count": 154
           },
           {
            "bin_start": 0.5,
            "bin_end": 1,
            "count": 0
           },
           {
            "bin_start": 1,
            "bin_end": 1.5,
            "count": 31
           },
           {
            "bin_start": 1.5,
            "bin_end": 2,
            "count": 0
           },
           {
            "bin_start": 2,
            "bin_end": 2.5,
            "count": 12
           },
           {
            "bin_start": 2.5,
            "bin_end": 3,
            "count": 0
           },
           {
            "bin_start": 3,
            "bin_end": 3.5,
            "count": 3
           },
           {
            "bin_start": 3.5,
            "bin_end": 4,
            "count": 0
           },
           {
            "bin_start": 4,
            "bin_end": 4.5,
            "count": 1
           },
           {
            "bin_start": 4.5,
            "bin_end": 5,
            "count": 1
           }
          ]
         }
        },
        {
         "name": "quibdo",
         "dtype": "float64",
         "stats": {
          "unique_count": 22,
          "nan_count": 0,
          "min": "0.0",
          "max": "27.0",
          "histogram": [
           {
            "bin_start": 0,
            "bin_end": 2.7,
            "count": 148
           },
           {
            "bin_start": 2.7,
            "bin_end": 5.4,
            "count": 19
           },
           {
            "bin_start": 5.4,
            "bin_end": 8.100000000000001,
            "count": 12
           },
           {
            "bin_start": 8.100000000000001,
            "bin_end": 10.8,
            "count": 11
           },
           {
            "bin_start": 10.8,
            "bin_end": 13.5,
            "count": 8
           },
           {
            "bin_start": 13.5,
            "bin_end": 16.200000000000003,
            "count": 3
           },
           {
            "bin_start": 16.200000000000003,
            "bin_end": 18.900000000000002,
            "count": 2
           },
           {
            "bin_start": 18.900000000000002,
            "bin_end": 21.6,
            "count": 2
           },
           {
            "bin_start": 21.6,
            "bin_end": 24.3,
            "count": 1
           },
           {
            "bin_start": 24.3,
            "bin_end": 27,
            "count": 2
           }
          ]
         }
        },
        {
         "name": "riohacha",
         "dtype": "float64",
         "stats": {
          "unique_count": 11,
          "nan_count": 0,
          "min": "0.0",
          "max": "14.0",
          "histogram": [
           {
            "bin_start": 0,
            "bin_end": 1.4,
            "count": 99
           },
           {
            "bin_start": 1.4,
            "bin_end": 2.8,
            "count": 35
           },
           {
            "bin_start": 2.8,
            "bin_end": 4.199999999999999,
            "count": 32
           },
           {
            "bin_start": 4.199999999999999,
            "bin_end": 5.6,
            "count": 14
           },
           {
            "bin_start": 5.6,
            "bin_end": 7,
            "count": 13
           },
           {
            "bin_start": 7,
            "bin_end": 8.399999999999999,
            "count": 12
           },
           {
            "bin_start": 8.399999999999999,
            "bin_end": 9.799999999999999,
            "count": 2
           },
           {
            "bin_start": 9.799999999999999,
            "bin_end": 11.2,
            "count": 0
           },
           {
            "bin_start": 11.2,
            "bin_end": 12.6,
            "count": 0
           },
           {
            "bin_start": 12.6,
            "bin_end": 14,
            "count": 1
           }
          ]
         }
        },
        {
         "name": "san andres",
         "dtype": "float64",
         "stats": {
          "unique_count": 8,
          "nan_count": 1,
          "min": "0.0",
          "max": "8.0",
          "histogram": [
           {
            "bin_start": 0,
            "bin_end": 0.8,
            "count": 93
           },
           {
            "bin_start": 0.8,
            "bin_end": 1.6,
            "count": 52
           },
           {
            "bin_start": 1.6,
            "bin_end": 2.4000000000000004,
            "count": 29
           },
           {
            "bin_start": 2.4000000000000004,
            "bin_end": 3.2,
            "count": 15
           },
           {
            "bin_start": 3.2,
            "bin_end": 4,
            "count": 0
           },
           {
            "bin_start": 4,
            "bin_end": 4.800000000000001,
            "count": 11
           },
           {
            "bin_start": 4.800000000000001,
            "bin_end": 5.6000000000000005,
            "count": 4
           },
           {
            "bin_start": 5.6000000000000005,
            "bin_end": 6.4,
            "count": 2
           },
           {
            "bin_start": 6.4,
            "bin_end": 7.2,
            "count": 0
           },
           {
            "bin_start": 7.2,
            "bin_end": 8,
            "count": 1
           }
          ]
         }
        },
        {
         "name": "san jose del guaviare",
         "dtype": "float64",
         "stats": {
          "unique_count": 8,
          "nan_count": 0,
          "min": "0.0",
          "max": "8.0",
          "histogram": [
           {
            "bin_start": 0,
            "bin_end": 0.8,
            "count": 116
           },
           {
            "bin_start": 0.8,
            "bin_end": 1.6,
            "count": 42
           },
           {
            "bin_start": 1.6,
            "bin_end": 2.4000000000000004,
            "count": 28
           },
           {
            "bin_start": 2.4000000000000004,
            "bin_end": 3.2,
            "count": 14
           },
           {
            "bin_start": 3.2,
            "bin_end": 4,
            "count": 0
           },
           {
            "bin_start": 4,
            "bin_end": 4.800000000000001,
            "count": 4
           },
           {
            "bin_start": 4.800000000000001,
            "bin_end": 5.6000000000000005,
            "count": 2
           },
           {
            "bin_start": 5.6000000000000005,
            "bin_end": 6.4,
            "count": 1
           },
           {
            "bin_start": 6.4,
            "bin_end": 7.2,
            "count": 0
           },
           {
            "bin_start": 7.2,
            "bin_end": 8,
            "count": 1
           }
          ]
         }
        },
        {
         "name": "santa marta",
         "dtype": "float64",
         "stats": {
          "unique_count": 21,
          "nan_count": 0,
          "min": "0.0",
          "max": "32.0",
          "histogram": [
           {
            "bin_start": 0,
            "bin_end": 3.2,
            "count": 92
           },
           {
            "bin_start": 3.2,
            "bin_end": 6.4,
            "count": 37
           },
           {
            "bin_start": 6.4,
            "bin_end": 9.600000000000001,
            "count": 34
           },
           {
            "bin_start": 9.600000000000001,
            "bin_end": 12.8,
            "count": 19
           },
           {
            "bin_start": 12.8,
            "bin_end": 16,
            "count": 14
           },
           {
            "bin_start": 16,
            "bin_end": 19.200000000000003,
            "count": 9
           },
           {
            "bin_start": 19.200000000000003,
            "bin_end": 22.400000000000002,
            "count": 1
           },
           {
            "bin_start": 22.400000000000002,
            "bin_end": 25.6,
            "count": 1
           },
           {
            "bin_start": 25.6,
            "bin_end": 28.8,
            "count": 0
           },
           {
            "bin_start": 28.8,
            "bin_end": 32,
            "count": 1
           }
          ]
         }
        },
        {
         "name": "cali",
         "dtype": "float64",
         "stats": {
          "unique_count": 66,
          "nan_count": 0,
          "min": "0.0",
          "max": "159.0",
          "histogram": [
           {
            "bin_start": 0,
            "bin_end": 15.9,
            "count": 106
           },
           {
            "bin_start": 15.9,
            "bin_end": 31.8,
            "count": 37
           },
           {
            "bin_start": 31.8,
            "bin_end": 47.7,
            "count": 14
           },
           {
            "bin_start": 47.7,
            "bin_end": 63.6,
            "count": 1
           },
           {
            "bin_start": 63.6,
            "bin_end": 79.5,
            "count": 15
           },
           {
            "bin_start": 79.5,
            "bin_end": 95.4,
            "count": 22
           },
           {
            "bin_start": 95.4,
            "bin_end": 111.3,
            "count": 8
           },
           {
            "bin_start": 111.3,
            "bin_end": 127.2,
            "count": 3
           },
           {
            "bin_start": 127.2,
            "bin_end": 143.1,
            "count": 0
           },
           {
            "bin_start": 143.1,
            "bin_end": 159,
            "count": 2
           }
          ]
         }
        },
        {
         "name": "sincelejo",
         "dtype": "float64",
         "stats": {
          "unique_count": 12,
          "nan_count": 0,
          "min": "0.0",
          "max": "11.0",
          "histogram": [
           {
            "bin_start": 0,
            "bin_end": 1.1,
            "count": 85
           },
           {
            "bin_start": 1.1,
            "bin_end": 2.2,
            "count": 42
           },
           {
            "bin_start": 2.2,
            "bin_end": 3.3000000000000003,
            "count": 25
           },
           {
            "bin_start": 3.3000000000000003,
            "bin_end": 4.4,
            "count": 17
           },
           {
            "bin_start": 4.4,
            "bin_end": 5.5,
            "count": 15
           },
           {
            "bin_start": 5.5,
            "bin_end": 6.6000000000000005,
            "count": 9
           },
           {
            "bin_start": 6.6000000000000005,
            "bin_end": 7.700000000000001,
            "count": 4
           },
           {
            "bin_start": 7.700000000000001,
            "bin_end": 8.8,
            "count": 4
           },
           {
            "bin_start": 8.8,
            "bin_end": 9.9,
            "count": 4
           },
           {
            "bin_start": 9.9,
            "bin_end": 11,
            "count": 3
           }
          ]
         }
        },
        {
         "name": "tunja",
         "dtype": "float64",
         "stats": {
          "unique_count": 9,
          "nan_count": 0,
          "min": "0.0",
          "max": "20.0",
          "histogram": [
           {
            "bin_start": 0,
            "bin_end": 2,
            "count": 143
           },
           {
            "bin_start": 2,
            "bin_end": 4,
            "count": 55
           },
           {
            "bin_start": 4,
            "bin_end": 6,
            "count": 6
           },
           {
            "bin_start": 6,
            "bin_end": 8,
            "count": 2
           },
           {
            "bin_start": 8,
            "bin_end": 10,
            "count": 1
           },
           {
            "bin_start": 10,
            "bin_end": 12,
            "count": 0
           },
           {
            "bin_start": 12,
            "bin_end": 14,
            "count": 0
           },
           {
            "bin_start": 14,
            "bin_end": 16,
            "count": 0
           },
           {
            "bin_start": 16,
            "bin_end": 18,
            "count": 0
           },
           {
            "bin_start": 18,
            "bin_end": 20,
            "count": 1
           }
          ]
         }
        },
        {
         "name": "valledupar",
         "dtype": "float64",
         "stats": {
          "unique_count": 17,
          "nan_count": 0,
          "min": "0.0",
          "max": "17.0",
          "histogram": [
           {
            "bin_start": 0,
            "bin_end": 1.7,
            "count": 47
           },
           {
            "bin_start": 1.7,
            "bin_end": 3.4,
            "count": 62
           },
           {
            "bin_start": 3.4,
            "bin_end": 5.1,
            "count": 46
           },
           {
            "bin_start": 5.1,
            "bin_end": 6.8,
            "count": 13
           },
           {
            "bin_start": 6.8,
            "bin_end": 8.5,
            "count": 14
           },
           {
            "bin_start": 8.5,
            "bin_end": 10.2,
            "count": 16
           },
           {
            "bin_start": 10.2,
            "bin_end": 11.9,
            "count": 4
           },
           {
            "bin_start": 11.9,
            "bin_end": 13.6,
            "count": 2
           },
           {
            "bin_start": 13.6,
            "bin_end": 15.299999999999999,
            "count": 3
           },
           {
            "bin_start": 15.299999999999999,
            "bin_end": 17,
            "count": 1
           }
          ]
         }
        },
        {
         "name": "villavicencio",
         "dtype": "float64",
         "stats": {
          "unique_count": 18,
          "nan_count": 0,
          "min": "0.0",
          "max": "18.0",
          "histogram": [
           {
            "bin_start": 0,
            "bin_end": 1.8,
            "count": 42
           },
           {
            "bin_start": 1.8,
            "bin_end": 3.6,
            "count": 47
           },
           {
            "bin_start": 3.6,
            "bin_end": 5.4,
            "count": 40
           },
           {
            "bin_start": 5.4,
            "bin_end": 7.2,
            "count": 28
           },
           {
            "bin_start": 7.2,
            "bin_end": 9,
            "count": 9
           },
           {
            "bin_start": 9,
            "bin_end": 10.8,
            "count": 19
           },
           {
            "bin_start": 10.8,
            "bin_end": 12.6,
            "count": 16
           },
           {
            "bin_start": 12.6,
            "bin_end": 14.4,
            "count": 3
           },
           {
            "bin_start": 14.4,
            "bin_end": 16.2,
            "count": 2
           },
           {
            "bin_start": 16.2,
            "bin_end": 18,
            "count": 2
           }
          ]
         }
        },
        {
         "name": "yopal",
         "dtype": "float64",
         "stats": {
          "unique_count": 12,
          "nan_count": 0,
          "min": "0.0",
          "max": "24.0",
          "histogram": [
           {
            "bin_start": 0,
            "bin_end": 2.4,
            "count": 137
           },
           {
            "bin_start": 2.4,
            "bin_end": 4.8,
            "count": 48
           },
           {
            "bin_start": 4.8,
            "bin_end": 7.199999999999999,
            "count": 18
           },
           {
            "bin_start": 7.199999999999999,
            "bin_end": 9.6,
            "count": 3
           },
           {
            "bin_start": 9.6,
            "bin_end": 12,
            "count": 0
           },
           {
            "bin_start": 12,
            "bin_end": 14.399999999999999,
            "count": 1
           },
           {
            "bin_start": 14.399999999999999,
            "bin_end": 16.8,
            "count": 0
           },
           {
            "bin_start": 16.8,
            "bin_end": 19.2,
            "count": 0
           },
           {
            "bin_start": 19.2,
            "bin_end": 21.599999999999998,
            "count": 0
           },
           {
            "bin_start": 21.599999999999998,
            "bin_end": 24,
            "count": 1
           }
          ]
         }
        },
        {
         "name": "mocoa",
         "dtype": "float64",
         "stats": {
          "unique_count": 7,
          "nan_count": 188,
          "min": "0.0",
          "max": "14.0",
          "histogram": [
           {
            "bin_start": 0,
            "bin_end": 1.4,
            "count": 14
           },
           {
            "bin_start": 1.4,
            "bin_end": 2.8,
            "count": 2
           },
           {
            "bin_start": 2.8,
            "bin_end": 4.199999999999999,
            "count": 1
           },
           {
            "bin_start": 4.199999999999999,
            "bin_end": 5.6,
            "count": 1
           },
           {
            "bin_start": 5.6,
            "bin_end": 7,
            "count": 0
           },
           {
            "bin_start": 7,
            "bin_end": 8.399999999999999,
            "count": 1
           },
           {
            "bin_start": 8.399999999999999,
            "bin_end": 9.799999999999999,
            "count": 0
           },
           {
            "bin_start": 9.799999999999999,
            "bin_end": 11.2,
            "count": 0
           },
           {
            "bin_start": 11.2,
            "bin_end": 12.6,
            "count": 0
           },
           {
            "bin_start": 12.6,
            "bin_end": 14,
            "count": 1
           }
          ]
         }
        },
        {
         "name": "_deepnote_index_column",
         "dtype": "object"
        }
       ],
       "rows": [
        {
         "arauca": 0,
         "armenia": 0,
         "barranquilla": 8,
         "bogota dc": 32,
         "bucaramanga": 1,
         "cartagena": 8,
         "cucuta": 6,
         "florencia": 2,
         "ibague": 9,
         "inirida": "nan",
         "leticia": 0,
         "manizales": 5,
         "medellin": 10,
         "mitu": "nan",
         "monteria": 6,
         "neiva": 3,
         "pasto": 1,
         "pereira": 5,
         "popayan": 4,
         "puerto asis": 1,
         "puerto carreno": 0,
         "quibdo": 2,
         "riohacha": 2,
         "san andres": 2,
         "san jose del guaviare": 0,
         "santa marta": 5,
         "cali": 32,
         "sincelejo": 2,
         "tunja": 0,
         "valledupar": 3,
         "villavicencio": 12,
         "yopal": 3,
         "mocoa": "nan",
         "_deepnote_index_column": "('Accidente de transporte', '2018-01')"
        },
        {
         "arauca": 0,
         "armenia": 5,
         "barranquilla": 13,
         "bogota dc": 41,
         "bucaramanga": 6,
         "cartagena": 10,
         "cucuta": 6,
         "florencia": 2,
         "ibague": 8,
         "inirida": "nan",
         "leticia": 0,
         "manizales": 3,
         "medellin": 18,
         "mitu": "nan",
         "monteria": 7,
         "neiva": 4,
         "pasto": 5,
         "pereira": 9,
         "popayan": 2,
         "puerto asis": 1,
         "puerto carreno": 1,
         "quibdo": 2,
         "riohacha": 2,
         "san andres": 1,
         "san jose del guaviare": 0,
         "santa marta": 10,
         "cali": 28,
         "sincelejo": 6,
         "tunja": 1,
         "valledupar": 6,
         "villavicencio": 8,
         "yopal": 5,
         "mocoa": "nan",
         "_deepnote_index_column": "('Accidente de transporte', '2018-02')"
        },
        {
         "arauca": 2,
         "armenia": 4,
         "barranquilla": 10,
         "bogota dc": 45,
         "bucaramanga": 6,
         "cartagena": 8,
         "cucuta": 5,
         "florencia": 4,
         "ibague": 3,
         "inirida": "nan",
         "leticia": 2,
         "manizales": 3,
         "medellin": 22,
         "mitu": "nan",
         "monteria": 9,
         "neiva": 3,
         "pasto": 5,
         "pereira": 10,
         "popayan": 3,
         "puerto asis": 1,
         "puerto carreno": 0,
         "quibdo": 0,
         "riohacha": 4,
         "san andres": 0,
         "san jose del guaviare": 1,
         "santa marta": 6,
         "cali": 27,
         "sincelejo": 5,
         "tunja": 1,
         "valledupar": 5,
         "villavicencio": 3,
         "yopal": 1,
         "mocoa": "nan",
         "_deepnote_index_column": "('Accidente de transporte', '2018-03')"
        },
        {
         "arauca": 0,
         "armenia": 4,
         "barranquilla": 9,
         "bogota dc": 44,
         "bucaramanga": 0,
         "cartagena": 6,
         "cucuta": 3,
         "florencia": 1,
         "ibague": 7,
         "inirida": 0,
         "leticia": 2,
         "manizales": 5,
         "medellin": 16,
         "mitu": 1,
         "monteria": 5,
         "neiva": 5,
         "pasto": 1,
         "pereira": 6,
         "popayan": 3,
         "puerto asis": 5,
         "puerto carreno": 0,
         "quibdo": 1,
         "riohacha": 1,
         "san andres": 0,
         "san jose del guaviare": 0,
         "santa marta": 8,
         "cali": 38,
         "sincelejo": 1,
         "tunja": 2,
         "valledupar": 2,
         "villavicencio": 9,
         "yopal": 7,
         "mocoa": "nan",
         "_deepnote_index_column": "('Accidente de transporte', '2018-04')"
        },
        {
         "arauca": 1,
         "armenia": 8,
         "barranquilla": 10,
         "bogota dc": 49,
         "bucaramanga": 5,
         "cartagena": 8,
         "cucuta": 8,
         "florencia": 2,
         "ibague": 11,
         "inirida": 0,
         "leticia": 0,
         "manizales": 1,
         "medellin": 23,
         "mitu": 0,
         "monteria": 2,
         "neiva": 4,
         "pasto": 5,
         "pereira": 7,
         "popayan": 4,
         "puerto asis": 4,
         "puerto carreno": 0,
         "quibdo": 1,
         "riohacha": 5,
         "san andres": 0,
         "san jose del guaviare": 0,
         "santa marta": 7,
         "cali": 27,
         "sincelejo": 2,
         "tunja": 1,
         "valledupar": 1,
         "villavicencio": 10,
         "yopal": 2,
         "mocoa": "nan",
         "_deepnote_index_column": "('Accidente de transporte', '2018-05')"
        },
        {
         "arauca": 0,
         "armenia": 4,
         "barranquilla": 8,
         "bogota dc": 51,
         "bucaramanga": 7,
         "cartagena": 5,
         "cucuta": 7,
         "florencia": 2,
         "ibague": 0,
         "inirida": 0,
         "leticia": 1,
         "manizales": 3,
         "medellin": 19,
         "mitu": 0,
         "monteria": 5,
         "neiva": 10,
         "pasto": 3,
         "pereira": 7,
         "popayan": 4,
         "puerto asis": 1,
         "puerto carreno": 0,
         "quibdo": 0,
         "riohacha": 3,
         "san andres": 2,
         "san jose del guaviare": 0,
         "santa marta": 8,
         "cali": 29,
         "sincelejo": 2,
         "tunja": 2,
         "valledupar": 5,
         "villavicencio": 8,
         "yopal": 3,
         "mocoa": "nan",
         "_deepnote_index_column": "('Accidente de transporte', '2018-06')"
        },
        {
         "arauca": 0,
         "armenia": 9,
         "barranquilla": 3,
         "bogota dc": 55,
         "bucaramanga": 8,
         "cartagena": 4,
         "cucuta": 12,
         "florencia": 1,
         "ibague": 3,
         "inirida": 0,
         "leticia": 0,
         "manizales": 8,
         "medellin": 21,
         "mitu": 0,
         "monteria": 9,
         "neiva": 7,
         "pasto": 1,
         "pereira": 2,
         "popayan": 2,
         "puerto asis": 1,
         "puerto carreno": 1,
         "quibdo": 1,
         "riohacha": 7,
         "san andres": 1,
         "san jose del guaviare": 0,
         "santa marta": 6,
         "cali": 37,
         "sincelejo": 7,
         "tunja": 0,
         "valledupar": 3,
         "villavicencio": 8,
         "yopal": 4,
         "mocoa": "nan",
         "_deepnote_index_column": "('Accidente de transporte', '2018-07')"
        },
        {
         "arauca": 1,
         "armenia": 7,
         "barranquilla": 10,
         "bogota dc": 44,
         "bucaramanga": 5,
         "cartagena": 7,
         "cucuta": 6,
         "florencia": 2,
         "ibague": 8,
         "inirida": 0,
         "leticia": 0,
         "manizales": 5,
         "medellin": 19,
         "mitu": 0,
         "monteria": 4,
         "neiva": 1,
         "pasto": 4,
         "pereira": 7,
         "popayan": 4,
         "puerto asis": 3,
         "puerto carreno": 0,
         "quibdo": 4,
         "riohacha": 8,
         "san andres": 0,
         "san jose del guaviare": 0,
         "santa marta": 7,
         "cali": 30,
         "sincelejo": 2,
         "tunja": 1,
         "valledupar": 5,
         "villavicencio": 5,
         "yopal": 24,
         "mocoa": "nan",
         "_deepnote_index_column": "('Accidente de transporte', '2018-08')"
        },
        {
         "arauca": 4,
         "armenia": 3,
         "barranquilla": 10,
         "bogota dc": 38,
         "bucaramanga": 7,
         "cartagena": 7,
         "cucuta": 11,
         "florencia": 4,
         "ibague": 2,
         "inirida": 0,
         "leticia": 0,
         "manizales": 6,
         "medellin": 20,
         "mitu": 0,
         "monteria": 9,
         "neiva": 4,
         "pasto": 7,
         "pereira": 10,
         "popayan": 4,
         "puerto asis": 4,
         "puerto carreno": 0,
         "quibdo": 1,
         "riohacha": 3,
         "san andres": 0,
         "san jose del guaviare": 2,
         "santa marta": 9,
         "cali": 14,
         "sincelejo": 4,
         "tunja": 2,
         "valledupar": 4,
         "villavicencio": 6,
         "yopal": 4,
         "mocoa": "nan",
         "_deepnote_index_column": "('Accidente de transporte', '2018-09')"
        },
        {
         "arauca": 0,
         "armenia": 4,
         "barranquilla": 11,
         "bogota dc": 42,
         "bucaramanga": 5,
         "cartagena": 4,
         "cucuta": 7,
         "florencia": 3,
         "ibague": 10,
         "inirida": 0,
         "leticia": 0,
         "manizales": 4,
         "medellin": 19,
         "mitu": 0,
         "monteria": 7,
         "neiva": 3,
         "pasto": 7,
         "pereira": 8,
         "popayan": 4,
         "puerto asis": 1,
         "puerto carreno": 0,
         "quibdo": 1,
         "riohacha": 5,
         "san andres": 1,
         "san jose del guaviare": 1,
         "santa marta": 1,
         "cali": 30,
         "sincelejo": 1,
         "tunja": 4,
         "valledupar": 2,
         "villavicencio": 7,
         "yopal": 3,
         "mocoa": "nan",
         "_deepnote_index_column": "('Accidente de transporte', '2018-10')"
        }
       ]
      },
      "text/plain": "                                 arauca  armenia  barranquilla  bogota dc  \\\ncategoria               periodo                                             \nAccidente de transporte 2018-01     0.0      0.0           8.0       32.0   \n                        2018-02     0.0      5.0          13.0       41.0   \n                        2018-03     2.0      4.0          10.0       45.0   \n                        2018-04     0.0      4.0           9.0       44.0   \n                        2018-05     1.0      8.0          10.0       49.0   \n...                                 ...      ...           ...        ...   \nSuicidio                2021-12     0.0      5.0           3.0       26.0   \n                        2022-01     0.0      1.0           3.0       27.0   \n                        2022-02     0.0      2.0           2.0       35.0   \n                        2022-03     1.0      1.0           4.0       32.0   \n                        2022-04     0.0      3.0           0.0       28.0   \n\n                                 bucaramanga  cartagena  cucuta  florencia  \\\ncategoria               periodo                                              \nAccidente de transporte 2018-01          1.0        8.0     6.0        2.0   \n                        2018-02          6.0       10.0     6.0        2.0   \n                        2018-03          6.0        8.0     5.0        4.0   \n                        2018-04          0.0        6.0     3.0        1.0   \n                        2018-05          5.0        8.0     8.0        2.0   \n...                                      ...        ...     ...        ...   \nSuicidio                2021-12          5.0        3.0     2.0        0.0   \n                        2022-01          2.0        3.0     2.0        1.0   \n                        2022-02          2.0        2.0     2.0        1.0   \n                        2022-03          4.0        7.0     3.0        0.0   \n                        2022-04          4.0        4.0     3.0        0.0   \n\n                                 ibague  inirida  ...  san andres  \\\ncategoria               periodo                   ...               \nAccidente de transporte 2018-01     9.0      NaN  ...         2.0   \n                        2018-02     8.0      NaN  ...         1.0   \n                        2018-03     3.0      NaN  ...         0.0   \n                        2018-04     7.0      0.0  ...         0.0   \n                        2018-05    11.0      0.0  ...         0.0   \n...                                 ...      ...  ...         ...   \nSuicidio                2021-12     2.0      0.0  ...         4.0   \n                        2022-01     5.0      NaN  ...         0.0   \n                        2022-02     3.0      NaN  ...         0.0   \n                        2022-03     1.0      NaN  ...         0.0   \n                        2022-04     4.0      0.0  ...         0.0   \n\n                                 san jose del guaviare  santa marta  cali  \\\ncategoria               periodo                                             \nAccidente de transporte 2018-01                    0.0          5.0  32.0   \n                        2018-02                    0.0         10.0  28.0   \n                        2018-03                    1.0          6.0  27.0   \n                        2018-04                    0.0          8.0  38.0   \n                        2018-05                    0.0          7.0  27.0   \n...                                                ...          ...   ...   \nSuicidio                2021-12                    0.0          0.0   9.0   \n                        2022-01                    0.0          1.0  10.0   \n                        2022-02                    0.0          2.0  13.0   \n                        2022-03                    0.0          2.0  12.0   \n                        2022-04                    2.0          3.0  10.0   \n\n                                 sincelejo  tunja  valledupar  villavicencio  \\\ncategoria               periodo                                                \nAccidente de transporte 2018-01        2.0    0.0         3.0           12.0   \n                        2018-02        6.0    1.0         6.0            8.0   \n                        2018-03        5.0    1.0         5.0            3.0   \n                        2018-04        1.0    2.0         2.0            9.0   \n                        2018-05        2.0    1.0         1.0           10.0   \n...                                    ...    ...         ...            ...   \nSuicidio                2021-12        2.0    1.0         3.0            2.0   \n                        2022-01        1.0    0.0         4.0            2.0   \n                        2022-02        2.0    0.0         3.0            5.0   \n                        2022-03        0.0    0.0         5.0            3.0   \n                        2022-04        1.0    0.0         2.0            1.0   \n\n                                 yopal  mocoa  \ncategoria               periodo                \nAccidente de transporte 2018-01    3.0    NaN  \n                        2018-02    5.0    NaN  \n                        2018-03    1.0    NaN  \n                        2018-04    7.0    NaN  \n                        2018-05    2.0    NaN  \n...                                ...    ...  \nSuicidio                2021-12    0.0    2.0  \n                        2022-01    3.0    0.0  \n                        2022-02    1.0    0.0  \n                        2022-03    1.0    0.0  \n                        2022-04    0.0    0.0  \n\n[208 rows x 33 columns]",
      "text/html": "<div>\n<style scoped>\n    .dataframe tbody tr th:only-of-type {\n        vertical-align: middle;\n    }\n\n    .dataframe tbody tr th {\n        vertical-align: top;\n    }\n\n    .dataframe thead th {\n        text-align: right;\n    }\n</style>\n<table border=\"1\" class=\"dataframe\">\n  <thead>\n    <tr style=\"text-align: right;\">\n      <th></th>\n      <th></th>\n      <th>arauca</th>\n      <th>armenia</th>\n      <th>barranquilla</th>\n      <th>bogota dc</th>\n      <th>bucaramanga</th>\n      <th>cartagena</th>\n      <th>cucuta</th>\n      <th>florencia</th>\n      <th>ibague</th>\n      <th>inirida</th>\n      <th>...</th>\n      <th>san andres</th>\n      <th>san jose del guaviare</th>\n      <th>santa marta</th>\n      <th>cali</th>\n      <th>sincelejo</th>\n      <th>tunja</th>\n      <th>valledupar</th>\n      <th>villavicencio</th>\n      <th>yopal</th>\n      <th>mocoa</th>\n    </tr>\n    <tr>\n      <th>categoria</th>\n      <th>periodo</th>\n      <th></th>\n      <th></th>\n      <th></th>\n      <th></th>\n      <th></th>\n      <th></th>\n      <th></th>\n      <th></th>\n      <th></th>\n      <th></th>\n      <th></th>\n      <th></th>\n      <th></th>\n      <th></th>\n      <th></th>\n      <th></th>\n      <th></th>\n      <th></th>\n      <th></th>\n      <th></th>\n      <th></th>\n    </tr>\n  </thead>\n  <tbody>\n    <tr>\n      <th rowspan=\"5\" valign=\"top\">Accidente de transporte</th>\n      <th>2018-01</th>\n      <td>0.0</td>\n      <td>0.0</td>\n      <td>8.0</td>\n      <td>32.0</td>\n      <td>1.0</td>\n      <td>8.0</td>\n      <td>6.0</td>\n      <td>2.0</td>\n      <td>9.0</td>\n      <td>NaN</td>\n      <td>...</td>\n      <td>2.0</td>\n      <td>0.0</td>\n      <td>5.0</td>\n      <td>32.0</td>\n      <td>2.0</td>\n      <td>0.0</td>\n      <td>3.0</td>\n      <td>12.0</td>\n      <td>3.0</td>\n      <td>NaN</td>\n    </tr>\n    <tr>\n      <th>2018-02</th>\n      <td>0.0</td>\n      <td>5.0</td>\n      <td>13.0</td>\n      <td>41.0</td>\n      <td>6.0</td>\n      <td>10.0</td>\n      <td>6.0</td>\n      <td>2.0</td>\n      <td>8.0</td>\n      <td>NaN</td>\n      <td>...</td>\n      <td>1.0</td>\n      <td>0.0</td>\n      <td>10.0</td>\n      <td>28.0</td>\n      <td>6.0</td>\n      <td>1.0</td>\n      <td>6.0</td>\n      <td>8.0</td>\n      <td>5.0</td>\n      <td>NaN</td>\n    </tr>\n    <tr>\n      <th>2018-03</th>\n      <td>2.0</td>\n      <td>4.0</td>\n      <td>10.0</td>\n      <td>45.0</td>\n      <td>6.0</td>\n      <td>8.0</td>\n      <td>5.0</td>\n      <td>4.0</td>\n      <td>3.0</td>\n      <td>NaN</td>\n      <td>...</td>\n      <td>0.0</td>\n      <td>1.0</td>\n      <td>6.0</td>\n      <td>27.0</td>\n      <td>5.0</td>\n      <td>1.0</td>\n      <td>5.0</td>\n      <td>3.0</td>\n      <td>1.0</td>\n      <td>NaN</td>\n    </tr>\n    <tr>\n      <th>2018-04</th>\n      <td>0.0</td>\n      <td>4.0</td>\n      <td>9.0</td>\n      <td>44.0</td>\n      <td>0.0</td>\n      <td>6.0</td>\n      <td>3.0</td>\n      <td>1.0</td>\n      <td>7.0</td>\n      <td>0.0</td>\n      <td>...</td>\n      <td>0.0</td>\n      <td>0.0</td>\n      <td>8.0</td>\n      <td>38.0</td>\n      <td>1.0</td>\n      <td>2.0</td>\n      <td>2.0</td>\n      <td>9.0</td>\n      <td>7.0</td>\n      <td>NaN</td>\n    </tr>\n    <tr>\n      <th>2018-05</th>\n      <td>1.0</td>\n      <td>8.0</td>\n      <td>10.0</td>\n      <td>49.0</td>\n      <td>5.0</td>\n      <td>8.0</td>\n      <td>8.0</td>\n      <td>2.0</td>\n      <td>11.0</td>\n      <td>0.0</td>\n      <td>...</td>\n      <td>0.0</td>\n      <td>0.0</td>\n      <td>7.0</td>\n      <td>27.0</td>\n      <td>2.0</td>\n      <td>1.0</td>\n      <td>1.0</td>\n      <td>10.0</td>\n      <td>2.0</td>\n      <td>NaN</td>\n    </tr>\n    <tr>\n      <th>...</th>\n      <th>...</th>\n      <td>...</td>\n      <td>...</td>\n      <td>...</td>\n      <td>...</td>\n      <td>...</td>\n      <td>...</td>\n      <td>...</td>\n      <td>...</td>\n      <td>...</td>\n      <td>...</td>\n      <td>...</td>\n      <td>...</td>\n      <td>...</td>\n      <td>...</td>\n      <td>...</td>\n      <td>...</td>\n      <td>...</td>\n      <td>...</td>\n      <td>...</td>\n      <td>...</td>\n      <td>...</td>\n    </tr>\n    <tr>\n      <th rowspan=\"5\" valign=\"top\">Suicidio</th>\n      <th>2021-12</th>\n      <td>0.0</td>\n      <td>5.0</td>\n      <td>3.0</td>\n      <td>26.0</td>\n      <td>5.0</td>\n      <td>3.0</td>\n      <td>2.0</td>\n      <td>0.0</td>\n      <td>2.0</td>\n      <td>0.0</td>\n      <td>...</td>\n      <td>4.0</td>\n      <td>0.0</td>\n      <td>0.0</td>\n      <td>9.0</td>\n      <td>2.0</td>\n      <td>1.0</td>\n      <td>3.0</td>\n      <td>2.0</td>\n      <td>0.0</td>\n      <td>2.0</td>\n    </tr>\n    <tr>\n      <th>2022-01</th>\n      <td>0.0</td>\n      <td>1.0</td>\n      <td>3.0</td>\n      <td>27.0</td>\n      <td>2.0</td>\n      <td>3.0</td>\n      <td>2.0</td>\n      <td>1.0</td>\n      <td>5.0</td>\n      <td>NaN</td>\n      <td>...</td>\n      <td>0.0</td>\n      <td>0.0</td>\n      <td>1.0</td>\n      <td>10.0</td>\n      <td>1.0</td>\n      <td>0.0</td>\n      <td>4.0</td>\n      <td>2.0</td>\n      <td>3.0</td>\n      <td>0.0</td>\n    </tr>\n    <tr>\n      <th>2022-02</th>\n      <td>0.0</td>\n      <td>2.0</td>\n      <td>2.0</td>\n      <td>35.0</td>\n      <td>2.0</td>\n      <td>2.0</td>\n      <td>2.0</td>\n      <td>1.0</td>\n      <td>3.0</td>\n      <td>NaN</td>\n      <td>...</td>\n      <td>0.0</td>\n      <td>0.0</td>\n      <td>2.0</td>\n      <td>13.0</td>\n      <td>2.0</td>\n      <td>0.0</td>\n      <td>3.0</td>\n      <td>5.0</td>\n      <td>1.0</td>\n      <td>0.0</td>\n    </tr>\n    <tr>\n      <th>2022-03</th>\n      <td>1.0</td>\n      <td>1.0</td>\n      <td>4.0</td>\n      <td>32.0</td>\n      <td>4.0</td>\n      <td>7.0</td>\n      <td>3.0</td>\n      <td>0.0</td>\n      <td>1.0</td>\n      <td>NaN</td>\n      <td>...</td>\n      <td>0.0</td>\n      <td>0.0</td>\n      <td>2.0</td>\n      <td>12.0</td>\n      <td>0.0</td>\n      <td>0.0</td>\n      <td>5.0</td>\n      <td>3.0</td>\n      <td>1.0</td>\n      <td>0.0</td>\n    </tr>\n    <tr>\n      <th>2022-04</th>\n      <td>0.0</td>\n      <td>3.0</td>\n      <td>0.0</td>\n      <td>28.0</td>\n      <td>4.0</td>\n      <td>4.0</td>\n      <td>3.0</td>\n      <td>0.0</td>\n      <td>4.0</td>\n      <td>0.0</td>\n      <td>...</td>\n      <td>0.0</td>\n      <td>2.0</td>\n      <td>3.0</td>\n      <td>10.0</td>\n      <td>1.0</td>\n      <td>0.0</td>\n      <td>2.0</td>\n      <td>1.0</td>\n      <td>0.0</td>\n      <td>0.0</td>\n    </tr>\n  </tbody>\n</table>\n<p>208 rows × 33 columns</p>\n</div>"
     },
     "metadata": {}
    }
   ]
  },
  {
   "cell_type": "code",
   "metadata": {
    "cell_id": "665b817e7fd143388bcc43c5a53cee88",
    "tags": [],
    "deepnote_to_be_reexecuted": false,
    "source_hash": "828002a",
    "execution_start": 1654213877868,
    "execution_millis": 41,
    "deepnote_cell_type": "code",
    "deepnote_cell_height": 701
   },
   "source": "df.loc[\"Suicidio\"].info()",
   "execution_count": null,
   "outputs": [
    {
     "name": "stdout",
     "text": "<class 'pandas.core.frame.DataFrame'>\nIndex: 52 entries, 2018-01 to 2022-04\nData columns (total 33 columns):\n #   Column                 Non-Null Count  Dtype  \n---  ------                 --------------  -----  \n 0   arauca                 52 non-null     float64\n 1   armenia                52 non-null     float64\n 2   barranquilla           52 non-null     float64\n 3   bogota dc              52 non-null     float64\n 4   bucaramanga            52 non-null     float64\n 5   cartagena              52 non-null     float64\n 6   cucuta                 52 non-null     float64\n 7   florencia              52 non-null     float64\n 8   ibague                 52 non-null     float64\n 9   inirida                41 non-null     float64\n 10  leticia                51 non-null     float64\n 11  manizales              52 non-null     float64\n 12  medellin               52 non-null     float64\n 13  mitu                   41 non-null     float64\n 14  monteria               52 non-null     float64\n 15  neiva                  52 non-null     float64\n 16  pasto                  52 non-null     float64\n 17  pereira                52 non-null     float64\n 18  popayan                52 non-null     float64\n 19  puerto asis            47 non-null     float64\n 20  puerto carreno         50 non-null     float64\n 21  quibdo                 52 non-null     float64\n 22  riohacha               52 non-null     float64\n 23  san andres             51 non-null     float64\n 24  san jose del guaviare  52 non-null     float64\n 25  santa marta            52 non-null     float64\n 26  cali                   52 non-null     float64\n 27  sincelejo              52 non-null     float64\n 28  tunja                  52 non-null     float64\n 29  valledupar             52 non-null     float64\n 30  villavicencio          52 non-null     float64\n 31  yopal                  52 non-null     float64\n 32  mocoa                  5 non-null      float64\ndtypes: float64(33)\nmemory usage: 13.8+ KB\n",
     "output_type": "stream"
    }
   ]
  },
  {
   "cell_type": "markdown",
   "source": "En vista de que se tienen varias ciudades con valores nulos, vamos a ver más a fondo cuáles son las columnas con más valores faltantes",
   "metadata": {
    "cell_id": "ae0d445c651646999e810891094b29b9",
    "tags": [],
    "deepnote_cell_type": "markdown",
    "deepnote_cell_height": 74.796875
   }
  },
  {
   "cell_type": "code",
   "metadata": {
    "cell_id": "cdadb58a568d45a288a8024cd672e0d3",
    "tags": [],
    "deepnote_to_be_reexecuted": false,
    "source_hash": "fc74ca06",
    "execution_start": 1654214011943,
    "execution_millis": 100,
    "deepnote_cell_type": "code",
    "deepnote_cell_height": 270.578125,
    "deepnote_output_heights": [
     155.59375
    ]
   },
   "source": "nan_s = df.loc[\"Suicidio\"].isna().sum()\nnan_s[nan_s > 0].sort_values(ascending=False)",
   "execution_count": null,
   "outputs": [
    {
     "output_type": "execute_result",
     "execution_count": 41,
     "data": {
      "text/plain": "mocoa             47\ninirida           11\nmitu              11\npuerto asis        5\npuerto carreno     2\nleticia            1\nsan andres         1\ndtype: int64"
     },
     "metadata": {}
    }
   ]
  },
  {
   "cell_type": "code",
   "metadata": {
    "cell_id": "c5fd0cd958e7464eba05774f5d50ec6e",
    "tags": [],
    "deepnote_to_be_reexecuted": false,
    "source_hash": "9a4771b7",
    "execution_start": 1654214769685,
    "execution_millis": 551,
    "deepnote_cell_type": "code",
    "deepnote_cell_height": 617.1875,
    "deepnote_output_heights": [
     21.1875,
     378
    ]
   },
   "source": "df.columns = df.columns.map(str.capitalize)\ndf.loc[\"Suicidio\"].dropna(axis=1).mean().sort_values(ascending=False).head(10).plot.bar(\n    figsize=(14,6),\n    title=\"Promedio de casos de suicidio mensuales por ciudades capitales (2018-01 a 2022-04)\",\n    rot=0\n)",
   "execution_count": null,
   "outputs": [
    {
     "output_type": "execute_result",
     "execution_count": 54,
     "data": {
      "text/plain": "<AxesSubplot:title={'center':'Promedio de casos de suicidio mensuales por ciudades capitales (2018-01 a 2022-04)'}>"
     },
     "metadata": {}
    },
    {
     "data": {
      "text/plain": "<Figure size 1008x432 with 1 Axes>",
      "image/png": "[encoded data removed]"
     },
     "metadata": {
      "needs_background": "light",
      "image/png": {
       "width": 819,
       "height": 376
      }
     },
     "output_type": "display_data"
    }
   ]
  },
  {
   "cell_type": "markdown",
   "source": "Las ciudades dónde más casos se presentan coinciden con ciudades con mayor población",
   "metadata": {
    "cell_id": "2254c6414f9944a8ab0f2e54e318fdab",
    "tags": [],
    "deepnote_cell_type": "markdown",
    "deepnote_cell_height": 52.390625
   }
  },
  {
   "cell_type": "markdown",
   "source": "## Lesiones no Letales",
   "metadata": {
    "cell_id": "9c6c52d30c904725b2544634aa210516",
    "tags": [],
    "deepnote_cell_type": "markdown",
    "deepnote_cell_height": 70
   }
  },
  {
   "cell_type": "markdown",
   "source": "### Por Sexo",
   "metadata": {
    "cell_id": "33f570e0092c45b7b48cbbda8482dacc",
    "tags": [],
    "deepnote_cell_type": "markdown",
    "deepnote_cell_height": 62
   }
  },
  {
   "cell_type": "code",
   "metadata": {
    "cell_id": "e49c6668a55d414fb3d88fec67dfc89d",
    "tags": [],
    "deepnote_to_be_reexecuted": false,
    "source_hash": "cf445ff5",
    "execution_start": 1654212275426,
    "execution_millis": 16,
    "deepnote_cell_type": "code",
    "deepnote_cell_height": 81
   },
   "source": "# TODO",
   "execution_count": null,
   "outputs": []
  },
  {
   "cell_type": "markdown",
   "source": "### Por Grupo de Edad",
   "metadata": {
    "cell_id": "b3d11af5b3af4e09b2690294bc5e045b",
    "tags": [],
    "deepnote_cell_type": "markdown",
    "deepnote_cell_height": 62
   }
  },
  {
   "cell_type": "code",
   "metadata": {
    "cell_id": "8fe2c277d93d48a4badc63d17f51f7e2",
    "tags": [],
    "deepnote_to_be_reexecuted": false,
    "source_hash": "cf445ff5",
    "execution_start": 1654212275442,
    "execution_millis": 22,
    "deepnote_cell_type": "code",
    "deepnote_cell_height": 81
   },
   "source": "# TODO",
   "execution_count": null,
   "outputs": []
  },
  {
   "cell_type": "markdown",
   "source": "### Por Capitales Departamentales",
   "metadata": {
    "cell_id": "6832718160bb4e0a9de6465e04447d75",
    "tags": [],
    "deepnote_cell_type": "markdown",
    "deepnote_cell_height": 62
   }
  },
  {
   "cell_type": "code",
   "metadata": {
    "cell_id": "713caf0d57d5410da98be9c2a3984bcc",
    "tags": [],
    "deepnote_to_be_reexecuted": false,
    "source_hash": "cf445ff5",
    "execution_start": 1654212275464,
    "execution_millis": 18,
    "deepnote_cell_type": "code",
    "deepnote_cell_height": 81
   },
   "source": "# TODO",
   "execution_count": null,
   "outputs": []
  },
  {
   "cell_type": "markdown",
   "source": "## Violencia Intrafamiliar",
   "metadata": {
    "cell_id": "717bccc9d55d48b6ab5e908f163b6082",
    "tags": [],
    "deepnote_cell_type": "markdown",
    "deepnote_cell_height": 70
   }
  },
  {
   "cell_type": "markdown",
   "source": "### Por Sexo",
   "metadata": {
    "cell_id": "485754a40cd9464aa2ff0f5fbd182bbb",
    "tags": [],
    "deepnote_cell_type": "markdown",
    "deepnote_cell_height": 62
   }
  },
  {
   "cell_type": "code",
   "metadata": {
    "cell_id": "2d503a2a04704cb9b750c3c40ed46d20",
    "tags": [],
    "deepnote_to_be_reexecuted": false,
    "source_hash": "cf445ff5",
    "execution_start": 1654212275491,
    "execution_millis": 1,
    "deepnote_cell_type": "code",
    "deepnote_cell_height": 81
   },
   "source": "# TODO",
   "execution_count": null,
   "outputs": []
  },
  {
   "cell_type": "markdown",
   "source": "### Por Grupo de Edad",
   "metadata": {
    "cell_id": "5c9b3fda569b4cf8a97120ef50a885c1",
    "tags": [],
    "deepnote_cell_type": "markdown",
    "deepnote_cell_height": 62
   }
  },
  {
   "cell_type": "code",
   "metadata": {
    "cell_id": "a5a0e66f1fc2425297dc1dfec5ad8ea1",
    "tags": [],
    "deepnote_to_be_reexecuted": false,
    "source_hash": "cf445ff5",
    "execution_start": 1654212275547,
    "execution_millis": 25030479,
    "deepnote_cell_type": "code"
   },
   "source": "# TODO",
   "execution_count": null,
   "outputs": []
  },
  {
   "cell_type": "markdown",
   "source": "### Por Capitales Departamentales",
   "metadata": {
    "cell_id": "81dcb695f71b406f9cf604765aee1d3e",
    "tags": [],
    "deepnote_cell_type": "markdown"
   }
  },
  {
   "cell_type": "code",
   "metadata": {
    "cell_id": "3ff6953c661641a08f0e9773068d9974",
    "tags": [],
    "deepnote_to_be_reexecuted": false,
    "source_hash": "cf445ff5",
    "execution_start": 1654212275548,
    "execution_millis": 25030479,
    "deepnote_cell_type": "code"
   },
   "source": "# TODO",
   "execution_count": null,
   "outputs": []
  },
  {
   "cell_type": "markdown",
   "source": "<a style='text-decoration:none;line-height:16px;display:flex;color:#5B5B62;padding:10px;justify-content:end;' href='https://deepnote.com?utm_source=created-in-deepnote-cell&projectId=70a6331b-3e37-4c4d-8041-2d29d0ba96c1' target=\"_blank\">\n<img alt='Created in deepnote.com' style='display:inline;max-height:16px;margin:0px;margin-right:7.5px;' src='data:image/svg+xml;base64,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' > </img>\nCreated in <span style='font-weight:600;margin-left:4px;'>Deepnote</span></a>",
   "metadata": {
    "tags": [],
    "created_in_deepnote_cell": true,
    "deepnote_cell_type": "markdown"
   }
  }
 ],
 "nbformat": 4,
 "nbformat_minor": 2,
 "metadata": {
  "orig_nbformat": 2,
  "deepnote": {},
  "deepnote_notebook_id": "398e309d-4371-4482-831a-f441a0d0c12a",
  "deepnote_execution_queue": []
 }
}