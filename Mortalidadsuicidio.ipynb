{
 "cells": [
  {
   "cell_type": "markdown",
   "source": "",
   "metadata": {
    "formattedRanges": [],
    "cell_id": "e0d7fe1539d0482fbcad834630671cfd",
    "tags": [],
    "is_collapsed": false,
    "deepnote_cell_type": "text-cell-p"
   }
  },
  {
   "cell_type": "code",
   "metadata": {
    "cell_id": "2b7c464db0134109afbcf17045c3d70f",
    "tags": [],
    "deepnote_to_be_reexecuted": false,
    "source_hash": "9b82ee11",
    "execution_start": 1652749096868,
    "execution_millis": 2,
    "deepnote_cell_type": "code",
    "deepnote_cell_height": 81.15625
   },
   "source": "import pandas as pd",
   "execution_count": null,
   "outputs": []
  },
  {
   "cell_type": "code",
   "metadata": {
    "cell_id": "445119ea970941dd889ede7df1663d82",
    "tags": [],
    "deepnote_to_be_reexecuted": false,
    "source_hash": "7d7a7b23",
    "execution_start": 1652749099164,
    "execution_millis": 32,
    "owner_user_id": "04381bce-63b3-40e8-8c4a-1d835ecd3012",
    "deepnote_cell_type": "code",
    "deepnote_cell_height": 136.4375,
    "deepnote_output_heights": [
     21.171875
    ]
   },
   "source": "df = pd.read_csv(\"INPUTDATA/Mortalidad_Suicidio_2010_A_2016.csv\")\ndf.shape",
   "execution_count": null,
   "outputs": [
    {
     "output_type": "execute_result",
     "execution_count": 4,
     "data": {
      "text/plain": "(424, 104)"
     },
     "metadata": {}
    }
   ]
  },
  {
   "cell_type": "code",
   "metadata": {
    "cell_id": "bbb868dfe30f49ba878e34d80af30658",
    "tags": [],
    "deepnote_to_be_reexecuted": false,
    "source_hash": "f30f989a",
    "execution_start": 1652749101694,
    "execution_millis": 210,
    "deepnote_cell_type": "code",
    "deepnote_cell_height": 619.125
   },
   "source": "df.head(10)",
   "execution_count": null,
   "outputs": [
    {
     "output_type": "execute_result",
     "execution_count": 5,
     "data": {
      "application/vnd.deepnote.dataframe.v3+json": {
       "column_count": 104,
       "row_count": 10,
       "columns": [
        {
         "name": "COD_DPTO",
         "dtype": "int64",
         "stats": {
          "unique_count": 1,
          "nan_count": 0,
          "min": "17",
          "max": "17",
          "histogram": [
           {
            "bin_start": 16.5,
            "bin_end": 16.6,
            "count": 0
           },
           {
            "bin_start": 16.6,
            "bin_end": 16.7,
            "count": 0
           },
           {
            "bin_start": 16.7,
            "bin_end": 16.8,
            "count": 0
           },
           {
            "bin_start": 16.8,
            "bin_end": 16.9,
            "count": 0
           },
           {
            "bin_start": 16.9,
            "bin_end": 17,
            "count": 0
           },
           {
            "bin_start": 17,
            "bin_end": 17.1,
            "count": 10
           },
           {
            "bin_start": 17.1,
            "bin_end": 17.2,
            "count": 0
           },
           {
            "bin_start": 17.2,
            "bin_end": 17.3,
            "count": 0
           },
           {
            "bin_start": 17.3,
            "bin_end": 17.4,
            "count": 0
           },
           {
            "bin_start": 17.4,
            "bin_end": 17.5,
            "count": 0
           }
          ]
         }
        },
        {
         "name": "COD_MUNIC",
         "dtype": "int64",
         "stats": {
          "unique_count": 1,
          "nan_count": 0,
          "min": "13",
          "max": "13",
          "histogram": [
           {
            "bin_start": 12.5,
            "bin_end": 12.6,
            "count": 0
           },
           {
            "bin_start": 12.6,
            "bin_end": 12.7,
            "count": 0
           },
           {
            "bin_start": 12.7,
            "bin_end": 12.8,
            "count": 0
           },
           {
            "bin_start": 12.8,
            "bin_end": 12.9,
            "count": 0
           },
           {
            "bin_start": 12.9,
            "bin_end": 13,
            "count": 0
           },
           {
            "bin_start": 13,
            "bin_end": 13.1,
            "count": 10
           },
           {
            "bin_start": 13.1,
            "bin_end": 13.2,
            "count": 0
           },
           {
            "bin_start": 13.2,
            "bin_end": 13.3,
            "count": 0
           },
           {
            "bin_start": 13.3,
            "bin_end": 13.4,
            "count": 0
           },
           {
            "bin_start": 13.4,
            "bin_end": 13.5,
            "count": 0
           }
          ]
         }
        },
        {
         "name": "A_DEFUN",
         "dtype": "object",
         "stats": {
          "unique_count": 3,
          "nan_count": 0,
          "categories": [
           {
            "name": "Rural disperso",
            "count": 7
           },
           {
            "name": "Cabecera municipal",
            "count": 2
           },
           {
            "name": "Centro poblado",
            "count": 1
           }
          ]
         }
        },
        {
         "name": "COD_INSP",
         "dtype": "float64",
         "stats": {
          "unique_count": 1,
          "nan_count": 9,
          "min": "11.0",
          "max": "11.0",
          "histogram": [
           {
            "bin_start": 10.5,
            "bin_end": 10.6,
            "count": 0
           },
           {
            "bin_start": 10.6,
            "bin_end": 10.7,
            "count": 0
           },
           {
            "bin_start": 10.7,
            "bin_end": 10.8,
            "count": 0
           },
           {
            "bin_start": 10.8,
            "bin_end": 10.9,
            "count": 0
           },
           {
            "bin_start": 10.9,
            "bin_end": 11,
            "count": 0
           },
           {
            "bin_start": 11,
            "bin_end": 11.1,
            "count": 1
           },
           {
            "bin_start": 11.1,
            "bin_end": 11.2,
            "count": 0
           },
           {
            "bin_start": 11.2,
            "bin_end": 11.3,
            "count": 0
           },
           {
            "bin_start": 11.3,
            "bin_end": 11.4,
            "count": 0
           },
           {
            "bin_start": 11.4,
            "bin_end": 11.5,
            "count": 0
           }
          ]
         }
        },
        {
         "name": "SIT_DEFUN",
         "dtype": "object",
         "stats": {
          "unique_count": 4,
          "nan_count": 0,
          "categories": [
           {
            "name": "Casa/domicilio",
            "count": 5
           },
           {
            "name": "Hospital/clínica",
            "count": 2
           },
           {
            "name": "2 others",
            "count": 3
           }
          ]
         }
        },
        {
         "name": "OTRSITIODE",
         "dtype": "object",
         "stats": {
          "unique_count": 1,
          "nan_count": 9,
          "categories": [
           {
            "name": "CAFETAL  PERO NO ERA SITIO  DE  TRABAJO",
            "count": 1
           },
           {
            "name": "Missing",
            "count": 9
           }
          ]
         }
        },
        {
         "name": "COD_INST",
         "dtype": "object",
         "stats": {
          "unique_count": 1,
          "nan_count": 1,
          "categories": [
           {
            "name": "170,130,087,901",
            "count": 9
           },
           {
            "name": "Missing",
            "count": 1
           }
          ]
         }
        },
        {
         "name": "NOM_INST",
         "dtype": "object",
         "stats": {
          "unique_count": 1,
          "nan_count": 1,
          "categories": [
           {
            "name": "ESE HOSPITAL SAN JOSE DE AGUADAS",
            "count": 9
           },
           {
            "name": "Missing",
            "count": 1
           }
          ]
         }
        },
        {
         "name": "TIPO_DEFUN",
         "dtype": "int64",
         "stats": {
          "unique_count": 1,
          "nan_count": 0,
          "min": "2",
          "max": "2",
          "histogram": [
           {
            "bin_start": 1.5,
            "bin_end": 1.6,
            "count": 0
           },
           {
            "bin_start": 1.6,
            "bin_end": 1.7,
            "count": 0
           },
           {
            "bin_start": 1.7,
            "bin_end": 1.8,
            "count": 0
           },
           {
            "bin_start": 1.8,
            "bin_end": 1.9,
            "count": 0
           },
           {
            "bin_start": 1.9,
            "bin_end": 2,
            "count": 0
           },
           {
            "bin_start": 2,
            "bin_end": 2.1,
            "count": 10
           },
           {
            "bin_start": 2.1,
            "bin_end": 2.2,
            "count": 0
           },
           {
            "bin_start": 2.2,
            "bin_end": 2.3,
            "count": 0
           },
           {
            "bin_start": 2.3,
            "bin_end": 2.4,
            "count": 0
           },
           {
            "bin_start": 2.4,
            "bin_end": 2.5,
            "count": 0
           }
          ]
         }
        },
        {
         "name": "FECHA_DEF",
         "dtype": "object",
         "stats": {
          "unique_count": 10,
          "nan_count": 0,
          "categories": [
           {
            "name": "03/09/2011 12:00:00 AM",
            "count": 1
           },
           {
            "name": "03/14/2012 12:00:00 AM",
            "count": 1
           },
           {
            "name": "8 others",
            "count": 8
           }
          ]
         }
        },
        {
         "name": "ANO",
         "dtype": "object",
         "stats": {
          "unique_count": 5,
          "nan_count": 0,
          "categories": [
           {
            "name": "2,012",
            "count": 3
           },
           {
            "name": "2,013",
            "count": 3
           },
           {
            "name": "3 others",
            "count": 4
           }
          ]
         }
        },
        {
         "name": "MES",
         "dtype": "int64",
         "stats": {
          "unique_count": 5,
          "nan_count": 0,
          "min": "1",
          "max": "8",
          "histogram": [
           {
            "bin_start": 1,
            "bin_end": 1.7,
            "count": 1
           },
           {
            "bin_start": 1.7,
            "bin_end": 2.4,
            "count": 0
           },
           {
            "bin_start": 2.4,
            "bin_end": 3.0999999999999996,
            "count": 2
           },
           {
            "bin_start": 3.0999999999999996,
            "bin_end": 3.8,
            "count": 0
           },
           {
            "bin_start": 3.8,
            "bin_end": 4.5,
            "count": 0
           },
           {
            "bin_start": 4.5,
            "bin_end": 5.199999999999999,
            "count": 3
           },
           {
            "bin_start": 5.199999999999999,
            "bin_end": 5.8999999999999995,
            "count": 0
           },
           {
            "bin_start": 5.8999999999999995,
            "bin_end": 6.6,
            "count": 0
           },
           {
            "bin_start": 6.6,
            "bin_end": 7.3,
            "count": 1
           },
           {
            "bin_start": 7.3,
            "bin_end": 8,
            "count": 3
           }
          ]
         }
        },
        {
         "name": "HORA",
         "dtype": "int64",
         "stats": {
          "unique_count": 9,
          "nan_count": 0,
          "min": "0",
          "max": "98",
          "histogram": [
           {
            "bin_start": 0,
            "bin_end": 9.8,
            "count": 4
           },
           {
            "bin_start": 9.8,
            "bin_end": 19.6,
            "count": 4
           },
           {
            "bin_start": 19.6,
            "bin_end": 29.400000000000002,
            "count": 1
           },
           {
            "bin_start": 29.400000000000002,
            "bin_end": 39.2,
            "count": 0
           },
           {
            "bin_start": 39.2,
            "bin_end": 49,
            "count": 0
           },
           {
            "bin_start": 49,
            "bin_end": 58.800000000000004,
            "count": 0
           },
           {
            "bin_start": 58.800000000000004,
            "bin_end": 68.60000000000001,
            "count": 0
           },
           {
            "bin_start": 68.60000000000001,
            "bin_end": 78.4,
            "count": 0
           },
           {
            "bin_start": 78.4,
            "bin_end": 88.2,
            "count": 0
           },
           {
            "bin_start": 88.2,
            "bin_end": 98,
            "count": 1
           }
          ]
         }
        },
        {
         "name": "MINUTOS",
         "dtype": "float64",
         "stats": {
          "unique_count": 5,
          "nan_count": 0,
          "min": "0.0",
          "max": "98.0",
          "histogram": [
           {
            "bin_start": 0,
            "bin_end": 9.8,
            "count": 5
           },
           {
            "bin_start": 9.8,
            "bin_end": 19.6,
            "count": 2
           },
           {
            "bin_start": 19.6,
            "bin_end": 29.400000000000002,
            "count": 0
           },
           {
            "bin_start": 29.400000000000002,
            "bin_end": 39.2,
            "count": 1
           },
           {
            "bin_start": 39.2,
            "bin_end": 49,
            "count": 0
           },
           {
            "bin_start": 49,
            "bin_end": 58.800000000000004,
            "count": 1
           },
           {
            "bin_start": 58.800000000000004,
            "bin_end": 68.60000000000001,
            "count": 0
           },
           {
            "bin_start": 68.60000000000001,
            "bin_end": 78.4,
            "count": 0
           },
           {
            "bin_start": 78.4,
            "bin_end": 88.2,
            "count": 0
           },
           {
            "bin_start": 88.2,
            "bin_end": 98,
            "count": 1
           }
          ]
         }
        },
        {
         "name": "SEXO",
         "dtype": "object",
         "stats": {
          "unique_count": 2,
          "nan_count": 0,
          "categories": [
           {
            "name": "Masculino",
            "count": 7
           },
           {
            "name": "Femenino",
            "count": 3
           }
          ]
         }
        },
        {
         "name": "FECHA_NAC",
         "dtype": "object",
         "stats": {
          "unique_count": 10,
          "nan_count": 0,
          "categories": [
           {
            "name": "01/27/1987 12:00:00 AM",
            "count": 1
           },
           {
            "name": "04/26/1967 12:00:00 AM",
            "count": 1
           },
           {
            "name": "8 others",
            "count": 8
           }
          ]
         }
        },
        {
         "name": "EST_CIVIL",
         "dtype": "object",
         "stats": {
          "unique_count": 6,
          "nan_count": 0,
          "categories": [
           {
            "name": "Estaba soltero(a)",
            "count": 4
           },
           {
            "name": "No estaba casado(a) y llevaba menos de dos años viviendo con su pareja",
            "count": 2
           },
           {
            "name": "4 others",
            "count": 4
           }
          ]
         }
        },
        {
         "name": "EDAD",
         "dtype": "int64",
         "stats": {
          "unique_count": 10,
          "nan_count": 0,
          "min": "15",
          "max": "69",
          "histogram": [
           {
            "bin_start": 15,
            "bin_end": 20.4,
            "count": 3
           },
           {
            "bin_start": 20.4,
            "bin_end": 25.8,
            "count": 3
           },
           {
            "bin_start": 25.8,
            "bin_end": 31.200000000000003,
            "count": 1
           },
           {
            "bin_start": 31.200000000000003,
            "bin_end": 36.6,
            "count": 0
           },
           {
            "bin_start": 36.6,
            "bin_end": 42,
            "count": 0
           },
           {
            "bin_start": 42,
            "bin_end": 47.400000000000006,
            "count": 1
           },
           {
            "bin_start": 47.400000000000006,
            "bin_end": 52.800000000000004,
            "count": 0
           },
           {
            "bin_start": 52.800000000000004,
            "bin_end": 58.2,
            "count": 1
           },
           {
            "bin_start": 58.2,
            "bin_end": 63.6,
            "count": 0
           },
           {
            "bin_start": 63.6,
            "bin_end": 69,
            "count": 1
           }
          ]
         }
        },
        {
         "name": "NIVEL_EDU",
         "dtype": "object",
         "stats": {
          "unique_count": 4,
          "nan_count": 0,
          "categories": [
           {
            "name": "Básica primaria",
            "count": 5
           },
           {
            "name": "Básica secundaria",
            "count": 3
           },
           {
            "name": "2 others",
            "count": 2
           }
          ]
         }
        },
        {
         "name": "ULTCURFAL",
         "dtype": "int64",
         "stats": {
          "unique_count": 6,
          "nan_count": 0,
          "min": "3",
          "max": "99",
          "histogram": [
           {
            "bin_start": 3,
            "bin_end": 12.6,
            "count": 9
           },
           {
            "bin_start": 12.6,
            "bin_end": 22.2,
            "count": 0
           },
           {
            "bin_start": 22.2,
            "bin_end": 31.799999999999997,
            "count": 0
           },
           {
            "bin_start": 31.799999999999997,
            "bin_end": 41.4,
            "count": 0
           },
           {
            "bin_start": 41.4,
            "bin_end": 51,
            "count": 0
           },
           {
            "bin_start": 51,
            "bin_end": 60.599999999999994,
            "count": 0
           },
           {
            "bin_start": 60.599999999999994,
            "bin_end": 70.2,
            "count": 0
           },
           {
            "bin_start": 70.2,
            "bin_end": 79.8,
            "count": 0
           },
           {
            "bin_start": 79.8,
            "bin_end": 89.39999999999999,
            "count": 0
           },
           {
            "bin_start": 89.39999999999999,
            "bin_end": 99,
            "count": 1
           }
          ]
         }
        },
        {
         "name": "MUERTEPORO",
         "dtype": "object",
         "stats": {
          "unique_count": 1,
          "nan_count": 0,
          "categories": [
           {
            "name": "No",
            "count": 10
           }
          ]
         }
        },
        {
         "name": "SIMUERTEPO",
         "dtype": "object",
         "stats": {
          "unique_count": 0,
          "nan_count": 10,
          "categories": [
           {
            "name": "Missing",
            "count": 10
           }
          ]
         }
        },
        {
         "name": "OCUPACION",
         "dtype": "object",
         "stats": {
          "unique_count": 6,
          "nan_count": 0,
          "categories": [
           {
            "name": "AGRICULTORES DE CULTIVOS PERMANENTES (PLANTACIONES DE ?RBOLES Y ARBUSTOS)",
            "count": 4
           },
           {
            "name": "ESTUDIANTE",
            "count": 2
           },
           {
            "name": "4 others",
            "count": 4
           }
          ]
         }
        },
        {
         "name": "IDPERTET",
         "dtype": "object",
         "stats": {
          "unique_count": 1,
          "nan_count": 0,
          "categories": [
           {
            "name": "Otro",
            "count": 10
           }
          ]
         }
        },
        {
         "name": "IDPUEBIN",
         "dtype": "int64",
         "stats": {
          "unique_count": 1,
          "nan_count": 0,
          "min": "0",
          "max": "0",
          "histogram": [
           {
            "bin_start": -0.5,
            "bin_end": -0.4,
            "count": 0
           },
           {
            "bin_start": -0.4,
            "bin_end": -0.3,
            "count": 0
           },
           {
            "bin_start": -0.3,
            "bin_end": -0.19999999999999996,
            "count": 0
           },
           {
            "bin_start": -0.19999999999999996,
            "bin_end": -0.09999999999999998,
            "count": 0
           },
           {
            "bin_start": -0.09999999999999998,
            "bin_end": 0,
            "count": 0
           },
           {
            "bin_start": 0,
            "bin_end": 0.10000000000000009,
            "count": 10
           },
           {
            "bin_start": 0.10000000000000009,
            "bin_end": 0.20000000000000007,
            "count": 0
           },
           {
            "bin_start": 0.20000000000000007,
            "bin_end": 0.30000000000000004,
            "count": 0
           },
           {
            "bin_start": 0.30000000000000004,
            "bin_end": 0.4,
            "count": 0
           },
           {
            "bin_start": 0.4,
            "bin_end": 0.5,
            "count": 0
           }
          ]
         }
        },
        {
         "name": "N_IDPUEBIN",
         "dtype": "object",
         "stats": {
          "unique_count": 0,
          "nan_count": 10,
          "categories": [
           {
            "name": "Missing",
            "count": 10
           }
          ]
         }
        },
        {
         "name": "CODPRES",
         "dtype": "float64",
         "stats": {
          "unique_count": 1,
          "nan_count": 1,
          "min": "170.0",
          "max": "170.0",
          "histogram": [
           {
            "bin_start": 169.5,
            "bin_end": 169.6,
            "count": 0
           },
           {
            "bin_start": 169.6,
            "bin_end": 169.7,
            "count": 0
           },
           {
            "bin_start": 169.7,
            "bin_end": 169.8,
            "count": 0
           },
           {
            "bin_start": 169.8,
            "bin_end": 169.9,
            "count": 0
           },
           {
            "bin_start": 169.9,
            "bin_end": 170,
            "count": 0
           },
           {
            "bin_start": 170,
            "bin_end": 170.1,
            "count": 9
           },
           {
            "bin_start": 170.1,
            "bin_end": 170.2,
            "count": 0
           },
           {
            "bin_start": 170.2,
            "bin_end": 170.3,
            "count": 0
           },
           {
            "bin_start": 170.3,
            "bin_end": 170.4,
            "count": 0
           },
           {
            "bin_start": 170.4,
            "bin_end": 170.5,
            "count": 0
           }
          ]
         }
        },
        {
         "name": "CODPTORE",
         "dtype": "object",
         "stats": {
          "unique_count": 1,
          "nan_count": 0,
          "categories": [
           {
            "name": "Caldas",
            "count": 10
           }
          ]
         }
        },
        {
         "name": "CODMUNRE",
         "dtype": "object",
         "stats": {
          "unique_count": 1,
          "nan_count": 0,
          "categories": [
           {
            "name": "Aguadas",
            "count": 10
           }
          ]
         }
        },
        {
         "name": "AREA_RES",
         "dtype": "object",
         "stats": {
          "unique_count": 3,
          "nan_count": 0,
          "categories": [
           {
            "name": "Rural disperso",
            "count": 5
           },
           {
            "name": "Cabecera municipal",
            "count": 3
           },
           {
            "name": "Centro poblado",
            "count": 2
           }
          ]
         }
        },
        {
         "name": "BARRIOFAL",
         "dtype": "object",
         "stats": {
          "unique_count": 3,
          "nan_count": 7,
          "categories": [
           {
            "name": "LA VANA",
            "count": 1
           },
           {
            "name": "2 others",
            "count": 2
           },
           {
            "name": "Missing",
            "count": 7
           }
          ]
         }
        },
        {
         "name": "COD_LOCA",
         "dtype": "object",
         "stats": {
          "unique_count": 0,
          "nan_count": 10,
          "categories": [
           {
            "name": "Missing",
            "count": 10
           }
          ]
         }
        },
        {
         "name": "CODIGO",
         "dtype": "float64",
         "stats": {
          "unique_count": 2,
          "nan_count": 8,
          "min": "1.0",
          "max": "11.0",
          "histogram": [
           {
            "bin_start": 1,
            "bin_end": 2,
            "count": 1
           },
           {
            "bin_start": 2,
            "bin_end": 3,
            "count": 0
           },
           {
            "bin_start": 3,
            "bin_end": 4,
            "count": 0
           },
           {
            "bin_start": 4,
            "bin_end": 5,
            "count": 0
           },
           {
            "bin_start": 5,
            "bin_end": 6,
            "count": 0
           },
           {
            "bin_start": 6,
            "bin_end": 7,
            "count": 0
           },
           {
            "bin_start": 7,
            "bin_end": 8,
            "count": 0
           },
           {
            "bin_start": 8,
            "bin_end": 9,
            "count": 0
           },
           {
            "bin_start": 9,
            "bin_end": 10,
            "count": 0
           },
           {
            "bin_start": 10,
            "bin_end": 11,
            "count": 1
           }
          ]
         }
        },
        {
         "name": "VEREDAFALL",
         "dtype": "object",
         "stats": {
          "unique_count": 5,
          "nan_count": 5,
          "categories": [
           {
            "name": "ARENILLA",
            "count": 1
           },
           {
            "name": "4 others",
            "count": 4
           },
           {
            "name": "Missing",
            "count": 5
           }
          ]
         }
        },
        {
         "name": "SEG_SOCIAL",
         "dtype": "object",
         "stats": {
          "unique_count": 3,
          "nan_count": 0,
          "categories": [
           {
            "name": "Subsidiado",
            "count": 8
           },
           {
            "name": "No asegurado",
            "count": 1
           },
           {
            "name": "Contributivo",
            "count": 1
           }
          ]
         }
        },
        {
         "name": "IDADMISALU",
         "dtype": "float64",
         "stats": {
          "unique_count": 2,
          "nan_count": 1,
          "min": "1.0",
          "max": "2.0",
          "histogram": [
           {
            "bin_start": 1,
            "bin_end": 1.1,
            "count": 1
           },
           {
            "bin_start": 1.1,
            "bin_end": 1.2,
            "count": 0
           },
           {
            "bin_start": 1.2,
            "bin_end": 1.3,
            "count": 0
           },
           {
            "bin_start": 1.3,
            "bin_end": 1.4,
            "count": 0
           },
           {
            "bin_start": 1.4,
            "bin_end": 1.5,
            "count": 0
           },
           {
            "bin_start": 1.5,
            "bin_end": 1.6,
            "count": 0
           },
           {
            "bin_start": 1.6,
            "bin_end": 1.7000000000000002,
            "count": 0
           },
           {
            "bin_start": 1.7000000000000002,
            "bin_end": 1.8,
            "count": 0
           },
           {
            "bin_start": 1.8,
            "bin_end": 1.9,
            "count": 0
           },
           {
            "bin_start": 1.9,
            "bin_end": 2,
            "count": 8
           }
          ]
         }
        },
        {
         "name": "IDCLASADMI",
         "dtype": "object",
         "stats": {
          "unique_count": 5,
          "nan_count": 1,
          "categories": [
           {
            "name": "CAPRECOM - CAJA DE PREVISION SOCIAL DE COMUNICACIONES",
            "count": 3
           },
           {
            "name": "4 others",
            "count": 6
           },
           {
            "name": "Missing",
            "count": 1
           }
          ]
         }
        },
        {
         "name": "PMAN_MUER",
         "dtype": "object",
         "stats": {
          "unique_count": 1,
          "nan_count": 0,
          "categories": [
           {
            "name": "Violenta",
            "count": 10
           }
          ]
         }
        },
        {
         "name": "CONS_EXP",
         "dtype": "object",
         "stats": {
          "unique_count": 1,
          "nan_count": 0,
          "categories": [
           {
            "name": "Médico legista",
            "count": 10
           }
          ]
         }
        },
        {
         "name": "MU_PARTO",
         "dtype": "float64",
         "stats": {
          "unique_count": 0,
          "nan_count": 10,
          "min": null,
          "max": null,
          "histogram": [
           {
            "bin_start": 0,
            "bin_end": 0.1,
            "count": 0
           },
           {
            "bin_start": 0.1,
            "bin_end": 0.2,
            "count": 0
           },
           {
            "bin_start": 0.2,
            "bin_end": 0.30000000000000004,
            "count": 0
           },
           {
            "bin_start": 0.30000000000000004,
            "bin_end": 0.4,
            "count": 0
           },
           {
            "bin_start": 0.4,
            "bin_end": 0.5,
            "count": 0
           },
           {
            "bin_start": 0.5,
            "bin_end": 0.6000000000000001,
            "count": 0
           },
           {
            "bin_start": 0.6000000000000001,
            "bin_end": 0.7000000000000001,
            "count": 0
           },
           {
            "bin_start": 0.7000000000000001,
            "bin_end": 0.8,
            "count": 0
           },
           {
            "bin_start": 0.8,
            "bin_end": 0.9,
            "count": 0
           },
           {
            "bin_start": 0.9,
            "bin_end": 1,
            "count": 0
           }
          ]
         }
        },
        {
         "name": "T_PARTO",
         "dtype": "float64",
         "stats": {
          "unique_count": 0,
          "nan_count": 10,
          "min": null,
          "max": null,
          "histogram": [
           {
            "bin_start": 0,
            "bin_end": 0.1,
            "count": 0
           },
           {
            "bin_start": 0.1,
            "bin_end": 0.2,
            "count": 0
           },
           {
            "bin_start": 0.2,
            "bin_end": 0.30000000000000004,
            "count": 0
           },
           {
            "bin_start": 0.30000000000000004,
            "bin_end": 0.4,
            "count": 0
           },
           {
            "bin_start": 0.4,
            "bin_end": 0.5,
            "count": 0
           },
           {
            "bin_start": 0.5,
            "bin_end": 0.6000000000000001,
            "count": 0
           },
           {
            "bin_start": 0.6000000000000001,
            "bin_end": 0.7000000000000001,
            "count": 0
           },
           {
            "bin_start": 0.7000000000000001,
            "bin_end": 0.8,
            "count": 0
           },
           {
            "bin_start": 0.8,
            "bin_end": 0.9,
            "count": 0
           },
           {
            "bin_start": 0.9,
            "bin_end": 1,
            "count": 0
           }
          ]
         }
        },
        {
         "name": "TIPO_EMB",
         "dtype": "float64",
         "stats": {
          "unique_count": 0,
          "nan_count": 10,
          "min": null,
          "max": null,
          "histogram": [
           {
            "bin_start": 0,
            "bin_end": 0.1,
            "count": 0
           },
           {
            "bin_start": 0.1,
            "bin_end": 0.2,
            "count": 0
           },
           {
            "bin_start": 0.2,
            "bin_end": 0.30000000000000004,
            "count": 0
           },
           {
            "bin_start": 0.30000000000000004,
            "bin_end": 0.4,
            "count": 0
           },
           {
            "bin_start": 0.4,
            "bin_end": 0.5,
            "count": 0
           },
           {
            "bin_start": 0.5,
            "bin_end": 0.6000000000000001,
            "count": 0
           },
           {
            "bin_start": 0.6000000000000001,
            "bin_end": 0.7000000000000001,
            "count": 0
           },
           {
            "bin_start": 0.7000000000000001,
            "bin_end": 0.8,
            "count": 0
           },
           {
            "bin_start": 0.8,
            "bin_end": 0.9,
            "count": 0
           },
           {
            "bin_start": 0.9,
            "bin_end": 1,
            "count": 0
           }
          ]
         }
        },
        {
         "name": "T_GES",
         "dtype": "float64",
         "stats": {
          "unique_count": 0,
          "nan_count": 10,
          "min": null,
          "max": null,
          "histogram": [
           {
            "bin_start": 0,
            "bin_end": 0.1,
            "count": 0
           },
           {
            "bin_start": 0.1,
            "bin_end": 0.2,
            "count": 0
           },
           {
            "bin_start": 0.2,
            "bin_end": 0.30000000000000004,
            "count": 0
           },
           {
            "bin_start": 0.30000000000000004,
            "bin_end": 0.4,
            "count": 0
           },
           {
            "bin_start": 0.4,
            "bin_end": 0.5,
            "count": 0
           },
           {
            "bin_start": 0.5,
            "bin_end": 0.6000000000000001,
            "count": 0
           },
           {
            "bin_start": 0.6000000000000001,
            "bin_end": 0.7000000000000001,
            "count": 0
           },
           {
            "bin_start": 0.7000000000000001,
            "bin_end": 0.8,
            "count": 0
           },
           {
            "bin_start": 0.8,
            "bin_end": 0.9,
            "count": 0
           },
           {
            "bin_start": 0.9,
            "bin_end": 1,
            "count": 0
           }
          ]
         }
        },
        {
         "name": "PESO_NAC",
         "dtype": "int64",
         "stats": {
          "unique_count": 1,
          "nan_count": 0,
          "min": "0",
          "max": "0",
          "histogram": [
           {
            "bin_start": -0.5,
            "bin_end": -0.4,
            "count": 0
           },
           {
            "bin_start": -0.4,
            "bin_end": -0.3,
            "count": 0
           },
           {
            "bin_start": -0.3,
            "bin_end": -0.19999999999999996,
            "count": 0
           },
           {
            "bin_start": -0.19999999999999996,
            "bin_end": -0.09999999999999998,
            "count": 0
           },
           {
            "bin_start": -0.09999999999999998,
            "bin_end": 0,
            "count": 0
           },
           {
            "bin_start": 0,
            "bin_end": 0.10000000000000009,
            "count": 10
           },
           {
            "bin_start": 0.10000000000000009,
            "bin_end": 0.20000000000000007,
            "count": 0
           },
           {
            "bin_start": 0.20000000000000007,
            "bin_end": 0.30000000000000004,
            "count": 0
           },
           {
            "bin_start": 0.30000000000000004,
            "bin_end": 0.4,
            "count": 0
           },
           {
            "bin_start": 0.4,
            "bin_end": 0.5,
            "count": 0
           }
          ]
         }
        },
        {
         "name": "EDAD_MADRE",
         "dtype": "int64",
         "stats": {
          "unique_count": 1,
          "nan_count": 0,
          "min": "0",
          "max": "0",
          "histogram": [
           {
            "bin_start": -0.5,
            "bin_end": -0.4,
            "count": 0
           },
           {
            "bin_start": -0.4,
            "bin_end": -0.3,
            "count": 0
           },
           {
            "bin_start": -0.3,
            "bin_end": -0.19999999999999996,
            "count": 0
           },
           {
            "bin_start": -0.19999999999999996,
            "bin_end": -0.09999999999999998,
            "count": 0
           },
           {
            "bin_start": -0.09999999999999998,
            "bin_end": 0,
            "count": 0
           },
           {
            "bin_start": 0,
            "bin_end": 0.10000000000000009,
            "count": 10
           },
           {
            "bin_start": 0.10000000000000009,
            "bin_end": 0.20000000000000007,
            "count": 0
           },
           {
            "bin_start": 0.20000000000000007,
            "bin_end": 0.30000000000000004,
            "count": 0
           },
           {
            "bin_start": 0.30000000000000004,
            "bin_end": 0.4,
            "count": 0
           },
           {
            "bin_start": 0.4,
            "bin_end": 0.5,
            "count": 0
           }
          ]
         }
        },
        {
         "name": "N_HIJOSV",
         "dtype": "int64",
         "stats": {
          "unique_count": 1,
          "nan_count": 0,
          "min": "0",
          "max": "0",
          "histogram": [
           {
            "bin_start": -0.5,
            "bin_end": -0.4,
            "count": 0
           },
           {
            "bin_start": -0.4,
            "bin_end": -0.3,
            "count": 0
           },
           {
            "bin_start": -0.3,
            "bin_end": -0.19999999999999996,
            "count": 0
           },
           {
            "bin_start": -0.19999999999999996,
            "bin_end": -0.09999999999999998,
            "count": 0
           },
           {
            "bin_start": -0.09999999999999998,
            "bin_end": 0,
            "count": 0
           },
           {
            "bin_start": 0,
            "bin_end": 0.10000000000000009,
            "count": 10
           },
           {
            "bin_start": 0.10000000000000009,
            "bin_end": 0.20000000000000007,
            "count": 0
           },
           {
            "bin_start": 0.20000000000000007,
            "bin_end": 0.30000000000000004,
            "count": 0
           },
           {
            "bin_start": 0.30000000000000004,
            "bin_end": 0.4,
            "count": 0
           },
           {
            "bin_start": 0.4,
            "bin_end": 0.5,
            "count": 0
           }
          ]
         }
        },
        {
         "name": "N_HIJOSM",
         "dtype": "int64",
         "stats": {
          "unique_count": 1,
          "nan_count": 0,
          "min": "0",
          "max": "0",
          "histogram": [
           {
            "bin_start": -0.5,
            "bin_end": -0.4,
            "count": 0
           },
           {
            "bin_start": -0.4,
            "bin_end": -0.3,
            "count": 0
           },
           {
            "bin_start": -0.3,
            "bin_end": -0.19999999999999996,
            "count": 0
           },
           {
            "bin_start": -0.19999999999999996,
            "bin_end": -0.09999999999999998,
            "count": 0
           },
           {
            "bin_start": -0.09999999999999998,
            "bin_end": 0,
            "count": 0
           },
           {
            "bin_start": 0,
            "bin_end": 0.10000000000000009,
            "count": 10
           },
           {
            "bin_start": 0.10000000000000009,
            "bin_end": 0.20000000000000007,
            "count": 0
           },
           {
            "bin_start": 0.20000000000000007,
            "bin_end": 0.30000000000000004,
            "count": 0
           },
           {
            "bin_start": 0.30000000000000004,
            "bin_end": 0.4,
            "count": 0
           },
           {
            "bin_start": 0.4,
            "bin_end": 0.5,
            "count": 0
           }
          ]
         }
        },
        {
         "name": "EST_CIVM",
         "dtype": "float64",
         "stats": {
          "unique_count": 0,
          "nan_count": 10,
          "min": null,
          "max": null,
          "histogram": [
           {
            "bin_start": 0,
            "bin_end": 0.1,
            "count": 0
           },
           {
            "bin_start": 0.1,
            "bin_end": 0.2,
            "count": 0
           },
           {
            "bin_start": 0.2,
            "bin_end": 0.30000000000000004,
            "count": 0
           },
           {
            "bin_start": 0.30000000000000004,
            "bin_end": 0.4,
            "count": 0
           },
           {
            "bin_start": 0.4,
            "bin_end": 0.5,
            "count": 0
           },
           {
            "bin_start": 0.5,
            "bin_end": 0.6000000000000001,
            "count": 0
           },
           {
            "bin_start": 0.6000000000000001,
            "bin_end": 0.7000000000000001,
            "count": 0
           },
           {
            "bin_start": 0.7000000000000001,
            "bin_end": 0.8,
            "count": 0
           },
           {
            "bin_start": 0.8,
            "bin_end": 0.9,
            "count": 0
           },
           {
            "bin_start": 0.9,
            "bin_end": 1,
            "count": 0
           }
          ]
         }
        },
        {
         "name": "NIV_EDUM",
         "dtype": "float64",
         "stats": {
          "unique_count": 0,
          "nan_count": 10,
          "min": null,
          "max": null,
          "histogram": [
           {
            "bin_start": 0,
            "bin_end": 0.1,
            "count": 0
           },
           {
            "bin_start": 0.1,
            "bin_end": 0.2,
            "count": 0
           },
           {
            "bin_start": 0.2,
            "bin_end": 0.30000000000000004,
            "count": 0
           },
           {
            "bin_start": 0.30000000000000004,
            "bin_end": 0.4,
            "count": 0
           },
           {
            "bin_start": 0.4,
            "bin_end": 0.5,
            "count": 0
           },
           {
            "bin_start": 0.5,
            "bin_end": 0.6000000000000001,
            "count": 0
           },
           {
            "bin_start": 0.6000000000000001,
            "bin_end": 0.7000000000000001,
            "count": 0
           },
           {
            "bin_start": 0.7000000000000001,
            "bin_end": 0.8,
            "count": 0
           },
           {
            "bin_start": 0.8,
            "bin_end": 0.9,
            "count": 0
           },
           {
            "bin_start": 0.9,
            "bin_end": 1,
            "count": 0
           }
          ]
         }
        },
        {
         "name": "ULTCURMAD",
         "dtype": "int64",
         "stats": {
          "unique_count": 1,
          "nan_count": 0,
          "min": "0",
          "max": "0",
          "histogram": [
           {
            "bin_start": -0.5,
            "bin_end": -0.4,
            "count": 0
           },
           {
            "bin_start": -0.4,
            "bin_end": -0.3,
            "count": 0
           },
           {
            "bin_start": -0.3,
            "bin_end": -0.19999999999999996,
            "count": 0
           },
           {
            "bin_start": -0.19999999999999996,
            "bin_end": -0.09999999999999998,
            "count": 0
           },
           {
            "bin_start": -0.09999999999999998,
            "bin_end": 0,
            "count": 0
           },
           {
            "bin_start": 0,
            "bin_end": 0.10000000000000009,
            "count": 10
           },
           {
            "bin_start": 0.10000000000000009,
            "bin_end": 0.20000000000000007,
            "count": 0
           },
           {
            "bin_start": 0.20000000000000007,
            "bin_end": 0.30000000000000004,
            "count": 0
           },
           {
            "bin_start": 0.30000000000000004,
            "bin_end": 0.4,
            "count": 0
           },
           {
            "bin_start": 0.4,
            "bin_end": 0.5,
            "count": 0
           }
          ]
         }
        },
        {
         "name": "EMB_FAL",
         "dtype": "object",
         "stats": {
          "unique_count": 3,
          "nan_count": 7,
          "categories": [
           {
            "name": "Sin información",
            "count": 1
           },
           {
            "name": "2 others",
            "count": 2
           },
           {
            "name": "Missing",
            "count": 7
           }
          ]
         }
        },
        {
         "name": "EMB_SEM",
         "dtype": "object",
         "stats": {
          "unique_count": 2,
          "nan_count": 8,
          "categories": [
           {
            "name": "Sin información",
            "count": 1
           },
           {
            "name": "No",
            "count": 1
           },
           {
            "name": "Missing",
            "count": 8
           }
          ]
         }
        },
        {
         "name": "EMB_MES",
         "dtype": "object",
         "stats": {
          "unique_count": 1,
          "nan_count": 8,
          "categories": [
           {
            "name": "No",
            "count": 2
           },
           {
            "name": "Missing",
            "count": 8
           }
          ]
         }
        },
        {
         "name": "MAN_MUER",
         "dtype": "object",
         "stats": {
          "unique_count": 1,
          "nan_count": 0,
          "categories": [
           {
            "name": "Suicidio",
            "count": 10
           }
          ]
         }
        },
        {
         "name": "COMOCUHEC",
         "dtype": "object",
         "stats": {
          "unique_count": 9,
          "nan_count": 0,
          "categories": [
           {
            "name": "AHORCAMIENTO",
            "count": 2
           },
           {
            "name": "Se encontr¾ paciente en domicilio colgada de un lazo en el cuello con la lengua levemente protruida",
            "count": 1
           },
           {
            "name": "7 others",
            "count": 7
           }
          ]
         }
        },
        {
         "name": "CODOCUR",
         "dtype": "int64",
         "stats": {
          "unique_count": 1,
          "nan_count": 0,
          "min": "17",
          "max": "17",
          "histogram": [
           {
            "bin_start": 16.5,
            "bin_end": 16.6,
            "count": 0
           },
           {
            "bin_start": 16.6,
            "bin_end": 16.7,
            "count": 0
           },
           {
            "bin_start": 16.7,
            "bin_end": 16.8,
            "count": 0
           },
           {
            "bin_start": 16.8,
            "bin_end": 16.9,
            "count": 0
           },
           {
            "bin_start": 16.9,
            "bin_end": 17,
            "count": 0
           },
           {
            "bin_start": 17,
            "bin_end": 17.1,
            "count": 10
           },
           {
            "bin_start": 17.1,
            "bin_end": 17.2,
            "count": 0
           },
           {
            "bin_start": 17.2,
            "bin_end": 17.3,
            "count": 0
           },
           {
            "bin_start": 17.3,
            "bin_end": 17.4,
            "count": 0
           },
           {
            "bin_start": 17.4,
            "bin_end": 17.5,
            "count": 0
           }
          ]
         }
        },
        {
         "name": "CODMUNOC",
         "dtype": "int64",
         "stats": {
          "unique_count": 1,
          "nan_count": 0,
          "min": "13",
          "max": "13",
          "histogram": [
           {
            "bin_start": 12.5,
            "bin_end": 12.6,
            "count": 0
           },
           {
            "bin_start": 12.6,
            "bin_end": 12.7,
            "count": 0
           },
           {
            "bin_start": 12.7,
            "bin_end": 12.8,
            "count": 0
           },
           {
            "bin_start": 12.8,
            "bin_end": 12.9,
            "count": 0
           },
           {
            "bin_start": 12.9,
            "bin_end": 13,
            "count": 0
           },
           {
            "bin_start": 13,
            "bin_end": 13.1,
            "count": 10
           },
           {
            "bin_start": 13.1,
            "bin_end": 13.2,
            "count": 0
           },
           {
            "bin_start": 13.2,
            "bin_end": 13.3,
            "count": 0
           },
           {
            "bin_start": 13.3,
            "bin_end": 13.4,
            "count": 0
           },
           {
            "bin_start": 13.4,
            "bin_end": 13.5,
            "count": 0
           }
          ]
         }
        },
        {
         "name": "LOCALOCUHE",
         "dtype": "object",
         "stats": {
          "unique_count": 0,
          "nan_count": 10,
          "categories": [
           {
            "name": "Missing",
            "count": 10
           }
          ]
         }
        },
        {
         "name": "C_MUERTE",
         "dtype": "object",
         "stats": {
          "unique_count": 1,
          "nan_count": 0,
          "categories": [
           {
            "name": "Necropsia",
            "count": 10
           }
          ]
         }
        },
        {
         "name": "C_MUERTEB",
         "dtype": "object",
         "stats": {
          "unique_count": 0,
          "nan_count": 10,
          "categories": [
           {
            "name": "Missing",
            "count": 10
           }
          ]
         }
        },
        {
         "name": "C_MUERTEC",
         "dtype": "float64",
         "stats": {
          "unique_count": 0,
          "nan_count": 10,
          "min": null,
          "max": null,
          "histogram": [
           {
            "bin_start": 0,
            "bin_end": 0.1,
            "count": 0
           },
           {
            "bin_start": 0.1,
            "bin_end": 0.2,
            "count": 0
           },
           {
            "bin_start": 0.2,
            "bin_end": 0.30000000000000004,
            "count": 0
           },
           {
            "bin_start": 0.30000000000000004,
            "bin_end": 0.4,
            "count": 0
           },
           {
            "bin_start": 0.4,
            "bin_end": 0.5,
            "count": 0
           },
           {
            "bin_start": 0.5,
            "bin_end": 0.6000000000000001,
            "count": 0
           },
           {
            "bin_start": 0.6000000000000001,
            "bin_end": 0.7000000000000001,
            "count": 0
           },
           {
            "bin_start": 0.7000000000000001,
            "bin_end": 0.8,
            "count": 0
           },
           {
            "bin_start": 0.8,
            "bin_end": 0.9,
            "count": 0
           },
           {
            "bin_start": 0.9,
            "bin_end": 1,
            "count": 0
           }
          ]
         }
        },
        {
         "name": "C_MUERTED",
         "dtype": "object",
         "stats": {
          "unique_count": 0,
          "nan_count": 10,
          "categories": [
           {
            "name": "Missing",
            "count": 10
           }
          ]
         }
        },
        {
         "name": "C_MUERTEE",
         "dtype": "float64",
         "stats": {
          "unique_count": 0,
          "nan_count": 10,
          "min": null,
          "max": null,
          "histogram": [
           {
            "bin_start": 0,
            "bin_end": 0.1,
            "count": 0
           },
           {
            "bin_start": 0.1,
            "bin_end": 0.2,
            "count": 0
           },
           {
            "bin_start": 0.2,
            "bin_end": 0.30000000000000004,
            "count": 0
           },
           {
            "bin_start": 0.30000000000000004,
            "bin_end": 0.4,
            "count": 0
           },
           {
            "bin_start": 0.4,
            "bin_end": 0.5,
            "count": 0
           },
           {
            "bin_start": 0.5,
            "bin_end": 0.6000000000000001,
            "count": 0
           },
           {
            "bin_start": 0.6000000000000001,
            "bin_end": 0.7000000000000001,
            "count": 0
           },
           {
            "bin_start": 0.7000000000000001,
            "bin_end": 0.8,
            "count": 0
           },
           {
            "bin_start": 0.8,
            "bin_end": 0.9,
            "count": 0
           },
           {
            "bin_start": 0.9,
            "bin_end": 1,
            "count": 0
           }
          ]
         }
        },
        {
         "name": "ASIS_MED",
         "dtype": "object",
         "stats": {
          "unique_count": 1,
          "nan_count": 0,
          "categories": [
           {
            "name": "No",
            "count": 10
           }
          ]
         }
        },
        {
         "name": "N_DIR1",
         "dtype": "object",
         "stats": {
          "unique_count": 9,
          "nan_count": 0,
          "categories": [
           {
            "name": "INSUFICIENCIA  RESPIRATORIA",
            "count": 2
           },
           {
            "name": "INSUFICIENCIA RESPIRATORIA",
            "count": 1
           },
           {
            "name": "7 others",
            "count": 7
           }
          ]
         }
        },
        {
         "name": "T_DIR1",
         "dtype": "float64",
         "stats": {
          "unique_count": 1,
          "nan_count": 9,
          "min": "10.0",
          "max": "10.0",
          "histogram": [
           {
            "bin_start": 9.5,
            "bin_end": 9.6,
            "count": 0
           },
           {
            "bin_start": 9.6,
            "bin_end": 9.7,
            "count": 0
           },
           {
            "bin_start": 9.7,
            "bin_end": 9.8,
            "count": 0
           },
           {
            "bin_start": 9.8,
            "bin_end": 9.9,
            "count": 0
           },
           {
            "bin_start": 9.9,
            "bin_end": 10,
            "count": 0
           },
           {
            "bin_start": 10,
            "bin_end": 10.1,
            "count": 1
           },
           {
            "bin_start": 10.1,
            "bin_end": 10.2,
            "count": 0
           },
           {
            "bin_start": 10.2,
            "bin_end": 10.3,
            "count": 0
           },
           {
            "bin_start": 10.3,
            "bin_end": 10.4,
            "count": 0
           },
           {
            "bin_start": 10.4,
            "bin_end": 10.5,
            "count": 0
           }
          ]
         }
        },
        {
         "name": "M_DIR1",
         "dtype": "float64",
         "stats": {
          "unique_count": 1,
          "nan_count": 9,
          "min": "1.0",
          "max": "1.0",
          "histogram": [
           {
            "bin_start": 0.5,
            "bin_end": 0.6,
            "count": 0
           },
           {
            "bin_start": 0.6,
            "bin_end": 0.7,
            "count": 0
           },
           {
            "bin_start": 0.7,
            "bin_end": 0.8,
            "count": 0
           },
           {
            "bin_start": 0.8,
            "bin_end": 0.9,
            "count": 0
           },
           {
            "bin_start": 0.9,
            "bin_end": 1,
            "count": 0
           },
           {
            "bin_start": 1,
            "bin_end": 1.1,
            "count": 1
           },
           {
            "bin_start": 1.1,
            "bin_end": 1.2000000000000002,
            "count": 0
           },
           {
            "bin_start": 1.2000000000000002,
            "bin_end": 1.3,
            "count": 0
           },
           {
            "bin_start": 1.3,
            "bin_end": 1.4,
            "count": 0
           },
           {
            "bin_start": 1.4,
            "bin_end": 1.5,
            "count": 0
           }
          ]
         }
        },
        {
         "name": "C_DIR1",
         "dtype": "object",
         "stats": {
          "unique_count": 7,
          "nan_count": 0,
          "categories": [
           {
            "name": "J969",
            "count": 3
           },
           {
            "name": "T794",
            "count": 2
           },
           {
            "name": "5 others",
            "count": 5
           }
          ]
         }
        },
        {
         "name": "C_DIR12",
         "dtype": "object",
         "stats": {
          "unique_count": 0,
          "nan_count": 10,
          "categories": [
           {
            "name": "Missing",
            "count": 10
           }
          ]
         }
        },
        {
         "name": "N_ANT1",
         "dtype": "object",
         "stats": {
          "unique_count": 8,
          "nan_count": 0,
          "categories": [
           {
            "name": "AHORCAMIENTO",
            "count": 3
           },
           {
            "name": "NINGUNO",
            "count": 1
           },
           {
            "name": "6 others",
            "count": 6
           }
          ]
         }
        },
        {
         "name": "T_ANT1",
         "dtype": "float64",
         "stats": {
          "unique_count": 1,
          "nan_count": 9,
          "min": "0.0",
          "max": "0.0",
          "histogram": [
           {
            "bin_start": -0.5,
            "bin_end": -0.4,
            "count": 0
           },
           {
            "bin_start": -0.4,
            "bin_end": -0.3,
            "count": 0
           },
           {
            "bin_start": -0.3,
            "bin_end": -0.19999999999999996,
            "count": 0
           },
           {
            "bin_start": -0.19999999999999996,
            "bin_end": -0.09999999999999998,
            "count": 0
           },
           {
            "bin_start": -0.09999999999999998,
            "bin_end": 0,
            "count": 0
           },
           {
            "bin_start": 0,
            "bin_end": 0.10000000000000009,
            "count": 1
           },
           {
            "bin_start": 0.10000000000000009,
            "bin_end": 0.20000000000000007,
            "count": 0
           },
           {
            "bin_start": 0.20000000000000007,
            "bin_end": 0.30000000000000004,
            "count": 0
           },
           {
            "bin_start": 0.30000000000000004,
            "bin_end": 0.4,
            "count": 0
           },
           {
            "bin_start": 0.4,
            "bin_end": 0.5,
            "count": 0
           }
          ]
         }
        },
        {
         "name": "M_ANT1",
         "dtype": "float64",
         "stats": {
          "unique_count": 1,
          "nan_count": 9,
          "min": "7.0",
          "max": "7.0",
          "histogram": [
           {
            "bin_start": 6.5,
            "bin_end": 6.6,
            "count": 0
           },
           {
            "bin_start": 6.6,
            "bin_end": 6.7,
            "count": 0
           },
           {
            "bin_start": 6.7,
            "bin_end": 6.8,
            "count": 0
           },
           {
            "bin_start": 6.8,
            "bin_end": 6.9,
            "count": 0
           },
           {
            "bin_start": 6.9,
            "bin_end": 7,
            "count": 0
           },
           {
            "bin_start": 7,
            "bin_end": 7.1,
            "count": 1
           },
           {
            "bin_start": 7.1,
            "bin_end": 7.2,
            "count": 0
           },
           {
            "bin_start": 7.2,
            "bin_end": 7.3,
            "count": 0
           },
           {
            "bin_start": 7.3,
            "bin_end": 7.4,
            "count": 0
           },
           {
            "bin_start": 7.4,
            "bin_end": 7.5,
            "count": 0
           }
          ]
         }
        },
        {
         "name": "C_ANT1",
         "dtype": "object",
         "stats": {
          "unique_count": 6,
          "nan_count": 1,
          "categories": [
           {
            "name": "T71",
            "count": 3
           },
           {
            "name": "5 others",
            "count": 6
           },
           {
            "name": "Missing",
            "count": 1
           }
          ]
         }
        },
        {
         "name": "C_ANT12",
         "dtype": "object",
         "stats": {
          "unique_count": 0,
          "nan_count": 10,
          "categories": [
           {
            "name": "Missing",
            "count": 10
           }
          ]
         }
        },
        {
         "name": "N_ANT2",
         "dtype": "object",
         "stats": {
          "unique_count": 6,
          "nan_count": 4,
          "categories": [
           {
            "name": "NINGUNO",
            "count": 1
           },
           {
            "name": "5 others",
            "count": 5
           },
           {
            "name": "Missing",
            "count": 4
           }
          ]
         }
        },
        {
         "name": "T_ANT2",
         "dtype": "float64",
         "stats": {
          "unique_count": 1,
          "nan_count": 9,
          "min": "0.0",
          "max": "0.0",
          "histogram": [
           {
            "bin_start": -0.5,
            "bin_end": -0.4,
            "count": 0
           },
           {
            "bin_start": -0.4,
            "bin_end": -0.3,
            "count": 0
           },
           {
            "bin_start": -0.3,
            "bin_end": -0.19999999999999996,
            "count": 0
           },
           {
            "bin_start": -0.19999999999999996,
            "bin_end": -0.09999999999999998,
            "count": 0
           },
           {
            "bin_start": -0.09999999999999998,
            "bin_end": 0,
            "count": 0
           },
           {
            "bin_start": 0,
            "bin_end": 0.10000000000000009,
            "count": 1
           },
           {
            "bin_start": 0.10000000000000009,
            "bin_end": 0.20000000000000007,
            "count": 0
           },
           {
            "bin_start": 0.20000000000000007,
            "bin_end": 0.30000000000000004,
            "count": 0
           },
           {
            "bin_start": 0.30000000000000004,
            "bin_end": 0.4,
            "count": 0
           },
           {
            "bin_start": 0.4,
            "bin_end": 0.5,
            "count": 0
           }
          ]
         }
        },
        {
         "name": "M_ANT2",
         "dtype": "float64",
         "stats": {
          "unique_count": 1,
          "nan_count": 9,
          "min": "7.0",
          "max": "7.0",
          "histogram": [
           {
            "bin_start": 6.5,
            "bin_end": 6.6,
            "count": 0
           },
           {
            "bin_start": 6.6,
            "bin_end": 6.7,
            "count": 0
           },
           {
            "bin_start": 6.7,
            "bin_end": 6.8,
            "count": 0
           },
           {
            "bin_start": 6.8,
            "bin_end": 6.9,
            "count": 0
           },
           {
            "bin_start": 6.9,
            "bin_end": 7,
            "count": 0
           },
           {
            "bin_start": 7,
            "bin_end": 7.1,
            "count": 1
           },
           {
            "bin_start": 7.1,
            "bin_end": 7.2,
            "count": 0
           },
           {
            "bin_start": 7.2,
            "bin_end": 7.3,
            "count": 0
           },
           {
            "bin_start": 7.3,
            "bin_end": 7.4,
            "count": 0
           },
           {
            "bin_start": 7.4,
            "bin_end": 7.5,
            "count": 0
           }
          ]
         }
        },
        {
         "name": "C_ANT2",
         "dtype": "object",
         "stats": {
          "unique_count": 4,
          "nan_count": 5,
          "categories": [
           {
            "name": "T141",
            "count": 2
           },
           {
            "name": "3 others",
            "count": 3
           },
           {
            "name": "Missing",
            "count": 5
           }
          ]
         }
        },
        {
         "name": "C_ANT22",
         "dtype": "object",
         "stats": {
          "unique_count": 1,
          "nan_count": 9,
          "categories": [
           {
            "name": "O93",
            "count": 1
           },
           {
            "name": "Missing",
            "count": 9
           }
          ]
         }
        },
        {
         "name": "N_ANT3",
         "dtype": "object",
         "stats": {
          "unique_count": 2,
          "nan_count": 8,
          "categories": [
           {
            "name": "NINGUNO",
            "count": 1
           },
           {
            "name": "INTOXICACION  CON  FURADAN",
            "count": 1
           },
           {
            "name": "Missing",
            "count": 8
           }
          ]
         }
        },
        {
         "name": "T_ANT3",
         "dtype": "float64",
         "stats": {
          "unique_count": 1,
          "nan_count": 9,
          "min": "0.0",
          "max": "0.0",
          "histogram": [
           {
            "bin_start": -0.5,
            "bin_end": -0.4,
            "count": 0
           },
           {
            "bin_start": -0.4,
            "bin_end": -0.3,
            "count": 0
           },
           {
            "bin_start": -0.3,
            "bin_end": -0.19999999999999996,
            "count": 0
           },
           {
            "bin_start": -0.19999999999999996,
            "bin_end": -0.09999999999999998,
            "count": 0
           },
           {
            "bin_start": -0.09999999999999998,
            "bin_end": 0,
            "count": 0
           },
           {
            "bin_start": 0,
            "bin_end": 0.10000000000000009,
            "count": 1
           },
           {
            "bin_start": 0.10000000000000009,
            "bin_end": 0.20000000000000007,
            "count": 0
           },
           {
            "bin_start": 0.20000000000000007,
            "bin_end": 0.30000000000000004,
            "count": 0
           },
           {
            "bin_start": 0.30000000000000004,
            "bin_end": 0.4,
            "count": 0
           },
           {
            "bin_start": 0.4,
            "bin_end": 0.5,
            "count": 0
           }
          ]
         }
        },
        {
         "name": "M_ANT3",
         "dtype": "float64",
         "stats": {
          "unique_count": 1,
          "nan_count": 9,
          "min": "7.0",
          "max": "7.0",
          "histogram": [
           {
            "bin_start": 6.5,
            "bin_end": 6.6,
            "count": 0
           },
           {
            "bin_start": 6.6,
            "bin_end": 6.7,
            "count": 0
           },
           {
            "bin_start": 6.7,
            "bin_end": 6.8,
            "count": 0
           },
           {
            "bin_start": 6.8,
            "bin_end": 6.9,
            "count": 0
           },
           {
            "bin_start": 6.9,
            "bin_end": 7,
            "count": 0
           },
           {
            "bin_start": 7,
            "bin_end": 7.1,
            "count": 1
           },
           {
            "bin_start": 7.1,
            "bin_end": 7.2,
            "count": 0
           },
           {
            "bin_start": 7.2,
            "bin_end": 7.3,
            "count": 0
           },
           {
            "bin_start": 7.3,
            "bin_end": 7.4,
            "count": 0
           },
           {
            "bin_start": 7.4,
            "bin_end": 7.5,
            "count": 0
           }
          ]
         }
        },
        {
         "name": "C_ANT3",
         "dtype": "object",
         "stats": {
          "unique_count": 1,
          "nan_count": 9,
          "categories": [
           {
            "name": "T609",
            "count": 1
           },
           {
            "name": "Missing",
            "count": 9
           }
          ]
         }
        },
        {
         "name": "C_ANT32",
         "dtype": "object",
         "stats": {
          "unique_count": 0,
          "nan_count": 10,
          "categories": [
           {
            "name": "Missing",
            "count": 10
           }
          ]
         }
        },
        {
         "name": "N_PAT1",
         "dtype": "object",
         "stats": {
          "unique_count": 2,
          "nan_count": 8,
          "categories": [
           {
            "name": "NINGUNO",
            "count": 1
           },
           {
            "name": "SEG?N PADRASTRO ESTUVO HOSPITALIZADA EN  OCASIONES EN CLINICA PSIQUI?TRICA",
            "count": 1
           },
           {
            "name": "Missing",
            "count": 8
           }
          ]
         }
        },
        {
         "name": "T_PAT1",
         "dtype": "float64",
         "stats": {
          "unique_count": 0,
          "nan_count": 10,
          "min": null,
          "max": null,
          "histogram": [
           {
            "bin_start": 0,
            "bin_end": 0.1,
            "count": 0
           },
           {
            "bin_start": 0.1,
            "bin_end": 0.2,
            "count": 0
           },
           {
            "bin_start": 0.2,
            "bin_end": 0.30000000000000004,
            "count": 0
           },
           {
            "bin_start": 0.30000000000000004,
            "bin_end": 0.4,
            "count": 0
           },
           {
            "bin_start": 0.4,
            "bin_end": 0.5,
            "count": 0
           },
           {
            "bin_start": 0.5,
            "bin_end": 0.6000000000000001,
            "count": 0
           },
           {
            "bin_start": 0.6000000000000001,
            "bin_end": 0.7000000000000001,
            "count": 0
           },
           {
            "bin_start": 0.7000000000000001,
            "bin_end": 0.8,
            "count": 0
           },
           {
            "bin_start": 0.8,
            "bin_end": 0.9,
            "count": 0
           },
           {
            "bin_start": 0.9,
            "bin_end": 1,
            "count": 0
           }
          ]
         }
        },
        {
         "name": "M_PAT1",
         "dtype": "float64",
         "stats": {
          "unique_count": 0,
          "nan_count": 10,
          "min": null,
          "max": null,
          "histogram": [
           {
            "bin_start": 0,
            "bin_end": 0.1,
            "count": 0
           },
           {
            "bin_start": 0.1,
            "bin_end": 0.2,
            "count": 0
           },
           {
            "bin_start": 0.2,
            "bin_end": 0.30000000000000004,
            "count": 0
           },
           {
            "bin_start": 0.30000000000000004,
            "bin_end": 0.4,
            "count": 0
           },
           {
            "bin_start": 0.4,
            "bin_end": 0.5,
            "count": 0
           },
           {
            "bin_start": 0.5,
            "bin_end": 0.6000000000000001,
            "count": 0
           },
           {
            "bin_start": 0.6000000000000001,
            "bin_end": 0.7000000000000001,
            "count": 0
           },
           {
            "bin_start": 0.7000000000000001,
            "bin_end": 0.8,
            "count": 0
           },
           {
            "bin_start": 0.8,
            "bin_end": 0.9,
            "count": 0
           },
           {
            "bin_start": 0.9,
            "bin_end": 1,
            "count": 0
           }
          ]
         }
        },
        {
         "name": "C_PAT1",
         "dtype": "object",
         "stats": {
          "unique_count": 1,
          "nan_count": 9,
          "categories": [
           {
            "name": "F03",
            "count": 1
           },
           {
            "name": "Missing",
            "count": 9
           }
          ]
         }
        },
        {
         "name": "N_PAT2",
         "dtype": "float64",
         "stats": {
          "unique_count": 0,
          "nan_count": 10,
          "min": null,
          "max": null,
          "histogram": [
           {
            "bin_start": 0,
            "bin_end": 0.1,
            "count": 0
           },
           {
            "bin_start": 0.1,
            "bin_end": 0.2,
            "count": 0
           },
           {
            "bin_start": 0.2,
            "bin_end": 0.30000000000000004,
            "count": 0
           },
           {
            "bin_start": 0.30000000000000004,
            "bin_end": 0.4,
            "count": 0
           },
           {
            "bin_start": 0.4,
            "bin_end": 0.5,
            "count": 0
           },
           {
            "bin_start": 0.5,
            "bin_end": 0.6000000000000001,
            "count": 0
           },
           {
            "bin_start": 0.6000000000000001,
            "bin_end": 0.7000000000000001,
            "count": 0
           },
           {
            "bin_start": 0.7000000000000001,
            "bin_end": 0.8,
            "count": 0
           },
           {
            "bin_start": 0.8,
            "bin_end": 0.9,
            "count": 0
           },
           {
            "bin_start": 0.9,
            "bin_end": 1,
            "count": 0
           }
          ]
         }
        },
        {
         "name": "C_PAT2",
         "dtype": "object",
         "stats": {
          "unique_count": 0,
          "nan_count": 10,
          "categories": [
           {
            "name": "Missing",
            "count": 10
           }
          ]
         }
        },
        {
         "name": "N_BAS1",
         "dtype": "object",
         "stats": {
          "unique_count": 7,
          "nan_count": 0,
          "categories": [
           {
            "name": "LESION AUTOINFLIGIDA INTENCIONALMENTE POR AHORCAMIENTO, ESTRANGULAMIENTO O SOFOCACION: OTRO LUGAR ESPECIFICADO",
            "count": 2
           },
           {
            "name": "ENVENENAMIENTO AUTOINFLIGIDO INTENCIONALMENTE POR, Y EXPOSICION A PLAGUICIDAS: VIVIENDA",
            "count": 2
           },
           {
            "name": "5 others",
            "count": 6
           }
          ]
         }
        },
        {
         "name": "C_BAS1",
         "dtype": "object",
         "stats": {
          "unique_count": 7,
          "nan_count": 0,
          "categories": [
           {
            "name": "X708",
            "count": 2
           },
           {
            "name": "X680",
            "count": 2
           },
           {
            "name": "5 others",
            "count": 6
           }
          ]
         }
        },
        {
         "name": "N_MCM1",
         "dtype": "float64",
         "stats": {
          "unique_count": 0,
          "nan_count": 10,
          "min": null,
          "max": null,
          "histogram": [
           {
            "bin_start": 0,
            "bin_end": 0.1,
            "count": 0
           },
           {
            "bin_start": 0.1,
            "bin_end": 0.2,
            "count": 0
           },
           {
            "bin_start": 0.2,
            "bin_end": 0.30000000000000004,
            "count": 0
           },
           {
            "bin_start": 0.30000000000000004,
            "bin_end": 0.4,
            "count": 0
           },
           {
            "bin_start": 0.4,
            "bin_end": 0.5,
            "count": 0
           },
           {
            "bin_start": 0.5,
            "bin_end": 0.6000000000000001,
            "count": 0
           },
           {
            "bin_start": 0.6000000000000001,
            "bin_end": 0.7000000000000001,
            "count": 0
           },
           {
            "bin_start": 0.7000000000000001,
            "bin_end": 0.8,
            "count": 0
           },
           {
            "bin_start": 0.8,
            "bin_end": 0.9,
            "count": 0
           },
           {
            "bin_start": 0.9,
            "bin_end": 1,
            "count": 0
           }
          ]
         }
        },
        {
         "name": "C_MCM1",
         "dtype": "object",
         "stats": {
          "unique_count": 0,
          "nan_count": 10,
          "categories": [
           {
            "name": "Missing",
            "count": 10
           }
          ]
         }
        },
        {
         "name": "CAUSA_666",
         "dtype": "int64",
         "stats": {
          "unique_count": 1,
          "nan_count": 0,
          "min": "511",
          "max": "511",
          "histogram": [
           {
            "bin_start": 510.5,
            "bin_end": 510.6,
            "count": 0
           },
           {
            "bin_start": 510.6,
            "bin_end": 510.7,
            "count": 0
           },
           {
            "bin_start": 510.7,
            "bin_end": 510.8,
            "count": 0
           },
           {
            "bin_start": 510.8,
            "bin_end": 510.9,
            "count": 0
           },
           {
            "bin_start": 510.9,
            "bin_end": 511,
            "count": 0
           },
           {
            "bin_start": 511,
            "bin_end": 511.1,
            "count": 10
           },
           {
            "bin_start": 511.1,
            "bin_end": 511.2,
            "count": 0
           },
           {
            "bin_start": 511.2,
            "bin_end": 511.3,
            "count": 0
           },
           {
            "bin_start": 511.3,
            "bin_end": 511.4,
            "count": 0
           },
           {
            "bin_start": 511.4,
            "bin_end": 511.5,
            "count": 0
           }
          ]
         }
        },
        {
         "name": "IDPROFCER",
         "dtype": "object",
         "stats": {
          "unique_count": 1,
          "nan_count": 0,
          "categories": [
           {
            "name": "Médico",
            "count": 10
           }
          ]
         }
        },
        {
         "name": "DD_EXP",
         "dtype": "int64",
         "stats": {
          "unique_count": 1,
          "nan_count": 0,
          "min": "17",
          "max": "17",
          "histogram": [
           {
            "bin_start": 16.5,
            "bin_end": 16.6,
            "count": 0
           },
           {
            "bin_start": 16.6,
            "bin_end": 16.7,
            "count": 0
           },
           {
            "bin_start": 16.7,
            "bin_end": 16.8,
            "count": 0
           },
           {
            "bin_start": 16.8,
            "bin_end": 16.9,
            "count": 0
           },
           {
            "bin_start": 16.9,
            "bin_end": 17,
            "count": 0
           },
           {
            "bin_start": 17,
            "bin_end": 17.1,
            "count": 10
           },
           {
            "bin_start": 17.1,
            "bin_end": 17.2,
            "count": 0
           },
           {
            "bin_start": 17.2,
            "bin_end": 17.3,
            "count": 0
           },
           {
            "bin_start": 17.3,
            "bin_end": 17.4,
            "count": 0
           },
           {
            "bin_start": 17.4,
            "bin_end": 17.5,
            "count": 0
           }
          ]
         }
        },
        {
         "name": "MM_EXP",
         "dtype": "int64",
         "stats": {
          "unique_count": 1,
          "nan_count": 0,
          "min": "13",
          "max": "13",
          "histogram": [
           {
            "bin_start": 12.5,
            "bin_end": 12.6,
            "count": 0
           },
           {
            "bin_start": 12.6,
            "bin_end": 12.7,
            "count": 0
           },
           {
            "bin_start": 12.7,
            "bin_end": 12.8,
            "count": 0
           },
           {
            "bin_start": 12.8,
            "bin_end": 12.9,
            "count": 0
           },
           {
            "bin_start": 12.9,
            "bin_end": 13,
            "count": 0
           },
           {
            "bin_start": 13,
            "bin_end": 13.1,
            "count": 10
           },
           {
            "bin_start": 13.1,
            "bin_end": 13.2,
            "count": 0
           },
           {
            "bin_start": 13.2,
            "bin_end": 13.3,
            "count": 0
           },
           {
            "bin_start": 13.3,
            "bin_end": 13.4,
            "count": 0
           },
           {
            "bin_start": 13.4,
            "bin_end": 13.5,
            "count": 0
           }
          ]
         }
        },
        {
         "name": "FECHA_EXP",
         "dtype": "object",
         "stats": {
          "unique_count": 10,
          "nan_count": 0,
          "categories": [
           {
            "name": "03/14/2011 12:00:00 AM",
            "count": 1
           },
           {
            "name": "03/16/2012 12:00:00 AM",
            "count": 1
           },
           {
            "name": "8 others",
            "count": 8
           }
          ]
         }
        },
        {
         "name": "FECHAGRA",
         "dtype": "object",
         "stats": {
          "unique_count": 10,
          "nan_count": 0,
          "categories": [
           {
            "name": "03/09/2011 12:00:00 AM",
            "count": 1
           },
           {
            "name": "06/01/2012 12:00:00 AM",
            "count": 1
           },
           {
            "name": "8 others",
            "count": 8
           }
          ]
         }
        },
        {
         "name": "CAU_HOMOL",
         "dtype": "int64",
         "stats": {
          "unique_count": 1,
          "nan_count": 0,
          "min": "100",
          "max": "100",
          "histogram": [
           {
            "bin_start": 99.5,
            "bin_end": 99.6,
            "count": 0
           },
           {
            "bin_start": 99.6,
            "bin_end": 99.7,
            "count": 0
           },
           {
            "bin_start": 99.7,
            "bin_end": 99.8,
            "count": 0
           },
           {
            "bin_start": 99.8,
            "bin_end": 99.9,
            "count": 0
           },
           {
            "bin_start": 99.9,
            "bin_end": 100,
            "count": 0
           },
           {
            "bin_start": 100,
            "bin_end": 100.1,
            "count": 10
           },
           {
            "bin_start": 100.1,
            "bin_end": 100.2,
            "count": 0
           },
           {
            "bin_start": 100.2,
            "bin_end": 100.3,
            "count": 0
           },
           {
            "bin_start": 100.3,
            "bin_end": 100.4,
            "count": 0
           },
           {
            "bin_start": 100.4,
            "bin_end": 100.5,
            "count": 0
           }
          ]
         }
        },
        {
         "name": "GRU_ED1",
         "dtype": "int64",
         "stats": {
          "unique_count": 6,
          "nan_count": 0,
          "min": "11",
          "max": "21",
          "histogram": [
           {
            "bin_start": 11,
            "bin_end": 12,
            "count": 3
           },
           {
            "bin_start": 12,
            "bin_end": 13,
            "count": 2
           },
           {
            "bin_start": 13,
            "bin_end": 14,
            "count": 2
           },
           {
            "bin_start": 14,
            "bin_end": 15,
            "count": 0
           },
           {
            "bin_start": 15,
            "bin_end": 16,
            "count": 0
           },
           {
            "bin_start": 16,
            "bin_end": 17,
            "count": 1
           },
           {
            "bin_start": 17,
            "bin_end": 18,
            "count": 0
           },
           {
            "bin_start": 18,
            "bin_end": 19,
            "count": 0
           },
           {
            "bin_start": 19,
            "bin_end": 20,
            "count": 1
           },
           {
            "bin_start": 20,
            "bin_end": 21,
            "count": 1
           }
          ]
         }
        },
        {
         "name": "GRU_ED2",
         "dtype": "int64",
         "stats": {
          "unique_count": 3,
          "nan_count": 0,
          "min": "4",
          "max": "6",
          "histogram": [
           {
            "bin_start": 4,
            "bin_end": 4.2,
            "count": 8
           },
           {
            "bin_start": 4.2,
            "bin_end": 4.4,
            "count": 0
           },
           {
            "bin_start": 4.4,
            "bin_end": 4.6,
            "count": 0
           },
           {
            "bin_start": 4.6,
            "bin_end": 4.8,
            "count": 0
           },
           {
            "bin_start": 4.8,
            "bin_end": 5,
            "count": 0
           },
           {
            "bin_start": 5,
            "bin_end": 5.2,
            "count": 1
           },
           {
            "bin_start": 5.2,
            "bin_end": 5.4,
            "count": 0
           },
           {
            "bin_start": 5.4,
            "bin_end": 5.6,
            "count": 0
           },
           {
            "bin_start": 5.6,
            "bin_end": 5.8,
            "count": 0
           },
           {
            "bin_start": 5.8,
            "bin_end": 6,
            "count": 1
           }
          ]
         }
        },
        {
         "name": "HORA_SE",
         "dtype": "object",
         "stats": {
          "unique_count": 2,
          "nan_count": 1,
          "categories": [
           {
            "name": "N",
            "count": 7
           },
           {
            "name": "Y",
            "count": 2
           },
           {
            "name": "Missing",
            "count": 1
           }
          ]
         }
        },
        {
         "name": "_deepnote_index_column",
         "dtype": "int64"
        }
       ],
       "rows": [
        {
         "COD_DPTO": 17,
         "COD_MUNIC": 13,
         "A_DEFUN": "Rural disperso",
         "COD_INSP": "nan",
         "SIT_DEFUN": "Hospital/clínica",
         "OTRSITIODE": "nan",
         "COD_INST": "170,130,087,901",
         "NOM_INST": "ESE HOSPITAL SAN JOSE DE AGUADAS",
         "TIPO_DEFUN": 2,
         "FECHA_DEF": "03/09/2011 12:00:00 AM",
         "ANO": "2,011",
         "MES": 3,
         "HORA": 13,
         "MINUTOS": 0,
         "SEXO": "Femenino",
         "FECHA_NAC": "01/27/1987 12:00:00 AM",
         "EST_CIVIL": "No estaba casado(a) y llevaba menos de dos años viviendo con su pareja",
         "EDAD": 24,
         "NIVEL_EDU": "Media académica o clásica",
         "ULTCURFAL": 11,
         "MUERTEPORO": "No",
         "SIMUERTEPO": "nan",
         "OCUPACION": "ESTUDIANTE",
         "IDPERTET": "Otro",
         "IDPUEBIN": 0,
         "N_IDPUEBIN": "nan",
         "CODPRES": 170,
         "CODPTORE": "Caldas",
         "CODMUNRE": "Aguadas",
         "AREA_RES": "Centro poblado",
         "BARRIOFAL": "nan",
         "COD_LOCA": "nan",
         "CODIGO": 1,
         "VEREDAFALL": "nan",
         "SEG_SOCIAL": "Subsidiado",
         "IDADMISALU": 2,
         "IDCLASADMI": "ASMET SALUD ESS - ASOCIACION MUTUAL LA ESPERANZA",
         "PMAN_MUER": "Violenta",
         "CONS_EXP": "Médico legista",
         "MU_PARTO": "nan",
         "T_PARTO": "nan",
         "TIPO_EMB": "nan",
         "T_GES": "nan",
         "PESO_NAC": 0,
         "EDAD_MADRE": 0,
         "N_HIJOSV": 0,
         "N_HIJOSM": 0,
         "EST_CIVM": "nan",
         "NIV_EDUM": "nan",
         "ULTCURMAD": 0,
         "EMB_FAL": "Sin información",
         "EMB_SEM": "Sin información",
         "EMB_MES": "No",
         "MAN_MUER": "Suicidio",
         "COMOCUHEC": "Se encontr¾ paciente en domicilio colgada de un lazo en el cuello con la lengua levemente protruida",
         "CODOCUR": 17,
         "CODMUNOC": 13,
         "LOCALOCUHE": "nan",
         "C_MUERTE": "Necropsia",
         "C_MUERTEB": "nan",
         "C_MUERTEC": "nan",
         "C_MUERTED": "nan",
         "C_MUERTEE": "nan",
         "ASIS_MED": "No",
         "N_DIR1": "INSUFICIENCIA RESPIRATORIA",
         "T_DIR1": 10,
         "M_DIR1": 1,
         "C_DIR1": "J969",
         "C_DIR12": "nan",
         "N_ANT1": "NINGUNO",
         "T_ANT1": 0,
         "M_ANT1": 7,
         "C_ANT1": "nan",
         "C_ANT12": "nan",
         "N_ANT2": "NINGUNO",
         "T_ANT2": 0,
         "M_ANT2": 7,
         "C_ANT2": "nan",
         "C_ANT22": "nan",
         "N_ANT3": "NINGUNO",
         "T_ANT3": 0,
         "M_ANT3": 7,
         "C_ANT3": "nan",
         "C_ANT32": "nan",
         "N_PAT1": "NINGUNO",
         "T_PAT1": "nan",
         "M_PAT1": "nan",
         "C_PAT1": "nan",
         "N_PAT2": "nan",
         "C_PAT2": "nan",
         "N_BAS1": "LESION AUTOINFLIGIDA INTENCIONALMENTE POR AHORCAMIENTO, ESTRANGULAMIENTO O SOFOCACION: OTRO LUGAR ESPECIFICADO",
         "C_BAS1": "X708",
         "N_MCM1": "nan",
         "C_MCM1": "nan",
         "CAUSA_666": 511,
         "IDPROFCER": "Médico",
         "DD_EXP": 17,
         "MM_EXP": 13,
         "FECHA_EXP": "03/14/2011 12:00:00 AM",
         "FECHAGRA": "03/09/2011 12:00:00 AM",
         "CAU_HOMOL": 100,
         "GRU_ED1": 12,
         "GRU_ED2": 4,
         "HORA_SE": "N",
         "_deepnote_index_column": 0
        },
        {
         "COD_DPTO": 17,
         "COD_MUNIC": 13,
         "A_DEFUN": "Rural disperso",
         "COD_INSP": "nan",
         "SIT_DEFUN": "Vía pública",
         "OTRSITIODE": "nan",
         "COD_INST": "nan",
         "NOM_INST": "nan",
         "TIPO_DEFUN": 2,
         "FECHA_DEF": "03/14/2012 12:00:00 AM",
         "ANO": "2,012",
         "MES": 3,
         "HORA": 98,
         "MINUTOS": 98,
         "SEXO": "Masculino",
         "FECHA_NAC": "04/26/1967 12:00:00 AM",
         "EST_CIVIL": "Estaba separado(a), divorciado(a)",
         "EDAD": 44,
         "NIVEL_EDU": "Básica primaria",
         "ULTCURFAL": 3,
         "MUERTEPORO": "No",
         "SIMUERTEPO": "nan",
         "OCUPACION": "AGRICULTOR",
         "IDPERTET": "Otro",
         "IDPUEBIN": 0,
         "N_IDPUEBIN": "nan",
         "CODPRES": "nan",
         "CODPTORE": "Caldas",
         "CODMUNRE": "Aguadas",
         "AREA_RES": "Rural disperso",
         "BARRIOFAL": "nan",
         "COD_LOCA": "nan",
         "CODIGO": "nan",
         "VEREDAFALL": "ARENILLA",
         "SEG_SOCIAL": "No asegurado",
         "IDADMISALU": "nan",
         "IDCLASADMI": "nan",
         "PMAN_MUER": "Violenta",
         "CONS_EXP": "Médico legista",
         "MU_PARTO": "nan",
         "T_PARTO": "nan",
         "TIPO_EMB": "nan",
         "T_GES": "nan",
         "PESO_NAC": 0,
         "EDAD_MADRE": 0,
         "N_HIJOSV": 0,
         "N_HIJOSM": 0,
         "EST_CIVM": "nan",
         "NIV_EDUM": "nan",
         "ULTCURMAD": 0,
         "EMB_FAL": "nan",
         "EMB_SEM": "nan",
         "EMB_MES": "nan",
         "MAN_MUER": "Suicidio",
         "COMOCUHEC": "TRAUMA ABDOMINAL CON OBJETO PUNZANTE",
         "CODOCUR": 17,
         "CODMUNOC": 13,
         "LOCALOCUHE": "nan",
         "C_MUERTE": "Necropsia",
         "C_MUERTEB": "nan",
         "C_MUERTEC": "nan",
         "C_MUERTED": "nan",
         "C_MUERTEE": "nan",
         "ASIS_MED": "No",
         "N_DIR1": "SHOCK HIPOVOLEMICO",
         "T_DIR1": "nan",
         "M_DIR1": "nan",
         "C_DIR1": "T792",
         "C_DIR12": "nan",
         "N_ANT1": "LESION VENA CORA INF",
         "T_ANT1": "nan",
         "M_ANT1": "nan",
         "C_ANT1": "S351",
         "C_ANT12": "nan",
         "N_ANT2": "TRAUMATISMO ABDOMINAL",
         "T_ANT2": "nan",
         "M_ANT2": "nan",
         "C_ANT2": "S399",
         "C_ANT22": "nan",
         "N_ANT3": "nan",
         "T_ANT3": "nan",
         "M_ANT3": "nan",
         "C_ANT3": "nan",
         "C_ANT32": "nan",
         "N_PAT1": "nan",
         "T_PAT1": "nan",
         "M_PAT1": "nan",
         "C_PAT1": "nan",
         "N_PAT2": "nan",
         "C_PAT2": "nan",
         "N_BAS1": "LESION AUTOINFLIGIDA INTENCIONALMENTE POR OBJETO CORTANTE: CALLES Y CARRETERAS",
         "C_BAS1": "X784",
         "N_MCM1": "nan",
         "C_MCM1": "nan",
         "CAUSA_666": 511,
         "IDPROFCER": "Médico",
         "DD_EXP": 17,
         "MM_EXP": 13,
         "FECHA_EXP": "03/16/2012 12:00:00 AM",
         "FECHAGRA": "06/01/2012 12:00:00 AM",
         "CAU_HOMOL": 100,
         "GRU_ED1": 16,
         "GRU_ED2": 4,
         "HORA_SE": "nan",
         "_deepnote_index_column": 1
        },
        {
         "COD_DPTO": 17,
         "COD_MUNIC": 13,
         "A_DEFUN": "Cabecera municipal",
         "COD_INSP": "nan",
         "SIT_DEFUN": "Casa/domicilio",
         "OTRSITIODE": "nan",
         "COD_INST": "170,130,087,901",
         "NOM_INST": "ESE HOSPITAL SAN JOSE DE AGUADAS",
         "TIPO_DEFUN": 2,
         "FECHA_DEF": "05/13/2012 12:00:00 AM",
         "ANO": "2,012",
         "MES": 5,
         "HORA": 2,
         "MINUTOS": 15,
         "SEXO": "Masculino",
         "FECHA_NAC": "12/23/1984 12:00:00 AM",
         "EST_CIVIL": "Estaba soltero(a)",
         "EDAD": 27,
         "NIVEL_EDU": "Básica primaria",
         "ULTCURFAL": 5,
         "MUERTEPORO": "No",
         "SIMUERTEPO": "nan",
         "OCUPACION": "SIN INFORMACION",
         "IDPERTET": "Otro",
         "IDPUEBIN": 0,
         "N_IDPUEBIN": "nan",
         "CODPRES": 170,
         "CODPTORE": "Caldas",
         "CODMUNRE": "Aguadas",
         "AREA_RES": "Cabecera municipal",
         "BARRIOFAL": "LA VANA",
         "COD_LOCA": "nan",
         "CODIGO": "nan",
         "VEREDAFALL": "nan",
         "SEG_SOCIAL": "Subsidiado",
         "IDADMISALU": 2,
         "IDCLASADMI": "CAPRECOM - CAJA DE PREVISION SOCIAL DE COMUNICACIONES",
         "PMAN_MUER": "Violenta",
         "CONS_EXP": "Médico legista",
         "MU_PARTO": "nan",
         "T_PARTO": "nan",
         "TIPO_EMB": "nan",
         "T_GES": "nan",
         "PESO_NAC": 0,
         "EDAD_MADRE": 0,
         "N_HIJOSV": 0,
         "N_HIJOSM": 0,
         "EST_CIVM": "nan",
         "NIV_EDUM": "nan",
         "ULTCURMAD": 0,
         "EMB_FAL": "nan",
         "EMB_SEM": "nan",
         "EMB_MES": "nan",
         "MAN_MUER": "Suicidio",
         "COMOCUHEC": "FURADAN",
         "CODOCUR": 17,
         "CODMUNOC": 13,
         "LOCALOCUHE": "nan",
         "C_MUERTE": "Necropsia",
         "C_MUERTEB": "nan",
         "C_MUERTEC": "nan",
         "C_MUERTED": "nan",
         "C_MUERTEE": "nan",
         "ASIS_MED": "No",
         "N_DIR1": "PARO  CARDIORRESPIRATORIO",
         "T_DIR1": "nan",
         "M_DIR1": "nan",
         "C_DIR1": "I469",
         "C_DIR12": "nan",
         "N_ANT1": "ARRITMIA   CARDIACA",
         "T_ANT1": "nan",
         "M_ANT1": "nan",
         "C_ANT1": "I499",
         "C_ANT12": "nan",
         "N_ANT2": "INSUFICIENCIA  RESPIRATORIA",
         "T_ANT2": "nan",
         "M_ANT2": "nan",
         "C_ANT2": "J189",
         "C_ANT22": "nan",
         "N_ANT3": "INTOXICACION  CON  FURADAN",
         "T_ANT3": "nan",
         "M_ANT3": "nan",
         "C_ANT3": "T609",
         "C_ANT32": "nan",
         "N_PAT1": "nan",
         "T_PAT1": "nan",
         "M_PAT1": "nan",
         "C_PAT1": "nan",
         "N_PAT2": "nan",
         "C_PAT2": "nan",
         "N_BAS1": "ENVENENAMIENTO AUTOINFLIGIDO INTENCIONALMENTE POR, Y EXPOSICION A PLAGUICIDAS: VIVIENDA",
         "C_BAS1": "X680",
         "N_MCM1": "nan",
         "C_MCM1": "nan",
         "CAUSA_666": 511,
         "IDPROFCER": "Médico",
         "DD_EXP": 17,
         "MM_EXP": 13,
         "FECHA_EXP": "05/24/2012 12:00:00 AM",
         "FECHAGRA": "05/13/2012 12:00:00 AM",
         "CAU_HOMOL": 100,
         "GRU_ED1": 13,
         "GRU_ED2": 4,
         "HORA_SE": "N",
         "_deepnote_index_column": 2
        },
        {
         "COD_DPTO": 17,
         "COD_MUNIC": 13,
         "A_DEFUN": "Rural disperso",
         "COD_INSP": "nan",
         "SIT_DEFUN": "Otro",
         "OTRSITIODE": "CAFETAL  PERO NO ERA SITIO  DE  TRABAJO",
         "COD_INST": "170,130,087,901",
         "NOM_INST": "ESE HOSPITAL SAN JOSE DE AGUADAS",
         "TIPO_DEFUN": 2,
         "FECHA_DEF": "01/15/2012 12:00:00 AM",
         "ANO": "2,012",
         "MES": 1,
         "HORA": 17,
         "MINUTOS": 0,
         "SEXO": "Femenino",
         "FECHA_NAC": "12/05/1992 12:00:00 AM",
         "EST_CIVIL": "Estaba soltero(a)",
         "EDAD": 19,
         "NIVEL_EDU": "Sin información  ",
         "ULTCURFAL": 99,
         "MUERTEPORO": "No",
         "SIMUERTEPO": "nan",
         "OCUPACION": "HOGAR",
         "IDPERTET": "Otro",
         "IDPUEBIN": 0,
         "N_IDPUEBIN": "nan",
         "CODPRES": 170,
         "CODPTORE": "Caldas",
         "CODMUNRE": "Aguadas",
         "AREA_RES": "Rural disperso",
         "BARRIOFAL": "nan",
         "COD_LOCA": "nan",
         "CODIGO": "nan",
         "VEREDAFALL": "VIBORAL",
         "SEG_SOCIAL": "Subsidiado",
         "IDADMISALU": 2,
         "IDCLASADMI": "CAFESALUD REGIMEN SUBSIDIADO",
         "PMAN_MUER": "Violenta",
         "CONS_EXP": "Médico legista",
         "MU_PARTO": "nan",
         "T_PARTO": "nan",
         "TIPO_EMB": "nan",
         "T_GES": "nan",
         "PESO_NAC": 0,
         "EDAD_MADRE": 0,
         "N_HIJOSV": 0,
         "N_HIJOSM": 0,
         "EST_CIVM": "nan",
         "NIV_EDUM": "nan",
         "ULTCURMAD": 0,
         "EMB_FAL": "No",
         "EMB_SEM": "No",
         "EMB_MES": "No",
         "MAN_MUER": "Suicidio",
         "COMOCUHEC": "MUJER QUE FUE ENCONTRADA EN UN CAFETAL CON UNA CUERDA EN EL CUELLO",
         "CODOCUR": 17,
         "CODMUNOC": 13,
         "LOCALOCUHE": "nan",
         "C_MUERTE": "Necropsia",
         "C_MUERTEB": "nan",
         "C_MUERTEC": "nan",
         "C_MUERTED": "nan",
         "C_MUERTEE": "nan",
         "ASIS_MED": "No",
         "N_DIR1": "HIPOXIA CEREBRAL",
         "T_DIR1": "nan",
         "M_DIR1": "nan",
         "C_DIR1": "G931",
         "C_DIR12": "nan",
         "N_ANT1": "AHORCAMIENTO",
         "T_ANT1": "nan",
         "M_ANT1": "nan",
         "C_ANT1": "T71",
         "C_ANT12": "nan",
         "N_ANT2": "nan",
         "T_ANT2": "nan",
         "M_ANT2": "nan",
         "C_ANT2": "nan",
         "C_ANT22": "nan",
         "N_ANT3": "nan",
         "T_ANT3": "nan",
         "M_ANT3": "nan",
         "C_ANT3": "nan",
         "C_ANT32": "nan",
         "N_PAT1": "SEG?N PADRASTRO ESTUVO HOSPITALIZADA EN  OCASIONES EN CLINICA PSIQUI?TRICA",
         "T_PAT1": "nan",
         "M_PAT1": "nan",
         "C_PAT1": "F03",
         "N_PAT2": "nan",
         "C_PAT2": "nan",
         "N_BAS1": "LESION AUTOINFLIGIDA INTENCIONALMENTE POR AHORCAMIENTO, ESTRANGULAMIENTO O SOFOCACION: OTRO LUGAR ESPECIFICADO",
         "C_BAS1": "X708",
         "N_MCM1": "nan",
         "C_MCM1": "nan",
         "CAUSA_666": 511,
         "IDPROFCER": "Médico",
         "DD_EXP": 17,
         "MM_EXP": 13,
         "FECHA_EXP": "01/18/2012 12:00:00 AM",
         "FECHAGRA": "01/15/2012 12:00:00 AM",
         "CAU_HOMOL": 100,
         "GRU_ED1": 11,
         "GRU_ED2": 4,
         "HORA_SE": "N",
         "_deepnote_index_column": 3
        },
        {
         "COD_DPTO": 17,
         "COD_MUNIC": 13,
         "A_DEFUN": "Rural disperso",
         "COD_INSP": "nan",
         "SIT_DEFUN": "Vía pública",
         "OTRSITIODE": "nan",
         "COD_INST": "170,130,087,901",
         "NOM_INST": "ESE HOSPITAL SAN JOSE DE AGUADAS",
         "TIPO_DEFUN": 2,
         "FECHA_DEF": "08/20/2013 12:00:00 AM",
         "ANO": "2,013",
         "MES": 8,
         "HORA": 19,
         "MINUTOS": 30,
         "SEXO": "Masculino",
         "FECHA_NAC": "03/31/2044 12:00:00 AM",
         "EST_CIVIL": "Estaba casado(a)",
         "EDAD": 69,
         "NIVEL_EDU": "Básica primaria",
         "ULTCURFAL": 5,
         "MUERTEPORO": "No",
         "SIMUERTEPO": "nan",
         "OCUPACION": "AGRICULTORES DE CULTIVOS PERMANENTES (PLANTACIONES DE ?RBOLES Y ARBUSTOS)",
         "IDPERTET": "Otro",
         "IDPUEBIN": 0,
         "N_IDPUEBIN": "nan",
         "CODPRES": 170,
         "CODPTORE": "Caldas",
         "CODMUNRE": "Aguadas",
         "AREA_RES": "Cabecera municipal",
         "BARRIOFAL": "LOS  ALAMOS",
         "COD_LOCA": "nan",
         "CODIGO": "nan",
         "VEREDAFALL": "nan",
         "SEG_SOCIAL": "Subsidiado",
         "IDADMISALU": 2,
         "IDCLASADMI": "CAFESALUD EPSS SA",
         "PMAN_MUER": "Violenta",
         "CONS_EXP": "Médico legista",
         "MU_PARTO": "nan",
         "T_PARTO": "nan",
         "TIPO_EMB": "nan",
         "T_GES": "nan",
         "PESO_NAC": 0,
         "EDAD_MADRE": 0,
         "N_HIJOSV": 0,
         "N_HIJOSM": 0,
         "EST_CIVM": "nan",
         "NIV_EDUM": "nan",
         "ULTCURMAD": 0,
         "EMB_FAL": "nan",
         "EMB_SEM": "nan",
         "EMB_MES": "nan",
         "MAN_MUER": "Suicidio",
         "COMOCUHEC": "AHORCAMIENTO",
         "CODOCUR": 17,
         "CODMUNOC": 13,
         "LOCALOCUHE": "nan",
         "C_MUERTE": "Necropsia",
         "C_MUERTEB": "nan",
         "C_MUERTEC": "nan",
         "C_MUERTED": "nan",
         "C_MUERTEE": "nan",
         "ASIS_MED": "No",
         "N_DIR1": "INSUFICIENCIA  RESPIRATORIA",
         "T_DIR1": "nan",
         "M_DIR1": "nan",
         "C_DIR1": "J969",
         "C_DIR12": "nan",
         "N_ANT1": "AHORCAMIENTO",
         "T_ANT1": "nan",
         "M_ANT1": "nan",
         "C_ANT1": "T71",
         "C_ANT12": "nan",
         "N_ANT2": "nan",
         "T_ANT2": "nan",
         "M_ANT2": "nan",
         "C_ANT2": "nan",
         "C_ANT22": "nan",
         "N_ANT3": "nan",
         "T_ANT3": "nan",
         "M_ANT3": "nan",
         "C_ANT3": "nan",
         "C_ANT32": "nan",
         "N_PAT1": "nan",
         "T_PAT1": "nan",
         "M_PAT1": "nan",
         "C_PAT1": "nan",
         "N_PAT2": "nan",
         "C_PAT2": "nan",
         "N_BAS1": "LESION AUTOINFLIGIDA INTENCIONALMENTE POR AHORCAMIENTO, ESTRANGULAMIENTO O SOFOCACION: CALLES Y CARRETERAS",
         "C_BAS1": "X704",
         "N_MCM1": "nan",
         "C_MCM1": "nan",
         "CAUSA_666": 511,
         "IDPROFCER": "Médico",
         "DD_EXP": 17,
         "MM_EXP": 13,
         "FECHA_EXP": "08/21/2013 12:00:00 AM",
         "FECHAGRA": "08/21/2013 12:00:00 AM",
         "CAU_HOMOL": 100,
         "GRU_ED1": 21,
         "GRU_ED2": 6,
         "HORA_SE": "N",
         "_deepnote_index_column": 4
        },
        {
         "COD_DPTO": 17,
         "COD_MUNIC": 13,
         "A_DEFUN": "Rural disperso",
         "COD_INSP": "nan",
         "SIT_DEFUN": "Casa/domicilio",
         "OTRSITIODE": "nan",
         "COD_INST": "170,130,087,901",
         "NOM_INST": "ESE HOSPITAL SAN JOSE DE AGUADAS",
         "TIPO_DEFUN": 2,
         "FECHA_DEF": "05/23/2013 12:00:00 AM",
         "ANO": "2,013",
         "MES": 5,
         "HORA": 0,
         "MINUTOS": 0,
         "SEXO": "Femenino",
         "FECHA_NAC": "03/21/1996 12:00:00 AM",
         "EST_CIVIL": "No estaba casado(a) y llevaba menos de dos años viviendo con su pareja",
         "EDAD": 17,
         "NIVEL_EDU": "Básica secundaria",
         "ULTCURFAL": 8,
         "MUERTEPORO": "No",
         "SIMUERTEPO": "nan",
         "OCUPACION": "ESTUDIANTE",
         "IDPERTET": "Otro",
         "IDPUEBIN": 0,
         "N_IDPUEBIN": "nan",
         "CODPRES": 170,
         "CODPTORE": "Caldas",
         "CODMUNRE": "Aguadas",
         "AREA_RES": "Rural disperso",
         "BARRIOFAL": "nan",
         "COD_LOCA": "nan",
         "CODIGO": "nan",
         "VEREDAFALL": "SAN PABLO",
         "SEG_SOCIAL": "Subsidiado",
         "IDADMISALU": 2,
         "IDCLASADMI": "ASMET SALUD ESS - ASOCIACION MUTUAL LA ESPERANZA",
         "PMAN_MUER": "Violenta",
         "CONS_EXP": "Médico legista",
         "MU_PARTO": "nan",
         "T_PARTO": "nan",
         "TIPO_EMB": "nan",
         "T_GES": "nan",
         "PESO_NAC": 0,
         "EDAD_MADRE": 0,
         "N_HIJOSV": 0,
         "N_HIJOSM": 0,
         "EST_CIVM": "nan",
         "NIV_EDUM": "nan",
         "ULTCURMAD": 0,
         "EMB_FAL": "Sí",
         "EMB_SEM": "nan",
         "EMB_MES": "nan",
         "MAN_MUER": "Suicidio",
         "COMOCUHEC": "HERIDA  EN  CABEZA  POR  ARMA  DE  FUEGO",
         "CODOCUR": 17,
         "CODMUNOC": 13,
         "LOCALOCUHE": "nan",
         "C_MUERTE": "Necropsia",
         "C_MUERTEB": "nan",
         "C_MUERTEC": "nan",
         "C_MUERTED": "nan",
         "C_MUERTEE": "nan",
         "ASIS_MED": "No",
         "N_DIR1": "SCHOK  NEUROGENICO",
         "T_DIR1": "nan",
         "M_DIR1": "nan",
         "C_DIR1": "T794",
         "C_DIR12": "nan",
         "N_ANT1": "MACERACION  CEREBRAL",
         "T_ANT1": "nan",
         "M_ANT1": "nan",
         "C_ANT1": "S062",
         "C_ANT12": "nan",
         "N_ANT2": "HERIDA  POR   PROYECTIL  DE  ARMA   DE  FUEGO",
         "T_ANT2": "nan",
         "M_ANT2": "nan",
         "C_ANT2": "T141",
         "C_ANT22": "O93",
         "N_ANT3": "nan",
         "T_ANT3": "nan",
         "M_ANT3": "nan",
         "C_ANT3": "nan",
         "C_ANT32": "nan",
         "N_PAT1": "nan",
         "T_PAT1": "nan",
         "M_PAT1": "nan",
         "C_PAT1": "nan",
         "N_PAT2": "nan",
         "C_PAT2": "nan",
         "N_BAS1": "LESION AUTOINFLIGIDA INTENCIONALMENTE POR DISPARO DE OTRAS ARMAS DE FUEGO, Y LAS NO ESPECIFICADAS: GRANJA",
         "C_BAS1": "X747",
         "N_MCM1": "nan",
         "C_MCM1": "nan",
         "CAUSA_666": 511,
         "IDPROFCER": "Médico",
         "DD_EXP": 17,
         "MM_EXP": 13,
         "FECHA_EXP": "05/23/2013 12:00:00 AM",
         "FECHAGRA": "05/23/2013 12:00:00 AM",
         "CAU_HOMOL": 100,
         "GRU_ED1": 11,
         "GRU_ED2": 4,
         "HORA_SE": "Y",
         "_deepnote_index_column": 5
        },
        {
         "COD_DPTO": 17,
         "COD_MUNIC": 13,
         "A_DEFUN": "Rural disperso",
         "COD_INSP": "nan",
         "SIT_DEFUN": "Casa/domicilio",
         "OTRSITIODE": "nan",
         "COD_INST": "170,130,087,901",
         "NOM_INST": "ESE HOSPITAL SAN JOSE DE AGUADAS",
         "TIPO_DEFUN": 2,
         "FECHA_DEF": "05/19/2013 12:00:00 AM",
         "ANO": "2,013",
         "MES": 5,
         "HORA": 5,
         "MINUTOS": 50,
         "SEXO": "Masculino",
         "FECHA_NAC": "07/22/1987 12:00:00 AM",
         "EST_CIVIL": "Estaba soltero(a)",
         "EDAD": 25,
         "NIVEL_EDU": "Básica primaria",
         "ULTCURFAL": 5,
         "MUERTEPORO": "No",
         "SIMUERTEPO": "nan",
         "OCUPACION": "AGRICULTORES DE CULTIVOS PERMANENTES (PLANTACIONES DE ?RBOLES Y ARBUSTOS)",
         "IDPERTET": "Otro",
         "IDPUEBIN": 0,
         "N_IDPUEBIN": "nan",
         "CODPRES": 170,
         "CODPTORE": "Caldas",
         "CODMUNRE": "Aguadas",
         "AREA_RES": "Rural disperso",
         "BARRIOFAL": "nan",
         "COD_LOCA": "nan",
         "CODIGO": "nan",
         "VEREDAFALL": "LLANO  GRANDE  ABAJO",
         "SEG_SOCIAL": "Subsidiado",
         "IDADMISALU": 2,
         "IDCLASADMI": "CAPRECOM - CAJA DE PREVISION SOCIAL DE COMUNICACIONES",
         "PMAN_MUER": "Violenta",
         "CONS_EXP": "Médico legista",
         "MU_PARTO": "nan",
         "T_PARTO": "nan",
         "TIPO_EMB": "nan",
         "T_GES": "nan",
         "PESO_NAC": 0,
         "EDAD_MADRE": 0,
         "N_HIJOSV": 0,
         "N_HIJOSM": 0,
         "EST_CIVM": "nan",
         "NIV_EDUM": "nan",
         "ULTCURMAD": 0,
         "EMB_FAL": "nan",
         "EMB_SEM": "nan",
         "EMB_MES": "nan",
         "MAN_MUER": "Suicidio",
         "COMOCUHEC": "HERIDA  POR  ARMA  DE  FUEGO",
         "CODOCUR": 17,
         "CODMUNOC": 13,
         "LOCALOCUHE": "nan",
         "C_MUERTE": "Necropsia",
         "C_MUERTEB": "nan",
         "C_MUERTEC": "nan",
         "C_MUERTED": "nan",
         "C_MUERTEE": "nan",
         "ASIS_MED": "No",
         "N_DIR1": "ARRITMIA  VENTRICULAR  MALIGNA",
         "T_DIR1": "nan",
         "M_DIR1": "nan",
         "C_DIR1": "I490",
         "C_DIR12": "nan",
         "N_ANT1": "HERIDA  POR  ARMA   DE  FUEGO  EN  CRANEO",
         "T_ANT1": "nan",
         "M_ANT1": "nan",
         "C_ANT1": "S018",
         "C_ANT12": "nan",
         "N_ANT2": "TRAUMATISMO  ENCEFALOCRANEANO  GRAVE",
         "T_ANT2": "nan",
         "M_ANT2": "nan",
         "C_ANT2": "S097",
         "C_ANT22": "nan",
         "N_ANT3": "nan",
         "T_ANT3": "nan",
         "M_ANT3": "nan",
         "C_ANT3": "nan",
         "C_ANT32": "nan",
         "N_PAT1": "nan",
         "T_PAT1": "nan",
         "M_PAT1": "nan",
         "C_PAT1": "nan",
         "N_PAT2": "nan",
         "C_PAT2": "nan",
         "N_BAS1": "LESION AUTOINFLIGIDA INTENCIONALMENTE POR DISPARO DE OTRAS ARMAS DE FUEGO, Y LAS NO ESPECIFICADAS: VIVIENDA",
         "C_BAS1": "X740",
         "N_MCM1": "nan",
         "C_MCM1": "nan",
         "CAUSA_666": 511,
         "IDPROFCER": "Médico",
         "DD_EXP": 17,
         "MM_EXP": 13,
         "FECHA_EXP": "05/20/2013 12:00:00 AM",
         "FECHAGRA": "05/20/2013 12:00:00 AM",
         "CAU_HOMOL": 100,
         "GRU_ED1": 13,
         "GRU_ED2": 4,
         "HORA_SE": "N",
         "_deepnote_index_column": 6
        },
        {
         "COD_DPTO": 17,
         "COD_MUNIC": 13,
         "A_DEFUN": "Centro poblado",
         "COD_INSP": 11,
         "SIT_DEFUN": "Casa/domicilio",
         "OTRSITIODE": "nan",
         "COD_INST": "170,130,087,901",
         "NOM_INST": "ESE HOSPITAL SAN JOSE DE AGUADAS",
         "TIPO_DEFUN": 2,
         "FECHA_DEF": "08/11/2014 12:00:00 AM",
         "ANO": "2,014",
         "MES": 8,
         "HORA": 22,
         "MINUTOS": 15,
         "SEXO": "Masculino",
         "FECHA_NAC": "09/11/1990 12:00:00 AM",
         "EST_CIVIL": "No estaba casado(a) y llevaba dos o más años viviendo con su pareja",
         "EDAD": 23,
         "NIVEL_EDU": "Básica secundaria",
         "ULTCURFAL": 9,
         "MUERTEPORO": "No",
         "SIMUERTEPO": "nan",
         "OCUPACION": "AGRICULTORES DE CULTIVOS PERMANENTES (PLANTACIONES DE ?RBOLES Y ARBUSTOS)",
         "IDPERTET": "Otro",
         "IDPUEBIN": 0,
         "N_IDPUEBIN": "nan",
         "CODPRES": 170,
         "CODPTORE": "Caldas",
         "CODMUNRE": "Aguadas",
         "AREA_RES": "Centro poblado",
         "BARRIOFAL": "nan",
         "COD_LOCA": "nan",
         "CODIGO": 11,
         "VEREDAFALL": "nan",
         "SEG_SOCIAL": "Subsidiado",
         "IDADMISALU": 2,
         "IDCLASADMI": "CAPRECOM - CAJA DE PREVISION SOCIAL DE COMUNICACIONES",
         "PMAN_MUER": "Violenta",
         "CONS_EXP": "Médico legista",
         "MU_PARTO": "nan",
         "T_PARTO": "nan",
         "TIPO_EMB": "nan",
         "T_GES": "nan",
         "PESO_NAC": 0,
         "EDAD_MADRE": 0,
         "N_HIJOSV": 0,
         "N_HIJOSM": 0,
         "EST_CIVM": "nan",
         "NIV_EDUM": "nan",
         "ULTCURMAD": 0,
         "EMB_FAL": "nan",
         "EMB_SEM": "nan",
         "EMB_MES": "nan",
         "MAN_MUER": "Suicidio",
         "COMOCUHEC": "HERIDAS   PRODUCIDAS  POR  ARMA   DE  FUEGO",
         "CODOCUR": 17,
         "CODMUNOC": 13,
         "LOCALOCUHE": "nan",
         "C_MUERTE": "Necropsia",
         "C_MUERTEB": "nan",
         "C_MUERTEC": "nan",
         "C_MUERTED": "nan",
         "C_MUERTEE": "nan",
         "ASIS_MED": "No",
         "N_DIR1": "SCHOC    NEUROGENICO",
         "T_DIR1": "nan",
         "M_DIR1": "nan",
         "C_DIR1": "T794",
         "C_DIR12": "nan",
         "N_ANT1": "LACERACION   ENCEFALICA",
         "T_ANT1": "nan",
         "M_ANT1": "nan",
         "C_ANT1": "S062",
         "C_ANT12": "nan",
         "N_ANT2": "HERIDA  DE  PROYECTIL  POR  ARMA  DE  FUEGO CARGA  UNICA",
         "T_ANT2": "nan",
         "M_ANT2": "nan",
         "C_ANT2": "T141",
         "C_ANT22": "nan",
         "N_ANT3": "nan",
         "T_ANT3": "nan",
         "M_ANT3": "nan",
         "C_ANT3": "nan",
         "C_ANT32": "nan",
         "N_PAT1": "nan",
         "T_PAT1": "nan",
         "M_PAT1": "nan",
         "C_PAT1": "nan",
         "N_PAT2": "nan",
         "C_PAT2": "nan",
         "N_BAS1": "LESION AUTOINFLIGIDA INTENCIONALMENTE POR DISPARO DE OTRAS ARMAS DE FUEGO, Y LAS NO ESPECIFICADAS: VIVIENDA",
         "C_BAS1": "X740",
         "N_MCM1": "nan",
         "C_MCM1": "nan",
         "CAUSA_666": 511,
         "IDPROFCER": "Médico",
         "DD_EXP": 17,
         "MM_EXP": 13,
         "FECHA_EXP": "08/12/2014 12:00:00 AM",
         "FECHAGRA": "08/12/2014 12:00:00 AM",
         "CAU_HOMOL": 100,
         "GRU_ED1": 12,
         "GRU_ED2": 4,
         "HORA_SE": "N",
         "_deepnote_index_column": 7
        },
        {
         "COD_DPTO": 17,
         "COD_MUNIC": 13,
         "A_DEFUN": "Cabecera municipal",
         "COD_INSP": "nan",
         "SIT_DEFUN": "Hospital/clínica",
         "OTRSITIODE": "nan",
         "COD_INST": "170,130,087,901",
         "NOM_INST": "ESE HOSPITAL SAN JOSE DE AGUADAS",
         "TIPO_DEFUN": 2,
         "FECHA_DEF": "08/04/2014 12:00:00 AM",
         "ANO": "2,014",
         "MES": 8,
         "HORA": 0,
         "MINUTOS": 0,
         "SEXO": "Masculino",
         "FECHA_NAC": "10/29/1958 12:00:00 AM",
         "EST_CIVIL": "Estaba viudo(a)",
         "EDAD": 55,
         "NIVEL_EDU": "Básica secundaria",
         "ULTCURFAL": 9,
         "MUERTEPORO": "No",
         "SIMUERTEPO": "nan",
         "OCUPACION": "CONDUCTORES DE CAMIONETAS Y VEH?CULOS LIVIANOS",
         "IDPERTET": "Otro",
         "IDPUEBIN": 0,
         "N_IDPUEBIN": "nan",
         "CODPRES": 170,
         "CODPTORE": "Caldas",
         "CODMUNRE": "Aguadas",
         "AREA_RES": "Cabecera municipal",
         "BARRIOFAL": "RENAN   BARCO",
         "COD_LOCA": "nan",
         "CODIGO": "nan",
         "VEREDAFALL": "nan",
         "SEG_SOCIAL": "Contributivo",
         "IDADMISALU": 1,
         "IDCLASADMI": "NUEVA EPS SA",
         "PMAN_MUER": "Violenta",
         "CONS_EXP": "Médico legista",
         "MU_PARTO": "nan",
         "T_PARTO": "nan",
         "TIPO_EMB": "nan",
         "T_GES": "nan",
         "PESO_NAC": 0,
         "EDAD_MADRE": 0,
         "N_HIJOSV": 0,
         "N_HIJOSM": 0,
         "EST_CIVM": "nan",
         "NIV_EDUM": "nan",
         "ULTCURMAD": 0,
         "EMB_FAL": "nan",
         "EMB_SEM": "nan",
         "EMB_MES": "nan",
         "MAN_MUER": "Suicidio",
         "COMOCUHEC": "AHORCAMIENTO",
         "CODOCUR": 17,
         "CODMUNOC": 13,
         "LOCALOCUHE": "nan",
         "C_MUERTE": "Necropsia",
         "C_MUERTEB": "nan",
         "C_MUERTEC": "nan",
         "C_MUERTED": "nan",
         "C_MUERTEE": "nan",
         "ASIS_MED": "No",
         "N_DIR1": "INSUFICIENCIA  RESPIRATORIA",
         "T_DIR1": "nan",
         "M_DIR1": "nan",
         "C_DIR1": "J969",
         "C_DIR12": "nan",
         "N_ANT1": "AHORCAMIENTO",
         "T_ANT1": "nan",
         "M_ANT1": "nan",
         "C_ANT1": "T71",
         "C_ANT12": "nan",
         "N_ANT2": "nan",
         "T_ANT2": "nan",
         "M_ANT2": "nan",
         "C_ANT2": "nan",
         "C_ANT22": "nan",
         "N_ANT3": "nan",
         "T_ANT3": "nan",
         "M_ANT3": "nan",
         "C_ANT3": "nan",
         "C_ANT32": "nan",
         "N_PAT1": "nan",
         "T_PAT1": "nan",
         "M_PAT1": "nan",
         "C_PAT1": "nan",
         "N_PAT2": "nan",
         "C_PAT2": "nan",
         "N_BAS1": "LESION AUTOINFLIGIDA INTENCIONALMENTE POR AHORCAMIENTO, ESTRANGULAMIENTO O SOFOCACION: LUGAR NO ESPECIFICADO",
         "C_BAS1": "X709",
         "N_MCM1": "nan",
         "C_MCM1": "nan",
         "CAUSA_666": 511,
         "IDPROFCER": "Médico",
         "DD_EXP": 17,
         "MM_EXP": 13,
         "FECHA_EXP": "08/05/2014 12:00:00 AM",
         "FECHAGRA": "08/05/2014 12:00:00 AM",
         "CAU_HOMOL": 100,
         "GRU_ED1": 19,
         "GRU_ED2": 5,
         "HORA_SE": "Y",
         "_deepnote_index_column": 8
        },
        {
         "COD_DPTO": 17,
         "COD_MUNIC": 13,
         "A_DEFUN": "Rural disperso",
         "COD_INSP": "nan",
         "SIT_DEFUN": "Casa/domicilio",
         "OTRSITIODE": "nan",
         "COD_INST": "170,130,087,901",
         "NOM_INST": "ESE HOSPITAL SAN JOSE DE AGUADAS",
         "TIPO_DEFUN": 2,
         "FECHA_DEF": "07/06/2015 12:00:00 AM",
         "ANO": "2,015",
         "MES": 7,
         "HORA": 10,
         "MINUTOS": 0,
         "SEXO": "Masculino",
         "FECHA_NAC": "11/25/1999 12:00:00 AM",
         "EST_CIVIL": "Estaba soltero(a)",
         "EDAD": 15,
         "NIVEL_EDU": "Básica primaria",
         "ULTCURFAL": 5,
         "MUERTEPORO": "No",
         "SIMUERTEPO": "nan",
         "OCUPACION": "AGRICULTORES DE CULTIVOS PERMANENTES (PLANTACIONES DE ?RBOLES Y ARBUSTOS)",
         "IDPERTET": "Otro",
         "IDPUEBIN": 0,
         "N_IDPUEBIN": "nan",
         "CODPRES": 170,
         "CODPTORE": "Caldas",
         "CODMUNRE": "Aguadas",
         "AREA_RES": "Rural disperso",
         "BARRIOFAL": "nan",
         "COD_LOCA": "nan",
         "CODIGO": "nan",
         "VEREDAFALL": "VEREDA MESONES",
         "SEG_SOCIAL": "Subsidiado",
         "IDADMISALU": 2,
         "IDCLASADMI": "CAFESALUD EPSS SA",
         "PMAN_MUER": "Violenta",
         "CONS_EXP": "Médico legista",
         "MU_PARTO": "nan",
         "T_PARTO": "nan",
         "TIPO_EMB": "nan",
         "T_GES": "nan",
         "PESO_NAC": 0,
         "EDAD_MADRE": 0,
         "N_HIJOSV": 0,
         "N_HIJOSM": 0,
         "EST_CIVM": "nan",
         "NIV_EDUM": "nan",
         "ULTCURMAD": 0,
         "EMB_FAL": "nan",
         "EMB_SEM": "nan",
         "EMB_MES": "nan",
         "MAN_MUER": "Suicidio",
         "COMOCUHEC": "ENVENENADO   LORSBAN",
         "CODOCUR": 17,
         "CODMUNOC": 13,
         "LOCALOCUHE": "nan",
         "C_MUERTE": "Necropsia",
         "C_MUERTEB": "nan",
         "C_MUERTEC": "nan",
         "C_MUERTED": "nan",
         "C_MUERTEE": "nan",
         "ASIS_MED": "No",
         "N_DIR1": "FALLA  MULTIORGANICA",
         "T_DIR1": "nan",
         "M_DIR1": "nan",
         "C_DIR1": "R688",
         "C_DIR12": "nan",
         "N_ANT1": "ENVENENAMIENTO",
         "T_ANT1": "nan",
         "M_ANT1": "nan",
         "C_ANT1": "T602",
         "C_ANT12": "nan",
         "N_ANT2": "nan",
         "T_ANT2": "nan",
         "M_ANT2": "nan",
         "C_ANT2": "nan",
         "C_ANT22": "nan",
         "N_ANT3": "nan",
         "T_ANT3": "nan",
         "M_ANT3": "nan",
         "C_ANT3": "nan",
         "C_ANT32": "nan",
         "N_PAT1": "nan",
         "T_PAT1": "nan",
         "M_PAT1": "nan",
         "C_PAT1": "nan",
         "N_PAT2": "nan",
         "C_PAT2": "nan",
         "N_BAS1": "ENVENENAMIENTO AUTOINFLIGIDO INTENCIONALMENTE POR, Y EXPOSICION A PLAGUICIDAS: VIVIENDA",
         "C_BAS1": "X680",
         "N_MCM1": "nan",
         "C_MCM1": "nan",
         "CAUSA_666": 511,
         "IDPROFCER": "Médico",
         "DD_EXP": 17,
         "MM_EXP": 13,
         "FECHA_EXP": "07/07/2015 12:00:00 AM",
         "FECHAGRA": "07/07/2015 12:00:00 AM",
         "CAU_HOMOL": 100,
         "GRU_ED1": 11,
         "GRU_ED2": 4,
         "HORA_SE": "N",
         "_deepnote_index_column": 9
        }
       ]
      },
      "text/plain": "   COD_DPTO  COD_MUNIC             A_DEFUN  COD_INSP         SIT_DEFUN  \\\n0        17         13      Rural disperso       NaN  Hospital/clínica   \n1        17         13      Rural disperso       NaN       Vía pública   \n2        17         13  Cabecera municipal       NaN    Casa/domicilio   \n3        17         13      Rural disperso       NaN              Otro   \n4        17         13      Rural disperso       NaN       Vía pública   \n5        17         13      Rural disperso       NaN    Casa/domicilio   \n6        17         13      Rural disperso       NaN    Casa/domicilio   \n7        17         13      Centro poblado      11.0    Casa/domicilio   \n8        17         13  Cabecera municipal       NaN  Hospital/clínica   \n9        17         13      Rural disperso       NaN    Casa/domicilio   \n\n                                OTRSITIODE         COD_INST  \\\n0                                      NaN  170,130,087,901   \n1                                      NaN              NaN   \n2                                      NaN  170,130,087,901   \n3  CAFETAL  PERO NO ERA SITIO  DE  TRABAJO  170,130,087,901   \n4                                      NaN  170,130,087,901   \n5                                      NaN  170,130,087,901   \n6                                      NaN  170,130,087,901   \n7                                      NaN  170,130,087,901   \n8                                      NaN  170,130,087,901   \n9                                      NaN  170,130,087,901   \n\n                           NOM_INST  TIPO_DEFUN               FECHA_DEF  ...  \\\n0  ESE HOSPITAL SAN JOSE DE AGUADAS           2  03/09/2011 12:00:00 AM  ...   \n1                               NaN           2  03/14/2012 12:00:00 AM  ...   \n2  ESE HOSPITAL SAN JOSE DE AGUADAS           2  05/13/2012 12:00:00 AM  ...   \n3  ESE HOSPITAL SAN JOSE DE AGUADAS           2  01/15/2012 12:00:00 AM  ...   \n4  ESE HOSPITAL SAN JOSE DE AGUADAS           2  08/20/2013 12:00:00 AM  ...   \n5  ESE HOSPITAL SAN JOSE DE AGUADAS           2  05/23/2013 12:00:00 AM  ...   \n6  ESE HOSPITAL SAN JOSE DE AGUADAS           2  05/19/2013 12:00:00 AM  ...   \n7  ESE HOSPITAL SAN JOSE DE AGUADAS           2  08/11/2014 12:00:00 AM  ...   \n8  ESE HOSPITAL SAN JOSE DE AGUADAS           2  08/04/2014 12:00:00 AM  ...   \n9  ESE HOSPITAL SAN JOSE DE AGUADAS           2  07/06/2015 12:00:00 AM  ...   \n\n  CAUSA_666  IDPROFCER  DD_EXP  MM_EXP               FECHA_EXP  \\\n0       511     Médico      17      13  03/14/2011 12:00:00 AM   \n1       511     Médico      17      13  03/16/2012 12:00:00 AM   \n2       511     Médico      17      13  05/24/2012 12:00:00 AM   \n3       511     Médico      17      13  01/18/2012 12:00:00 AM   \n4       511     Médico      17      13  08/21/2013 12:00:00 AM   \n5       511     Médico      17      13  05/23/2013 12:00:00 AM   \n6       511     Médico      17      13  05/20/2013 12:00:00 AM   \n7       511     Médico      17      13  08/12/2014 12:00:00 AM   \n8       511     Médico      17      13  08/05/2014 12:00:00 AM   \n9       511     Médico      17      13  07/07/2015 12:00:00 AM   \n\n                 FECHAGRA CAU_HOMOL  GRU_ED1 GRU_ED2  HORA_SE  \n0  03/09/2011 12:00:00 AM       100       12       4        N  \n1  06/01/2012 12:00:00 AM       100       16       4      NaN  \n2  05/13/2012 12:00:00 AM       100       13       4        N  \n3  01/15/2012 12:00:00 AM       100       11       4        N  \n4  08/21/2013 12:00:00 AM       100       21       6        N  \n5  05/23/2013 12:00:00 AM       100       11       4        Y  \n6  05/20/2013 12:00:00 AM       100       13       4        N  \n7  08/12/2014 12:00:00 AM       100       12       4        N  \n8  08/05/2014 12:00:00 AM       100       19       5        Y  \n9  07/07/2015 12:00:00 AM       100       11       4        N  \n\n[10 rows x 104 columns]",
      "text/html": "<div>\n<style scoped>\n    .dataframe tbody tr th:only-of-type {\n        vertical-align: middle;\n    }\n\n    .dataframe tbody tr th {\n        vertical-align: top;\n    }\n\n    .dataframe thead th {\n        text-align: right;\n    }\n</style>\n<table border=\"1\" class=\"dataframe\">\n  <thead>\n    <tr style=\"text-align: right;\">\n      <th></th>\n      <th>COD_DPTO</th>\n      <th>COD_MUNIC</th>\n      <th>A_DEFUN</th>\n      <th>COD_INSP</th>\n      <th>SIT_DEFUN</th>\n      <th>OTRSITIODE</th>\n      <th>COD_INST</th>\n      <th>NOM_INST</th>\n      <th>TIPO_DEFUN</th>\n      <th>FECHA_DEF</th>\n      <th>...</th>\n      <th>CAUSA_666</th>\n      <th>IDPROFCER</th>\n      <th>DD_EXP</th>\n      <th>MM_EXP</th>\n      <th>FECHA_EXP</th>\n      <th>FECHAGRA</th>\n      <th>CAU_HOMOL</th>\n      <th>GRU_ED1</th>\n      <th>GRU_ED2</th>\n      <th>HORA_SE</th>\n    </tr>\n  </thead>\n  <tbody>\n    <tr>\n      <th>0</th>\n      <td>17</td>\n      <td>13</td>\n      <td>Rural disperso</td>\n      <td>NaN</td>\n      <td>Hospital/clínica</td>\n      <td>NaN</td>\n      <td>170,130,087,901</td>\n      <td>ESE HOSPITAL SAN JOSE DE AGUADAS</td>\n      <td>2</td>\n      <td>03/09/2011 12:00:00 AM</td>\n      <td>...</td>\n      <td>511</td>\n      <td>Médico</td>\n      <td>17</td>\n      <td>13</td>\n      <td>03/14/2011 12:00:00 AM</td>\n      <td>03/09/2011 12:00:00 AM</td>\n      <td>100</td>\n      <td>12</td>\n      <td>4</td>\n      <td>N</td>\n    </tr>\n    <tr>\n      <th>1</th>\n      <td>17</td>\n      <td>13</td>\n      <td>Rural disperso</td>\n      <td>NaN</td>\n      <td>Vía pública</td>\n      <td>NaN</td>\n      <td>NaN</td>\n      <td>NaN</td>\n      <td>2</td>\n      <td>03/14/2012 12:00:00 AM</td>\n      <td>...</td>\n      <td>511</td>\n      <td>Médico</td>\n      <td>17</td>\n      <td>13</td>\n      <td>03/16/2012 12:00:00 AM</td>\n      <td>06/01/2012 12:00:00 AM</td>\n      <td>100</td>\n      <td>16</td>\n      <td>4</td>\n      <td>NaN</td>\n    </tr>\n    <tr>\n      <th>2</th>\n      <td>17</td>\n      <td>13</td>\n      <td>Cabecera municipal</td>\n      <td>NaN</td>\n      <td>Casa/domicilio</td>\n      <td>NaN</td>\n      <td>170,130,087,901</td>\n      <td>ESE HOSPITAL SAN JOSE DE AGUADAS</td>\n      <td>2</td>\n      <td>05/13/2012 12:00:00 AM</td>\n      <td>...</td>\n      <td>511</td>\n      <td>Médico</td>\n      <td>17</td>\n      <td>13</td>\n      <td>05/24/2012 12:00:00 AM</td>\n      <td>05/13/2012 12:00:00 AM</td>\n      <td>100</td>\n      <td>13</td>\n      <td>4</td>\n      <td>N</td>\n    </tr>\n    <tr>\n      <th>3</th>\n      <td>17</td>\n      <td>13</td>\n      <td>Rural disperso</td>\n      <td>NaN</td>\n      <td>Otro</td>\n      <td>CAFETAL  PERO NO ERA SITIO  DE  TRABAJO</td>\n      <td>170,130,087,901</td>\n      <td>ESE HOSPITAL SAN JOSE DE AGUADAS</td>\n      <td>2</td>\n      <td>01/15/2012 12:00:00 AM</td>\n      <td>...</td>\n      <td>511</td>\n      <td>Médico</td>\n      <td>17</td>\n      <td>13</td>\n      <td>01/18/2012 12:00:00 AM</td>\n      <td>01/15/2012 12:00:00 AM</td>\n      <td>100</td>\n      <td>11</td>\n      <td>4</td>\n      <td>N</td>\n    </tr>\n    <tr>\n      <th>4</th>\n      <td>17</td>\n      <td>13</td>\n      <td>Rural disperso</td>\n      <td>NaN</td>\n      <td>Vía pública</td>\n      <td>NaN</td>\n      <td>170,130,087,901</td>\n      <td>ESE HOSPITAL SAN JOSE DE AGUADAS</td>\n      <td>2</td>\n      <td>08/20/2013 12:00:00 AM</td>\n      <td>...</td>\n      <td>511</td>\n      <td>Médico</td>\n      <td>17</td>\n      <td>13</td>\n      <td>08/21/2013 12:00:00 AM</td>\n      <td>08/21/2013 12:00:00 AM</td>\n      <td>100</td>\n      <td>21</td>\n      <td>6</td>\n      <td>N</td>\n    </tr>\n    <tr>\n      <th>5</th>\n      <td>17</td>\n      <td>13</td>\n      <td>Rural disperso</td>\n      <td>NaN</td>\n      <td>Casa/domicilio</td>\n      <td>NaN</td>\n      <td>170,130,087,901</td>\n      <td>ESE HOSPITAL SAN JOSE DE AGUADAS</td>\n      <td>2</td>\n      <td>05/23/2013 12:00:00 AM</td>\n      <td>...</td>\n      <td>511</td>\n      <td>Médico</td>\n      <td>17</td>\n      <td>13</td>\n      <td>05/23/2013 12:00:00 AM</td>\n      <td>05/23/2013 12:00:00 AM</td>\n      <td>100</td>\n      <td>11</td>\n      <td>4</td>\n      <td>Y</td>\n    </tr>\n    <tr>\n      <th>6</th>\n      <td>17</td>\n      <td>13</td>\n      <td>Rural disperso</td>\n      <td>NaN</td>\n      <td>Casa/domicilio</td>\n      <td>NaN</td>\n      <td>170,130,087,901</td>\n      <td>ESE HOSPITAL SAN JOSE DE AGUADAS</td>\n      <td>2</td>\n      <td>05/19/2013 12:00:00 AM</td>\n      <td>...</td>\n      <td>511</td>\n      <td>Médico</td>\n      <td>17</td>\n      <td>13</td>\n      <td>05/20/2013 12:00:00 AM</td>\n      <td>05/20/2013 12:00:00 AM</td>\n      <td>100</td>\n      <td>13</td>\n      <td>4</td>\n      <td>N</td>\n    </tr>\n    <tr>\n      <th>7</th>\n      <td>17</td>\n      <td>13</td>\n      <td>Centro poblado</td>\n      <td>11.0</td>\n      <td>Casa/domicilio</td>\n      <td>NaN</td>\n      <td>170,130,087,901</td>\n      <td>ESE HOSPITAL SAN JOSE DE AGUADAS</td>\n      <td>2</td>\n      <td>08/11/2014 12:00:00 AM</td>\n      <td>...</td>\n      <td>511</td>\n      <td>Médico</td>\n      <td>17</td>\n      <td>13</td>\n      <td>08/12/2014 12:00:00 AM</td>\n      <td>08/12/2014 12:00:00 AM</td>\n      <td>100</td>\n      <td>12</td>\n      <td>4</td>\n      <td>N</td>\n    </tr>\n    <tr>\n      <th>8</th>\n      <td>17</td>\n      <td>13</td>\n      <td>Cabecera municipal</td>\n      <td>NaN</td>\n      <td>Hospital/clínica</td>\n      <td>NaN</td>\n      <td>170,130,087,901</td>\n      <td>ESE HOSPITAL SAN JOSE DE AGUADAS</td>\n      <td>2</td>\n      <td>08/04/2014 12:00:00 AM</td>\n      <td>...</td>\n      <td>511</td>\n      <td>Médico</td>\n      <td>17</td>\n      <td>13</td>\n      <td>08/05/2014 12:00:00 AM</td>\n      <td>08/05/2014 12:00:00 AM</td>\n      <td>100</td>\n      <td>19</td>\n      <td>5</td>\n      <td>Y</td>\n    </tr>\n    <tr>\n      <th>9</th>\n      <td>17</td>\n      <td>13</td>\n      <td>Rural disperso</td>\n      <td>NaN</td>\n      <td>Casa/domicilio</td>\n      <td>NaN</td>\n      <td>170,130,087,901</td>\n      <td>ESE HOSPITAL SAN JOSE DE AGUADAS</td>\n      <td>2</td>\n      <td>07/06/2015 12:00:00 AM</td>\n      <td>...</td>\n      <td>511</td>\n      <td>Médico</td>\n      <td>17</td>\n      <td>13</td>\n      <td>07/07/2015 12:00:00 AM</td>\n      <td>07/07/2015 12:00:00 AM</td>\n      <td>100</td>\n      <td>11</td>\n      <td>4</td>\n      <td>N</td>\n    </tr>\n  </tbody>\n</table>\n<p>10 rows × 104 columns</p>\n</div>"
     },
     "metadata": {}
    }
   ]
  },
  {
   "cell_type": "markdown",
   "source": "",
   "metadata": {
    "formattedRanges": [],
    "cell_id": "87ec16e1143641f1849992217a284ab2",
    "tags": [],
    "is_collapsed": false,
    "owner_user_id": "0e7f4f38-bf24-44f0-9fc0-9cb103029e0f",
    "deepnote_cell_type": "text-cell-p"
   }
  },
  {
   "cell_type": "code",
   "metadata": {
    "cell_id": "a69b689024c44a0692961624b80045ce",
    "tags": [],
    "deepnote_cell_type": "code",
    "deepnote_cell_height": 66.15625
   },
   "source": "",
   "execution_count": null,
   "outputs": []
  },
  {
   "cell_type": "markdown",
   "source": "",
   "metadata": {
    "formattedRanges": [],
    "cell_id": "bed862d7e6aa43be99e39aae7f8cb1c0",
    "tags": [],
    "is_collapsed": false,
    "deepnote_cell_type": "text-cell-p"
   }
  },
  {
   "cell_type": "markdown",
   "source": "",
   "metadata": {
    "formattedRanges": [],
    "cell_id": "2a2b7b11529045bd807ca44315e30362",
    "tags": [],
    "is_collapsed": false,
    "deepnote_cell_type": "text-cell-p"
   }
  },
  {
   "cell_type": "markdown",
   "source": "<a style='text-decoration:none;line-height:16px;display:flex;color:#5B5B62;padding:10px;justify-content:end;' href='https://deepnote.com?utm_source=created-in-deepnote-cell&projectId=70a6331b-3e37-4c4d-8041-2d29d0ba96c1' target=\"_blank\">\n<img alt='Created in deepnote.com' style='display:inline;max-height:16px;margin:0px;margin-right:7.5px;' src='data:image/svg+xml;base64,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' > </img>\nCreated in <span style='font-weight:600;margin-left:4px;'>Deepnote</span></a>",
   "metadata": {
    "tags": [],
    "created_in_deepnote_cell": true,
    "deepnote_cell_type": "markdown"
   }
  }
 ],
 "nbformat": 4,
 "nbformat_minor": 2,
 "metadata": {
  "orig_nbformat": 2,
  "deepnote": {},
  "deepnote_notebook_id": "994e18c7-7caf-47ce-b9d9-1ccdb93d5f1d",
  "deepnote_execution_queue": []
 }
}