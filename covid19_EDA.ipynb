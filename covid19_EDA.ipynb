{
 "cells": [
  {
   "cell_type": "code",
   "metadata": {
    "cell_id": "19092cef-7bd4-46be-b08e-6d3243f4a980",
    "deepnote_to_be_reexecuted": false,
    "source_hash": "78ef22d7",
    "execution_start": 1653612621700,
    "execution_millis": 758,
    "deepnote_cell_type": "code",
    "deepnote_cell_height": 368.953125
   },
   "source": "import numpy as np\nimport pandas as pd\nimport matplotlib.pyplot as plt\n#from sodapy import Socrata\n\n# df=pd.read_csv('Project/Data/Casos_positivos_de_COVID-19_en_Colombia.csv',sep=',',encoding='utf-8',chunksize=10000)\n# for chunk in df:\n#client = Socrata(\"www.datos.gov.co\", None)\n#results = client.get(\"gt2j-8ykr\", where='fecha_reporte_web.year == \"2021\"',limit=100000)\n#result=pd.DataFrame.from_records(results)\n\n## Documentación:\n#https://dev.socrata.com/foundry/www.datos.gov.co/gt2j-8ykr\n\n#https://www.datos.gov.co/resource/gt2j-8ykr.json?$select=COUNT(fecha_reporte_web),departamento&$where=fecha_reporte_web%20like%20%27%252021%25%27&$group=departamento\n#https://www.datos.gov.co/resource/gt2j-8ykr.json?$select=COUNT(fecha_reporte_web),ciudad_municipio&$where=fecha_reporte_web%20like%20%27%252021%25%27&$group=ciudad_municipio\n#https://www.datos.gov.co/resource/gt2j-8ykr.json?$select=COUNT(fecha_reporte_web)&$where=ciudad_municipio=5001%20AND%20fecha_reporte_web%20like%20%27%252021%25%27",
   "execution_count": null,
   "outputs": []
  },
  {
   "cell_type": "code",
   "metadata": {
    "cell_id": "00001-c8991ebd-9c1a-4e90-becf-06aa9e0b6220",
    "deepnote_to_be_reexecuted": false,
    "source_hash": "ef1ba88f",
    "execution_start": 1653612622462,
    "execution_millis": 621,
    "deepnote_cell_type": "code",
    "deepnote_cell_height": 226.125,
    "deepnote_output_heights": [
     21.1875
    ]
   },
   "source": "import requests as req\nyear=2021\nurl=f'https://www.datos.gov.co/resource/gt2j-8ykr.json?$select=COUNT(fecha_reporte_web),ciudad_municipio&$where=fecha_reporte_web%20like%20%27%25{year}%25%27&$group=ciudad_municipio'\nres = req.get(url)\njson=res.json()\nlen(json)\n",
   "execution_count": null,
   "outputs": [
    {
     "output_type": "execute_result",
     "execution_count": 2,
     "data": {
      "text/plain": "1000"
     },
     "metadata": {}
    }
   ]
  },
  {
   "cell_type": "code",
   "metadata": {
    "cell_id": "00002-f7cab713-8718-419a-8a47-acd7b620b820",
    "deepnote_to_be_reexecuted": false,
    "source_hash": "81ea70c0",
    "execution_start": 1653612623089,
    "execution_millis": 20053,
    "deepnote_cell_type": "code",
    "deepnote_cell_height": 404.953125
   },
   "source": "def contagios_mun_year():\n    years=[2020,2021,2022]\n    months=[f'-0{x}'for x in range (1,10)]\n    months+=[f'-{x}'for x in range(10,13)]\n    dict_mun=[]\n    for year in years:\n        for month in months: \n            url=f'https://www.datos.gov.co/resource/gt2j-8ykr.json?$select=COUNT(fecha_reporte_web),ciudad_municipio&$where=fecha_reporte_web%20like%20%27%25{year}{month}%25%27&$group=ciudad_municipio'\n            res=req.get(url)\n            list_json=res.json()\n            for element in list_json:\n                element['year']=year\n                month_c=int(month[-2::])\n                element['month']=month_c\n                element['date']=f'{year}{month}'\n                dict_mun.append(element)\n    return dict_mun\ndict_year_mun=contagios_mun_year()\n",
   "execution_count": null,
   "outputs": []
  },
  {
   "cell_type": "code",
   "metadata": {
    "cell_id": "00003-28dbd983-3492-497d-8085-be7dd21516cd",
    "deepnote_to_be_reexecuted": false,
    "source_hash": "c2b3d7c8",
    "execution_start": 1653612643146,
    "execution_millis": 324,
    "deepnote_cell_type": "code",
    "deepnote_cell_height": 579.046875,
    "deepnote_output_heights": [
     482.09375
    ]
   },
   "source": "dict_year_mun[-5:]",
   "execution_count": null,
   "outputs": [
    {
     "output_type": "execute_result",
     "execution_count": 4,
     "data": {
      "text/plain": "[{'COUNT_fecha_reporte_web': '1',\n  'ciudad_municipio': '95001',\n  'year': 2022,\n  'month': 5,\n  'date': '2022-05'},\n {'COUNT_fecha_reporte_web': '4',\n  'ciudad_municipio': '97001',\n  'year': 2022,\n  'month': 5,\n  'date': '2022-05'},\n {'COUNT_fecha_reporte_web': '1',\n  'ciudad_municipio': '97161',\n  'year': 2022,\n  'month': 5,\n  'date': '2022-05'},\n {'COUNT_fecha_reporte_web': '1',\n  'ciudad_municipio': '99001',\n  'year': 2022,\n  'month': 5,\n  'date': '2022-05'},\n {'COUNT_fecha_reporte_web': '1',\n  'ciudad_municipio': '99773',\n  'year': 2022,\n  'month': 5,\n  'date': '2022-05'}]"
     },
     "metadata": {}
    }
   ]
  },
  {
   "cell_type": "code",
   "metadata": {
    "cell_id": "00004-52779bc6-491b-42fc-a2fb-f30b96c0a5c4",
    "deepnote_to_be_reexecuted": false,
    "source_hash": "6d5682eb",
    "execution_start": 1653612643174,
    "execution_millis": 297,
    "deepnote_cell_type": "code",
    "deepnote_cell_height": 394.375
   },
   "source": "df=pd.DataFrame.from_records(dict_year_mun)\ndf['count']=df['COUNT_fecha_reporte_web'].astype(int)\ndf.drop('COUNT_fecha_reporte_web',axis=1,inplace=True)\ndf.rename(columns={'ciudad_municipio':'municipio'},inplace=True)\ndf.info()",
   "execution_count": null,
   "outputs": [
    {
     "name": "stdout",
     "text": "<class 'pandas.core.frame.DataFrame'>\nRangeIndex: 21282 entries, 0 to 21281\nData columns (total 5 columns):\n #   Column     Non-Null Count  Dtype \n---  ------     --------------  ----- \n 0   municipio  21282 non-null  object\n 1   year       21282 non-null  int64 \n 2   month      21282 non-null  int64 \n 3   date       21282 non-null  object\n 4   count      21282 non-null  int64 \ndtypes: int64(3), object(2)\nmemory usage: 831.5+ KB\n",
     "output_type": "stream"
    }
   ]
  },
  {
   "cell_type": "code",
   "metadata": {
    "cell_id": "00005-1a3f36e2-e75c-4f94-a397-2fe101771eb6",
    "deepnote_to_be_reexecuted": false,
    "source_hash": "b2e4992f",
    "execution_start": 1653612781884,
    "execution_millis": 1024,
    "deepnote_cell_type": "code",
    "deepnote_cell_height": 565.625,
    "deepnote_output_heights": [
     21.1875,
     398.515625
    ]
   },
   "source": "mun_total=df[['municipio','count']].groupby(by='municipio').sum().sort_values('count',ascending=False).head(20)\nmun_total.plot.bar(figsize=(16,7),title=\"Positive COVID cases Colombia for town\",xlabel=\"Town code\",ylabel=\"Count\",legend=False)",
   "execution_count": null,
   "outputs": [
    {
     "output_type": "execute_result",
     "execution_count": 13,
     "data": {
      "text/plain": "<AxesSubplot:title={'center':'Positive COVID cases Colombia for town'}, xlabel='Town code', ylabel='Count'>"
     },
     "metadata": {}
    },
    {
     "data": {
      "text/plain": "<Figure size 1152x504 with 1 Axes>",
      "image/png": "[encoded data removed]"
     },
     "metadata": {
      "needs_background": "light",
      "image/png": {
       "width": 950,
       "height": 463
      }
     },
     "output_type": "display_data"
    }
   ]
  },
  {
   "cell_type": "code",
   "metadata": {
    "cell_id": "00006-2d915893-ecf4-4b24-999b-f71fdc162794",
    "deepnote_to_be_reexecuted": false,
    "source_hash": "6cb73b9c",
    "execution_start": 1653612643631,
    "execution_millis": 12,
    "deepnote_cell_type": "code",
    "deepnote_cell_height": 458.0625
   },
   "source": "print(df['count'].sum())\ndf.head()",
   "execution_count": null,
   "outputs": [
    {
     "name": "stdout",
     "text": "5903993\n",
     "output_type": "stream"
    },
    {
     "output_type": "execute_result",
     "execution_count": 7,
     "data": {
      "application/vnd.deepnote.dataframe.v3+json": {
       "column_count": 5,
       "row_count": 5,
       "columns": [
        {
         "name": "municipio",
         "dtype": "object",
         "stats": {
          "unique_count": 5,
          "nan_count": 0,
          "categories": [
           {
            "name": "5001",
            "count": 1
           },
           {
            "name": "5045",
            "count": 1
           },
           {
            "name": "3 others",
            "count": 3
           }
          ]
         }
        },
        {
         "name": "year",
         "dtype": "int64",
         "stats": {
          "unique_count": 1,
          "nan_count": 0,
          "min": "2020",
          "max": "2020",
          "histogram": [
           {
            "bin_start": 2019.5,
            "bin_end": 2019.6,
            "count": 0
           },
           {
            "bin_start": 2019.6,
            "bin_end": 2019.7,
            "count": 0
           },
           {
            "bin_start": 2019.7,
            "bin_end": 2019.8,
            "count": 0
           },
           {
            "bin_start": 2019.8,
            "bin_end": 2019.9,
            "count": 0
           },
           {
            "bin_start": 2019.9,
            "bin_end": 2020,
            "count": 0
           },
           {
            "bin_start": 2020,
            "bin_end": 2020.1,
            "count": 5
           },
           {
            "bin_start": 2020.1,
            "bin_end": 2020.2,
            "count": 0
           },
           {
            "bin_start": 2020.2,
            "bin_end": 2020.3,
            "count": 0
           },
           {
            "bin_start": 2020.3,
            "bin_end": 2020.4,
            "count": 0
           },
           {
            "bin_start": 2020.4,
            "bin_end": 2020.5,
            "count": 0
           }
          ]
         }
        },
        {
         "name": "month",
         "dtype": "int64",
         "stats": {
          "unique_count": 1,
          "nan_count": 0,
          "min": "3",
          "max": "3",
          "histogram": [
           {
            "bin_start": 2.5,
            "bin_end": 2.6,
            "count": 0
           },
           {
            "bin_start": 2.6,
            "bin_end": 2.7,
            "count": 0
           },
           {
            "bin_start": 2.7,
            "bin_end": 2.8,
            "count": 0
           },
           {
            "bin_start": 2.8,
            "bin_end": 2.9,
            "count": 0
           },
           {
            "bin_start": 2.9,
            "bin_end": 3,
            "count": 0
           },
           {
            "bin_start": 3,
            "bin_end": 3.1,
            "count": 5
           },
           {
            "bin_start": 3.1,
            "bin_end": 3.2,
            "count": 0
           },
           {
            "bin_start": 3.2,
            "bin_end": 3.3,
            "count": 0
           },
           {
            "bin_start": 3.3,
            "bin_end": 3.4,
            "count": 0
           },
           {
            "bin_start": 3.4,
            "bin_end": 3.5,
            "count": 0
           }
          ]
         }
        },
        {
         "name": "date",
         "dtype": "object",
         "stats": {
          "unique_count": 1,
          "nan_count": 0,
          "categories": [
           {
            "name": "2020-03",
            "count": 5
           }
          ]
         }
        },
        {
         "name": "count",
         "dtype": "int64",
         "stats": {
          "unique_count": 4,
          "nan_count": 0,
          "min": "1",
          "max": "62",
          "histogram": [
           {
            "bin_start": 1,
            "bin_end": 7.1,
            "count": 3
           },
           {
            "bin_start": 7.1,
            "bin_end": 13.2,
            "count": 1
           },
           {
            "bin_start": 13.2,
            "bin_end": 19.299999999999997,
            "count": 0
           },
           {
            "bin_start": 19.299999999999997,
            "bin_end": 25.4,
            "count": 0
           },
           {
            "bin_start": 25.4,
            "bin_end": 31.5,
            "count": 0
           },
           {
            "bin_start": 31.5,
            "bin_end": 37.599999999999994,
            "count": 0
           },
           {
            "bin_start": 37.599999999999994,
            "bin_end": 43.699999999999996,
            "count": 0
           },
           {
            "bin_start": 43.699999999999996,
            "bin_end": 49.8,
            "count": 0
           },
           {
            "bin_start": 49.8,
            "bin_end": 55.9,
            "count": 0
           },
           {
            "bin_start": 55.9,
            "bin_end": 62,
            "count": 1
           }
          ]
         }
        },
        {
         "name": "_deepnote_index_column",
         "dtype": "int64"
        }
       ],
       "rows": [
        {
         "municipio": "5001",
         "year": 2020,
         "month": 3,
         "date": "2020-03",
         "count": 62,
         "_deepnote_index_column": 0
        },
        {
         "municipio": "5045",
         "year": 2020,
         "month": 3,
         "date": "2020-03",
         "count": 1,
         "_deepnote_index_column": 1
        },
        {
         "municipio": "5088",
         "year": 2020,
         "month": 3,
         "date": "2020-03",
         "count": 6,
         "_deepnote_index_column": 2
        },
        {
         "municipio": "5120",
         "year": 2020,
         "month": 3,
         "date": "2020-03",
         "count": 1,
         "_deepnote_index_column": 3
        },
        {
         "municipio": "5266",
         "year": 2020,
         "month": 3,
         "date": "2020-03",
         "count": 10,
         "_deepnote_index_column": 4
        }
       ]
      },
      "text/plain": "  municipio  year  month     date  count\n0      5001  2020      3  2020-03     62\n1      5045  2020      3  2020-03      1\n2      5088  2020      3  2020-03      6\n3      5120  2020      3  2020-03      1\n4      5266  2020      3  2020-03     10",
      "text/html": "<div>\n<style scoped>\n    .dataframe tbody tr th:only-of-type {\n        vertical-align: middle;\n    }\n\n    .dataframe tbody tr th {\n        vertical-align: top;\n    }\n\n    .dataframe thead th {\n        text-align: right;\n    }\n</style>\n<table border=\"1\" class=\"dataframe\">\n  <thead>\n    <tr style=\"text-align: right;\">\n      <th></th>\n      <th>municipio</th>\n      <th>year</th>\n      <th>month</th>\n      <th>date</th>\n      <th>count</th>\n    </tr>\n  </thead>\n  <tbody>\n    <tr>\n      <th>0</th>\n      <td>5001</td>\n      <td>2020</td>\n      <td>3</td>\n      <td>2020-03</td>\n      <td>62</td>\n    </tr>\n    <tr>\n      <th>1</th>\n      <td>5045</td>\n      <td>2020</td>\n      <td>3</td>\n      <td>2020-03</td>\n      <td>1</td>\n    </tr>\n    <tr>\n      <th>2</th>\n      <td>5088</td>\n      <td>2020</td>\n      <td>3</td>\n      <td>2020-03</td>\n      <td>6</td>\n    </tr>\n    <tr>\n      <th>3</th>\n      <td>5120</td>\n      <td>2020</td>\n      <td>3</td>\n      <td>2020-03</td>\n      <td>1</td>\n    </tr>\n    <tr>\n      <th>4</th>\n      <td>5266</td>\n      <td>2020</td>\n      <td>3</td>\n      <td>2020-03</td>\n      <td>10</td>\n    </tr>\n  </tbody>\n</table>\n</div>"
     },
     "metadata": {}
    }
   ]
  },
  {
   "cell_type": "code",
   "metadata": {
    "cell_id": "00007-213a6240-a75b-47a7-9365-f42aa96ecf22",
    "deepnote_to_be_reexecuted": false,
    "source_hash": "f6ab577c",
    "execution_start": 1653612643641,
    "execution_millis": 0,
    "deepnote_cell_type": "code",
    "deepnote_cell_height": 116.953125
   },
   "source": "df['date_p']=pd.to_datetime(df['date'],format=\"%Y-%m\")\ndf['month_p']=df['date_p'].dt.to_period('M')\n",
   "execution_count": null,
   "outputs": []
  },
  {
   "cell_type": "code",
   "metadata": {
    "cell_id": "00008-d9fee8e3-7d51-4133-bfa6-d757e4534794",
    "deepnote_to_be_reexecuted": false,
    "source_hash": "96a83470",
    "execution_start": 1653612643645,
    "execution_millis": 14,
    "deepnote_cell_type": "code",
    "deepnote_cell_height": 700.234375
   },
   "source": "monthly_possitives=df[['month_p','count']].groupby(by=\"month_p\").sum()\nprint(monthly_possitives.sum())\nmonthly_possitives",
   "execution_count": null,
   "outputs": [
    {
     "name": "stdout",
     "text": "count    5903993\ndtype: int64\n",
     "output_type": "stream"
    },
    {
     "output_type": "execute_result",
     "execution_count": 9,
     "data": {
      "application/vnd.deepnote.dataframe.v3+json": {
       "column_count": 1,
       "row_count": 27,
       "columns": [
        {
         "name": "count",
         "dtype": "int64",
         "stats": {
          "unique_count": 27,
          "nan_count": 0,
          "min": "905",
          "max": "758740",
          "histogram": [
           {
            "bin_start": 905,
            "bin_end": 76688.5,
            "count": 10
           },
           {
            "bin_start": 76688.5,
            "bin_end": 152472,
            "count": 2
           },
           {
            "bin_start": 152472,
            "bin_end": 228255.5,
            "count": 5
           },
           {
            "bin_start": 228255.5,
            "bin_end": 304039,
            "count": 2
           },
           {
            "bin_start": 304039,
            "bin_end": 379822.5,
            "count": 2
           },
           {
            "bin_start": 379822.5,
            "bin_end": 455606,
            "count": 2
           },
           {
            "bin_start": 455606,
            "bin_end": 531389.5,
            "count": 2
           },
           {
            "bin_start": 531389.5,
            "bin_end": 607173,
            "count": 0
           },
           {
            "bin_start": 607173,
            "bin_end": 682956.5,
            "count": 0
           },
           {
            "bin_start": 682956.5,
            "bin_end": 758740,
            "count": 2
           }
          ]
         }
        },
        {
         "name": "_deepnote_index_column",
         "dtype": "period[M]"
        }
       ],
       "rows": [
        {
         "count": 905,
         "_deepnote_index_column": "2020-03"
        },
        {
         "count": 5560,
         "_deepnote_index_column": "2020-04"
        },
        {
         "count": 22917,
         "_deepnote_index_column": "2020-05"
        },
        {
         "count": 68471,
         "_deepnote_index_column": "2020-06"
        },
        {
         "count": 197663,
         "_deepnote_index_column": "2020-07"
        },
        {
         "count": 319661,
         "_deepnote_index_column": "2020-08"
        },
        {
         "count": 214510,
         "_deepnote_index_column": "2020-09"
        },
        {
         "count": 244235,
         "_deepnote_index_column": "2020-10"
        },
        {
         "count": 242115,
         "_deepnote_index_column": "2020-11"
        },
        {
         "count": 324717,
         "_deepnote_index_column": "2020-12"
        }
       ]
      },
      "text/plain": "          count\nmonth_p        \n2020-03     905\n2020-04    5560\n2020-05   22917\n2020-06   68471\n2020-07  197663\n2020-08  319661\n2020-09  214510\n2020-10  244235\n2020-11  242115\n2020-12  324717\n2021-01  442661\n2021-02  156541\n2021-03  154685\n2021-04  452646\n2021-05  527023\n2021-06  758740\n2021-07  477291\n2021-08  123558\n2021-09   48178\n2021-10   45110\n2021-11   67257\n2021-12   87797\n2022-01  705762\n2022-02  177118\n2022-03   20333\n2022-04    7751\n2022-05   10788",
      "text/html": "<div>\n<style scoped>\n    .dataframe tbody tr th:only-of-type {\n        vertical-align: middle;\n    }\n\n    .dataframe tbody tr th {\n        vertical-align: top;\n    }\n\n    .dataframe thead th {\n        text-align: right;\n    }\n</style>\n<table border=\"1\" class=\"dataframe\">\n  <thead>\n    <tr style=\"text-align: right;\">\n      <th></th>\n      <th>count</th>\n    </tr>\n    <tr>\n      <th>month_p</th>\n      <th></th>\n    </tr>\n  </thead>\n  <tbody>\n    <tr>\n      <th>2020-03</th>\n      <td>905</td>\n    </tr>\n    <tr>\n      <th>2020-04</th>\n      <td>5560</td>\n    </tr>\n    <tr>\n      <th>2020-05</th>\n      <td>22917</td>\n    </tr>\n    <tr>\n      <th>2020-06</th>\n      <td>68471</td>\n    </tr>\n    <tr>\n      <th>2020-07</th>\n      <td>197663</td>\n    </tr>\n    <tr>\n      <th>2020-08</th>\n      <td>319661</td>\n    </tr>\n    <tr>\n      <th>2020-09</th>\n      <td>214510</td>\n    </tr>\n    <tr>\n      <th>2020-10</th>\n      <td>244235</td>\n    </tr>\n    <tr>\n      <th>2020-11</th>\n      <td>242115</td>\n    </tr>\n    <tr>\n      <th>2020-12</th>\n      <td>324717</td>\n    </tr>\n    <tr>\n      <th>2021-01</th>\n      <td>442661</td>\n    </tr>\n    <tr>\n      <th>2021-02</th>\n      <td>156541</td>\n    </tr>\n    <tr>\n      <th>2021-03</th>\n      <td>154685</td>\n    </tr>\n    <tr>\n      <th>2021-04</th>\n      <td>452646</td>\n    </tr>\n    <tr>\n      <th>2021-05</th>\n      <td>527023</td>\n    </tr>\n    <tr>\n      <th>2021-06</th>\n      <td>758740</td>\n    </tr>\n    <tr>\n      <th>2021-07</th>\n      <td>477291</td>\n    </tr>\n    <tr>\n      <th>2021-08</th>\n      <td>123558</td>\n    </tr>\n    <tr>\n      <th>2021-09</th>\n      <td>48178</td>\n    </tr>\n    <tr>\n      <th>2021-10</th>\n      <td>45110</td>\n    </tr>\n    <tr>\n      <th>2021-11</th>\n      <td>67257</td>\n    </tr>\n    <tr>\n      <th>2021-12</th>\n      <td>87797</td>\n    </tr>\n    <tr>\n      <th>2022-01</th>\n      <td>705762</td>\n    </tr>\n    <tr>\n      <th>2022-02</th>\n      <td>177118</td>\n    </tr>\n    <tr>\n      <th>2022-03</th>\n      <td>20333</td>\n    </tr>\n    <tr>\n      <th>2022-04</th>\n      <td>7751</td>\n    </tr>\n    <tr>\n      <th>2022-05</th>\n      <td>10788</td>\n    </tr>\n  </tbody>\n</table>\n</div>"
     },
     "metadata": {}
    }
   ]
  },
  {
   "cell_type": "code",
   "metadata": {
    "cell_id": "00009-1f59a48e-8f89-4c8e-bb10-80a8b3f56ff6",
    "deepnote_to_be_reexecuted": false,
    "source_hash": "edba0eb",
    "execution_start": 1653612913958,
    "execution_millis": 443,
    "owner_user_id": "c1a9ae9f-1a53-4fd3-a00f-71d456d4b64a",
    "deepnote_cell_type": "code",
    "deepnote_cell_height": 549.921875,
    "deepnote_output_heights": [
     21.1875,
     400.796875
    ]
   },
   "source": "monthly_possitives.plot.bar(figsize=(16,7),title=\"Positive COVID cases Colombia\",xlabel=\"Date\",ylabel=\"Count\",legend=False)",
   "execution_count": null,
   "outputs": [
    {
     "output_type": "execute_result",
     "execution_count": 14,
     "data": {
      "text/plain": "<AxesSubplot:title={'center':'Positive COVID cases Colombia'}, xlabel='Date', ylabel='Count'>"
     },
     "metadata": {}
    },
    {
     "data": {
      "text/plain": "<Figure size 1152x504 with 1 Axes>",
      "image/png": "[encoded data removed]"
     },
     "metadata": {
      "needs_background": "light",
      "image/png": {
       "width": 965,
       "height": 473
      }
     },
     "output_type": "display_data"
    }
   ]
  },
  {
   "cell_type": "code",
   "metadata": {
    "cell_id": "00010-fcf5e2eb-f7d0-45ed-838c-0560968a6236",
    "deepnote_to_be_reexecuted": false,
    "source_hash": "b623e53d",
    "execution_start": 1653612644094,
    "execution_millis": 1,
    "deepnote_cell_type": "code",
    "deepnote_cell_height": 80.953125
   },
   "source": "",
   "execution_count": null,
   "outputs": []
  },
  {
   "cell_type": "markdown",
   "source": "<a style='text-decoration:none;line-height:16px;display:flex;color:#5B5B62;padding:10px;justify-content:end;' href='https://deepnote.com?utm_source=created-in-deepnote-cell&projectId=70a6331b-3e37-4c4d-8041-2d29d0ba96c1' target=\"_blank\">\n<img alt='Created in deepnote.com' style='display:inline;max-height:16px;margin:0px;margin-right:7.5px;' src='data:image/svg+xml;base64,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' > </img>\nCreated in <span style='font-weight:600;margin-left:4px;'>Deepnote</span></a>",
   "metadata": {
    "tags": [],
    "created_in_deepnote_cell": true,
    "deepnote_cell_type": "markdown"
   }
  }
 ],
 "nbformat": 4,
 "nbformat_minor": 2,
 "metadata": {
  "interpreter": {
   "hash": "916dbcbb3f70747c44a77c7bcd40155683ae19c65e1c03b4aa3499c5328201f1"
  },
  "kernelspec": {
   "display_name": "Python 3.8.10 64-bit",
   "language": "python",
   "name": "python3"
  },
  "language_info": {
   "codemirror_mode": {
    "name": "ipython",
    "version": 3
   },
   "file_extension": ".py",
   "mimetype": "text/x-python",
   "name": "python",
   "nbconvert_exporter": "python",
   "pygments_lexer": "ipython3",
   "version": "3.8.10"
  },
  "orig_nbformat": 4,
  "deepnote_notebook_id": "bb7b58ef-1147-4ee9-89ec-4bca886934a3",
  "deepnote": {},
  "deepnote_execution_queue": []
 }
}