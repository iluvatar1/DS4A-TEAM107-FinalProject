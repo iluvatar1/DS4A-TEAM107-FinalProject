{
 "cells": [
  {
   "cell_type": "code",
   "metadata": {
    "cell_id": "7fa8e5cf-6289-4108-b2eb-2cc35d562121",
    "deepnote_cell_type": "code",
    "deepnote_cell_height": 84
   },
   "source": "import numpy as np\nimport pandas as pd",
   "execution_count": null,
   "outputs": []
  },
  {
   "cell_type": "code",
   "metadata": {
    "cell_id": "00001-380be6e8-71be-44b8-94cd-c22031a2b3a6",
    "owner_user_id": "0e7f4f38-bf24-44f0-9fc0-9cb103029e0f",
    "deepnote_cell_type": "code",
    "deepnote_cell_height": 1902
   },
   "source": "def read_clean_data_try_suicides(df, year, bname=\"IntentoSuicidios\"):\n    dfaux = df\n    if 2016 == year:\n        dfaux = df[df[\"COD_EVE\"]==356].reset_index(drop=True)\n        dfaux.drop(columns=[\"COD_EVE\", \"Nombre\", \"semana_\"], inplace=True)\n        dfaux.rename(columns={\"COD_DPTO\":\"CODE_DPTO\", \"Departamento\":\"DPTO\", \n                               \"Cod_municipio\":\"CODE_MUNICIPIO\", \"SEMANA\":\"WEEK\",\n                              \"ANO\":\"YEAR\", \"conteo\":\"COUNTER_TRY\", \n                             \"Municipio\":\"MUNICIPIO\"}, inplace=True)\n    elif 2017 == year:\n        dfaux = df[df[\"COD_EVE\"]==356].reset_index(drop=True)\n        dfaux.drop(columns=[\"COD_EVE\", \"Nombre\", \"TITULO_SEMANA\"], inplace=True)\n        dfaux.rename(columns={\"cod_dep\":\"CODE_DPTO\", \"Departamento\":\"DPTO\", \n                               \"cod_mun\":\"CODE_MUNICIPIO\", \"SEMANA\":\"WEEK\", \"ANO\":\"YEAR\",\n                              \"Municipio\":\"MUNICIPIO\", \"conteo\":\"COUNTER_TRY\"}, \n                     inplace = True)\n    elif 2018 == year:\n        dfaux = df[df[\"COD_EVE\"]==356].reset_index(drop=True)\n        dfaux.drop(columns=[\"COD_EVE\", \"Evento\", \"Titulo_semana\", \"mun\"], inplace=True)\n        dfaux.rename(columns={\"Cod_departamento\":\"CODE_DPTO\", \"Departamento\":\"DPTO\", \n                               \"cod_municipio\":\"CODE_MUNICIPIO\", \"SEMANA\":\"WEEK\",\n                              \"Municipio\":\"MUNICIPIO\", \"conteo\":\"COUNTER_TRY\"}, \n                     inplace = True)\n    elif 2019 == year:\n        dfaux = df.fillna(method='ffill')\n        dfaux = dfaux[dfaux[\"COD_EVE\"]==356]\n        dfaux.drop(columns=[\"Total general\", \"COD_EVE\", \"NOM_EVE\"], inplace=True)\n        dfaux = dfaux.melt(id_vars=[\"COD_DPTO_O\", \"NDEP_PROCE\", \"COD_MUN_O\", \"NMUN_PROCE\"], \n                           var_name=\"WEEK\", value_name=\"COUNTER_TRY\")\n        dfaux.rename(columns={\"COD_DPTO_O\":\"CODE_DPTO\", \"NDEP_PROCE\":\"DPTO\", \n                               \"COD_MUN_O\":\"CODE_MUNICIPIO\", \"NMUN_PROCE\":\"MUNICIPIO\"}, \n                     inplace = True)\n        dfaux[\"CODE_MUNICIPIO\"]= dfaux[\"CODE_MUNICIPIO\"].apply(lambda x: int(x))\n        dfaux[\"CODE_DPTO\"]= dfaux[\"CODE_DPTO\"].apply(lambda x: int(x))\n        dfaux[\"WEEK\"] = dfaux[\"WEEK\"].apply(lambda x: int(x.replace(\"SEMANA_\", \"\")))\n        dfaux[\"CODE_MUNICIPIO\"]= dfaux[\"CODE_DPTO\"]*1000 + dfaux[\"CODE_MUNICIPIO\"]        \n    elif 2020 == year:\n        dfaux = df.fillna(method='ffill')\n        dfaux = dfaux[dfaux[\"COD_EVE\"]==356]\n        dfaux.drop(columns=[\"Total general\", \"COD_EVE\", \"NOM_EVE\"], inplace=True)\n        dfaux = dfaux.melt(id_vars=[\"COD_DPTO_O\", \"NDEP_PROCE\", \"COD_MUN_O\", \"NMUN_PROCE\"], \n                           var_name=\"WEEK\", value_name=\"COUNTER_TRY\")\n        dfaux.rename(columns={\"COD_DPTO_O\":\"CODE_DPTO\", \"NDEP_PROCE\":\"DPTO\", \n                               \"COD_MUN_O\":\"CODE_MUNICIPIO\", \"NMUN_PROCE\":\"MUNICIPIO\"}, \n                     inplace = True)\n        dfaux[\"CODE_MUNICIPIO\"]= dfaux[\"CODE_MUNICIPIO\"].apply(lambda x: int(x))\n        dfaux[\"CODE_DPTO\"]= dfaux[\"CODE_DPTO\"].apply(lambda x: int(x))\n        dfaux[\"WEEK\"] = dfaux[\"WEEK\"].apply(lambda x: int(x.replace(\"SEMANA_\", \"\")))\n        dfaux[\"CODE_MUNICIPIO\"]= dfaux[\"CODE_DPTO\"]*1000 + dfaux[\"CODE_MUNICIPIO\"]\n    elif 2021 == year:\n        None\n        dfaux = df.fillna(method='ffill')\n        #mask = (dfaux[\"COD_EVE\"]==356) | (dfaux[\"COD_EVE\"]==365)\n        mask = dfaux[\"evento\"].str.contains(\"SUICIDIO\")\n        dfaux = dfaux[mask]\n        dfaux.drop(columns=[\"Total general\", \"COD_EVE\", \"evento\", \"Semana_53\"], inplace=True)\n        dfaux.rename(columns={\"COD_DPTO_O\":\"CODE_DPTO\", \"Departamento_Ocurrencia\":\"DPTO\", \n                               \"COD_MUN_O\":\"CODE_MUNICIPIO\", \"Municipio_Ocurrencia\":\"MUNICIPIO\"}, \n                     inplace = True)\n        # groupby to sumup the values with intoxication and other means\n        dfaux = dfaux.groupby(by=[\"CODE_DPTO\", \"DPTO\", \"CODE_MUNICIPIO\", \"MUNICIPIO\"]).sum().reset_index()\n        dfaux = dfaux.melt(id_vars=[\"CODE_DPTO\", \"DPTO\", \"CODE_MUNICIPIO\", \"MUNICIPIO\"], \n                           var_name=\"WEEK\", value_name=\"COUNTER_TRY\")\n        dfaux[\"CODE_MUNICIPIO\"]= dfaux[\"CODE_MUNICIPIO\"].apply(lambda x: int(x))\n        dfaux[\"CODE_DPTO\"]= dfaux[\"CODE_DPTO\"].apply(lambda x: int(x))\n        dfaux[\"COUNTER_TRY\"]= dfaux[\"COUNTER_TRY\"].apply(lambda x: int(x))\n        dfaux[\"WEEK\"] = dfaux[\"WEEK\"].apply(lambda x: int(x.replace(\"Semana_\", \"\")))\n        dfaux[\"CODE_MUNICIPIO\"]= dfaux[\"CODE_DPTO\"]*1000 + dfaux[\"CODE_MUNICIPIO\"]\n    elif 2022 == year:\n        None\n        dfaux = df.fillna(method='ffill')\n        #mask = (dfaux[\"COD_EVE\"]==356) | (dfaux[\"COD_EVE\"]==365)\n        mask = dfaux[\"evento\"].str.contains(\"SUICIDIO\")\n        dfaux = dfaux[mask]\n        dfaux.drop(columns=[\"Total general\", \"COD_EVE\", \"evento\"], inplace=True)\n        dfaux.drop(dfaux.filter(regex='Unnamed').columns, axis=1, inplace=True)\n        dfaux.rename(columns={df.columns[0]:\"CODE_DPTO\", \n                              \"Departamento_Ocurrencia\":\"DPTO\", \n                               \"COD_MUN_O\":\"CODE_MUNICIPIO\", \n                              \"Municipio_Ocurrencia\":\"MUNICIPIO\"}, \n                     inplace = True)\n        dfaux = dfaux.melt(id_vars=[\"CODE_DPTO\", \"DPTO\", \"CODE_MUNICIPIO\", \"MUNICIPIO\"], \n                           var_name=\"WEEK\", value_name=\"COUNTER_TRY\")\n        dfaux[\"CODE_MUNICIPIO\"]= dfaux[\"CODE_MUNICIPIO\"].apply(lambda x: int(x))\n        dfaux[\"CODE_DPTO\"]= dfaux[\"CODE_DPTO\"].apply(lambda x: int(x))\n        dfaux[\"COUNTER_TRY\"]= dfaux[\"COUNTER_TRY\"].apply(lambda x: int(x))\n        dfaux[\"CODE_MUNICIPIO\"]= dfaux[\"CODE_DPTO\"]*1000 + dfaux[\"CODE_MUNICIPIO\"]\n    else:\n        print(f\"Year {year} not implemented\")\n    \n    dfaux[\"YEAR\"] = year       \n    dfaux = dfaux.reindex(columns=[\"YEAR\", \"WEEK\", \"CODE_DPTO\", \"DPTO\", \"CODE_MUNICIPIO\",\n                                   \"MUNICIPIO\", \"COUNTER_TRY\"])   \n    mask = (dfaux[\"DPTO\"].str.contains(\"DESCONOCIDO\")) | \\\n            (dfaux[\"DPTO\"].str.contains(\"EXTERIOR\")) | \\\n            (dfaux[\"MUNICIPIO\"].str.contains(\"DESCONOCIDO\")) | \\\n            (dfaux[\"MUNICIPIO\"].str.contains(\"EXTERIOR\")) | \\\n            (dfaux[\"DPTO\"].str.contains(\"Total\"))\n    dfaux = dfaux[~mask]\n    dfaux.to_csv(f\"{year}-{bname}.csv\")\n    return dfaux\n\n        ",
   "execution_count": null,
   "outputs": []
  },
  {
   "cell_type": "code",
   "metadata": {
    "cell_id": "00002-eb619519-c5cc-4705-a7d9-5665e62849a4",
    "deepnote_cell_type": "code",
    "deepnote_cell_height": 84
   },
   "source": "df = pd.read_excel(\"rutinaria_2016.xlsx\", sheet_name=\"rutinaria_2016\")\ndf2016 = read_clean_data_try_suicides(df, 2016)",
   "execution_count": null,
   "outputs": []
  },
  {
   "cell_type": "code",
   "metadata": {
    "cell_id": "00003-caee3347-c307-4508-9827-3e6b22cf1336",
    "deepnote_cell_type": "code",
    "deepnote_cell_height": 84
   },
   "source": "df = pd.read_excel(\"rutinaria_2017.xlsx\", sheet_name=\"RUTINARIA\")\ndf2017 = read_clean_data_try_suicides(df, 2017)",
   "execution_count": null,
   "outputs": []
  },
  {
   "cell_type": "code",
   "metadata": {
    "cell_id": "00004-0fb26cc6-af3a-4aa6-8cb2-ab17873406b6",
    "deepnote_cell_type": "code",
    "deepnote_cell_height": 84
   },
   "source": "df = pd.read_excel(\"rutinaria_2018.xlsx\", sheet_name=\"Metadatos\")\ndf2018 = read_clean_data_try_suicides(df, 2018)",
   "execution_count": null,
   "outputs": []
  },
  {
   "cell_type": "code",
   "metadata": {
    "cell_id": "00005-9b57fb7c-ca1f-47d8-b560-acba816894f8",
    "deepnote_cell_type": "code",
    "deepnote_cell_height": 84
   },
   "source": "df = pd.read_excel(\"rutinaria_2019.xlsx\", sheet_name=\"Municipal\", header=3)\ndf2019 = read_clean_data_try_suicides(df, 2019)",
   "execution_count": null,
   "outputs": []
  },
  {
   "cell_type": "code",
   "metadata": {
    "cell_id": "00006-676a4377-8f85-4f12-a172-4f6a4316fdda",
    "deepnote_cell_type": "code",
    "deepnote_cell_height": 84
   },
   "source": "df = pd.read_excel(\"rutinaria_2020.xlsx\", sheet_name=\"Por municipios\", header=5)\ndf2020 = read_clean_data_try_suicides(df, 2020)",
   "execution_count": null,
   "outputs": []
  },
  {
   "cell_type": "code",
   "metadata": {
    "cell_id": "00007-7c10a407-1d55-43ba-9f38-35e06d261ece",
    "deepnote_cell_type": "code",
    "deepnote_cell_height": 84
   },
   "source": "df = pd.read_excel(\"rutinaria_2021.xlsx\", sheet_name=\"Municipio\", header=3)\ndf2021 = read_clean_data_try_suicides(df, 2021)",
   "execution_count": null,
   "outputs": []
  },
  {
   "cell_type": "code",
   "metadata": {
    "cell_id": "00008-8b7308d7-b5ae-46fd-9f7d-1d3af761dc88",
    "deepnote_cell_type": "code",
    "deepnote_cell_height": 84
   },
   "source": "df = pd.read_excel(\"Rutinaria 2022 Per IV.xlsx\", sheet_name=\"Municipio\", header=3)\ndf2022 = read_clean_data_try_suicides(df, 2022)",
   "execution_count": null,
   "outputs": []
  },
  {
   "cell_type": "code",
   "metadata": {
    "cell_id": "00009-1463627c-1a0c-4920-af9a-abcf636e5b12",
    "deepnote_cell_type": "code",
    "deepnote_cell_height": 310,
    "deepnote_output_heights": [
     177
    ]
   },
   "source": "dffull = pd.concat([df2016, df2017, df2018, df2019, df2020, df2021, df2022])\ndffull.to_csv(\"2016-2022-IntentosSuicidios.csv\")\ndffull.head()",
   "execution_count": null,
   "outputs": [
    {
     "data": {
      "text/html": "<div>\n<style scoped>\n    .dataframe tbody tr th:only-of-type {\n        vertical-align: middle;\n    }\n\n    .dataframe tbody tr th {\n        vertical-align: top;\n    }\n\n    .dataframe thead th {\n        text-align: right;\n    }\n</style>\n<table border=\"1\" class=\"dataframe\">\n  <thead>\n    <tr style=\"text-align: right;\">\n      <th></th>\n      <th>YEAR</th>\n      <th>WEEK</th>\n      <th>CODE_DPTO</th>\n      <th>DPTO</th>\n      <th>CODE_MUNICIPIO</th>\n      <th>MUNICIPIO</th>\n      <th>COUNTER_TRY</th>\n    </tr>\n  </thead>\n  <tbody>\n    <tr>\n      <th>1</th>\n      <td>2016</td>\n      <td>6</td>\n      <td>5</td>\n      <td>ANTIOQUIA</td>\n      <td>5001</td>\n      <td>MEDELLIN</td>\n      <td>4</td>\n    </tr>\n    <tr>\n      <th>2</th>\n      <td>2016</td>\n      <td>6</td>\n      <td>5</td>\n      <td>ANTIOQUIA</td>\n      <td>5150</td>\n      <td>CAROLINA</td>\n      <td>1</td>\n    </tr>\n    <tr>\n      <th>3</th>\n      <td>2016</td>\n      <td>6</td>\n      <td>5</td>\n      <td>ANTIOQUIA</td>\n      <td>5360</td>\n      <td>ITAGUI</td>\n      <td>1</td>\n    </tr>\n    <tr>\n      <th>4</th>\n      <td>2016</td>\n      <td>7</td>\n      <td>5</td>\n      <td>ANTIOQUIA</td>\n      <td>5001</td>\n      <td>MEDELLIN</td>\n      <td>5</td>\n    </tr>\n    <tr>\n      <th>5</th>\n      <td>2016</td>\n      <td>7</td>\n      <td>5</td>\n      <td>ANTIOQUIA</td>\n      <td>5150</td>\n      <td>CAROLINA</td>\n      <td>1</td>\n    </tr>\n  </tbody>\n</table>\n</div>",
      "text/plain": "   YEAR WEEK  CODE_DPTO       DPTO  CODE_MUNICIPIO MUNICIPIO  COUNTER_TRY\n1  2016    6          5  ANTIOQUIA            5001  MEDELLIN            4\n2  2016    6          5  ANTIOQUIA            5150  CAROLINA            1\n3  2016    6          5  ANTIOQUIA            5360    ITAGUI            1\n4  2016    7          5  ANTIOQUIA            5001  MEDELLIN            5\n5  2016    7          5  ANTIOQUIA            5150  CAROLINA            1"
     },
     "execution_count": 15,
     "metadata": {},
     "output_type": "execute_result"
    }
   ]
  },
  {
   "cell_type": "code",
   "metadata": {
    "cell_id": "00010-82b5e5b4-850f-40db-b64f-1a041d355dc7",
    "deepnote_cell_type": "code",
    "deepnote_cell_height": 66
   },
   "source": "",
   "execution_count": null,
   "outputs": []
  },
  {
   "cell_type": "markdown",
   "source": "<a style='text-decoration:none;line-height:16px;display:flex;color:#5B5B62;padding:10px;justify-content:end;' href='https://deepnote.com?utm_source=created-in-deepnote-cell&projectId=70a6331b-3e37-4c4d-8041-2d29d0ba96c1' target=\"_blank\">\n<img alt='Created in deepnote.com' style='display:inline;max-height:16px;margin:0px;margin-right:7.5px;' src='data:image/svg+xml;base64,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' > </img>\nCreated in <span style='font-weight:600;margin-left:4px;'>Deepnote</span></a>",
   "metadata": {
    "tags": [],
    "created_in_deepnote_cell": true,
    "deepnote_cell_type": "markdown"
   }
  }
 ],
 "nbformat": 4,
 "nbformat_minor": 5,
 "metadata": {
  "kernelspec": {
   "display_name": "Python 3 (ipykernel)",
   "language": "python",
   "name": "python3"
  },
  "language_info": {
   "codemirror_mode": {
    "name": "ipython",
    "version": 3
   },
   "file_extension": ".py",
   "mimetype": "text/x-python",
   "name": "python",
   "nbconvert_exporter": "python",
   "pygments_lexer": "ipython3",
   "version": "3.10.2"
  },
  "deepnote_notebook_id": "8ae348fe-ba26-422d-b1df-2ca201ac5cd0",
  "deepnote": {},
  "deepnote_execution_queue": []
 }
}